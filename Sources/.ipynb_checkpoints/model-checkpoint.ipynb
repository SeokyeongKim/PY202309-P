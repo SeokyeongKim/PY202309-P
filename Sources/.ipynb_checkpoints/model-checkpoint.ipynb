{
 "cells": [
  {
   "cell_type": "code",
   "execution_count": 3,
   "id": "e91f43a6",
   "metadata": {},
   "outputs": [
    {
     "name": "stdout",
     "output_type": "stream",
     "text": [
      "Requirement already satisfied: konlpy in /Users/seokyoung/anaconda3/lib/python3.11/site-packages (0.6.0)\n",
      "Requirement already satisfied: JPype1>=0.7.0 in /Users/seokyoung/anaconda3/lib/python3.11/site-packages (from konlpy) (1.4.1)\n",
      "Requirement already satisfied: lxml>=4.1.0 in /Users/seokyoung/anaconda3/lib/python3.11/site-packages (from konlpy) (4.9.2)\n",
      "Requirement already satisfied: numpy>=1.6 in /Users/seokyoung/anaconda3/lib/python3.11/site-packages (from konlpy) (1.24.3)\n",
      "Requirement already satisfied: packaging in /Users/seokyoung/anaconda3/lib/python3.11/site-packages (from JPype1>=0.7.0->konlpy) (23.1)\n",
      "Requirement already satisfied: mglearn in /Users/seokyoung/anaconda3/lib/python3.11/site-packages (0.2.0)\n",
      "Requirement already satisfied: numpy in /Users/seokyoung/anaconda3/lib/python3.11/site-packages (from mglearn) (1.24.3)\n",
      "Requirement already satisfied: matplotlib in /Users/seokyoung/anaconda3/lib/python3.11/site-packages (from mglearn) (3.8.1)\n",
      "Requirement already satisfied: scikit-learn in /Users/seokyoung/anaconda3/lib/python3.11/site-packages (from mglearn) (1.3.2)\n",
      "Requirement already satisfied: pandas in /Users/seokyoung/anaconda3/lib/python3.11/site-packages (from mglearn) (1.3.5)\n",
      "Requirement already satisfied: pillow in /Users/seokyoung/anaconda3/lib/python3.11/site-packages (from mglearn) (10.1.0)\n",
      "Requirement already satisfied: cycler in /Users/seokyoung/anaconda3/lib/python3.11/site-packages (from mglearn) (0.11.0)\n",
      "Requirement already satisfied: imageio in /Users/seokyoung/anaconda3/lib/python3.11/site-packages (from mglearn) (2.31.1)\n",
      "Requirement already satisfied: joblib in /Users/seokyoung/anaconda3/lib/python3.11/site-packages (from mglearn) (1.2.0)\n",
      "Requirement already satisfied: contourpy>=1.0.1 in /Users/seokyoung/anaconda3/lib/python3.11/site-packages (from matplotlib->mglearn) (1.0.5)\n",
      "Requirement already satisfied: fonttools>=4.22.0 in /Users/seokyoung/anaconda3/lib/python3.11/site-packages (from matplotlib->mglearn) (4.25.0)\n",
      "Requirement already satisfied: kiwisolver>=1.3.1 in /Users/seokyoung/anaconda3/lib/python3.11/site-packages (from matplotlib->mglearn) (1.4.4)\n",
      "Requirement already satisfied: packaging>=20.0 in /Users/seokyoung/anaconda3/lib/python3.11/site-packages (from matplotlib->mglearn) (23.1)\n",
      "Requirement already satisfied: pyparsing>=2.3.1 in /Users/seokyoung/anaconda3/lib/python3.11/site-packages (from matplotlib->mglearn) (3.0.9)\n",
      "Requirement already satisfied: python-dateutil>=2.7 in /Users/seokyoung/anaconda3/lib/python3.11/site-packages (from matplotlib->mglearn) (2.8.2)\n",
      "Requirement already satisfied: pytz>=2017.3 in /Users/seokyoung/anaconda3/lib/python3.11/site-packages (from pandas->mglearn) (2022.7)\n",
      "Requirement already satisfied: scipy>=1.5.0 in /Users/seokyoung/anaconda3/lib/python3.11/site-packages (from scikit-learn->mglearn) (1.11.3)\n",
      "Requirement already satisfied: threadpoolctl>=2.0.0 in /Users/seokyoung/anaconda3/lib/python3.11/site-packages (from scikit-learn->mglearn) (2.2.0)\n",
      "Requirement already satisfied: six>=1.5 in /Users/seokyoung/anaconda3/lib/python3.11/site-packages (from python-dateutil>=2.7->matplotlib->mglearn) (1.16.0)\n",
      "Requirement already satisfied: gluonnlp in /Users/seokyoung/anaconda3/lib/python3.11/site-packages (0.10.0)\n",
      "Requirement already satisfied: numpy>=1.16.0 in /Users/seokyoung/anaconda3/lib/python3.11/site-packages (from gluonnlp) (1.24.3)\n",
      "Requirement already satisfied: cython in /Users/seokyoung/anaconda3/lib/python3.11/site-packages (from gluonnlp) (3.0.5)\n",
      "Requirement already satisfied: packaging in /Users/seokyoung/anaconda3/lib/python3.11/site-packages (from gluonnlp) (23.1)\n",
      "Requirement already satisfied: mxnet in /Users/seokyoung/anaconda3/lib/python3.11/site-packages (1.6.0)\n",
      "Requirement already satisfied: numpy<2.0.0,>1.16.0 in /Users/seokyoung/anaconda3/lib/python3.11/site-packages (from mxnet) (1.24.3)\n",
      "Requirement already satisfied: requests<3,>=2.20.0 in /Users/seokyoung/anaconda3/lib/python3.11/site-packages (from mxnet) (2.31.0)\n",
      "Requirement already satisfied: graphviz<0.9.0,>=0.8.1 in /Users/seokyoung/anaconda3/lib/python3.11/site-packages (from mxnet) (0.8.4)\n",
      "Requirement already satisfied: charset-normalizer<4,>=2 in /Users/seokyoung/anaconda3/lib/python3.11/site-packages (from requests<3,>=2.20.0->mxnet) (2.0.4)\n",
      "Requirement already satisfied: idna<4,>=2.5 in /Users/seokyoung/anaconda3/lib/python3.11/site-packages (from requests<3,>=2.20.0->mxnet) (3.4)\n",
      "Requirement already satisfied: urllib3<3,>=1.21.1 in /Users/seokyoung/anaconda3/lib/python3.11/site-packages (from requests<3,>=2.20.0->mxnet) (1.26.16)\n",
      "Requirement already satisfied: certifi>=2017.4.17 in /Users/seokyoung/anaconda3/lib/python3.11/site-packages (from requests<3,>=2.20.0->mxnet) (2023.7.22)\n"
     ]
    }
   ],
   "source": [
    "!pip install konlpy\n",
    "!pip install mglearn\n",
    "!pip install gluonnlp\n",
    "!pip install mxnet"
   ]
  },
  {
   "cell_type": "code",
   "execution_count": 5,
   "id": "6784655c",
   "metadata": {},
   "outputs": [
    {
     "name": "stdout",
     "output_type": "stream",
     "text": [
      "Requirement already satisfied: transformers in /Users/seokyoung/anaconda3/lib/python3.11/site-packages (4.32.1)\n",
      "Requirement already satisfied: filelock in /Users/seokyoung/anaconda3/lib/python3.11/site-packages (from transformers) (3.9.0)\n",
      "Requirement already satisfied: huggingface-hub<1.0,>=0.15.1 in /Users/seokyoung/anaconda3/lib/python3.11/site-packages (from transformers) (0.15.1)\n",
      "Requirement already satisfied: numpy>=1.17 in /Users/seokyoung/anaconda3/lib/python3.11/site-packages (from transformers) (1.24.3)\n",
      "Requirement already satisfied: packaging>=20.0 in /Users/seokyoung/anaconda3/lib/python3.11/site-packages (from transformers) (23.1)\n",
      "Requirement already satisfied: pyyaml>=5.1 in /Users/seokyoung/anaconda3/lib/python3.11/site-packages (from transformers) (6.0)\n",
      "Requirement already satisfied: regex!=2019.12.17 in /Users/seokyoung/anaconda3/lib/python3.11/site-packages (from transformers) (2022.7.9)\n",
      "Requirement already satisfied: requests in /Users/seokyoung/anaconda3/lib/python3.11/site-packages (from transformers) (2.31.0)\n",
      "Requirement already satisfied: tokenizers!=0.11.3,<0.14,>=0.11.1 in /Users/seokyoung/anaconda3/lib/python3.11/site-packages (from transformers) (0.13.2)\n",
      "Requirement already satisfied: safetensors>=0.3.1 in /Users/seokyoung/anaconda3/lib/python3.11/site-packages (from transformers) (0.3.2)\n",
      "Requirement already satisfied: tqdm>=4.27 in /Users/seokyoung/anaconda3/lib/python3.11/site-packages (from transformers) (4.65.0)\n",
      "Requirement already satisfied: fsspec in /Users/seokyoung/anaconda3/lib/python3.11/site-packages (from huggingface-hub<1.0,>=0.15.1->transformers) (2023.4.0)\n",
      "Requirement already satisfied: typing-extensions>=3.7.4.3 in /Users/seokyoung/anaconda3/lib/python3.11/site-packages (from huggingface-hub<1.0,>=0.15.1->transformers) (4.7.1)\n",
      "Requirement already satisfied: charset-normalizer<4,>=2 in /Users/seokyoung/anaconda3/lib/python3.11/site-packages (from requests->transformers) (2.0.4)\n",
      "Requirement already satisfied: idna<4,>=2.5 in /Users/seokyoung/anaconda3/lib/python3.11/site-packages (from requests->transformers) (3.4)\n",
      "Requirement already satisfied: urllib3<3,>=1.21.1 in /Users/seokyoung/anaconda3/lib/python3.11/site-packages (from requests->transformers) (1.26.16)\n",
      "Requirement already satisfied: certifi>=2017.4.17 in /Users/seokyoung/anaconda3/lib/python3.11/site-packages (from requests->transformers) (2023.7.22)\n"
     ]
    }
   ],
   "source": [
    "!pip install transformers"
   ]
  },
  {
   "cell_type": "code",
   "execution_count": 6,
   "id": "689ed544",
   "metadata": {},
   "outputs": [],
   "source": [
    "import pandas as pd\n",
    "import urllib.request\n",
    "import matplotlib.pyplot as plt\n",
    "import re\n",
    "from konlpy.tag import Okt\n",
    "from tensorflow.keras.preprocessing.text import Tokenizer\n",
    "import numpy as np\n",
    "from tensorflow.keras.preprocessing.sequence import pad_sequences\n",
    "from sklearn.cluster import KMeans\n",
    "from gensim.models.doc2vec import Doc2Vec, TaggedDocument\n",
    "import mglearn\n",
    "from sklearn.cluster import AgglomerativeClustering\n",
    "import sys\n",
    "from scipy.cluster.hierarchy import dendrogram, linkage\n",
    "from matplotlib import pyplot as plt\n",
    "import random"
   ]
  },
  {
   "cell_type": "code",
   "execution_count": 7,
   "id": "a8783d1e",
   "metadata": {},
   "outputs": [
    {
     "name": "stdout",
     "output_type": "stream",
     "text": [
      "/Users/seokyoung/anaconda3/lib/python3.11/site-packages/gdown/cli.py:126: FutureWarning: Option `--id` was deprecated in version 4.3.1 and will be removed in 5.0. You don't need to pass it anymore to use a file ID.\n",
      "  warnings.warn(\n",
      "Downloading...\n",
      "From: https://drive.google.com/uc?id=1CKmd6EheRX_o1_wHm32GoHMQlUkxTD3E\n",
      "To: /Users/seokyoung/Desktop/PY202309-P/Sources/JAM.csv\n",
      "100%|██████████████████████████████████████| 8.12M/8.12M [00:03<00:00, 2.08MB/s]\n"
     ]
    }
   ],
   "source": [
    "!gdown --id 1CKmd6EheRX_o1_wHm32GoHMQlUkxTD3E"
   ]
  },
  {
   "cell_type": "code",
   "execution_count": 8,
   "id": "2a40e8dc",
   "metadata": {},
   "outputs": [],
   "source": [
    "data = pd.read_csv(\"JAM.csv\", engine='python',encoding='CP949')"
   ]
  },
  {
   "cell_type": "code",
   "execution_count": 9,
   "id": "0f6eff70",
   "metadata": {},
   "outputs": [],
   "source": [
    "## 데이터 분석\n",
    "\n",
    "train_data = pd.DataFrame(data)"
   ]
  },
  {
   "cell_type": "code",
   "execution_count": 10,
   "id": "d2548586",
   "metadata": {},
   "outputs": [
    {
     "data": {
      "text/html": [
       "<div>\n",
       "<style scoped>\n",
       "    .dataframe tbody tr th:only-of-type {\n",
       "        vertical-align: middle;\n",
       "    }\n",
       "\n",
       "    .dataframe tbody tr th {\n",
       "        vertical-align: top;\n",
       "    }\n",
       "\n",
       "    .dataframe thead th {\n",
       "        text-align: right;\n",
       "    }\n",
       "</style>\n",
       "<table border=\"1\" class=\"dataframe\">\n",
       "  <thead>\n",
       "    <tr style=\"text-align: right;\">\n",
       "      <th></th>\n",
       "      <th>년도</th>\n",
       "      <th>가수</th>\n",
       "      <th>제목</th>\n",
       "      <th>성별</th>\n",
       "      <th>장르</th>\n",
       "      <th>최고순위</th>\n",
       "      <th>작사</th>\n",
       "      <th>작곡</th>\n",
       "      <th>소속사</th>\n",
       "      <th>가사</th>\n",
       "    </tr>\n",
       "  </thead>\n",
       "  <tbody>\n",
       "    <tr>\n",
       "      <th>0</th>\n",
       "      <td>19920000</td>\n",
       "      <td>잼</td>\n",
       "      <td>난 멈추지 않는다</td>\n",
       "      <td>mixed</td>\n",
       "      <td>댄스</td>\n",
       "      <td>1</td>\n",
       "      <td>조진호</td>\n",
       "      <td>조진호</td>\n",
       "      <td>DSP 미디어</td>\n",
       "      <td>이제 모든걸 다시 시작해 내겐 아직도 시간이 있어 때론 상처가 좌절로 남아 돌이킬수...</td>\n",
       "    </tr>\n",
       "    <tr>\n",
       "      <th>1</th>\n",
       "      <td>19920000</td>\n",
       "      <td>잼</td>\n",
       "      <td>우리 모두 사랑하자</td>\n",
       "      <td>mixed</td>\n",
       "      <td>댄스</td>\n",
       "      <td>7</td>\n",
       "      <td>조진수</td>\n",
       "      <td>조진수</td>\n",
       "      <td>DSP 미디어</td>\n",
       "      <td>워 우리 모두 사랑하자 우리의 젊은날을 위하여 우리 모두 춤을 추자 가벼운 인스텝 ...</td>\n",
       "    </tr>\n",
       "    <tr>\n",
       "      <th>2</th>\n",
       "      <td>19920000</td>\n",
       "      <td>잼</td>\n",
       "      <td>이유</td>\n",
       "      <td>mixed</td>\n",
       "      <td>발라드</td>\n",
       "      <td>0</td>\n",
       "      <td>조진호</td>\n",
       "      <td>조진호</td>\n",
       "      <td>DSP 미디어</td>\n",
       "      <td>어둠은 드리워지고 이제는 우리들만의 시간이 지친듯이 내 가슴속에 밀려와 나를 재우고...</td>\n",
       "    </tr>\n",
       "  </tbody>\n",
       "</table>\n",
       "</div>"
      ],
      "text/plain": [
       "         년도 가수          제목     성별   장르 최고순위   작사   작곡      소속사  \\\n",
       "0  19920000  잼   난 멈추지 않는다  mixed   댄스    1  조진호  조진호  DSP 미디어   \n",
       "1  19920000  잼  우리 모두 사랑하자  mixed   댄스    7  조진수  조진수  DSP 미디어   \n",
       "2  19920000  잼          이유  mixed  발라드    0  조진호  조진호  DSP 미디어   \n",
       "\n",
       "                                                  가사  \n",
       "0  이제 모든걸 다시 시작해 내겐 아직도 시간이 있어 때론 상처가 좌절로 남아 돌이킬수...  \n",
       "1  워 우리 모두 사랑하자 우리의 젊은날을 위하여 우리 모두 춤을 추자 가벼운 인스텝 ...  \n",
       "2  어둠은 드리워지고 이제는 우리들만의 시간이 지친듯이 내 가슴속에 밀려와 나를 재우고...  "
      ]
     },
     "execution_count": 10,
     "metadata": {},
     "output_type": "execute_result"
    }
   ],
   "source": [
    "train_data.head(3) # 데이터 구성요소"
   ]
  },
  {
   "cell_type": "code",
   "execution_count": 11,
   "id": "9db1cd04",
   "metadata": {},
   "outputs": [
    {
     "data": {
      "text/plain": [
       "5619"
      ]
     },
     "execution_count": 11,
     "metadata": {},
     "output_type": "execute_result"
    }
   ],
   "source": [
    "train_data.shape[0] # 곡 수"
   ]
  },
  {
   "cell_type": "code",
   "execution_count": 12,
   "id": "fb5510a6",
   "metadata": {},
   "outputs": [
    {
     "data": {
      "text/plain": [
       "454"
      ]
     },
     "execution_count": 12,
     "metadata": {},
     "output_type": "execute_result"
    }
   ],
   "source": [
    "len(train_data['가수'].unique()) # 유니크한 가수의 수"
   ]
  },
  {
   "cell_type": "code",
   "execution_count": 13,
   "id": "99965134",
   "metadata": {},
   "outputs": [
    {
     "data": {
      "text/plain": [
       "Index(['년도', '가수', '제목', '성별', '장르', '최고순위', '작사', '작곡', '소속사', '가사'], dtype='object')"
      ]
     },
     "execution_count": 13,
     "metadata": {},
     "output_type": "execute_result"
    }
   ],
   "source": [
    "train_data.columns # 특성 목록"
   ]
  },
  {
   "cell_type": "code",
   "execution_count": 16,
   "id": "9172dd62",
   "metadata": {},
   "outputs": [
    {
     "name": "stdout",
     "output_type": "stream",
     "text": [
      "0\n",
      "0\n",
      "0\n",
      "0\n",
      "0\n",
      "0\n",
      "41\n",
      "52\n",
      "99\n",
      "1\n"
     ]
    }
   ],
   "source": [
    "# 각 attribute에 따른 N/A값의 수\n",
    "for attribute in train_data.columns:\n",
    "    print(train_data[attribute].isnull().sum()) \n",
    "    \n",
    "# 아래 결과에서 소속사가 없는 가수에 대한 정보가 다수 포함되어 있음을 알 수 있음.\n",
    "# 클러스터링 단계에서는 가사만 사용되므로, 가사가 N/A값인 데이터만 삭제."
   ]
  },
  {
   "cell_type": "code",
   "execution_count": 17,
   "id": "dda798a5",
   "metadata": {},
   "outputs": [],
   "source": [
    "train_data = train_data[train_data['가사'].notnull()]"
   ]
  },
  {
   "cell_type": "code",
   "execution_count": 18,
   "id": "24341c7b",
   "metadata": {},
   "outputs": [
    {
     "data": {
      "text/html": [
       "<div>\n",
       "<style scoped>\n",
       "    .dataframe tbody tr th:only-of-type {\n",
       "        vertical-align: middle;\n",
       "    }\n",
       "\n",
       "    .dataframe tbody tr th {\n",
       "        vertical-align: top;\n",
       "    }\n",
       "\n",
       "    .dataframe thead th {\n",
       "        text-align: right;\n",
       "    }\n",
       "</style>\n",
       "<table border=\"1\" class=\"dataframe\">\n",
       "  <thead>\n",
       "    <tr style=\"text-align: right;\">\n",
       "      <th></th>\n",
       "      <th>년도</th>\n",
       "      <th>가수</th>\n",
       "      <th>제목</th>\n",
       "      <th>성별</th>\n",
       "      <th>장르</th>\n",
       "      <th>최고순위</th>\n",
       "      <th>작사</th>\n",
       "      <th>작곡</th>\n",
       "      <th>소속사</th>\n",
       "      <th>가사</th>\n",
       "    </tr>\n",
       "  </thead>\n",
       "  <tbody>\n",
       "    <tr>\n",
       "      <th>0</th>\n",
       "      <td>19920000</td>\n",
       "      <td>잼</td>\n",
       "      <td>난 멈추지 않는다</td>\n",
       "      <td>mixed</td>\n",
       "      <td>댄스</td>\n",
       "      <td>1</td>\n",
       "      <td>조진호</td>\n",
       "      <td>조진호</td>\n",
       "      <td>DSP 미디어</td>\n",
       "      <td>이제 모든걸 다시 시작해 내겐 아직도 시간이 있어 때론 상처가 좌절로 남아 돌이킬수...</td>\n",
       "    </tr>\n",
       "    <tr>\n",
       "      <th>1</th>\n",
       "      <td>19920000</td>\n",
       "      <td>잼</td>\n",
       "      <td>우리 모두 사랑하자</td>\n",
       "      <td>mixed</td>\n",
       "      <td>댄스</td>\n",
       "      <td>7</td>\n",
       "      <td>조진수</td>\n",
       "      <td>조진수</td>\n",
       "      <td>DSP 미디어</td>\n",
       "      <td>워 우리 모두 사랑하자 우리의 젊은날을 위하여 우리 모두 춤을 추자 가벼운 인스텝 ...</td>\n",
       "    </tr>\n",
       "    <tr>\n",
       "      <th>2</th>\n",
       "      <td>19920000</td>\n",
       "      <td>잼</td>\n",
       "      <td>이유</td>\n",
       "      <td>mixed</td>\n",
       "      <td>발라드</td>\n",
       "      <td>0</td>\n",
       "      <td>조진호</td>\n",
       "      <td>조진호</td>\n",
       "      <td>DSP 미디어</td>\n",
       "      <td>어둠은 드리워지고 이제는 우리들만의 시간이 지친듯이 내 가슴속에 밀려와 나를 재우고...</td>\n",
       "    </tr>\n",
       "  </tbody>\n",
       "</table>\n",
       "</div>"
      ],
      "text/plain": [
       "         년도 가수          제목     성별   장르 최고순위   작사   작곡      소속사  \\\n",
       "0  19920000  잼   난 멈추지 않는다  mixed   댄스    1  조진호  조진호  DSP 미디어   \n",
       "1  19920000  잼  우리 모두 사랑하자  mixed   댄스    7  조진수  조진수  DSP 미디어   \n",
       "2  19920000  잼          이유  mixed  발라드    0  조진호  조진호  DSP 미디어   \n",
       "\n",
       "                                                  가사  \n",
       "0  이제 모든걸 다시 시작해 내겐 아직도 시간이 있어 때론 상처가 좌절로 남아 돌이킬수...  \n",
       "1  워 우리 모두 사랑하자 우리의 젊은날을 위하여 우리 모두 춤을 추자 가벼운 인스텝 ...  \n",
       "2  어둠은 드리워지고 이제는 우리들만의 시간이 지친듯이 내 가슴속에 밀려와 나를 재우고...  "
      ]
     },
     "execution_count": 18,
     "metadata": {},
     "output_type": "execute_result"
    }
   ],
   "source": [
    "train_data.head(3)"
   ]
  },
  {
   "cell_type": "code",
   "execution_count": 37,
   "id": "9cda737f",
   "metadata": {},
   "outputs": [
    {
     "name": "stdout",
     "output_type": "stream",
     "text": [
      "0\n"
     ]
    }
   ],
   "source": [
    "print(train_data['가사'].isnull().sum())"
   ]
  },
  {
   "cell_type": "code",
   "execution_count": 38,
   "id": "8aaca6a2",
   "metadata": {},
   "outputs": [],
   "source": [
    "## 데이터 정제\n",
    "\n",
    "# 중복된 가사 제거\n",
    "train_data.shape[0] - train_data['가사'].nunique()\n",
    "train_data.drop_duplicates(subset=['가사'], inplace=True)"
   ]
  },
  {
   "cell_type": "code",
   "execution_count": 39,
   "id": "afb56e1d",
   "metadata": {},
   "outputs": [
    {
     "data": {
      "text/plain": [
       "0"
      ]
     },
     "execution_count": 39,
     "metadata": {},
     "output_type": "execute_result"
    }
   ],
   "source": [
    "len(train_data) - train_data['가사'].nunique()"
   ]
  },
  {
   "cell_type": "code",
   "execution_count": 40,
   "id": "b948bb2f",
   "metadata": {},
   "outputs": [
    {
     "name": "stdout",
     "output_type": "stream",
     "text": [
      "총 샘플의 수 : 5618\n"
     ]
    }
   ],
   "source": [
    "print('총 샘플의 수 :',len(train_data))"
   ]
  },
  {
   "cell_type": "code",
   "execution_count": 41,
   "id": "c9242bc3",
   "metadata": {},
   "outputs": [],
   "source": [
    "'년도', '가수', '제목', '성별', '장르', '최고순위', '작사', '작곡', '소속사', '가사'\n",
    "titles = train_data['제목'].reset_index()\n",
    "groups = train_data['가수'].reset_index()\n",
    "\n",
    "titles_groups = pd.concat([titles, groups],axis=1)\n",
    "\n",
    "# 각 데이터를 따로 구하고 싶으면 다음 주석을 해제하여 사용\n",
    "'''\n",
    "groups = train_data['년도'].reset_index()\n",
    "groups = train_data['장르'].reset_index()\n",
    "groups = train_data['성별'].reset_index()\n",
    "groups = train_data['최고순위'].reset_index()\n",
    "groups = train_data['작사'].reset_index()\n",
    "groups = train_data['작곡'].reset_index()\n",
    "groups = train_data['소속사'].reset_index()\n",
    "'''\n",
    "\n",
    "# 전처리가 끝난 전체 dataframe을 사용하고 싶을 때\n",
    "train_data_all = train_data\n",
    "\n",
    "train_data = train_data['가사'].reset_index()"
   ]
  },
  {
   "cell_type": "code",
   "execution_count": 42,
   "id": "e8eff219",
   "metadata": {},
   "outputs": [
    {
     "name": "stderr",
     "output_type": "stream",
     "text": [
      "/var/folders/wp/6jyxl58x0rv79c0zy2ls13080000gn/T/ipykernel_6378/2683088422.py:4: FutureWarning: The default value of regex will change from True to False in a future version.\n",
      "  train_data['가사'] = train_data['가사'].str.replace(\"[^ㄱ-ㅎㅏ-ㅣ가-힣a-zA-Z ]\",\"\")\n"
     ]
    },
    {
     "data": {
      "text/html": [
       "<div>\n",
       "<style scoped>\n",
       "    .dataframe tbody tr th:only-of-type {\n",
       "        vertical-align: middle;\n",
       "    }\n",
       "\n",
       "    .dataframe tbody tr th {\n",
       "        vertical-align: top;\n",
       "    }\n",
       "\n",
       "    .dataframe thead th {\n",
       "        text-align: right;\n",
       "    }\n",
       "</style>\n",
       "<table border=\"1\" class=\"dataframe\">\n",
       "  <thead>\n",
       "    <tr style=\"text-align: right;\">\n",
       "      <th></th>\n",
       "      <th>index</th>\n",
       "      <th>가사</th>\n",
       "    </tr>\n",
       "  </thead>\n",
       "  <tbody>\n",
       "    <tr>\n",
       "      <th>0</th>\n",
       "      <td>0</td>\n",
       "      <td>이제 모든걸 다시 시작해 내겐 아직도 시간이 있어 때론 상처가 좌절로 남아 돌이킬수...</td>\n",
       "    </tr>\n",
       "    <tr>\n",
       "      <th>1</th>\n",
       "      <td>1</td>\n",
       "      <td>워 우리 모두 사랑하자 우리의 젊은날을 위하여 우리 모두 춤을 추자 가벼운 인스텝 ...</td>\n",
       "    </tr>\n",
       "    <tr>\n",
       "      <th>2</th>\n",
       "      <td>2</td>\n",
       "      <td>어둠은 드리워지고 이제는 우리들만의 시간이 지친듯이 내 가슴속에 밀려와 나를 재우고...</td>\n",
       "    </tr>\n",
       "    <tr>\n",
       "      <th>3</th>\n",
       "      <td>3</td>\n",
       "      <td>끝없는 어둠 속을 천천히 걷고 있어 어디서 본 듯한 야릇한 느낌이야 거리는 비에 젖...</td>\n",
       "    </tr>\n",
       "    <tr>\n",
       "      <th>4</th>\n",
       "      <td>4</td>\n",
       "      <td>요즘 친구들은 흥 정말 진정한 친구가 뭔지 잘 몰라 말로만 떠들고 자기들이 다만 그...</td>\n",
       "    </tr>\n",
       "  </tbody>\n",
       "</table>\n",
       "</div>"
      ],
      "text/plain": [
       "   index                                                 가사\n",
       "0      0  이제 모든걸 다시 시작해 내겐 아직도 시간이 있어 때론 상처가 좌절로 남아 돌이킬수...\n",
       "1      1  워 우리 모두 사랑하자 우리의 젊은날을 위하여 우리 모두 춤을 추자 가벼운 인스텝 ...\n",
       "2      2  어둠은 드리워지고 이제는 우리들만의 시간이 지친듯이 내 가슴속에 밀려와 나를 재우고...\n",
       "3      3  끝없는 어둠 속을 천천히 걷고 있어 어디서 본 듯한 야릇한 느낌이야 거리는 비에 젖...\n",
       "4      4  요즘 친구들은 흥 정말 진정한 친구가 뭔지 잘 몰라 말로만 떠들고 자기들이 다만 그..."
      ]
     },
     "execution_count": 42,
     "metadata": {},
     "output_type": "execute_result"
    }
   ],
   "source": [
    "## 데이터 전처리\n",
    "# 이모티콘을 포함한 특수문자 모두 제거\n",
    "\n",
    "train_data['가사'] = train_data['가사'].str.replace(\"[^ㄱ-ㅎㅏ-ㅣ가-힣a-zA-Z ]\",\"\")\n",
    "train_data[:5]"
   ]
  },
  {
   "cell_type": "code",
   "execution_count": 43,
   "id": "2070a682",
   "metadata": {},
   "outputs": [
    {
     "name": "stdout",
     "output_type": "stream",
     "text": [
      "index    0\n",
      "가사       0\n",
      "dtype: int64\n"
     ]
    }
   ],
   "source": [
    "# 아무 것도 남지 않은 데이터 N/A로 변경\n",
    "train_data['가사'].replace('', np.nan, inplace=True)\n",
    "print(train_data.isnull().sum())"
   ]
  },
  {
   "cell_type": "code",
   "execution_count": 44,
   "id": "55c84412",
   "metadata": {},
   "outputs": [],
   "source": [
    "# 문장부호들을 제거하는 것으로 생긴 N/A값들 모두 제거\n",
    "train_data = train_data.dropna(how = 'any')"
   ]
  },
  {
   "cell_type": "code",
   "execution_count": 45,
   "id": "63f28cc7",
   "metadata": {},
   "outputs": [
    {
     "data": {
      "text/html": [
       "<div>\n",
       "<style scoped>\n",
       "    .dataframe tbody tr th:only-of-type {\n",
       "        vertical-align: middle;\n",
       "    }\n",
       "\n",
       "    .dataframe tbody tr th {\n",
       "        vertical-align: top;\n",
       "    }\n",
       "\n",
       "    .dataframe thead th {\n",
       "        text-align: right;\n",
       "    }\n",
       "</style>\n",
       "<table border=\"1\" class=\"dataframe\">\n",
       "  <thead>\n",
       "    <tr style=\"text-align: right;\">\n",
       "      <th></th>\n",
       "      <th>년도</th>\n",
       "      <th>가수</th>\n",
       "      <th>제목</th>\n",
       "      <th>성별</th>\n",
       "      <th>장르</th>\n",
       "      <th>최고순위</th>\n",
       "      <th>작사</th>\n",
       "      <th>작곡</th>\n",
       "      <th>소속사</th>\n",
       "      <th>가사</th>\n",
       "    </tr>\n",
       "  </thead>\n",
       "  <tbody>\n",
       "    <tr>\n",
       "      <th>0</th>\n",
       "      <td>19920000</td>\n",
       "      <td>잼</td>\n",
       "      <td>난 멈추지 않는다</td>\n",
       "      <td>mixed</td>\n",
       "      <td>댄스</td>\n",
       "      <td>1</td>\n",
       "      <td>조진호</td>\n",
       "      <td>조진호</td>\n",
       "      <td>DSP 미디어</td>\n",
       "      <td>이제 모든걸 다시 시작해 내겐 아직도 시간이 있어 때론 상처가 좌절로 남아 돌이킬수...</td>\n",
       "    </tr>\n",
       "    <tr>\n",
       "      <th>1</th>\n",
       "      <td>19920000</td>\n",
       "      <td>잼</td>\n",
       "      <td>우리 모두 사랑하자</td>\n",
       "      <td>mixed</td>\n",
       "      <td>댄스</td>\n",
       "      <td>7</td>\n",
       "      <td>조진수</td>\n",
       "      <td>조진수</td>\n",
       "      <td>DSP 미디어</td>\n",
       "      <td>워 우리 모두 사랑하자 우리의 젊은날을 위하여 우리 모두 춤을 추자 가벼운 인스텝 ...</td>\n",
       "    </tr>\n",
       "    <tr>\n",
       "      <th>2</th>\n",
       "      <td>19920000</td>\n",
       "      <td>잼</td>\n",
       "      <td>이유</td>\n",
       "      <td>mixed</td>\n",
       "      <td>발라드</td>\n",
       "      <td>0</td>\n",
       "      <td>조진호</td>\n",
       "      <td>조진호</td>\n",
       "      <td>DSP 미디어</td>\n",
       "      <td>어둠은 드리워지고 이제는 우리들만의 시간이 지친듯이 내 가슴속에 밀려와 나를 재우고...</td>\n",
       "    </tr>\n",
       "    <tr>\n",
       "      <th>3</th>\n",
       "      <td>19920000</td>\n",
       "      <td>잼</td>\n",
       "      <td>18번가의 비밀</td>\n",
       "      <td>mixed</td>\n",
       "      <td>댄스</td>\n",
       "      <td>0</td>\n",
       "      <td>조진호</td>\n",
       "      <td>조진호</td>\n",
       "      <td>DSP 미디어</td>\n",
       "      <td>끝없는 어둠 속을 천천히 걷고 있어 어디서 본 듯한 야릇한 느낌이야 거리는 비에 젖...</td>\n",
       "    </tr>\n",
       "  </tbody>\n",
       "</table>\n",
       "</div>"
      ],
      "text/plain": [
       "         년도 가수          제목     성별   장르 최고순위   작사   작곡      소속사  \\\n",
       "0  19920000  잼   난 멈추지 않는다  mixed   댄스    1  조진호  조진호  DSP 미디어   \n",
       "1  19920000  잼  우리 모두 사랑하자  mixed   댄스    7  조진수  조진수  DSP 미디어   \n",
       "2  19920000  잼          이유  mixed  발라드    0  조진호  조진호  DSP 미디어   \n",
       "3  19920000  잼    18번가의 비밀  mixed   댄스    0  조진호  조진호  DSP 미디어   \n",
       "\n",
       "                                                  가사  \n",
       "0  이제 모든걸 다시 시작해 내겐 아직도 시간이 있어 때론 상처가 좌절로 남아 돌이킬수...  \n",
       "1  워 우리 모두 사랑하자 우리의 젊은날을 위하여 우리 모두 춤을 추자 가벼운 인스텝 ...  \n",
       "2  어둠은 드리워지고 이제는 우리들만의 시간이 지친듯이 내 가슴속에 밀려와 나를 재우고...  \n",
       "3  끝없는 어둠 속을 천천히 걷고 있어 어디서 본 듯한 야릇한 느낌이야 거리는 비에 젖...  "
      ]
     },
     "execution_count": 45,
     "metadata": {},
     "output_type": "execute_result"
    }
   ],
   "source": [
    "train_data_all[:4]"
   ]
  },
  {
   "cell_type": "code",
   "execution_count": 46,
   "id": "bc6ef4a5",
   "metadata": {},
   "outputs": [],
   "source": [
    "## 토크나이징\n",
    "# 불용어 지정\n",
    "stopwords = ['의','가','이','은','들','는','좀','잘','걍','과','도','를','으로','자','에','와','한','하다']"
   ]
  },
  {
   "cell_type": "code",
   "execution_count": 47,
   "id": "9ffc12d0",
   "metadata": {},
   "outputs": [],
   "source": [
    "okt = Okt()"
   ]
  },
  {
   "cell_type": "code",
   "execution_count": 48,
   "id": "04ac2fa7",
   "metadata": {},
   "outputs": [
    {
     "data": {
      "text/plain": [
       "'이제 모든걸 다시 시작해 내겐 아직도 시간이 있어 때론 상처가 좌절로 남아 돌이킬수 없는 후회도 하고  그러나 우리 잊어선 안돼 지금의 나는 내가 아닌걸 신문에 실려온 얘기들 헝클어진 우리들을 탓할순 없어  이제 모든걸 다시 시작해 이렇게 여기서 끝낼순 없어 내겐 아직도 시간이 있어 지금 이렇게 지금 멈출수는 없어  신문에 실려온 얘기들 헝클어진 우리들을 탓할순 없어  이제 모든걸 다시 시작해 이렇게 여기서 끝낼순 없어 내겐 아직도 시간이 있어 지금 이렇게 지금  나는 여기서 멈출순 없어 이제 모든걸 다시 시작해 나는 여기서 멈출순 없어 이제 모든걸 다시 시작해'"
      ]
     },
     "execution_count": 48,
     "metadata": {},
     "output_type": "execute_result"
    }
   ],
   "source": [
    "train_data['가사'][0]"
   ]
  },
  {
   "cell_type": "code",
   "execution_count": 49,
   "id": "962f70e7",
   "metadata": {},
   "outputs": [],
   "source": [
    "# Okt를 사용, 형태소 단위로 단어 분류, 일정 수준의 정규화 실행\n",
    "\n",
    "\n",
    "X_train = []\n",
    "for sentence in train_data['가사']:\n",
    "    temp_X = []\n",
    "    temp_X = okt.morphs(sentence, stem=True) # 토큰화\n",
    "    temp_X = [word for word in temp_X if not word in stopwords] # 불용어 제거\n",
    "    X_train.append(temp_X)\n"
   ]
  },
  {
   "cell_type": "code",
   "execution_count": 52,
   "id": "601ec145",
   "metadata": {},
   "outputs": [],
   "source": [
    "# 토큰화한 X_test를 저장\n",
    "\n",
    "X_train_nparray = np.array(X_train, dtype='object')\n",
    "np.save('./X_train',X_train_nparray)"
   ]
  },
  {
   "cell_type": "code",
   "execution_count": 53,
   "id": "3eede669",
   "metadata": {},
   "outputs": [
    {
     "name": "stdout",
     "output_type": "stream",
     "text": [
      "/Users/seokyoung/anaconda3/lib/python3.11/site-packages/gdown/cli.py:126: FutureWarning: Option `--id` was deprecated in version 4.3.1 and will be removed in 5.0. You don't need to pass it anymore to use a file ID.\n",
      "  warnings.warn(\n",
      "Downloading...\n",
      "From: https://drive.google.com/uc?id=1VX-lIGMWgD4K9Mz-0SUJA-JZAtBodZld\n",
      "To: /Users/seokyoung/Desktop/PY202309-P/Sources/X_train.npy\n",
      "100%|██████████████████████████████████████| 22.3M/22.3M [00:20<00:00, 1.10MB/s]\n"
     ]
    }
   ],
   "source": [
    "# X_train을 불러오기\n",
    "!gdown --id 1VX-lIGMWgD4K9Mz-0SUJA-JZAtBodZld"
   ]
  },
  {
   "cell_type": "code",
   "execution_count": 54,
   "id": "cff0ebd0",
   "metadata": {},
   "outputs": [],
   "source": [
    "X_train = np.load('./X_train.npy',allow_pickle=True).tolist()"
   ]
  },
  {
   "cell_type": "code",
   "execution_count": 55,
   "id": "c24bfe27",
   "metadata": {},
   "outputs": [
    {
     "data": {
      "text/plain": [
       "['이제',\n",
       " '모든',\n",
       " '걸',\n",
       " '다시',\n",
       " '시작',\n",
       " '내겐',\n",
       " '아직도',\n",
       " '시간',\n",
       " '있다',\n",
       " '때론',\n",
       " '상처',\n",
       " '좌절',\n",
       " '로',\n",
       " '남아',\n",
       " '돌이키다',\n",
       " '없다',\n",
       " '후회',\n",
       " '그러나',\n",
       " '우리',\n",
       " '잊다',\n",
       " '안',\n",
       " '돼다',\n",
       " '지금',\n",
       " '나',\n",
       " '내',\n",
       " '아니다',\n",
       " '걸',\n",
       " '신문',\n",
       " '실리다',\n",
       " '온',\n",
       " '얘기',\n",
       " '헝클어지다',\n",
       " '우리',\n",
       " '을',\n",
       " '탓',\n",
       " '순',\n",
       " '없다',\n",
       " '이제',\n",
       " '모든',\n",
       " '걸',\n",
       " '다시',\n",
       " '시작',\n",
       " '이렇게',\n",
       " '여기',\n",
       " '서',\n",
       " '끝내다',\n",
       " '순',\n",
       " '없다',\n",
       " '내겐',\n",
       " '아직도',\n",
       " '시간',\n",
       " '있다',\n",
       " '지금',\n",
       " '이렇게',\n",
       " '지금',\n",
       " '멈추다',\n",
       " '없다',\n",
       " '신문',\n",
       " '실리다',\n",
       " '온',\n",
       " '얘기',\n",
       " '헝클어지다',\n",
       " '우리',\n",
       " '을',\n",
       " '탓',\n",
       " '순',\n",
       " '없다',\n",
       " '이제',\n",
       " '모든',\n",
       " '걸',\n",
       " '다시',\n",
       " '시작',\n",
       " '이렇게',\n",
       " '여기',\n",
       " '서',\n",
       " '끝내다',\n",
       " '순',\n",
       " '없다',\n",
       " '내겐',\n",
       " '아직도',\n",
       " '시간',\n",
       " '있다',\n",
       " '지금',\n",
       " '이렇게',\n",
       " '지금',\n",
       " '나',\n",
       " '여기',\n",
       " '서',\n",
       " '멈추다',\n",
       " '순',\n",
       " '없다',\n",
       " '이제',\n",
       " '모든',\n",
       " '걸',\n",
       " '다시',\n",
       " '시작',\n",
       " '나',\n",
       " '여기',\n",
       " '서',\n",
       " '멈추다',\n",
       " '순',\n",
       " '없다',\n",
       " '이제',\n",
       " '모든',\n",
       " '걸',\n",
       " '다시',\n",
       " '시작']"
      ]
     },
     "execution_count": 55,
     "metadata": {},
     "output_type": "execute_result"
    }
   ],
   "source": [
    "X_train[0]"
   ]
  },
  {
   "cell_type": "code",
   "execution_count": null,
   "id": "1413fc30",
   "metadata": {},
   "outputs": [],
   "source": []
  }
 ],
 "metadata": {
  "kernelspec": {
   "display_name": "Python 3 (ipykernel)",
   "language": "python",
   "name": "python3"
  },
  "language_info": {
   "codemirror_mode": {
    "name": "ipython",
    "version": 3
   },
   "file_extension": ".py",
   "mimetype": "text/x-python",
   "name": "python",
   "nbconvert_exporter": "python",
   "pygments_lexer": "ipython3",
   "version": "3.11.4"
  }
 },
 "nbformat": 4,
 "nbformat_minor": 5
}
