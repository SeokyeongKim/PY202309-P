{
 "cells": [
  {
   "cell_type": "code",
   "execution_count": 1,
   "id": "e91f43a6",
   "metadata": {},
   "outputs": [
    {
     "name": "stdout",
     "output_type": "stream",
     "text": [
      "Collecting konlpy\n",
      "  Downloading konlpy-0.6.0-py2.py3-none-any.whl (19.4 MB)\n",
      "\u001b[2K     \u001b[90m━━━━━━━━━━━━━━━━━━━━━━━━━━━━━━━━━━━━━━━━\u001b[0m \u001b[32m19.4/19.4 MB\u001b[0m \u001b[31m3.1 MB/s\u001b[0m eta \u001b[36m0:00:00\u001b[0m00:01\u001b[0m00:01\u001b[0m\n",
      "\u001b[?25hCollecting JPype1>=0.7.0 (from konlpy)\n",
      "  Downloading JPype1-1.4.1.tar.gz (797 kB)\n",
      "\u001b[2K     \u001b[90m━━━━━━━━━━━━━━━━━━━━━━━━━━━━━━━━━━━━━━━\u001b[0m \u001b[32m797.9/797.9 kB\u001b[0m \u001b[31m3.8 MB/s\u001b[0m eta \u001b[36m0:00:00\u001b[0ma \u001b[36m0:00:01\u001b[0m\n",
      "\u001b[?25h  Preparing metadata (setup.py) ... \u001b[?25ldone\n",
      "\u001b[?25hCollecting lxml>=4.1.0 (from konlpy)\n",
      "  Downloading lxml-4.9.3.tar.gz (3.6 MB)\n",
      "\u001b[2K     \u001b[90m━━━━━━━━━━━━━━━━━━━━━━━━━━━━━━━━━━━━━━━━\u001b[0m \u001b[32m3.6/3.6 MB\u001b[0m \u001b[31m2.7 MB/s\u001b[0m eta \u001b[36m0:00:00\u001b[0m00:01\u001b[0m00:01\u001b[0m\n",
      "\u001b[?25h  Preparing metadata (setup.py) ... \u001b[?25ldone\n",
      "\u001b[?25hCollecting numpy>=1.6 (from konlpy)\n",
      "  Downloading numpy-1.24.4-cp38-cp38-macosx_11_0_arm64.whl.metadata (5.6 kB)\n",
      "Requirement already satisfied: packaging in /Users/seokyoung/anaconda3/envs/test/lib/python3.8/site-packages (from JPype1>=0.7.0->konlpy) (23.2)\n",
      "Downloading numpy-1.24.4-cp38-cp38-macosx_11_0_arm64.whl (13.8 MB)\n",
      "\u001b[2K   \u001b[90m━━━━━━━━━━━━━━━━━━━━━━━━━━━━━━━━━━━━━━━━\u001b[0m \u001b[32m13.8/13.8 MB\u001b[0m \u001b[31m3.1 MB/s\u001b[0m eta \u001b[36m0:00:00\u001b[0m00:01\u001b[0m00:01\u001b[0m\n",
      "\u001b[?25hBuilding wheels for collected packages: JPype1, lxml\n",
      "  Building wheel for JPype1 (setup.py) ... \u001b[?25ldone\n",
      "\u001b[?25h  Created wheel for JPype1: filename=JPype1-1.4.1-cp38-cp38-macosx_11_0_arm64.whl size=366919 sha256=9a614aead5d04d35099824623e93269688ac434af9540452d9c24115703d9686\n",
      "  Stored in directory: /Users/seokyoung/Library/Caches/pip/wheels/17/f7/70/f566373a8f078d28d543954bbd38e611c48113b5857596b0c7\n",
      "  Building wheel for lxml (setup.py) ... \u001b[?25ldone\n",
      "\u001b[?25h  Created wheel for lxml: filename=lxml-4.9.3-cp38-cp38-macosx_11_0_arm64.whl size=1556268 sha256=3beacca082f162beed2099082d1b71edfb8c227ff0be473ea9fb5d81f293aaa0\n",
      "  Stored in directory: /Users/seokyoung/Library/Caches/pip/wheels/70/25/e4/422c8f9cd5b754007088081b24e9bb2a96d85d66c3bb67d413\n",
      "Successfully built JPype1 lxml\n",
      "Installing collected packages: numpy, lxml, JPype1, konlpy\n",
      "Successfully installed JPype1-1.4.1 konlpy-0.6.0 lxml-4.9.3 numpy-1.24.4\n",
      "Collecting mglearn\n",
      "  Downloading mglearn-0.2.0-py2.py3-none-any.whl.metadata (628 bytes)\n",
      "Requirement already satisfied: numpy in /Users/seokyoung/anaconda3/envs/test/lib/python3.8/site-packages (from mglearn) (1.24.4)\n",
      "Collecting matplotlib (from mglearn)\n",
      "  Downloading matplotlib-3.7.4-cp38-cp38-macosx_11_0_arm64.whl.metadata (5.7 kB)\n",
      "Collecting scikit-learn (from mglearn)\n",
      "  Downloading scikit_learn-1.3.2-cp38-cp38-macosx_12_0_arm64.whl.metadata (11 kB)\n",
      "Collecting pandas (from mglearn)\n",
      "  Downloading pandas-2.0.3-cp38-cp38-macosx_11_0_arm64.whl.metadata (18 kB)\n",
      "Collecting pillow (from mglearn)\n",
      "  Downloading Pillow-10.1.0-cp38-cp38-macosx_11_0_arm64.whl.metadata (9.5 kB)\n",
      "Collecting cycler (from mglearn)\n",
      "  Downloading cycler-0.12.1-py3-none-any.whl.metadata (3.8 kB)\n",
      "Collecting imageio (from mglearn)\n",
      "  Downloading imageio-2.32.0-py3-none-any.whl.metadata (4.9 kB)\n",
      "Collecting joblib (from mglearn)\n",
      "  Downloading joblib-1.3.2-py3-none-any.whl.metadata (5.4 kB)\n",
      "Collecting pillow (from mglearn)\n",
      "  Downloading Pillow-10.0.1-cp38-cp38-macosx_11_0_arm64.whl.metadata (9.5 kB)\n",
      "Collecting contourpy>=1.0.1 (from matplotlib->mglearn)\n",
      "  Downloading contourpy-1.1.1-cp38-cp38-macosx_11_0_arm64.whl.metadata (5.9 kB)\n",
      "Collecting fonttools>=4.22.0 (from matplotlib->mglearn)\n",
      "  Downloading fonttools-4.44.3-cp38-cp38-macosx_10_9_universal2.whl.metadata (154 kB)\n",
      "\u001b[2K     \u001b[90m━━━━━━━━━━━━━━━━━━━━━━━━━━━━━━━━━━━━━━━\u001b[0m \u001b[32m154.6/154.6 kB\u001b[0m \u001b[31m2.9 MB/s\u001b[0m eta \u001b[36m0:00:00\u001b[0ma \u001b[36m0:00:01\u001b[0m\n",
      "\u001b[?25hCollecting kiwisolver>=1.0.1 (from matplotlib->mglearn)\n",
      "  Downloading kiwisolver-1.4.5-cp38-cp38-macosx_11_0_arm64.whl.metadata (6.4 kB)\n",
      "Requirement already satisfied: packaging>=20.0 in /Users/seokyoung/anaconda3/envs/test/lib/python3.8/site-packages (from matplotlib->mglearn) (23.2)\n",
      "Collecting pyparsing>=2.3.1 (from matplotlib->mglearn)\n",
      "  Downloading pyparsing-3.1.1-py3-none-any.whl.metadata (5.1 kB)\n",
      "Requirement already satisfied: python-dateutil>=2.7 in /Users/seokyoung/anaconda3/envs/test/lib/python3.8/site-packages (from matplotlib->mglearn) (2.8.2)\n",
      "Collecting importlib-resources>=3.2.0 (from matplotlib->mglearn)\n",
      "  Downloading importlib_resources-6.1.1-py3-none-any.whl.metadata (4.1 kB)\n",
      "Collecting pytz>=2020.1 (from pandas->mglearn)\n",
      "  Downloading pytz-2023.3.post1-py2.py3-none-any.whl.metadata (22 kB)\n",
      "Collecting tzdata>=2022.1 (from pandas->mglearn)\n",
      "  Downloading tzdata-2023.3-py2.py3-none-any.whl (341 kB)\n",
      "\u001b[2K     \u001b[90m━━━━━━━━━━━━━━━━━━━━━━━━━━━━━━━━━━━━━━━\u001b[0m \u001b[32m341.8/341.8 kB\u001b[0m \u001b[31m2.9 MB/s\u001b[0m eta \u001b[36m0:00:00\u001b[0ma \u001b[36m0:00:01\u001b[0m\n",
      "\u001b[?25hCollecting scipy>=1.5.0 (from scikit-learn->mglearn)\n",
      "  Downloading scipy-1.10.1-cp38-cp38-macosx_12_0_arm64.whl (28.8 MB)\n",
      "\u001b[2K     \u001b[90m━━━━━━━━━━━━━━━━━━━━━━━━━━━━━━━━━━━━━━━━\u001b[0m \u001b[32m28.8/28.8 MB\u001b[0m \u001b[31m2.2 MB/s\u001b[0m eta \u001b[36m0:00:00\u001b[0m00:01\u001b[0m00:01\u001b[0m\n",
      "\u001b[?25hCollecting threadpoolctl>=2.0.0 (from scikit-learn->mglearn)\n",
      "  Downloading threadpoolctl-3.2.0-py3-none-any.whl.metadata (10.0 kB)\n",
      "Collecting zipp>=3.1.0 (from importlib-resources>=3.2.0->matplotlib->mglearn)\n",
      "  Downloading zipp-3.17.0-py3-none-any.whl.metadata (3.7 kB)\n",
      "Requirement already satisfied: six>=1.5 in /Users/seokyoung/anaconda3/envs/test/lib/python3.8/site-packages (from python-dateutil>=2.7->matplotlib->mglearn) (1.16.0)\n",
      "Downloading mglearn-0.2.0-py2.py3-none-any.whl (581 kB)\n",
      "\u001b[2K   \u001b[90m━━━━━━━━━━━━━━━━━━━━━━━━━━━━━━━━━━━━━━━━\u001b[0m \u001b[32m581.4/581.4 kB\u001b[0m \u001b[31m2.3 MB/s\u001b[0m eta \u001b[36m0:00:00\u001b[0ma \u001b[36m0:00:01\u001b[0m\n",
      "\u001b[?25hDownloading cycler-0.12.1-py3-none-any.whl (8.3 kB)\n",
      "Downloading imageio-2.32.0-py3-none-any.whl (313 kB)\n",
      "\u001b[2K   \u001b[90m━━━━━━━━━━━━━━━━━━━━━━━━━━━━━━━━━━━━━━━━\u001b[0m \u001b[32m313.3/313.3 kB\u001b[0m \u001b[31m2.6 MB/s\u001b[0m eta \u001b[36m0:00:00\u001b[0m00:01\u001b[0m00:01\u001b[0m\n",
      "\u001b[?25hDownloading Pillow-10.0.1-cp38-cp38-macosx_11_0_arm64.whl (3.3 MB)\n",
      "\u001b[2K   \u001b[90m━━━━━━━━━━━━━━━━━━━━━━━━━━━━━━━━━━━━━━━━\u001b[0m \u001b[32m3.3/3.3 MB\u001b[0m \u001b[31m2.2 MB/s\u001b[0m eta \u001b[36m0:00:00\u001b[0m00:01\u001b[0m00:01\u001b[0m\n",
      "\u001b[?25hDownloading joblib-1.3.2-py3-none-any.whl (302 kB)\n",
      "\u001b[2K   \u001b[90m━━━━━━━━━━━━━━━━━━━━━━━━━━━━━━━━━━━━━━━━\u001b[0m \u001b[32m302.2/302.2 kB\u001b[0m \u001b[31m2.2 MB/s\u001b[0m eta \u001b[36m0:00:00\u001b[0ma \u001b[36m0:00:01\u001b[0m\n",
      "\u001b[?25hDownloading matplotlib-3.7.4-cp38-cp38-macosx_11_0_arm64.whl (7.3 MB)\n",
      "\u001b[2K   \u001b[90m━━━━━━━━━━━━━━━━━━━━━━━━━━━━━━━━━━━━━━━━\u001b[0m \u001b[32m7.3/7.3 MB\u001b[0m \u001b[31m2.1 MB/s\u001b[0m eta \u001b[36m0:00:00\u001b[0m00:01\u001b[0m00:01\u001b[0m\n",
      "\u001b[?25hDownloading pandas-2.0.3-cp38-cp38-macosx_11_0_arm64.whl (10.7 MB)\n",
      "\u001b[2K   \u001b[90m━━━━━━━━━━━━━━━━━━━━━━━━━━━━━━━━━━━━━━━━\u001b[0m \u001b[32m10.7/10.7 MB\u001b[0m \u001b[31m1.9 MB/s\u001b[0m eta \u001b[36m0:00:00\u001b[0m00:01\u001b[0m00:01\u001b[0m\n",
      "\u001b[?25hDownloading scikit_learn-1.3.2-cp38-cp38-macosx_12_0_arm64.whl (9.4 MB)\n",
      "\u001b[2K   \u001b[90m━━━━━━━━━━━━━━━━━━━━━━━━━━━━━━━━━━━━━━━━\u001b[0m \u001b[32m9.4/9.4 MB\u001b[0m \u001b[31m2.3 MB/s\u001b[0m eta \u001b[36m0:00:00\u001b[0m00:01\u001b[0m00:01\u001b[0m\n",
      "\u001b[?25hDownloading contourpy-1.1.1-cp38-cp38-macosx_11_0_arm64.whl (232 kB)\n",
      "\u001b[2K   \u001b[90m━━━━━━━━━━━━━━━━━━━━━━━━━━━━━━━━━━━━━━━━\u001b[0m \u001b[32m232.4/232.4 kB\u001b[0m \u001b[31m2.3 MB/s\u001b[0m eta \u001b[36m0:00:00\u001b[0ma \u001b[36m0:00:01\u001b[0m\n",
      "\u001b[?25hDownloading fonttools-4.44.3-cp38-cp38-macosx_10_9_universal2.whl (2.7 MB)\n",
      "\u001b[2K   \u001b[90m━━━━━━━━━━━━━━━━━━━━━━━━━━━━━━━━━━━━━━━━\u001b[0m \u001b[32m2.7/2.7 MB\u001b[0m \u001b[31m2.1 MB/s\u001b[0m eta \u001b[36m0:00:00\u001b[0ma \u001b[36m0:00:01\u001b[0m\n",
      "\u001b[?25hDownloading importlib_resources-6.1.1-py3-none-any.whl (33 kB)\n",
      "Downloading kiwisolver-1.4.5-cp38-cp38-macosx_11_0_arm64.whl (66 kB)\n",
      "\u001b[2K   \u001b[90m━━━━━━━━━━━━━━━━━━━━━━━━━━━━━━━━━━━━━━━━\u001b[0m \u001b[32m66.0/66.0 kB\u001b[0m \u001b[31m2.3 MB/s\u001b[0m eta \u001b[36m0:00:00\u001b[0m\n",
      "\u001b[?25hDownloading pyparsing-3.1.1-py3-none-any.whl (103 kB)\n",
      "\u001b[2K   \u001b[90m━━━━━━━━━━━━━━━━━━━━━━━━━━━━━━━━━━━━━━━━\u001b[0m \u001b[32m103.1/103.1 kB\u001b[0m \u001b[31m2.6 MB/s\u001b[0m eta \u001b[36m0:00:00\u001b[0m \u001b[36m0:00:01\u001b[0m\n",
      "\u001b[?25hDownloading pytz-2023.3.post1-py2.py3-none-any.whl (502 kB)\n",
      "\u001b[2K   \u001b[90m━━━━━━━━━━━━━━━━━━━━━━━━━━━━━━━━━━━━━━━━\u001b[0m \u001b[32m502.5/502.5 kB\u001b[0m \u001b[31m1.7 MB/s\u001b[0m eta \u001b[36m0:00:00\u001b[0ma \u001b[36m0:00:01\u001b[0m\n",
      "\u001b[?25hDownloading threadpoolctl-3.2.0-py3-none-any.whl (15 kB)\n",
      "Downloading zipp-3.17.0-py3-none-any.whl (7.4 kB)\n",
      "Installing collected packages: pytz, zipp, tzdata, threadpoolctl, scipy, pyparsing, pillow, kiwisolver, joblib, fonttools, cycler, contourpy, scikit-learn, pandas, importlib-resources, imageio, matplotlib, mglearn\n",
      "Successfully installed contourpy-1.1.1 cycler-0.12.1 fonttools-4.44.3 imageio-2.32.0 importlib-resources-6.1.1 joblib-1.3.2 kiwisolver-1.4.5 matplotlib-3.7.4 mglearn-0.2.0 pandas-2.0.3 pillow-10.0.1 pyparsing-3.1.1 pytz-2023.3.post1 scikit-learn-1.3.2 scipy-1.10.1 threadpoolctl-3.2.0 tzdata-2023.3 zipp-3.17.0\n",
      "Collecting gluonnlp\n",
      "  Downloading gluonnlp-0.10.0.tar.gz (344 kB)\n",
      "\u001b[2K     \u001b[90m━━━━━━━━━━━━━━━━━━━━━━━━━━━━━━━━━━━━━━━\u001b[0m \u001b[32m344.5/344.5 kB\u001b[0m \u001b[31m2.7 MB/s\u001b[0m eta \u001b[36m0:00:00\u001b[0m00:01\u001b[0m00:01\u001b[0m\n",
      "\u001b[?25h  Preparing metadata (setup.py) ... \u001b[?25ldone\n",
      "\u001b[?25hRequirement already satisfied: numpy>=1.16.0 in /Users/seokyoung/anaconda3/envs/test/lib/python3.8/site-packages (from gluonnlp) (1.24.4)\n",
      "Collecting cython (from gluonnlp)\n",
      "  Using cached Cython-3.0.5-py2.py3-none-any.whl.metadata (3.2 kB)\n",
      "Requirement already satisfied: packaging in /Users/seokyoung/anaconda3/envs/test/lib/python3.8/site-packages (from gluonnlp) (23.2)\n",
      "Using cached Cython-3.0.5-py2.py3-none-any.whl (1.2 MB)\n",
      "Building wheels for collected packages: gluonnlp\n",
      "  Building wheel for gluonnlp (setup.py) ... \u001b[?25ldone\n",
      "\u001b[?25h  Created wheel for gluonnlp: filename=gluonnlp-0.10.0-cp38-cp38-macosx_11_0_arm64.whl size=461081 sha256=2264374cb2153bc3c54a28170757ce08c755523e3d95e362d30e1346bb15f4e6\n",
      "  Stored in directory: /Users/seokyoung/Library/Caches/pip/wheels/b6/93/9d/2237550c409eb3ed725d6302b7897ddd9a037b40cef66dcd9c\n",
      "Successfully built gluonnlp\n",
      "Installing collected packages: cython, gluonnlp\n",
      "Successfully installed cython-3.0.5 gluonnlp-0.10.0\n",
      "Collecting mxnet\n",
      "  Downloading mxnet-1.6.0-py2.py3-none-any.whl (68.7 MB)\n",
      "\u001b[2K     \u001b[90m━━━━━━━━━━━━━━━━━━━━━━━━━━━━━━━━━━━━━━━━\u001b[0m \u001b[32m68.7/68.7 MB\u001b[0m \u001b[31m3.1 MB/s\u001b[0m eta \u001b[36m0:00:00\u001b[0m00:01\u001b[0m00:01\u001b[0m\n",
      "\u001b[?25hRequirement already satisfied: numpy<2.0.0,>1.16.0 in /Users/seokyoung/anaconda3/envs/test/lib/python3.8/site-packages (from mxnet) (1.24.4)\n",
      "Collecting requests<3,>=2.20.0 (from mxnet)\n",
      "  Downloading requests-2.31.0-py3-none-any.whl.metadata (4.6 kB)\n",
      "Collecting graphviz<0.9.0,>=0.8.1 (from mxnet)\n",
      "  Downloading graphviz-0.8.4-py2.py3-none-any.whl (16 kB)\n",
      "Collecting charset-normalizer<4,>=2 (from requests<3,>=2.20.0->mxnet)\n",
      "  Downloading charset_normalizer-3.3.2-cp38-cp38-macosx_11_0_arm64.whl.metadata (33 kB)\n",
      "Collecting idna<4,>=2.5 (from requests<3,>=2.20.0->mxnet)\n",
      "  Downloading idna-3.4-py3-none-any.whl (61 kB)\n",
      "\u001b[2K     \u001b[90m━━━━━━━━━━━━━━━━━━━━━━━━━━━━━━━━━━━━━━━━\u001b[0m \u001b[32m61.5/61.5 kB\u001b[0m \u001b[31m1.8 MB/s\u001b[0m eta \u001b[36m0:00:00\u001b[0m00:01\u001b[0m\n",
      "\u001b[?25hCollecting urllib3<3,>=1.21.1 (from requests<3,>=2.20.0->mxnet)\n",
      "  Downloading urllib3-2.1.0-py3-none-any.whl.metadata (6.4 kB)\n",
      "Collecting certifi>=2017.4.17 (from requests<3,>=2.20.0->mxnet)\n",
      "  Downloading certifi-2023.11.17-py3-none-any.whl.metadata (2.2 kB)\n",
      "Downloading requests-2.31.0-py3-none-any.whl (62 kB)\n",
      "\u001b[2K   \u001b[90m━━━━━━━━━━━━━━━━━━━━━━━━━━━━━━━━━━━━━━━━\u001b[0m \u001b[32m62.6/62.6 kB\u001b[0m \u001b[31m3.2 MB/s\u001b[0m eta \u001b[36m0:00:00\u001b[0m\n",
      "\u001b[?25hDownloading certifi-2023.11.17-py3-none-any.whl (162 kB)\n",
      "\u001b[2K   \u001b[90m━━━━━━━━━━━━━━━━━━━━━━━━━━━━━━━━━━━━━━━━\u001b[0m \u001b[32m162.5/162.5 kB\u001b[0m \u001b[31m3.6 MB/s\u001b[0m eta \u001b[36m0:00:00\u001b[0ma \u001b[36m0:00:01\u001b[0m\n",
      "\u001b[?25hDownloading charset_normalizer-3.3.2-cp38-cp38-macosx_11_0_arm64.whl (119 kB)\n",
      "\u001b[2K   \u001b[90m━━━━━━━━━━━━━━━━━━━━━━━━━━━━━━━━━━━━━━━━\u001b[0m \u001b[32m119.1/119.1 kB\u001b[0m \u001b[31m3.0 MB/s\u001b[0m eta \u001b[36m0:00:00\u001b[0ma \u001b[36m0:00:01\u001b[0m\n",
      "\u001b[?25hDownloading urllib3-2.1.0-py3-none-any.whl (104 kB)\n",
      "\u001b[2K   \u001b[90m━━━━━━━━━━━━━━━━━━━━━━━━━━━━━━━━━━━━━━━━\u001b[0m \u001b[32m104.6/104.6 kB\u001b[0m \u001b[31m3.3 MB/s\u001b[0m eta \u001b[36m0:00:00\u001b[0m\n",
      "\u001b[?25hInstalling collected packages: urllib3, idna, graphviz, charset-normalizer, certifi, requests, mxnet\n",
      "Successfully installed certifi-2023.11.17 charset-normalizer-3.3.2 graphviz-0.8.4 idna-3.4 mxnet-1.6.0 requests-2.31.0 urllib3-2.1.0\n"
     ]
    }
   ],
   "source": [
    "!pip install konlpy\n",
    "!pip install mglearn\n",
    "!pip install gluonnlp\n",
    "!pip install mxnet"
   ]
  },
  {
   "cell_type": "code",
   "execution_count": 4,
   "id": "6784655c",
   "metadata": {},
   "outputs": [
    {
     "name": "stdout",
     "output_type": "stream",
     "text": [
      "Requirement already satisfied: transformers==2.4.1 in /Users/seokyoung/anaconda3/envs/test/lib/python3.8/site-packages (2.4.1)\n",
      "Requirement already satisfied: numpy in /Users/seokyoung/anaconda3/envs/test/lib/python3.8/site-packages (from transformers==2.4.1) (1.24.4)\n",
      "Requirement already satisfied: tokenizers==0.0.11 in /Users/seokyoung/anaconda3/envs/test/lib/python3.8/site-packages (from transformers==2.4.1) (0.0.11)\n",
      "Requirement already satisfied: boto3 in /Users/seokyoung/anaconda3/envs/test/lib/python3.8/site-packages (from transformers==2.4.1) (1.29.3)\n",
      "Requirement already satisfied: filelock in /Users/seokyoung/anaconda3/envs/test/lib/python3.8/site-packages (from transformers==2.4.1) (3.13.1)\n",
      "Requirement already satisfied: requests in /Users/seokyoung/anaconda3/envs/test/lib/python3.8/site-packages (from transformers==2.4.1) (2.31.0)\n",
      "Requirement already satisfied: tqdm>=4.27 in /Users/seokyoung/anaconda3/envs/test/lib/python3.8/site-packages (from transformers==2.4.1) (4.66.1)\n",
      "Requirement already satisfied: regex!=2019.12.17 in /Users/seokyoung/anaconda3/envs/test/lib/python3.8/site-packages (from transformers==2.4.1) (2023.10.3)\n",
      "Requirement already satisfied: sentencepiece in /Users/seokyoung/anaconda3/envs/test/lib/python3.8/site-packages (from transformers==2.4.1) (0.1.99)\n",
      "Requirement already satisfied: sacremoses in /Users/seokyoung/anaconda3/envs/test/lib/python3.8/site-packages (from transformers==2.4.1) (0.1.1)\n",
      "Requirement already satisfied: botocore<1.33.0,>=1.32.3 in /Users/seokyoung/anaconda3/envs/test/lib/python3.8/site-packages (from boto3->transformers==2.4.1) (1.32.3)\n",
      "Requirement already satisfied: jmespath<2.0.0,>=0.7.1 in /Users/seokyoung/anaconda3/envs/test/lib/python3.8/site-packages (from boto3->transformers==2.4.1) (1.0.1)\n",
      "Requirement already satisfied: s3transfer<0.8.0,>=0.7.0 in /Users/seokyoung/anaconda3/envs/test/lib/python3.8/site-packages (from boto3->transformers==2.4.1) (0.7.0)\n",
      "Requirement already satisfied: charset-normalizer<4,>=2 in /Users/seokyoung/anaconda3/envs/test/lib/python3.8/site-packages (from requests->transformers==2.4.1) (3.3.2)\n",
      "Requirement already satisfied: idna<4,>=2.5 in /Users/seokyoung/anaconda3/envs/test/lib/python3.8/site-packages (from requests->transformers==2.4.1) (3.4)\n",
      "Requirement already satisfied: urllib3<3,>=1.21.1 in /Users/seokyoung/anaconda3/envs/test/lib/python3.8/site-packages (from requests->transformers==2.4.1) (1.26.18)\n",
      "Requirement already satisfied: certifi>=2017.4.17 in /Users/seokyoung/anaconda3/envs/test/lib/python3.8/site-packages (from requests->transformers==2.4.1) (2023.11.17)\n",
      "Requirement already satisfied: click in /Users/seokyoung/anaconda3/envs/test/lib/python3.8/site-packages (from sacremoses->transformers==2.4.1) (8.1.7)\n",
      "Requirement already satisfied: joblib in /Users/seokyoung/anaconda3/envs/test/lib/python3.8/site-packages (from sacremoses->transformers==2.4.1) (1.3.2)\n",
      "Requirement already satisfied: python-dateutil<3.0.0,>=2.1 in /Users/seokyoung/anaconda3/envs/test/lib/python3.8/site-packages (from botocore<1.33.0,>=1.32.3->boto3->transformers==2.4.1) (2.8.2)\n",
      "Requirement already satisfied: six>=1.5 in /Users/seokyoung/anaconda3/envs/test/lib/python3.8/site-packages (from python-dateutil<3.0.0,>=2.1->botocore<1.33.0,>=1.32.3->boto3->transformers==2.4.1) (1.16.0)\n"
     ]
    }
   ],
   "source": [
    "!pip install transformers==2.4.1"
   ]
  },
  {
   "cell_type": "code",
   "execution_count": 7,
   "id": "689ed544",
   "metadata": {},
   "outputs": [],
   "source": [
    "import pandas as pd\n",
    "import urllib.request\n",
    "import matplotlib.pyplot as plt\n",
    "import re\n",
    "from konlpy.tag import Okt\n",
    "from tensorflow.keras.preprocessing.text import Tokenizer\n",
    "import numpy as np\n",
    "from tensorflow.keras.preprocessing.sequence import pad_sequences\n",
    "from sklearn.cluster import KMeans\n",
    "from gensim.models.doc2vec import Doc2Vec, TaggedDocument\n",
    "import mglearn\n",
    "from sklearn.cluster import AgglomerativeClustering\n",
    "import sys\n",
    "from scipy.cluster.hierarchy import dendrogram, linkage\n",
    "from matplotlib import pyplot as plt\n",
    "import random"
   ]
  },
  {
   "cell_type": "code",
   "execution_count": 9,
   "id": "a8783d1e",
   "metadata": {},
   "outputs": [
    {
     "name": "stdout",
     "output_type": "stream",
     "text": [
      "/Users/seokyoung/anaconda3/envs/test/lib/python3.8/site-packages/gdown/cli.py:126: FutureWarning: Option `--id` was deprecated in version 4.3.1 and will be removed in 5.0. You don't need to pass it anymore to use a file ID.\n",
      "  warnings.warn(\n",
      "Downloading...\n",
      "From: https://drive.google.com/uc?id=1CKmd6EheRX_o1_wHm32GoHMQlUkxTD3E\n",
      "To: /Users/seokyoung/Desktop/PY202309-P/Sources/JAM.csv\n",
      "100%|██████████████████████████████████████| 8.12M/8.12M [00:03<00:00, 2.41MB/s]\n"
     ]
    }
   ],
   "source": [
    "!gdown --id 1CKmd6EheRX_o1_wHm32GoHMQlUkxTD3E"
   ]
  },
  {
   "cell_type": "code",
   "execution_count": 10,
   "id": "2a40e8dc",
   "metadata": {},
   "outputs": [],
   "source": [
    "data = pd.read_csv(\"JAM.csv\", engine='python',encoding='CP949')"
   ]
  },
  {
   "cell_type": "markdown",
   "metadata": {},
   "source": [
    "## 데이터 분석"
   ]
  },
  {
   "cell_type": "code",
   "execution_count": 11,
   "id": "0f6eff70",
   "metadata": {},
   "outputs": [],
   "source": [
    "train_data = pd.DataFrame(data)"
   ]
  },
  {
   "cell_type": "code",
   "execution_count": 12,
   "id": "d2548586",
   "metadata": {},
   "outputs": [
    {
     "data": {
      "text/html": [
       "<div>\n",
       "<style scoped>\n",
       "    .dataframe tbody tr th:only-of-type {\n",
       "        vertical-align: middle;\n",
       "    }\n",
       "\n",
       "    .dataframe tbody tr th {\n",
       "        vertical-align: top;\n",
       "    }\n",
       "\n",
       "    .dataframe thead th {\n",
       "        text-align: right;\n",
       "    }\n",
       "</style>\n",
       "<table border=\"1\" class=\"dataframe\">\n",
       "  <thead>\n",
       "    <tr style=\"text-align: right;\">\n",
       "      <th></th>\n",
       "      <th>년도</th>\n",
       "      <th>가수</th>\n",
       "      <th>제목</th>\n",
       "      <th>성별</th>\n",
       "      <th>장르</th>\n",
       "      <th>최고순위</th>\n",
       "      <th>작사</th>\n",
       "      <th>작곡</th>\n",
       "      <th>소속사</th>\n",
       "      <th>가사</th>\n",
       "    </tr>\n",
       "  </thead>\n",
       "  <tbody>\n",
       "    <tr>\n",
       "      <th>0</th>\n",
       "      <td>19920000</td>\n",
       "      <td>잼</td>\n",
       "      <td>난 멈추지 않는다</td>\n",
       "      <td>mixed</td>\n",
       "      <td>댄스</td>\n",
       "      <td>1</td>\n",
       "      <td>조진호</td>\n",
       "      <td>조진호</td>\n",
       "      <td>DSP 미디어</td>\n",
       "      <td>이제 모든걸 다시 시작해 내겐 아직도 시간이 있어 때론 상처가 좌절로 남아 돌이킬수...</td>\n",
       "    </tr>\n",
       "    <tr>\n",
       "      <th>1</th>\n",
       "      <td>19920000</td>\n",
       "      <td>잼</td>\n",
       "      <td>우리 모두 사랑하자</td>\n",
       "      <td>mixed</td>\n",
       "      <td>댄스</td>\n",
       "      <td>7</td>\n",
       "      <td>조진수</td>\n",
       "      <td>조진수</td>\n",
       "      <td>DSP 미디어</td>\n",
       "      <td>워 우리 모두 사랑하자 우리의 젊은날을 위하여 우리 모두 춤을 추자 가벼운 인스텝 ...</td>\n",
       "    </tr>\n",
       "    <tr>\n",
       "      <th>2</th>\n",
       "      <td>19920000</td>\n",
       "      <td>잼</td>\n",
       "      <td>이유</td>\n",
       "      <td>mixed</td>\n",
       "      <td>발라드</td>\n",
       "      <td>0</td>\n",
       "      <td>조진호</td>\n",
       "      <td>조진호</td>\n",
       "      <td>DSP 미디어</td>\n",
       "      <td>어둠은 드리워지고 이제는 우리들만의 시간이 지친듯이 내 가슴속에 밀려와 나를 재우고...</td>\n",
       "    </tr>\n",
       "  </tbody>\n",
       "</table>\n",
       "</div>"
      ],
      "text/plain": [
       "         년도 가수          제목     성별   장르 최고순위   작사   작곡      소속사  \\\n",
       "0  19920000  잼   난 멈추지 않는다  mixed   댄스    1  조진호  조진호  DSP 미디어   \n",
       "1  19920000  잼  우리 모두 사랑하자  mixed   댄스    7  조진수  조진수  DSP 미디어   \n",
       "2  19920000  잼          이유  mixed  발라드    0  조진호  조진호  DSP 미디어   \n",
       "\n",
       "                                                  가사  \n",
       "0  이제 모든걸 다시 시작해 내겐 아직도 시간이 있어 때론 상처가 좌절로 남아 돌이킬수...  \n",
       "1  워 우리 모두 사랑하자 우리의 젊은날을 위하여 우리 모두 춤을 추자 가벼운 인스텝 ...  \n",
       "2  어둠은 드리워지고 이제는 우리들만의 시간이 지친듯이 내 가슴속에 밀려와 나를 재우고...  "
      ]
     },
     "execution_count": 12,
     "metadata": {},
     "output_type": "execute_result"
    }
   ],
   "source": [
    "train_data.head(3) # 데이터 구성요소"
   ]
  },
  {
   "cell_type": "code",
   "execution_count": 13,
   "id": "9db1cd04",
   "metadata": {},
   "outputs": [
    {
     "data": {
      "text/plain": [
       "5619"
      ]
     },
     "execution_count": 13,
     "metadata": {},
     "output_type": "execute_result"
    }
   ],
   "source": [
    "train_data.shape[0] # 곡 수"
   ]
  },
  {
   "cell_type": "code",
   "execution_count": 14,
   "id": "fb5510a6",
   "metadata": {},
   "outputs": [
    {
     "data": {
      "text/plain": [
       "454"
      ]
     },
     "execution_count": 14,
     "metadata": {},
     "output_type": "execute_result"
    }
   ],
   "source": [
    "len(train_data['가수'].unique()) # 유니크한 가수의 수"
   ]
  },
  {
   "cell_type": "code",
   "execution_count": 15,
   "id": "99965134",
   "metadata": {},
   "outputs": [
    {
     "data": {
      "text/plain": [
       "Index(['년도', '가수', '제목', '성별', '장르', '최고순위', '작사', '작곡', '소속사', '가사'], dtype='object')"
      ]
     },
     "execution_count": 15,
     "metadata": {},
     "output_type": "execute_result"
    }
   ],
   "source": [
    "train_data.columns # 특성 목록"
   ]
  },
  {
   "cell_type": "code",
   "execution_count": 16,
   "id": "9172dd62",
   "metadata": {},
   "outputs": [
    {
     "name": "stdout",
     "output_type": "stream",
     "text": [
      "0\n",
      "0\n",
      "0\n",
      "0\n",
      "0\n",
      "0\n",
      "41\n",
      "52\n",
      "99\n",
      "1\n"
     ]
    }
   ],
   "source": [
    "# 각 attribute에 따른 N/A값의 수\n",
    "for attribute in train_data.columns:\n",
    "    print(train_data[attribute].isnull().sum()) \n",
    "    \n",
    "# 아래 결과에서 소속사가 없는 가수에 대한 정보가 다수 포함되어 있음을 알 수 있음.\n",
    "# 클러스터링 단계에서는 가사만 사용되므로, 가사가 N/A값인 데이터만 삭제."
   ]
  },
  {
   "cell_type": "code",
   "execution_count": 17,
   "id": "dda798a5",
   "metadata": {},
   "outputs": [],
   "source": [
    "train_data = train_data[train_data['가사'].notnull()]"
   ]
  },
  {
   "cell_type": "code",
   "execution_count": 18,
   "id": "24341c7b",
   "metadata": {},
   "outputs": [
    {
     "data": {
      "text/html": [
       "<div>\n",
       "<style scoped>\n",
       "    .dataframe tbody tr th:only-of-type {\n",
       "        vertical-align: middle;\n",
       "    }\n",
       "\n",
       "    .dataframe tbody tr th {\n",
       "        vertical-align: top;\n",
       "    }\n",
       "\n",
       "    .dataframe thead th {\n",
       "        text-align: right;\n",
       "    }\n",
       "</style>\n",
       "<table border=\"1\" class=\"dataframe\">\n",
       "  <thead>\n",
       "    <tr style=\"text-align: right;\">\n",
       "      <th></th>\n",
       "      <th>년도</th>\n",
       "      <th>가수</th>\n",
       "      <th>제목</th>\n",
       "      <th>성별</th>\n",
       "      <th>장르</th>\n",
       "      <th>최고순위</th>\n",
       "      <th>작사</th>\n",
       "      <th>작곡</th>\n",
       "      <th>소속사</th>\n",
       "      <th>가사</th>\n",
       "    </tr>\n",
       "  </thead>\n",
       "  <tbody>\n",
       "    <tr>\n",
       "      <th>0</th>\n",
       "      <td>19920000</td>\n",
       "      <td>잼</td>\n",
       "      <td>난 멈추지 않는다</td>\n",
       "      <td>mixed</td>\n",
       "      <td>댄스</td>\n",
       "      <td>1</td>\n",
       "      <td>조진호</td>\n",
       "      <td>조진호</td>\n",
       "      <td>DSP 미디어</td>\n",
       "      <td>이제 모든걸 다시 시작해 내겐 아직도 시간이 있어 때론 상처가 좌절로 남아 돌이킬수...</td>\n",
       "    </tr>\n",
       "    <tr>\n",
       "      <th>1</th>\n",
       "      <td>19920000</td>\n",
       "      <td>잼</td>\n",
       "      <td>우리 모두 사랑하자</td>\n",
       "      <td>mixed</td>\n",
       "      <td>댄스</td>\n",
       "      <td>7</td>\n",
       "      <td>조진수</td>\n",
       "      <td>조진수</td>\n",
       "      <td>DSP 미디어</td>\n",
       "      <td>워 우리 모두 사랑하자 우리의 젊은날을 위하여 우리 모두 춤을 추자 가벼운 인스텝 ...</td>\n",
       "    </tr>\n",
       "    <tr>\n",
       "      <th>2</th>\n",
       "      <td>19920000</td>\n",
       "      <td>잼</td>\n",
       "      <td>이유</td>\n",
       "      <td>mixed</td>\n",
       "      <td>발라드</td>\n",
       "      <td>0</td>\n",
       "      <td>조진호</td>\n",
       "      <td>조진호</td>\n",
       "      <td>DSP 미디어</td>\n",
       "      <td>어둠은 드리워지고 이제는 우리들만의 시간이 지친듯이 내 가슴속에 밀려와 나를 재우고...</td>\n",
       "    </tr>\n",
       "  </tbody>\n",
       "</table>\n",
       "</div>"
      ],
      "text/plain": [
       "         년도 가수          제목     성별   장르 최고순위   작사   작곡      소속사  \\\n",
       "0  19920000  잼   난 멈추지 않는다  mixed   댄스    1  조진호  조진호  DSP 미디어   \n",
       "1  19920000  잼  우리 모두 사랑하자  mixed   댄스    7  조진수  조진수  DSP 미디어   \n",
       "2  19920000  잼          이유  mixed  발라드    0  조진호  조진호  DSP 미디어   \n",
       "\n",
       "                                                  가사  \n",
       "0  이제 모든걸 다시 시작해 내겐 아직도 시간이 있어 때론 상처가 좌절로 남아 돌이킬수...  \n",
       "1  워 우리 모두 사랑하자 우리의 젊은날을 위하여 우리 모두 춤을 추자 가벼운 인스텝 ...  \n",
       "2  어둠은 드리워지고 이제는 우리들만의 시간이 지친듯이 내 가슴속에 밀려와 나를 재우고...  "
      ]
     },
     "execution_count": 18,
     "metadata": {},
     "output_type": "execute_result"
    }
   ],
   "source": [
    "train_data.head(3)"
   ]
  },
  {
   "cell_type": "code",
   "execution_count": 19,
   "id": "9cda737f",
   "metadata": {},
   "outputs": [
    {
     "name": "stdout",
     "output_type": "stream",
     "text": [
      "0\n"
     ]
    }
   ],
   "source": [
    "print(train_data['가사'].isnull().sum())"
   ]
  },
  {
   "cell_type": "markdown",
   "metadata": {},
   "source": [
    "## 데이터 정제"
   ]
  },
  {
   "cell_type": "code",
   "execution_count": 23,
   "id": "8aaca6a2",
   "metadata": {},
   "outputs": [],
   "source": [
    "# 중복된 가사 제거\n",
    "train_data.shape[0] - train_data['가사'].nunique()\n",
    "train_data.drop_duplicates(subset=['가사'], inplace=True)"
   ]
  },
  {
   "cell_type": "code",
   "execution_count": 24,
   "id": "afb56e1d",
   "metadata": {},
   "outputs": [
    {
     "data": {
      "text/plain": [
       "0"
      ]
     },
     "execution_count": 24,
     "metadata": {},
     "output_type": "execute_result"
    }
   ],
   "source": [
    "len(train_data) - train_data['가사'].nunique()"
   ]
  },
  {
   "cell_type": "code",
   "execution_count": 25,
   "id": "b948bb2f",
   "metadata": {},
   "outputs": [
    {
     "name": "stdout",
     "output_type": "stream",
     "text": [
      "총 샘플의 수 : 5618\n"
     ]
    }
   ],
   "source": [
    "print('총 샘플의 수 :',len(train_data))"
   ]
  },
  {
   "cell_type": "code",
   "execution_count": 26,
   "id": "c9242bc3",
   "metadata": {},
   "outputs": [],
   "source": [
    "'년도', '가수', '제목', '성별', '장르', '최고순위', '작사', '작곡', '소속사', '가사'\n",
    "titles = train_data['제목'].reset_index()\n",
    "groups = train_data['가수'].reset_index()\n",
    "\n",
    "titles_groups = pd.concat([titles, groups],axis=1)\n",
    "\n",
    "# 각 데이터를 따로 구하고 싶으면 다음 주석을 해제하여 사용\n",
    "'''\n",
    "groups = train_data['년도'].reset_index()\n",
    "groups = train_data['장르'].reset_index()\n",
    "groups = train_data['성별'].reset_index()\n",
    "groups = train_data['최고순위'].reset_index()\n",
    "groups = train_data['작사'].reset_index()\n",
    "groups = train_data['작곡'].reset_index()\n",
    "groups = train_data['소속사'].reset_index()\n",
    "'''\n",
    "\n",
    "# 전처리가 끝난 전체 dataframe을 사용하고 싶을 때\n",
    "train_data_all = train_data\n",
    "\n",
    "train_data = train_data['가사'].reset_index()"
   ]
  },
  {
   "cell_type": "markdown",
   "metadata": {},
   "source": [
    "## 데이터 전처리"
   ]
  },
  {
   "cell_type": "code",
   "execution_count": 27,
   "id": "e8eff219",
   "metadata": {},
   "outputs": [
    {
     "data": {
      "text/html": [
       "<div>\n",
       "<style scoped>\n",
       "    .dataframe tbody tr th:only-of-type {\n",
       "        vertical-align: middle;\n",
       "    }\n",
       "\n",
       "    .dataframe tbody tr th {\n",
       "        vertical-align: top;\n",
       "    }\n",
       "\n",
       "    .dataframe thead th {\n",
       "        text-align: right;\n",
       "    }\n",
       "</style>\n",
       "<table border=\"1\" class=\"dataframe\">\n",
       "  <thead>\n",
       "    <tr style=\"text-align: right;\">\n",
       "      <th></th>\n",
       "      <th>index</th>\n",
       "      <th>가사</th>\n",
       "    </tr>\n",
       "  </thead>\n",
       "  <tbody>\n",
       "    <tr>\n",
       "      <th>0</th>\n",
       "      <td>0</td>\n",
       "      <td>이제 모든걸 다시 시작해 내겐 아직도 시간이 있어 때론 상처가 좌절로 남아 돌이킬수...</td>\n",
       "    </tr>\n",
       "    <tr>\n",
       "      <th>1</th>\n",
       "      <td>1</td>\n",
       "      <td>워 우리 모두 사랑하자 우리의 젊은날을 위하여 우리 모두 춤을 추자 가벼운 인스텝 ...</td>\n",
       "    </tr>\n",
       "    <tr>\n",
       "      <th>2</th>\n",
       "      <td>2</td>\n",
       "      <td>어둠은 드리워지고 이제는 우리들만의 시간이 지친듯이 내 가슴속에 밀려와 나를 재우고...</td>\n",
       "    </tr>\n",
       "    <tr>\n",
       "      <th>3</th>\n",
       "      <td>3</td>\n",
       "      <td>끝없는 어둠 속을 천천히 걷고 있어 어디서 본 듯한 야릇한 느낌이야 거리는 비에 젖...</td>\n",
       "    </tr>\n",
       "    <tr>\n",
       "      <th>4</th>\n",
       "      <td>4</td>\n",
       "      <td>요즘 친구들은 흥 정말 진정한 친구가 뭔지 잘 몰라 말로만 떠들고 자기들이 다만 그...</td>\n",
       "    </tr>\n",
       "  </tbody>\n",
       "</table>\n",
       "</div>"
      ],
      "text/plain": [
       "   index                                                 가사\n",
       "0      0  이제 모든걸 다시 시작해 내겐 아직도 시간이 있어 때론 상처가 좌절로 남아 돌이킬수...\n",
       "1      1  워 우리 모두 사랑하자 우리의 젊은날을 위하여 우리 모두 춤을 추자 가벼운 인스텝 ...\n",
       "2      2  어둠은 드리워지고 이제는 우리들만의 시간이 지친듯이 내 가슴속에 밀려와 나를 재우고...\n",
       "3      3  끝없는 어둠 속을 천천히 걷고 있어 어디서 본 듯한 야릇한 느낌이야 거리는 비에 젖...\n",
       "4      4  요즘 친구들은 흥 정말 진정한 친구가 뭔지 잘 몰라 말로만 떠들고 자기들이 다만 그..."
      ]
     },
     "execution_count": 27,
     "metadata": {},
     "output_type": "execute_result"
    }
   ],
   "source": [
    "# 이모티콘을 포함한 특수문자 모두 제거\n",
    "\n",
    "train_data['가사'] = train_data['가사'].str.replace(\"[^ㄱ-ㅎㅏ-ㅣ가-힣a-zA-Z ]\",\"\")\n",
    "train_data[:5]"
   ]
  },
  {
   "cell_type": "code",
   "execution_count": 28,
   "id": "2070a682",
   "metadata": {},
   "outputs": [
    {
     "name": "stdout",
     "output_type": "stream",
     "text": [
      "index    0\n",
      "가사       0\n",
      "dtype: int64\n"
     ]
    }
   ],
   "source": [
    "# 아무 것도 남지 않은 데이터 N/A로 변경\n",
    "train_data['가사'].replace('', np.nan, inplace=True)\n",
    "print(train_data.isnull().sum())"
   ]
  },
  {
   "cell_type": "code",
   "execution_count": 29,
   "id": "55c84412",
   "metadata": {},
   "outputs": [],
   "source": [
    "# 문장부호들을 제거하는 것으로 생긴 N/A값들 모두 제거\n",
    "train_data = train_data.dropna(how = 'any')"
   ]
  },
  {
   "cell_type": "code",
   "execution_count": 30,
   "id": "63f28cc7",
   "metadata": {},
   "outputs": [
    {
     "data": {
      "text/html": [
       "<div>\n",
       "<style scoped>\n",
       "    .dataframe tbody tr th:only-of-type {\n",
       "        vertical-align: middle;\n",
       "    }\n",
       "\n",
       "    .dataframe tbody tr th {\n",
       "        vertical-align: top;\n",
       "    }\n",
       "\n",
       "    .dataframe thead th {\n",
       "        text-align: right;\n",
       "    }\n",
       "</style>\n",
       "<table border=\"1\" class=\"dataframe\">\n",
       "  <thead>\n",
       "    <tr style=\"text-align: right;\">\n",
       "      <th></th>\n",
       "      <th>년도</th>\n",
       "      <th>가수</th>\n",
       "      <th>제목</th>\n",
       "      <th>성별</th>\n",
       "      <th>장르</th>\n",
       "      <th>최고순위</th>\n",
       "      <th>작사</th>\n",
       "      <th>작곡</th>\n",
       "      <th>소속사</th>\n",
       "      <th>가사</th>\n",
       "    </tr>\n",
       "  </thead>\n",
       "  <tbody>\n",
       "    <tr>\n",
       "      <th>0</th>\n",
       "      <td>19920000</td>\n",
       "      <td>잼</td>\n",
       "      <td>난 멈추지 않는다</td>\n",
       "      <td>mixed</td>\n",
       "      <td>댄스</td>\n",
       "      <td>1</td>\n",
       "      <td>조진호</td>\n",
       "      <td>조진호</td>\n",
       "      <td>DSP 미디어</td>\n",
       "      <td>이제 모든걸 다시 시작해 내겐 아직도 시간이 있어 때론 상처가 좌절로 남아 돌이킬수...</td>\n",
       "    </tr>\n",
       "    <tr>\n",
       "      <th>1</th>\n",
       "      <td>19920000</td>\n",
       "      <td>잼</td>\n",
       "      <td>우리 모두 사랑하자</td>\n",
       "      <td>mixed</td>\n",
       "      <td>댄스</td>\n",
       "      <td>7</td>\n",
       "      <td>조진수</td>\n",
       "      <td>조진수</td>\n",
       "      <td>DSP 미디어</td>\n",
       "      <td>워 우리 모두 사랑하자 우리의 젊은날을 위하여 우리 모두 춤을 추자 가벼운 인스텝 ...</td>\n",
       "    </tr>\n",
       "    <tr>\n",
       "      <th>2</th>\n",
       "      <td>19920000</td>\n",
       "      <td>잼</td>\n",
       "      <td>이유</td>\n",
       "      <td>mixed</td>\n",
       "      <td>발라드</td>\n",
       "      <td>0</td>\n",
       "      <td>조진호</td>\n",
       "      <td>조진호</td>\n",
       "      <td>DSP 미디어</td>\n",
       "      <td>어둠은 드리워지고 이제는 우리들만의 시간이 지친듯이 내 가슴속에 밀려와 나를 재우고...</td>\n",
       "    </tr>\n",
       "    <tr>\n",
       "      <th>3</th>\n",
       "      <td>19920000</td>\n",
       "      <td>잼</td>\n",
       "      <td>18번가의 비밀</td>\n",
       "      <td>mixed</td>\n",
       "      <td>댄스</td>\n",
       "      <td>0</td>\n",
       "      <td>조진호</td>\n",
       "      <td>조진호</td>\n",
       "      <td>DSP 미디어</td>\n",
       "      <td>끝없는 어둠 속을 천천히 걷고 있어 어디서 본 듯한 야릇한 느낌이야 거리는 비에 젖...</td>\n",
       "    </tr>\n",
       "  </tbody>\n",
       "</table>\n",
       "</div>"
      ],
      "text/plain": [
       "         년도 가수          제목     성별   장르 최고순위   작사   작곡      소속사  \\\n",
       "0  19920000  잼   난 멈추지 않는다  mixed   댄스    1  조진호  조진호  DSP 미디어   \n",
       "1  19920000  잼  우리 모두 사랑하자  mixed   댄스    7  조진수  조진수  DSP 미디어   \n",
       "2  19920000  잼          이유  mixed  발라드    0  조진호  조진호  DSP 미디어   \n",
       "3  19920000  잼    18번가의 비밀  mixed   댄스    0  조진호  조진호  DSP 미디어   \n",
       "\n",
       "                                                  가사  \n",
       "0  이제 모든걸 다시 시작해 내겐 아직도 시간이 있어 때론 상처가 좌절로 남아 돌이킬수...  \n",
       "1  워 우리 모두 사랑하자 우리의 젊은날을 위하여 우리 모두 춤을 추자 가벼운 인스텝 ...  \n",
       "2  어둠은 드리워지고 이제는 우리들만의 시간이 지친듯이 내 가슴속에 밀려와 나를 재우고...  \n",
       "3  끝없는 어둠 속을 천천히 걷고 있어 어디서 본 듯한 야릇한 느낌이야 거리는 비에 젖...  "
      ]
     },
     "execution_count": 30,
     "metadata": {},
     "output_type": "execute_result"
    }
   ],
   "source": [
    "train_data_all[:4]"
   ]
  },
  {
   "cell_type": "markdown",
   "metadata": {},
   "source": [
    "## 토크나이징"
   ]
  },
  {
   "cell_type": "code",
   "execution_count": 31,
   "id": "bc6ef4a5",
   "metadata": {},
   "outputs": [],
   "source": [
    "# 불용어 지정\n",
    "stopwords = ['의','가','이','은','들','는','좀','잘','걍','과','도','를','으로','자','에','와','한','하다']"
   ]
  },
  {
   "cell_type": "code",
   "execution_count": 32,
   "id": "9ffc12d0",
   "metadata": {},
   "outputs": [],
   "source": [
    "okt = Okt()"
   ]
  },
  {
   "cell_type": "code",
   "execution_count": 33,
   "id": "04ac2fa7",
   "metadata": {},
   "outputs": [
    {
     "data": {
      "text/plain": [
       "'이제 모든걸 다시 시작해 내겐 아직도 시간이 있어 때론 상처가 좌절로 남아 돌이킬수 없는 후회도 하고  그러나 우리 잊어선 안돼 지금의 나는 내가 아닌걸 신문에 실려온 얘기들 헝클어진 우리들을 탓할순 없어  이제 모든걸 다시 시작해 이렇게 여기서 끝낼순 없어 내겐 아직도 시간이 있어 지금 이렇게 지금 멈출수는 없어  신문에 실려온 얘기들 헝클어진 우리들을 탓할순 없어  이제 모든걸 다시 시작해 이렇게 여기서 끝낼순 없어 내겐 아직도 시간이 있어 지금 이렇게 지금  나는 여기서 멈출순 없어 이제 모든걸 다시 시작해 나는 여기서 멈출순 없어 이제 모든걸 다시 시작해'"
      ]
     },
     "execution_count": 33,
     "metadata": {},
     "output_type": "execute_result"
    }
   ],
   "source": [
    "train_data['가사'][0]"
   ]
  },
  {
   "cell_type": "code",
   "execution_count": 34,
   "id": "962f70e7",
   "metadata": {},
   "outputs": [],
   "source": [
    "# Okt를 사용, 형태소 단위로 단어 분류, 일정 수준의 정규화 실행\n",
    "X_train = []\n",
    "for sentence in train_data['가사']:\n",
    "    temp_X = []\n",
    "    temp_X = okt.morphs(sentence, stem=True) # 토큰화\n",
    "    temp_X = [word for word in temp_X if not word in stopwords] # 불용어 제거\n",
    "    X_train.append(temp_X)\n"
   ]
  },
  {
   "cell_type": "code",
   "execution_count": 35,
   "id": "601ec145",
   "metadata": {},
   "outputs": [],
   "source": [
    "# 토큰화한 X_test를 저장\n",
    "\n",
    "X_train_nparray = np.array(X_train, dtype='object')\n",
    "np.save('./X_train',X_train_nparray)"
   ]
  },
  {
   "cell_type": "code",
   "execution_count": 36,
   "id": "3eede669",
   "metadata": {},
   "outputs": [
    {
     "name": "stdout",
     "output_type": "stream",
     "text": [
      "/Users/seokyoung/anaconda3/envs/test/lib/python3.8/site-packages/gdown/cli.py:126: FutureWarning: Option `--id` was deprecated in version 4.3.1 and will be removed in 5.0. You don't need to pass it anymore to use a file ID.\n",
      "  warnings.warn(\n",
      "Downloading...\n",
      "From: https://drive.google.com/uc?id=1VX-lIGMWgD4K9Mz-0SUJA-JZAtBodZld\n",
      "To: /Users/seokyoung/Desktop/PY202309-P/Sources/X_train.npy\n",
      "100%|██████████████████████████████████████| 22.3M/22.3M [00:04<00:00, 4.84MB/s]\n"
     ]
    }
   ],
   "source": [
    "# X_train을 불러오기\n",
    "!gdown --id 1VX-lIGMWgD4K9Mz-0SUJA-JZAtBodZld"
   ]
  },
  {
   "cell_type": "code",
   "execution_count": 37,
   "id": "cff0ebd0",
   "metadata": {},
   "outputs": [],
   "source": [
    "X_train = np.load('./X_train.npy',allow_pickle=True).tolist()"
   ]
  },
  {
   "cell_type": "code",
   "execution_count": 38,
   "id": "c24bfe27",
   "metadata": {},
   "outputs": [
    {
     "data": {
      "text/plain": [
       "['이제',\n",
       " '모든',\n",
       " '걸',\n",
       " '다시',\n",
       " '시작',\n",
       " '내겐',\n",
       " '아직도',\n",
       " '시간',\n",
       " '있다',\n",
       " '때론',\n",
       " '상처',\n",
       " '좌절',\n",
       " '로',\n",
       " '남아',\n",
       " '돌이키다',\n",
       " '없다',\n",
       " '후회',\n",
       " '그러나',\n",
       " '우리',\n",
       " '잊다',\n",
       " '안',\n",
       " '돼다',\n",
       " '지금',\n",
       " '나',\n",
       " '내',\n",
       " '아니다',\n",
       " '걸',\n",
       " '신문',\n",
       " '실리다',\n",
       " '온',\n",
       " '얘기',\n",
       " '헝클어지다',\n",
       " '우리',\n",
       " '을',\n",
       " '탓',\n",
       " '순',\n",
       " '없다',\n",
       " '이제',\n",
       " '모든',\n",
       " '걸',\n",
       " '다시',\n",
       " '시작',\n",
       " '이렇게',\n",
       " '여기',\n",
       " '서',\n",
       " '끝내다',\n",
       " '순',\n",
       " '없다',\n",
       " '내겐',\n",
       " '아직도',\n",
       " '시간',\n",
       " '있다',\n",
       " '지금',\n",
       " '이렇게',\n",
       " '지금',\n",
       " '멈추다',\n",
       " '없다',\n",
       " '신문',\n",
       " '실리다',\n",
       " '온',\n",
       " '얘기',\n",
       " '헝클어지다',\n",
       " '우리',\n",
       " '을',\n",
       " '탓',\n",
       " '순',\n",
       " '없다',\n",
       " '이제',\n",
       " '모든',\n",
       " '걸',\n",
       " '다시',\n",
       " '시작',\n",
       " '이렇게',\n",
       " '여기',\n",
       " '서',\n",
       " '끝내다',\n",
       " '순',\n",
       " '없다',\n",
       " '내겐',\n",
       " '아직도',\n",
       " '시간',\n",
       " '있다',\n",
       " '지금',\n",
       " '이렇게',\n",
       " '지금',\n",
       " '나',\n",
       " '여기',\n",
       " '서',\n",
       " '멈추다',\n",
       " '순',\n",
       " '없다',\n",
       " '이제',\n",
       " '모든',\n",
       " '걸',\n",
       " '다시',\n",
       " '시작',\n",
       " '나',\n",
       " '여기',\n",
       " '서',\n",
       " '멈추다',\n",
       " '순',\n",
       " '없다',\n",
       " '이제',\n",
       " '모든',\n",
       " '걸',\n",
       " '다시',\n",
       " '시작']"
      ]
     },
     "execution_count": 38,
     "metadata": {},
     "output_type": "execute_result"
    }
   ],
   "source": [
    "X_train[0]"
   ]
  },
  {
   "cell_type": "code",
   "execution_count": null,
   "id": "1413fc30",
   "metadata": {},
   "outputs": [],
   "source": []
  }
 ],
 "metadata": {
  "kernelspec": {
   "display_name": "Python 3 (ipykernel)",
   "language": "python",
   "name": "python3"
  },
  "language_info": {
   "codemirror_mode": {
    "name": "ipython",
    "version": 3
   },
   "file_extension": ".py",
   "mimetype": "text/x-python",
   "name": "python",
   "nbconvert_exporter": "python",
   "pygments_lexer": "ipython3",
   "version": "3.8.18"
  }
 },
 "nbformat": 4,
 "nbformat_minor": 5
}
