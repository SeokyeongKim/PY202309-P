{
 "cells": [
  {
   "cell_type": "code",
   "execution_count": 2,
   "id": "18b5f066",
   "metadata": {},
   "outputs": [],
   "source": [
    "import pandas as pd\n",
    "import numpy as np\n",
    "import matplotlib.pyplot as plt\n",
    "import matplotlib.font_manager as fm\n",
    "import seaborn as sns\n",
    "\n",
    "from konlpy.tag import Okt\n",
    "from collections import Counter\n",
    "from wordcloud import WordCloud"
   ]
  },
  {
   "cell_type": "code",
   "execution_count": 4,
   "id": "41fd8ff2",
   "metadata": {},
   "outputs": [
    {
     "name": "stdout",
     "output_type": "stream",
     "text": [
      "/Users/seokyoung/anaconda3/lib/python3.11/site-packages/gdown/cli.py:126: FutureWarning: Option `--id` was deprecated in version 4.3.1 and will be removed in 5.0. You don't need to pass it anymore to use a file ID.\n",
      "  warnings.warn(\n",
      "Downloading...\n",
      "From: https://drive.google.com/uc?id=1FGRnIop46rdBGof9w8X8snHuKC9gnBuo\n",
      "To: /Users/seokyoung/Desktop/PY202309-P/Sources/1992_2020_kpop.csv\n",
      "100%|██████████████████████████████████████| 9.76M/9.76M [00:03<00:00, 3.16MB/s]\n"
     ]
    }
   ],
   "source": [
    "!gdown --id 1FGRnIop46rdBGof9w8X8snHuKC9gnBuo"
   ]
  },
  {
   "cell_type": "code",
   "execution_count": 7,
   "id": "37a0d3d9",
   "metadata": {},
   "outputs": [],
   "source": [
    "data = pd.read_csv(\"1992_2020_kpop.csv\", engine='python',encoding='CP949')\n",
    "\n",
    "train_data = pd.DataFrame(data)"
   ]
  },
  {
   "cell_type": "code",
   "execution_count": 8,
   "id": "7ef4a715",
   "metadata": {},
   "outputs": [
    {
     "data": {
      "text/html": [
       "<div>\n",
       "<style scoped>\n",
       "    .dataframe tbody tr th:only-of-type {\n",
       "        vertical-align: middle;\n",
       "    }\n",
       "\n",
       "    .dataframe tbody tr th {\n",
       "        vertical-align: top;\n",
       "    }\n",
       "\n",
       "    .dataframe thead th {\n",
       "        text-align: right;\n",
       "    }\n",
       "</style>\n",
       "<table border=\"1\" class=\"dataframe\">\n",
       "  <thead>\n",
       "    <tr style=\"text-align: right;\">\n",
       "      <th></th>\n",
       "      <th>년도</th>\n",
       "      <th>가수</th>\n",
       "      <th>제목</th>\n",
       "      <th>성별</th>\n",
       "      <th>장르</th>\n",
       "      <th>최고순위</th>\n",
       "      <th>작사</th>\n",
       "      <th>작곡</th>\n",
       "      <th>소속사</th>\n",
       "      <th>가사</th>\n",
       "    </tr>\n",
       "  </thead>\n",
       "  <tbody>\n",
       "    <tr>\n",
       "      <th>0</th>\n",
       "      <td>19920000</td>\n",
       "      <td>잼</td>\n",
       "      <td>난 멈추지 않는다</td>\n",
       "      <td>mixed</td>\n",
       "      <td>댄스</td>\n",
       "      <td>1</td>\n",
       "      <td>조진호</td>\n",
       "      <td>조진호</td>\n",
       "      <td>DSP 미디어</td>\n",
       "      <td>이제 모든걸 다시 시작해 내겐 아직도 시간이 있어 때론 상처가 좌절로 남아 돌이킬수...</td>\n",
       "    </tr>\n",
       "    <tr>\n",
       "      <th>1</th>\n",
       "      <td>19920000</td>\n",
       "      <td>잼</td>\n",
       "      <td>우리 모두 사랑하자</td>\n",
       "      <td>mixed</td>\n",
       "      <td>댄스</td>\n",
       "      <td>7</td>\n",
       "      <td>조진수</td>\n",
       "      <td>조진수</td>\n",
       "      <td>DSP 미디어</td>\n",
       "      <td>워 우리 모두 사랑하자 우리의 젊은날을 위하여 우리 모두 춤을 추자 가벼운 인스텝 ...</td>\n",
       "    </tr>\n",
       "    <tr>\n",
       "      <th>2</th>\n",
       "      <td>19920000</td>\n",
       "      <td>잼</td>\n",
       "      <td>이유</td>\n",
       "      <td>mixed</td>\n",
       "      <td>발라드</td>\n",
       "      <td>0</td>\n",
       "      <td>조진호</td>\n",
       "      <td>조진호</td>\n",
       "      <td>DSP 미디어</td>\n",
       "      <td>어둠은 드리워지고 이제는 우리들만의 시간이 지친듯이 내 가슴속에 밀려와 나를 재우고...</td>\n",
       "    </tr>\n",
       "    <tr>\n",
       "      <th>3</th>\n",
       "      <td>19920000</td>\n",
       "      <td>잼</td>\n",
       "      <td>18번가의 비밀</td>\n",
       "      <td>mixed</td>\n",
       "      <td>댄스</td>\n",
       "      <td>0</td>\n",
       "      <td>조진호</td>\n",
       "      <td>조진호</td>\n",
       "      <td>DSP 미디어</td>\n",
       "      <td>끝없는 어둠 속을 천천히 걷고 있어 어디서 본 듯한 야릇한 느낌이야 거리는 비에 젖...</td>\n",
       "    </tr>\n",
       "    <tr>\n",
       "      <th>4</th>\n",
       "      <td>19920000</td>\n",
       "      <td>잼</td>\n",
       "      <td>요즘 친구들</td>\n",
       "      <td>mixed</td>\n",
       "      <td>댄스</td>\n",
       "      <td>0</td>\n",
       "      <td>조진수</td>\n",
       "      <td>조진호</td>\n",
       "      <td>DSP 미디어</td>\n",
       "      <td>요즘 친구들은 흥 정말 진정한 친구가 뭔지 잘 몰라 말로만 떠들고 자기들이 다만 그...</td>\n",
       "    </tr>\n",
       "  </tbody>\n",
       "</table>\n",
       "</div>"
      ],
      "text/plain": [
       "         년도 가수          제목     성별   장르 최고순위   작사   작곡      소속사  \\\n",
       "0  19920000  잼   난 멈추지 않는다  mixed   댄스    1  조진호  조진호  DSP 미디어   \n",
       "1  19920000  잼  우리 모두 사랑하자  mixed   댄스    7  조진수  조진수  DSP 미디어   \n",
       "2  19920000  잼          이유  mixed  발라드    0  조진호  조진호  DSP 미디어   \n",
       "3  19920000  잼    18번가의 비밀  mixed   댄스    0  조진호  조진호  DSP 미디어   \n",
       "4  19920000  잼      요즘 친구들  mixed   댄스    0  조진수  조진호  DSP 미디어   \n",
       "\n",
       "                                                  가사  \n",
       "0  이제 모든걸 다시 시작해 내겐 아직도 시간이 있어 때론 상처가 좌절로 남아 돌이킬수...  \n",
       "1  워 우리 모두 사랑하자 우리의 젊은날을 위하여 우리 모두 춤을 추자 가벼운 인스텝 ...  \n",
       "2  어둠은 드리워지고 이제는 우리들만의 시간이 지친듯이 내 가슴속에 밀려와 나를 재우고...  \n",
       "3  끝없는 어둠 속을 천천히 걷고 있어 어디서 본 듯한 야릇한 느낌이야 거리는 비에 젖...  \n",
       "4  요즘 친구들은 흥 정말 진정한 친구가 뭔지 잘 몰라 말로만 떠들고 자기들이 다만 그...  "
      ]
     },
     "execution_count": 8,
     "metadata": {},
     "output_type": "execute_result"
    }
   ],
   "source": [
    "train_data.head()"
   ]
  },
  {
   "cell_type": "code",
   "execution_count": 9,
   "id": "1897788b",
   "metadata": {},
   "outputs": [
    {
     "name": "stdout",
     "output_type": "stream",
     "text": [
      "<class 'pandas.core.frame.DataFrame'>\n",
      "RangeIndex: 7235 entries, 0 to 7234\n",
      "Data columns (total 10 columns):\n",
      " #   Column  Non-Null Count  Dtype \n",
      "---  ------  --------------  ----- \n",
      " 0   년도      7235 non-null   int64 \n",
      " 1   가수      7235 non-null   object\n",
      " 2   제목      7235 non-null   object\n",
      " 3   성별      7235 non-null   object\n",
      " 4   장르      7235 non-null   object\n",
      " 5   최고순위    7235 non-null   object\n",
      " 6   작사      7194 non-null   object\n",
      " 7   작곡      7183 non-null   object\n",
      " 8   소속사     7026 non-null   object\n",
      " 9   가사      7233 non-null   object\n",
      "dtypes: int64(1), object(9)\n",
      "memory usage: 565.4+ KB\n"
     ]
    }
   ],
   "source": [
    "train_data.info()"
   ]
  },
  {
   "cell_type": "code",
   "execution_count": 10,
   "id": "425ec3e6",
   "metadata": {},
   "outputs": [
    {
     "data": {
      "text/plain": [
       "(7235, 10)"
      ]
     },
     "execution_count": 10,
     "metadata": {},
     "output_type": "execute_result"
    }
   ],
   "source": [
    "train_data.shape # 7235개 곡, 10개 속성"
   ]
  },
  {
   "cell_type": "code",
   "execution_count": 11,
   "id": "d66d66bf",
   "metadata": {},
   "outputs": [
    {
     "data": {
      "text/plain": [
       "Index(['년도', '가수', '제목', '성별', '장르', '최고순위', '작사', '작곡', '소속사', '가사'], dtype='object')"
      ]
     },
     "execution_count": 11,
     "metadata": {},
     "output_type": "execute_result"
    }
   ],
   "source": [
    "train_data.columns"
   ]
  },
  {
   "cell_type": "code",
   "execution_count": 12,
   "id": "80ace605",
   "metadata": {},
   "outputs": [
    {
     "data": {
      "text/plain": [
       "count            7026\n",
       "unique            251\n",
       "top       (주)SM엔터테인먼트\n",
       "freq              716\n",
       "Name: 소속사, dtype: object"
      ]
     },
     "execution_count": 12,
     "metadata": {},
     "output_type": "execute_result"
    }
   ],
   "source": [
    "train_data['소속사'].describe()"
   ]
  },
  {
   "cell_type": "code",
   "execution_count": 13,
   "id": "2067ac93",
   "metadata": {},
   "outputs": [
    {
     "name": "stdout",
     "output_type": "stream",
     "text": [
      "0\n",
      "0\n",
      "0\n",
      "0\n",
      "0\n",
      "0\n",
      "41\n",
      "52\n",
      "209\n",
      "2\n"
     ]
    }
   ],
   "source": [
    "# 각 attribute에 따른 N/A값의 수\n",
    "for attribute in train_data.columns:\n",
    "    print(train_data[attribute].isnull().sum()) "
   ]
  },
  {
   "cell_type": "code",
   "execution_count": null,
   "id": "688b53c5",
   "metadata": {},
   "outputs": [],
   "source": []
  }
 ],
 "metadata": {
  "kernelspec": {
   "display_name": "Python 3 (ipykernel)",
   "language": "python",
   "name": "python3"
  },
  "language_info": {
   "codemirror_mode": {
    "name": "ipython",
    "version": 3
   },
   "file_extension": ".py",
   "mimetype": "text/x-python",
   "name": "python",
   "nbconvert_exporter": "python",
   "pygments_lexer": "ipython3",
   "version": "3.11.4"
  }
 },
 "nbformat": 4,
 "nbformat_minor": 5
}
