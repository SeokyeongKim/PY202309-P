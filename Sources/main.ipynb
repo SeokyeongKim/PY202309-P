{
 "cells": [
  {
   "cell_type": "code",
   "execution_count": 1,
   "id": "e91f43a6",
   "metadata": {},
   "outputs": [
    {
     "name": "stdout",
     "output_type": "stream",
     "text": [
      "Requirement already satisfied: konlpy in /Users/seokyoung/anaconda3/envs/test/lib/python3.8/site-packages (0.6.0)\n",
      "Requirement already satisfied: JPype1>=0.7.0 in /Users/seokyoung/anaconda3/envs/test/lib/python3.8/site-packages (from konlpy) (1.4.1)\n",
      "Requirement already satisfied: lxml>=4.1.0 in /Users/seokyoung/anaconda3/envs/test/lib/python3.8/site-packages (from konlpy) (4.9.3)\n",
      "Requirement already satisfied: numpy>=1.6 in /Users/seokyoung/anaconda3/envs/test/lib/python3.8/site-packages (from konlpy) (1.24.3)\n",
      "Requirement already satisfied: packaging in /Users/seokyoung/anaconda3/envs/test/lib/python3.8/site-packages (from JPype1>=0.7.0->konlpy) (23.2)\n",
      "Requirement already satisfied: mglearn in /Users/seokyoung/anaconda3/envs/test/lib/python3.8/site-packages (0.2.0)\n",
      "Requirement already satisfied: numpy in /Users/seokyoung/anaconda3/envs/test/lib/python3.8/site-packages (from mglearn) (1.24.3)\n",
      "Requirement already satisfied: matplotlib in /Users/seokyoung/anaconda3/envs/test/lib/python3.8/site-packages (from mglearn) (3.7.4)\n",
      "Requirement already satisfied: scikit-learn in /Users/seokyoung/anaconda3/envs/test/lib/python3.8/site-packages (from mglearn) (1.3.2)\n",
      "Requirement already satisfied: pandas in /Users/seokyoung/anaconda3/envs/test/lib/python3.8/site-packages (from mglearn) (2.0.3)\n",
      "Requirement already satisfied: pillow in /Users/seokyoung/anaconda3/envs/test/lib/python3.8/site-packages (from mglearn) (10.0.1)\n",
      "Requirement already satisfied: cycler in /Users/seokyoung/anaconda3/envs/test/lib/python3.8/site-packages (from mglearn) (0.12.1)\n",
      "Requirement already satisfied: imageio in /Users/seokyoung/anaconda3/envs/test/lib/python3.8/site-packages (from mglearn) (2.32.0)\n",
      "Requirement already satisfied: joblib in /Users/seokyoung/anaconda3/envs/test/lib/python3.8/site-packages (from mglearn) (1.3.2)\n",
      "Requirement already satisfied: contourpy>=1.0.1 in /Users/seokyoung/anaconda3/envs/test/lib/python3.8/site-packages (from matplotlib->mglearn) (1.1.1)\n",
      "Requirement already satisfied: fonttools>=4.22.0 in /Users/seokyoung/anaconda3/envs/test/lib/python3.8/site-packages (from matplotlib->mglearn) (4.44.3)\n",
      "Requirement already satisfied: kiwisolver>=1.0.1 in /Users/seokyoung/anaconda3/envs/test/lib/python3.8/site-packages (from matplotlib->mglearn) (1.4.5)\n",
      "Requirement already satisfied: packaging>=20.0 in /Users/seokyoung/anaconda3/envs/test/lib/python3.8/site-packages (from matplotlib->mglearn) (23.2)\n",
      "Requirement already satisfied: pyparsing>=2.3.1 in /Users/seokyoung/anaconda3/envs/test/lib/python3.8/site-packages (from matplotlib->mglearn) (3.1.1)\n",
      "Requirement already satisfied: python-dateutil>=2.7 in /Users/seokyoung/anaconda3/envs/test/lib/python3.8/site-packages (from matplotlib->mglearn) (2.8.2)\n",
      "Requirement already satisfied: importlib-resources>=3.2.0 in /Users/seokyoung/anaconda3/envs/test/lib/python3.8/site-packages (from matplotlib->mglearn) (6.1.1)\n",
      "Requirement already satisfied: pytz>=2020.1 in /Users/seokyoung/anaconda3/envs/test/lib/python3.8/site-packages (from pandas->mglearn) (2023.3.post1)\n",
      "Requirement already satisfied: tzdata>=2022.1 in /Users/seokyoung/anaconda3/envs/test/lib/python3.8/site-packages (from pandas->mglearn) (2023.3)\n",
      "Requirement already satisfied: scipy>=1.5.0 in /Users/seokyoung/anaconda3/envs/test/lib/python3.8/site-packages (from scikit-learn->mglearn) (1.10.1)\n",
      "Requirement already satisfied: threadpoolctl>=2.0.0 in /Users/seokyoung/anaconda3/envs/test/lib/python3.8/site-packages (from scikit-learn->mglearn) (3.2.0)\n",
      "Requirement already satisfied: zipp>=3.1.0 in /Users/seokyoung/anaconda3/envs/test/lib/python3.8/site-packages (from importlib-resources>=3.2.0->matplotlib->mglearn) (3.17.0)\n",
      "Requirement already satisfied: six>=1.5 in /Users/seokyoung/anaconda3/envs/test/lib/python3.8/site-packages (from python-dateutil>=2.7->matplotlib->mglearn) (1.16.0)\n",
      "Requirement already satisfied: gluonnlp in /Users/seokyoung/anaconda3/envs/test/lib/python3.8/site-packages (0.10.0)\n",
      "Requirement already satisfied: numpy>=1.16.0 in /Users/seokyoung/anaconda3/envs/test/lib/python3.8/site-packages (from gluonnlp) (1.24.3)\n",
      "Requirement already satisfied: cython in /Users/seokyoung/anaconda3/envs/test/lib/python3.8/site-packages (from gluonnlp) (3.0.5)\n",
      "Requirement already satisfied: packaging in /Users/seokyoung/anaconda3/envs/test/lib/python3.8/site-packages (from gluonnlp) (23.2)\n",
      "Requirement already satisfied: mxnet in /Users/seokyoung/anaconda3/envs/test/lib/python3.8/site-packages (1.6.0)\n",
      "Requirement already satisfied: numpy<2.0.0,>1.16.0 in /Users/seokyoung/anaconda3/envs/test/lib/python3.8/site-packages (from mxnet) (1.24.3)\n",
      "Requirement already satisfied: requests<3,>=2.20.0 in /Users/seokyoung/anaconda3/envs/test/lib/python3.8/site-packages (from mxnet) (2.31.0)\n",
      "Requirement already satisfied: graphviz<0.9.0,>=0.8.1 in /Users/seokyoung/anaconda3/envs/test/lib/python3.8/site-packages (from mxnet) (0.8.4)\n",
      "Requirement already satisfied: charset-normalizer<4,>=2 in /Users/seokyoung/anaconda3/envs/test/lib/python3.8/site-packages (from requests<3,>=2.20.0->mxnet) (3.3.2)\n",
      "Requirement already satisfied: idna<4,>=2.5 in /Users/seokyoung/anaconda3/envs/test/lib/python3.8/site-packages (from requests<3,>=2.20.0->mxnet) (3.4)\n",
      "Requirement already satisfied: urllib3<3,>=1.21.1 in /Users/seokyoung/anaconda3/envs/test/lib/python3.8/site-packages (from requests<3,>=2.20.0->mxnet) (1.26.18)\n",
      "Requirement already satisfied: certifi>=2017.4.17 in /Users/seokyoung/anaconda3/envs/test/lib/python3.8/site-packages (from requests<3,>=2.20.0->mxnet) (2023.11.17)\n"
     ]
    }
   ],
   "source": [
    "!pip install konlpy\n",
    "!pip install mglearn\n",
    "!pip install gluonnlp\n",
    "!pip install mxnet"
   ]
  },
  {
   "cell_type": "code",
   "execution_count": 2,
   "id": "6784655c",
   "metadata": {},
   "outputs": [
    {
     "name": "stdout",
     "output_type": "stream",
     "text": [
      "Requirement already satisfied: transformers==2.4.1 in /Users/seokyoung/anaconda3/envs/test/lib/python3.8/site-packages (2.4.1)\n",
      "Requirement already satisfied: numpy in /Users/seokyoung/anaconda3/envs/test/lib/python3.8/site-packages (from transformers==2.4.1) (1.24.3)\n",
      "Requirement already satisfied: tokenizers==0.0.11 in /Users/seokyoung/anaconda3/envs/test/lib/python3.8/site-packages (from transformers==2.4.1) (0.0.11)\n",
      "Requirement already satisfied: boto3 in /Users/seokyoung/anaconda3/envs/test/lib/python3.8/site-packages (from transformers==2.4.1) (1.29.3)\n",
      "Requirement already satisfied: filelock in /Users/seokyoung/anaconda3/envs/test/lib/python3.8/site-packages (from transformers==2.4.1) (3.13.1)\n",
      "Requirement already satisfied: requests in /Users/seokyoung/anaconda3/envs/test/lib/python3.8/site-packages (from transformers==2.4.1) (2.31.0)\n",
      "Requirement already satisfied: tqdm>=4.27 in /Users/seokyoung/anaconda3/envs/test/lib/python3.8/site-packages (from transformers==2.4.1) (4.66.1)\n",
      "Requirement already satisfied: regex!=2019.12.17 in /Users/seokyoung/anaconda3/envs/test/lib/python3.8/site-packages (from transformers==2.4.1) (2023.10.3)\n",
      "Requirement already satisfied: sentencepiece in /Users/seokyoung/anaconda3/envs/test/lib/python3.8/site-packages (from transformers==2.4.1) (0.1.99)\n",
      "Requirement already satisfied: sacremoses in /Users/seokyoung/anaconda3/envs/test/lib/python3.8/site-packages (from transformers==2.4.1) (0.1.1)\n",
      "Requirement already satisfied: botocore<1.33.0,>=1.32.3 in /Users/seokyoung/anaconda3/envs/test/lib/python3.8/site-packages (from boto3->transformers==2.4.1) (1.32.3)\n",
      "Requirement already satisfied: jmespath<2.0.0,>=0.7.1 in /Users/seokyoung/anaconda3/envs/test/lib/python3.8/site-packages (from boto3->transformers==2.4.1) (1.0.1)\n",
      "Requirement already satisfied: s3transfer<0.8.0,>=0.7.0 in /Users/seokyoung/anaconda3/envs/test/lib/python3.8/site-packages (from boto3->transformers==2.4.1) (0.7.0)\n",
      "Requirement already satisfied: charset-normalizer<4,>=2 in /Users/seokyoung/anaconda3/envs/test/lib/python3.8/site-packages (from requests->transformers==2.4.1) (3.3.2)\n",
      "Requirement already satisfied: idna<4,>=2.5 in /Users/seokyoung/anaconda3/envs/test/lib/python3.8/site-packages (from requests->transformers==2.4.1) (3.4)\n",
      "Requirement already satisfied: urllib3<3,>=1.21.1 in /Users/seokyoung/anaconda3/envs/test/lib/python3.8/site-packages (from requests->transformers==2.4.1) (1.26.18)\n",
      "Requirement already satisfied: certifi>=2017.4.17 in /Users/seokyoung/anaconda3/envs/test/lib/python3.8/site-packages (from requests->transformers==2.4.1) (2023.11.17)\n",
      "Requirement already satisfied: click in /Users/seokyoung/anaconda3/envs/test/lib/python3.8/site-packages (from sacremoses->transformers==2.4.1) (8.1.7)\n",
      "Requirement already satisfied: joblib in /Users/seokyoung/anaconda3/envs/test/lib/python3.8/site-packages (from sacremoses->transformers==2.4.1) (1.3.2)\n",
      "Requirement already satisfied: python-dateutil<3.0.0,>=2.1 in /Users/seokyoung/anaconda3/envs/test/lib/python3.8/site-packages (from botocore<1.33.0,>=1.32.3->boto3->transformers==2.4.1) (2.8.2)\n",
      "Requirement already satisfied: six>=1.5 in /Users/seokyoung/anaconda3/envs/test/lib/python3.8/site-packages (from python-dateutil<3.0.0,>=2.1->botocore<1.33.0,>=1.32.3->boto3->transformers==2.4.1) (1.16.0)\n"
     ]
    }
   ],
   "source": [
    "!pip install transformers==2.4.1"
   ]
  },
  {
   "cell_type": "code",
   "execution_count": 1,
   "id": "689ed544",
   "metadata": {},
   "outputs": [],
   "source": [
    "import pandas as pd\n",
    "import urllib.request\n",
    "import matplotlib.pyplot as plt\n",
    "import re\n",
    "from konlpy.tag import Okt\n",
    "from tensorflow.keras.preprocessing.text import Tokenizer\n",
    "import numpy as np\n",
    "from tensorflow.keras.preprocessing.sequence import pad_sequences\n",
    "from sklearn.cluster import KMeans\n",
    "from gensim.models.doc2vec import Doc2Vec, TaggedDocument\n",
    "import mglearn\n",
    "from sklearn.cluster import AgglomerativeClustering\n",
    "import sys\n",
    "from scipy.cluster.hierarchy import dendrogram, linkage\n",
    "from matplotlib import pyplot as plt\n",
    "import random"
   ]
  },
  {
   "cell_type": "code",
   "execution_count": 9,
   "id": "a8783d1e",
   "metadata": {},
   "outputs": [
    {
     "name": "stdout",
     "output_type": "stream",
     "text": [
      "/Users/seokyoung/anaconda3/envs/test/lib/python3.8/site-packages/gdown/cli.py:126: FutureWarning: Option `--id` was deprecated in version 4.3.1 and will be removed in 5.0. You don't need to pass it anymore to use a file ID.\n",
      "  warnings.warn(\n",
      "Downloading...\n",
      "From: https://drive.google.com/uc?id=1CKmd6EheRX_o1_wHm32GoHMQlUkxTD3E\n",
      "To: /Users/seokyoung/Desktop/PY202309-P/Sources/JAM.csv\n",
      "100%|██████████████████████████████████████| 8.12M/8.12M [00:03<00:00, 2.41MB/s]\n"
     ]
    }
   ],
   "source": [
    "!gdown --id 1CKmd6EheRX_o1_wHm32GoHMQlUkxTD3E"
   ]
  },
  {
   "cell_type": "code",
   "execution_count": 2,
   "id": "2a40e8dc",
   "metadata": {},
   "outputs": [],
   "source": [
    "data = pd.read_csv(\"JAM.csv\", engine='python',encoding='CP949')"
   ]
  },
  {
   "cell_type": "markdown",
   "metadata": {},
   "source": [
    "## 데이터 분석"
   ]
  },
  {
   "cell_type": "code",
   "execution_count": 3,
   "id": "0f6eff70",
   "metadata": {},
   "outputs": [],
   "source": [
    "train_data = pd.DataFrame(data)"
   ]
  },
  {
   "cell_type": "code",
   "execution_count": 5,
   "id": "d2548586",
   "metadata": {},
   "outputs": [
    {
     "data": {
      "text/html": [
       "<div>\n",
       "<style scoped>\n",
       "    .dataframe tbody tr th:only-of-type {\n",
       "        vertical-align: middle;\n",
       "    }\n",
       "\n",
       "    .dataframe tbody tr th {\n",
       "        vertical-align: top;\n",
       "    }\n",
       "\n",
       "    .dataframe thead th {\n",
       "        text-align: right;\n",
       "    }\n",
       "</style>\n",
       "<table border=\"1\" class=\"dataframe\">\n",
       "  <thead>\n",
       "    <tr style=\"text-align: right;\">\n",
       "      <th></th>\n",
       "      <th>년도</th>\n",
       "      <th>가수</th>\n",
       "      <th>제목</th>\n",
       "      <th>성별</th>\n",
       "      <th>장르</th>\n",
       "      <th>최고순위</th>\n",
       "      <th>작사</th>\n",
       "      <th>작곡</th>\n",
       "      <th>소속사</th>\n",
       "      <th>가사</th>\n",
       "    </tr>\n",
       "  </thead>\n",
       "  <tbody>\n",
       "    <tr>\n",
       "      <th>0</th>\n",
       "      <td>19920000</td>\n",
       "      <td>잼</td>\n",
       "      <td>난 멈추지 않는다</td>\n",
       "      <td>mixed</td>\n",
       "      <td>댄스</td>\n",
       "      <td>1</td>\n",
       "      <td>조진호</td>\n",
       "      <td>조진호</td>\n",
       "      <td>DSP 미디어</td>\n",
       "      <td>이제 모든걸 다시 시작해 내겐 아직도 시간이 있어 때론 상처가 좌절로 남아 돌이킬수...</td>\n",
       "    </tr>\n",
       "    <tr>\n",
       "      <th>1</th>\n",
       "      <td>19920000</td>\n",
       "      <td>잼</td>\n",
       "      <td>우리 모두 사랑하자</td>\n",
       "      <td>mixed</td>\n",
       "      <td>댄스</td>\n",
       "      <td>7</td>\n",
       "      <td>조진수</td>\n",
       "      <td>조진수</td>\n",
       "      <td>DSP 미디어</td>\n",
       "      <td>워 우리 모두 사랑하자 우리의 젊은날을 위하여 우리 모두 춤을 추자 가벼운 인스텝 ...</td>\n",
       "    </tr>\n",
       "    <tr>\n",
       "      <th>2</th>\n",
       "      <td>19920000</td>\n",
       "      <td>잼</td>\n",
       "      <td>이유</td>\n",
       "      <td>mixed</td>\n",
       "      <td>발라드</td>\n",
       "      <td>0</td>\n",
       "      <td>조진호</td>\n",
       "      <td>조진호</td>\n",
       "      <td>DSP 미디어</td>\n",
       "      <td>어둠은 드리워지고 이제는 우리들만의 시간이 지친듯이 내 가슴속에 밀려와 나를 재우고...</td>\n",
       "    </tr>\n",
       "  </tbody>\n",
       "</table>\n",
       "</div>"
      ],
      "text/plain": [
       "         년도 가수          제목     성별   장르 최고순위   작사   작곡      소속사  \\\n",
       "0  19920000  잼   난 멈추지 않는다  mixed   댄스    1  조진호  조진호  DSP 미디어   \n",
       "1  19920000  잼  우리 모두 사랑하자  mixed   댄스    7  조진수  조진수  DSP 미디어   \n",
       "2  19920000  잼          이유  mixed  발라드    0  조진호  조진호  DSP 미디어   \n",
       "\n",
       "                                                  가사  \n",
       "0  이제 모든걸 다시 시작해 내겐 아직도 시간이 있어 때론 상처가 좌절로 남아 돌이킬수...  \n",
       "1  워 우리 모두 사랑하자 우리의 젊은날을 위하여 우리 모두 춤을 추자 가벼운 인스텝 ...  \n",
       "2  어둠은 드리워지고 이제는 우리들만의 시간이 지친듯이 내 가슴속에 밀려와 나를 재우고...  "
      ]
     },
     "execution_count": 5,
     "metadata": {},
     "output_type": "execute_result"
    }
   ],
   "source": [
    "train_data.head(3) # 데이터 구성요소"
   ]
  },
  {
   "cell_type": "code",
   "execution_count": 6,
   "id": "9db1cd04",
   "metadata": {},
   "outputs": [
    {
     "data": {
      "text/plain": [
       "5619"
      ]
     },
     "execution_count": 6,
     "metadata": {},
     "output_type": "execute_result"
    }
   ],
   "source": [
    "train_data.shape[0] # 곡 수"
   ]
  },
  {
   "cell_type": "code",
   "execution_count": 7,
   "id": "fb5510a6",
   "metadata": {},
   "outputs": [
    {
     "data": {
      "text/plain": [
       "454"
      ]
     },
     "execution_count": 7,
     "metadata": {},
     "output_type": "execute_result"
    }
   ],
   "source": [
    "len(train_data['가수'].unique()) # 유니크한 가수의 수"
   ]
  },
  {
   "cell_type": "code",
   "execution_count": 4,
   "id": "99965134",
   "metadata": {},
   "outputs": [
    {
     "data": {
      "text/plain": [
       "Index(['년도', '가수', '제목', '성별', '장르', '최고순위', '작사', '작곡', '소속사', '가사'], dtype='object')"
      ]
     },
     "execution_count": 4,
     "metadata": {},
     "output_type": "execute_result"
    }
   ],
   "source": [
    "train_data.columns # 특성 목록"
   ]
  },
  {
   "cell_type": "code",
   "execution_count": 5,
   "id": "9172dd62",
   "metadata": {},
   "outputs": [
    {
     "name": "stdout",
     "output_type": "stream",
     "text": [
      "0\n",
      "0\n",
      "0\n",
      "0\n",
      "0\n",
      "0\n",
      "41\n",
      "52\n",
      "99\n",
      "1\n"
     ]
    }
   ],
   "source": [
    "# 각 attribute에 따른 N/A값의 수\n",
    "for attribute in train_data.columns:\n",
    "    print(train_data[attribute].isnull().sum()) \n",
    "    \n",
    "# 아래 결과에서 소속사가 없는 가수에 대한 정보가 다수 포함되어 있음을 알 수 있음.\n",
    "# 클러스터링 단계에서는 가사만 사용되므로, 가사가 N/A값인 데이터만 삭제."
   ]
  },
  {
   "cell_type": "code",
   "execution_count": 6,
   "id": "dda798a5",
   "metadata": {},
   "outputs": [],
   "source": [
    "train_data = train_data[train_data['가사'].notnull()]"
   ]
  },
  {
   "cell_type": "code",
   "execution_count": 11,
   "id": "24341c7b",
   "metadata": {},
   "outputs": [
    {
     "data": {
      "text/html": [
       "<div>\n",
       "<style scoped>\n",
       "    .dataframe tbody tr th:only-of-type {\n",
       "        vertical-align: middle;\n",
       "    }\n",
       "\n",
       "    .dataframe tbody tr th {\n",
       "        vertical-align: top;\n",
       "    }\n",
       "\n",
       "    .dataframe thead th {\n",
       "        text-align: right;\n",
       "    }\n",
       "</style>\n",
       "<table border=\"1\" class=\"dataframe\">\n",
       "  <thead>\n",
       "    <tr style=\"text-align: right;\">\n",
       "      <th></th>\n",
       "      <th>년도</th>\n",
       "      <th>가수</th>\n",
       "      <th>제목</th>\n",
       "      <th>성별</th>\n",
       "      <th>장르</th>\n",
       "      <th>최고순위</th>\n",
       "      <th>작사</th>\n",
       "      <th>작곡</th>\n",
       "      <th>소속사</th>\n",
       "      <th>가사</th>\n",
       "    </tr>\n",
       "  </thead>\n",
       "  <tbody>\n",
       "    <tr>\n",
       "      <th>0</th>\n",
       "      <td>19920000</td>\n",
       "      <td>잼</td>\n",
       "      <td>난 멈추지 않는다</td>\n",
       "      <td>mixed</td>\n",
       "      <td>댄스</td>\n",
       "      <td>1</td>\n",
       "      <td>조진호</td>\n",
       "      <td>조진호</td>\n",
       "      <td>DSP 미디어</td>\n",
       "      <td>이제 모든걸 다시 시작해 내겐 아직도 시간이 있어 때론 상처가 좌절로 남아 돌이킬수...</td>\n",
       "    </tr>\n",
       "    <tr>\n",
       "      <th>1</th>\n",
       "      <td>19920000</td>\n",
       "      <td>잼</td>\n",
       "      <td>우리 모두 사랑하자</td>\n",
       "      <td>mixed</td>\n",
       "      <td>댄스</td>\n",
       "      <td>7</td>\n",
       "      <td>조진수</td>\n",
       "      <td>조진수</td>\n",
       "      <td>DSP 미디어</td>\n",
       "      <td>워 우리 모두 사랑하자 우리의 젊은날을 위하여 우리 모두 춤을 추자 가벼운 인스텝 ...</td>\n",
       "    </tr>\n",
       "    <tr>\n",
       "      <th>2</th>\n",
       "      <td>19920000</td>\n",
       "      <td>잼</td>\n",
       "      <td>이유</td>\n",
       "      <td>mixed</td>\n",
       "      <td>발라드</td>\n",
       "      <td>0</td>\n",
       "      <td>조진호</td>\n",
       "      <td>조진호</td>\n",
       "      <td>DSP 미디어</td>\n",
       "      <td>어둠은 드리워지고 이제는 우리들만의 시간이 지친듯이 내 가슴속에 밀려와 나를 재우고...</td>\n",
       "    </tr>\n",
       "    <tr>\n",
       "      <th>3</th>\n",
       "      <td>19920000</td>\n",
       "      <td>잼</td>\n",
       "      <td>18번가의 비밀</td>\n",
       "      <td>mixed</td>\n",
       "      <td>댄스</td>\n",
       "      <td>0</td>\n",
       "      <td>조진호</td>\n",
       "      <td>조진호</td>\n",
       "      <td>DSP 미디어</td>\n",
       "      <td>끝없는 어둠 속을 천천히 걷고 있어 어디서 본 듯한 야릇한 느낌이야 거리는 비에 젖...</td>\n",
       "    </tr>\n",
       "    <tr>\n",
       "      <th>4</th>\n",
       "      <td>19920000</td>\n",
       "      <td>잼</td>\n",
       "      <td>요즘 친구들</td>\n",
       "      <td>mixed</td>\n",
       "      <td>댄스</td>\n",
       "      <td>0</td>\n",
       "      <td>조진수</td>\n",
       "      <td>조진호</td>\n",
       "      <td>DSP 미디어</td>\n",
       "      <td>요즘 친구들은 흥 정말 진정한 친구가 뭔지 잘 몰라 말로만 떠들고 자기들이 다만 그...</td>\n",
       "    </tr>\n",
       "  </tbody>\n",
       "</table>\n",
       "</div>"
      ],
      "text/plain": [
       "         년도 가수          제목     성별   장르 최고순위   작사   작곡      소속사  \\\n",
       "0  19920000  잼   난 멈추지 않는다  mixed   댄스    1  조진호  조진호  DSP 미디어   \n",
       "1  19920000  잼  우리 모두 사랑하자  mixed   댄스    7  조진수  조진수  DSP 미디어   \n",
       "2  19920000  잼          이유  mixed  발라드    0  조진호  조진호  DSP 미디어   \n",
       "3  19920000  잼    18번가의 비밀  mixed   댄스    0  조진호  조진호  DSP 미디어   \n",
       "4  19920000  잼      요즘 친구들  mixed   댄스    0  조진수  조진호  DSP 미디어   \n",
       "\n",
       "                                                  가사  \n",
       "0  이제 모든걸 다시 시작해 내겐 아직도 시간이 있어 때론 상처가 좌절로 남아 돌이킬수...  \n",
       "1  워 우리 모두 사랑하자 우리의 젊은날을 위하여 우리 모두 춤을 추자 가벼운 인스텝 ...  \n",
       "2  어둠은 드리워지고 이제는 우리들만의 시간이 지친듯이 내 가슴속에 밀려와 나를 재우고...  \n",
       "3  끝없는 어둠 속을 천천히 걷고 있어 어디서 본 듯한 야릇한 느낌이야 거리는 비에 젖...  \n",
       "4  요즘 친구들은 흥 정말 진정한 친구가 뭔지 잘 몰라 말로만 떠들고 자기들이 다만 그...  "
      ]
     },
     "execution_count": 11,
     "metadata": {},
     "output_type": "execute_result"
    }
   ],
   "source": [
    "train_data.head(5)"
   ]
  },
  {
   "cell_type": "code",
   "execution_count": 7,
   "id": "9cda737f",
   "metadata": {},
   "outputs": [
    {
     "name": "stdout",
     "output_type": "stream",
     "text": [
      "0\n"
     ]
    }
   ],
   "source": [
    "print(train_data['가사'].isnull().sum())"
   ]
  },
  {
   "cell_type": "markdown",
   "metadata": {},
   "source": [
    "## 데이터 정제"
   ]
  },
  {
   "cell_type": "code",
   "execution_count": 8,
   "id": "8aaca6a2",
   "metadata": {},
   "outputs": [],
   "source": [
    "# 중복된 가사 제거\n",
    "train_data.shape[0] - train_data['가사'].nunique()\n",
    "train_data.drop_duplicates(subset=['가사'], inplace=True)"
   ]
  },
  {
   "cell_type": "code",
   "execution_count": 14,
   "id": "afb56e1d",
   "metadata": {},
   "outputs": [
    {
     "data": {
      "text/plain": [
       "0"
      ]
     },
     "execution_count": 14,
     "metadata": {},
     "output_type": "execute_result"
    }
   ],
   "source": [
    "len(train_data) - train_data['가사'].nunique()"
   ]
  },
  {
   "cell_type": "code",
   "execution_count": 9,
   "id": "b948bb2f",
   "metadata": {},
   "outputs": [
    {
     "name": "stdout",
     "output_type": "stream",
     "text": [
      "총 샘플의 수 : 5618\n"
     ]
    }
   ],
   "source": [
    "print('총 샘플의 수 :',len(train_data))"
   ]
  },
  {
   "cell_type": "code",
   "execution_count": 10,
   "id": "c9242bc3",
   "metadata": {},
   "outputs": [],
   "source": [
    "'년도', '가수', '제목', '성별', '장르', '최고순위', '작사', '작곡', '소속사', '가사'\n",
    "titles = train_data['제목'].reset_index()\n",
    "groups = train_data['가수'].reset_index()\n",
    "\n",
    "titles_groups = pd.concat([titles, groups],axis=1)\n",
    "\n",
    "# 각 데이터를 따로 구하고 싶으면 다음 주석을 해제하여 사용\n",
    "'''\n",
    "groups = train_data['년도'].reset_index()\n",
    "groups = train_data['장르'].reset_index()\n",
    "groups = train_data['성별'].reset_index()\n",
    "groups = train_data['최고순위'].reset_index()\n",
    "groups = train_data['작사'].reset_index()\n",
    "groups = train_data['작곡'].reset_index()\n",
    "groups = train_data['소속사'].reset_index()\n",
    "'''\n",
    "\n",
    "# 전처리가 끝난 전체 dataframe을 사용하고 싶을 때\n",
    "train_data_all = train_data\n",
    "\n",
    "train_data = train_data['가사'].reset_index()"
   ]
  },
  {
   "cell_type": "markdown",
   "metadata": {},
   "source": [
    "## 데이터 전처리"
   ]
  },
  {
   "cell_type": "code",
   "execution_count": 11,
   "id": "e8eff219",
   "metadata": {},
   "outputs": [
    {
     "data": {
      "text/html": [
       "<div>\n",
       "<style scoped>\n",
       "    .dataframe tbody tr th:only-of-type {\n",
       "        vertical-align: middle;\n",
       "    }\n",
       "\n",
       "    .dataframe tbody tr th {\n",
       "        vertical-align: top;\n",
       "    }\n",
       "\n",
       "    .dataframe thead th {\n",
       "        text-align: right;\n",
       "    }\n",
       "</style>\n",
       "<table border=\"1\" class=\"dataframe\">\n",
       "  <thead>\n",
       "    <tr style=\"text-align: right;\">\n",
       "      <th></th>\n",
       "      <th>index</th>\n",
       "      <th>가사</th>\n",
       "    </tr>\n",
       "  </thead>\n",
       "  <tbody>\n",
       "    <tr>\n",
       "      <th>0</th>\n",
       "      <td>0</td>\n",
       "      <td>이제 모든걸 다시 시작해 내겐 아직도 시간이 있어 때론 상처가 좌절로 남아 돌이킬수...</td>\n",
       "    </tr>\n",
       "    <tr>\n",
       "      <th>1</th>\n",
       "      <td>1</td>\n",
       "      <td>워 우리 모두 사랑하자 우리의 젊은날을 위하여 우리 모두 춤을 추자 가벼운 인스텝 ...</td>\n",
       "    </tr>\n",
       "    <tr>\n",
       "      <th>2</th>\n",
       "      <td>2</td>\n",
       "      <td>어둠은 드리워지고 이제는 우리들만의 시간이 지친듯이 내 가슴속에 밀려와 나를 재우고...</td>\n",
       "    </tr>\n",
       "    <tr>\n",
       "      <th>3</th>\n",
       "      <td>3</td>\n",
       "      <td>끝없는 어둠 속을 천천히 걷고 있어 어디서 본 듯한 야릇한 느낌이야 거리는 비에 젖...</td>\n",
       "    </tr>\n",
       "    <tr>\n",
       "      <th>4</th>\n",
       "      <td>4</td>\n",
       "      <td>요즘 친구들은 흥 정말 진정한 친구가 뭔지 잘 몰라 말로만 떠들고 자기들이 다만 그...</td>\n",
       "    </tr>\n",
       "  </tbody>\n",
       "</table>\n",
       "</div>"
      ],
      "text/plain": [
       "   index                                                 가사\n",
       "0      0  이제 모든걸 다시 시작해 내겐 아직도 시간이 있어 때론 상처가 좌절로 남아 돌이킬수...\n",
       "1      1  워 우리 모두 사랑하자 우리의 젊은날을 위하여 우리 모두 춤을 추자 가벼운 인스텝 ...\n",
       "2      2  어둠은 드리워지고 이제는 우리들만의 시간이 지친듯이 내 가슴속에 밀려와 나를 재우고...\n",
       "3      3  끝없는 어둠 속을 천천히 걷고 있어 어디서 본 듯한 야릇한 느낌이야 거리는 비에 젖...\n",
       "4      4  요즘 친구들은 흥 정말 진정한 친구가 뭔지 잘 몰라 말로만 떠들고 자기들이 다만 그..."
      ]
     },
     "execution_count": 11,
     "metadata": {},
     "output_type": "execute_result"
    }
   ],
   "source": [
    "# 이모티콘을 포함한 특수문자 모두 제거\n",
    "\n",
    "train_data['가사'] = train_data['가사'].str.replace(\"[^ㄱ-ㅎㅏ-ㅣ가-힣a-zA-Z ]\",\"\")\n",
    "train_data[:5]"
   ]
  },
  {
   "cell_type": "code",
   "execution_count": 12,
   "id": "2070a682",
   "metadata": {},
   "outputs": [
    {
     "name": "stdout",
     "output_type": "stream",
     "text": [
      "index    0\n",
      "가사       0\n",
      "dtype: int64\n"
     ]
    }
   ],
   "source": [
    "# 아무 것도 남지 않은 데이터 N/A로 변경\n",
    "train_data['가사'].replace('', np.nan, inplace=True)\n",
    "print(train_data.isnull().sum())"
   ]
  },
  {
   "cell_type": "code",
   "execution_count": 13,
   "id": "55c84412",
   "metadata": {},
   "outputs": [],
   "source": [
    "# 문장부호들을 제거하는 것으로 생긴 N/A값들 모두 제거\n",
    "train_data = train_data.dropna(how = 'any')"
   ]
  },
  {
   "cell_type": "code",
   "execution_count": 20,
   "id": "63f28cc7",
   "metadata": {},
   "outputs": [
    {
     "data": {
      "text/html": [
       "<div>\n",
       "<style scoped>\n",
       "    .dataframe tbody tr th:only-of-type {\n",
       "        vertical-align: middle;\n",
       "    }\n",
       "\n",
       "    .dataframe tbody tr th {\n",
       "        vertical-align: top;\n",
       "    }\n",
       "\n",
       "    .dataframe thead th {\n",
       "        text-align: right;\n",
       "    }\n",
       "</style>\n",
       "<table border=\"1\" class=\"dataframe\">\n",
       "  <thead>\n",
       "    <tr style=\"text-align: right;\">\n",
       "      <th></th>\n",
       "      <th>년도</th>\n",
       "      <th>가수</th>\n",
       "      <th>제목</th>\n",
       "      <th>성별</th>\n",
       "      <th>장르</th>\n",
       "      <th>최고순위</th>\n",
       "      <th>작사</th>\n",
       "      <th>작곡</th>\n",
       "      <th>소속사</th>\n",
       "      <th>가사</th>\n",
       "    </tr>\n",
       "  </thead>\n",
       "  <tbody>\n",
       "    <tr>\n",
       "      <th>0</th>\n",
       "      <td>19920000</td>\n",
       "      <td>잼</td>\n",
       "      <td>난 멈추지 않는다</td>\n",
       "      <td>mixed</td>\n",
       "      <td>댄스</td>\n",
       "      <td>1</td>\n",
       "      <td>조진호</td>\n",
       "      <td>조진호</td>\n",
       "      <td>DSP 미디어</td>\n",
       "      <td>이제 모든걸 다시 시작해 내겐 아직도 시간이 있어 때론 상처가 좌절로 남아 돌이킬수...</td>\n",
       "    </tr>\n",
       "    <tr>\n",
       "      <th>1</th>\n",
       "      <td>19920000</td>\n",
       "      <td>잼</td>\n",
       "      <td>우리 모두 사랑하자</td>\n",
       "      <td>mixed</td>\n",
       "      <td>댄스</td>\n",
       "      <td>7</td>\n",
       "      <td>조진수</td>\n",
       "      <td>조진수</td>\n",
       "      <td>DSP 미디어</td>\n",
       "      <td>워 우리 모두 사랑하자 우리의 젊은날을 위하여 우리 모두 춤을 추자 가벼운 인스텝 ...</td>\n",
       "    </tr>\n",
       "    <tr>\n",
       "      <th>2</th>\n",
       "      <td>19920000</td>\n",
       "      <td>잼</td>\n",
       "      <td>이유</td>\n",
       "      <td>mixed</td>\n",
       "      <td>발라드</td>\n",
       "      <td>0</td>\n",
       "      <td>조진호</td>\n",
       "      <td>조진호</td>\n",
       "      <td>DSP 미디어</td>\n",
       "      <td>어둠은 드리워지고 이제는 우리들만의 시간이 지친듯이 내 가슴속에 밀려와 나를 재우고...</td>\n",
       "    </tr>\n",
       "    <tr>\n",
       "      <th>3</th>\n",
       "      <td>19920000</td>\n",
       "      <td>잼</td>\n",
       "      <td>18번가의 비밀</td>\n",
       "      <td>mixed</td>\n",
       "      <td>댄스</td>\n",
       "      <td>0</td>\n",
       "      <td>조진호</td>\n",
       "      <td>조진호</td>\n",
       "      <td>DSP 미디어</td>\n",
       "      <td>끝없는 어둠 속을 천천히 걷고 있어 어디서 본 듯한 야릇한 느낌이야 거리는 비에 젖...</td>\n",
       "    </tr>\n",
       "  </tbody>\n",
       "</table>\n",
       "</div>"
      ],
      "text/plain": [
       "         년도 가수          제목     성별   장르 최고순위   작사   작곡      소속사  \\\n",
       "0  19920000  잼   난 멈추지 않는다  mixed   댄스    1  조진호  조진호  DSP 미디어   \n",
       "1  19920000  잼  우리 모두 사랑하자  mixed   댄스    7  조진수  조진수  DSP 미디어   \n",
       "2  19920000  잼          이유  mixed  발라드    0  조진호  조진호  DSP 미디어   \n",
       "3  19920000  잼    18번가의 비밀  mixed   댄스    0  조진호  조진호  DSP 미디어   \n",
       "\n",
       "                                                  가사  \n",
       "0  이제 모든걸 다시 시작해 내겐 아직도 시간이 있어 때론 상처가 좌절로 남아 돌이킬수...  \n",
       "1  워 우리 모두 사랑하자 우리의 젊은날을 위하여 우리 모두 춤을 추자 가벼운 인스텝 ...  \n",
       "2  어둠은 드리워지고 이제는 우리들만의 시간이 지친듯이 내 가슴속에 밀려와 나를 재우고...  \n",
       "3  끝없는 어둠 속을 천천히 걷고 있어 어디서 본 듯한 야릇한 느낌이야 거리는 비에 젖...  "
      ]
     },
     "execution_count": 20,
     "metadata": {},
     "output_type": "execute_result"
    }
   ],
   "source": [
    "train_data_all[:4]"
   ]
  },
  {
   "cell_type": "markdown",
   "metadata": {},
   "source": [
    "## 토크나이징"
   ]
  },
  {
   "cell_type": "code",
   "execution_count": 14,
   "id": "bc6ef4a5",
   "metadata": {},
   "outputs": [],
   "source": [
    "# 불용어 지정\n",
    "stopwords = ['의','가','이','은','들','는','좀','잘','걍','과','도','를','으로','자','에','와','한','하다']"
   ]
  },
  {
   "cell_type": "code",
   "execution_count": 15,
   "id": "9ffc12d0",
   "metadata": {},
   "outputs": [],
   "source": [
    "okt = Okt()"
   ]
  },
  {
   "cell_type": "code",
   "execution_count": 16,
   "id": "04ac2fa7",
   "metadata": {},
   "outputs": [
    {
     "data": {
      "text/plain": [
       "'이제 모든걸 다시 시작해 내겐 아직도 시간이 있어 때론 상처가 좌절로 남아 돌이킬수 없는 후회도 하고  그러나 우리 잊어선 안돼 지금의 나는 내가 아닌걸 신문에 실려온 얘기들 헝클어진 우리들을 탓할순 없어  이제 모든걸 다시 시작해 이렇게 여기서 끝낼순 없어 내겐 아직도 시간이 있어 지금 이렇게 지금 멈출수는 없어  신문에 실려온 얘기들 헝클어진 우리들을 탓할순 없어  이제 모든걸 다시 시작해 이렇게 여기서 끝낼순 없어 내겐 아직도 시간이 있어 지금 이렇게 지금  나는 여기서 멈출순 없어 이제 모든걸 다시 시작해 나는 여기서 멈출순 없어 이제 모든걸 다시 시작해'"
      ]
     },
     "execution_count": 16,
     "metadata": {},
     "output_type": "execute_result"
    }
   ],
   "source": [
    "train_data['가사'][0]"
   ]
  },
  {
   "cell_type": "code",
   "execution_count": 18,
   "id": "962f70e7",
   "metadata": {},
   "outputs": [
    {
     "name": "stderr",
     "output_type": "stream",
     "text": [
      "형태소 분석 진행 중: 100%|██████████| 5618/5618 [01:09<00:00, 80.38it/s] \n"
     ]
    }
   ],
   "source": [
    "from tqdm import tqdm\n",
    "\n",
    "X_train = []\n",
    "for sentence in tqdm(train_data['가사'], desc=\"토크나이징 진행 중\"):\n",
    "    temp_X = []\n",
    "    temp_X = okt.morphs(sentence, stem=True)  # 토큰화\n",
    "    temp_X = [word for word in temp_X if not word in stopwords]  # 불용어 제거\n",
    "    X_train.append(temp_X)\n",
    "\n"
   ]
  },
  {
   "cell_type": "code",
   "execution_count": 19,
   "id": "601ec145",
   "metadata": {},
   "outputs": [],
   "source": [
    "# 토큰화한 X_test를 저장\n",
    "\n",
    "X_train_nparray = np.array(X_train, dtype='object')\n",
    "np.save('./X_train',X_train_nparray)"
   ]
  },
  {
   "cell_type": "code",
   "execution_count": 20,
   "id": "cff0ebd0",
   "metadata": {},
   "outputs": [],
   "source": [
    "X_train = np.load('./X_train.npy',allow_pickle=True).tolist()"
   ]
  },
  {
   "cell_type": "code",
   "execution_count": 27,
   "id": "c24bfe27",
   "metadata": {},
   "outputs": [
    {
     "data": {
      "text/plain": [
       "['이제',\n",
       " '모든',\n",
       " '걸',\n",
       " '다시',\n",
       " '시작',\n",
       " '내겐',\n",
       " '아직도',\n",
       " '시간',\n",
       " '있다',\n",
       " '때론',\n",
       " '상처',\n",
       " '좌절',\n",
       " '로',\n",
       " '남아',\n",
       " '돌이키다',\n",
       " '없다',\n",
       " '후회',\n",
       " '그러나',\n",
       " '우리',\n",
       " '잊다',\n",
       " '안',\n",
       " '돼다',\n",
       " '지금',\n",
       " '나',\n",
       " '내',\n",
       " '아니다',\n",
       " '걸',\n",
       " '신문',\n",
       " '실리다',\n",
       " '온',\n",
       " '얘기',\n",
       " '헝클어지다',\n",
       " '우리',\n",
       " '을',\n",
       " '탓',\n",
       " '순',\n",
       " '없다',\n",
       " '이제',\n",
       " '모든',\n",
       " '걸',\n",
       " '다시',\n",
       " '시작',\n",
       " '이렇게',\n",
       " '여기',\n",
       " '서',\n",
       " '끝내다',\n",
       " '순',\n",
       " '없다',\n",
       " '내겐',\n",
       " '아직도',\n",
       " '시간',\n",
       " '있다',\n",
       " '지금',\n",
       " '이렇게',\n",
       " '지금',\n",
       " '멈추다',\n",
       " '없다',\n",
       " '신문',\n",
       " '실리다',\n",
       " '온',\n",
       " '얘기',\n",
       " '헝클어지다',\n",
       " '우리',\n",
       " '을',\n",
       " '탓',\n",
       " '순',\n",
       " '없다',\n",
       " '이제',\n",
       " '모든',\n",
       " '걸',\n",
       " '다시',\n",
       " '시작',\n",
       " '이렇게',\n",
       " '여기',\n",
       " '서',\n",
       " '끝내다',\n",
       " '순',\n",
       " '없다',\n",
       " '내겐',\n",
       " '아직도',\n",
       " '시간',\n",
       " '있다',\n",
       " '지금',\n",
       " '이렇게',\n",
       " '지금',\n",
       " '나',\n",
       " '여기',\n",
       " '서',\n",
       " '멈추다',\n",
       " '순',\n",
       " '없다',\n",
       " '이제',\n",
       " '모든',\n",
       " '걸',\n",
       " '다시',\n",
       " '시작',\n",
       " '나',\n",
       " '여기',\n",
       " '서',\n",
       " '멈추다',\n",
       " '순',\n",
       " '없다',\n",
       " '이제',\n",
       " '모든',\n",
       " '걸',\n",
       " '다시',\n",
       " '시작']"
      ]
     },
     "execution_count": 27,
     "metadata": {},
     "output_type": "execute_result"
    }
   ],
   "source": [
    "X_train[0]"
   ]
  },
  {
   "cell_type": "markdown",
   "metadata": {},
   "source": [
    "## Doc2vec"
   ]
  },
  {
   "cell_type": "code",
   "execution_count": 21,
   "metadata": {},
   "outputs": [],
   "source": [
    "common_texts_and_tags = [\n",
    "    (text, [train_data_all['제목'][train_data_all.index[i]], train_data_all['가수'][train_data_all.index[i]]],) for i, text in enumerate(X_train)]"
   ]
  },
  {
   "cell_type": "code",
   "execution_count": 22,
   "metadata": {},
   "outputs": [],
   "source": [
    "TRAIN_documents = [TaggedDocument(words=text, tags=tags) for text, tags in common_texts_and_tags]"
   ]
  },
  {
   "cell_type": "code",
   "execution_count": 23,
   "metadata": {},
   "outputs": [],
   "source": [
    "model = Doc2Vec(TRAIN_documents, vector_size=100, window=3, epochs=40, min_count=0, workers=4)"
   ]
  },
  {
   "cell_type": "code",
   "execution_count": 24,
   "metadata": {},
   "outputs": [],
   "source": [
    "model_name = \"doc2vec_100,3,40,0,4\"\n",
    "model.save(model_name)"
   ]
  },
  {
   "cell_type": "code",
   "execution_count": 25,
   "metadata": {},
   "outputs": [],
   "source": [
    "model = Doc2Vec.load(model_name)"
   ]
  },
  {
   "cell_type": "markdown",
   "metadata": {},
   "source": [
    "## K_means 클러스터링"
   ]
  },
  {
   "cell_type": "code",
   "execution_count": 26,
   "metadata": {},
   "outputs": [],
   "source": [
    "# 클러스터링 전처리\n",
    "import copy \n",
    "from gensim.models import Doc2Vec\n",
    "from keras.preprocessing.text import Tokenizer\n",
    "import numpy as np\n",
    "\n",
    "# Assuming you have already trained a Doc2Vec model and stored it in the variable 'model'\n",
    "# If not, you need to train a Doc2Vec model before using it.\n",
    "\n",
    "tokenizer = Tokenizer()\n",
    "tokenizer.fit_on_texts(train_data_all['가수'])\n",
    "X_singer = tokenizer.texts_to_sequences(train_data_all['가수'])\n",
    "\n",
    "tokenizer = Tokenizer()\n",
    "tokenizer.fit_on_texts(train_data_all['장르'])\n",
    "X_genre = tokenizer.texts_to_sequences(train_data_all['장르'])\n",
    "\n",
    "# Assuming 'model' is your trained Doc2Vec model\n",
    "X2 = [] \n",
    "for n, x_genre in enumerate(X_genre):\n",
    "    temp = []\n",
    "\n",
    "    temp.append(x_genre[0])\n",
    "    temp.append(X_singer[n][0])\n",
    "    \n",
    "    X2.append(temp)\n",
    "\n",
    "X3 = np.array(X2)\n"
   ]
  },
  {
   "cell_type": "code",
   "execution_count": 27,
   "metadata": {},
   "outputs": [
    {
     "name": "stdout",
     "output_type": "stream",
     "text": [
      "K-Means Clustering\n"
     ]
    },
    {
     "name": "stderr",
     "output_type": "stream",
     "text": [
      "/Users/seokyoung/anaconda3/envs/test/lib/python3.8/site-packages/sklearn/cluster/_kmeans.py:1416: FutureWarning: The default value of `n_init` will change from 10 to 'auto' in 1.4. Set the value of `n_init` explicitly to suppress the warning\n",
      "  super()._check_params_vs_input(X, default_n_init=10)\n"
     ]
    },
    {
     "data": {
      "text/plain": [
       "'\\nfor label, lst in cluster_dict.items():\\n    print(f\"Cluster {label}\")\\n    for x in lst:\\n        print(x)\\n'"
      ]
     },
     "execution_count": 27,
     "metadata": {},
     "output_type": "execute_result"
    }
   ],
   "source": [
    "print(\"K-Means Clustering\")\n",
    "\n",
    "\n",
    "M_KMeans = KMeans(n_clusters=8, random_state=0)\n",
    "X = X3 # document vector 전체를 가져옴. \n",
    "M_KMeans.fit(X)# fitting \n",
    "\n",
    "'''\n",
    "M_KMeans = KMeans(n_clusters=8, random_state=0)\n",
    "X = model.docvecs.vectors_docs # document vector 전체를 가져옴. \n",
    "M_KMeans.fit(X)# fitting \n",
    "'''\n",
    " \n",
    "cluster_dict = {i:[] for i in range(0,8)}\n",
    "for text_tags, label in zip(common_texts_and_tags, M_KMeans.labels_):\n",
    "    text, tags = text_tags\n",
    "    cluster_dict[label].append([tags, text])\n",
    "\n",
    "'''\n",
    "for label, lst in cluster_dict.items():\n",
    "    print(f\"Cluster {label}\")\n",
    "    for x in lst:\n",
    "        print(x)\n",
    "'''"
   ]
  },
  {
   "cell_type": "code",
   "execution_count": 28,
   "metadata": {},
   "outputs": [
    {
     "data": {
      "text/plain": [
       "{0: 2176, 1: 403, 2: 123, 3: 749, 4: 1363, 5: 541, 6: 208, 7: 55}"
      ]
     },
     "execution_count": 28,
     "metadata": {},
     "output_type": "execute_result"
    }
   ],
   "source": [
    "unique, counts = np.unique(M_KMeans.labels_, return_counts=True)\n",
    "dict(zip(unique, counts))"
   ]
  },
  {
   "cell_type": "code",
   "execution_count": 29,
   "metadata": {},
   "outputs": [
    {
     "data": {
      "text/plain": [
       "[648, 890]"
      ]
     },
     "execution_count": 29,
     "metadata": {},
     "output_type": "execute_result"
    }
   ],
   "source": [
    "list(train_data_all['제목'][train_data_all['제목']=='My Life'].index)"
   ]
  },
  {
   "cell_type": "code",
   "execution_count": 30,
   "metadata": {},
   "outputs": [
    {
     "data": {
      "text/plain": [
       "[888, 889, 890, 891, 892, 893]"
      ]
     },
     "execution_count": 30,
     "metadata": {},
     "output_type": "execute_result"
    }
   ],
   "source": [
    "list(train_data_all['가수'][train_data_all['가수']=='레드삭스'].index)"
   ]
  },
  {
   "cell_type": "code",
   "execution_count": 31,
   "metadata": {},
   "outputs": [],
   "source": [
    "gasas = []\n",
    "cluster_n = [] \n",
    "for clster in range(len(cluster_dict)):\n",
    "    #print('cluster ' + str(clster))\n",
    "    cluster_n_song = []\n",
    "    gasa = []\n",
    "    for song in cluster_dict[clster]:   \n",
    "        temp1 = list(train_data_all['제목'][train_data_all['제목']==song[0][0]].index)\n",
    "        temp2 = list(train_data_all['가수'][train_data_all['가수']==song[0][1]].index)\n",
    "        \n",
    "        for title in temp1:\n",
    "            x = -1\n",
    "            if title in temp2:\n",
    "               x = title\n",
    "               break\n",
    "\n",
    "        #print(train_data_all['제목'][x])\n",
    "        #print(train_data_all['장르'][x])\n",
    "        #print(train_data_all['가수'][x])\n",
    "        gasa.append(train_data_all['가사'][x])\n",
    "        cluster_n_song.append([train_data_all['장르'][x],train_data_all['가수'][x],train_data_all['소속사'][x],int(train_data_all['년도'][x]/10000),train_data_all['작곡'][x]])\n",
    "    cluster_n.append(cluster_n_song)\n",
    "    gasas.append(gasa)"
   ]
  },
  {
   "cell_type": "markdown",
   "metadata": {},
   "source": [
    "## Agglomerative 클러스터링"
   ]
  },
  {
   "cell_type": "code",
   "execution_count": 32,
   "metadata": {},
   "outputs": [
    {
     "name": "stdout",
     "output_type": "stream",
     "text": [
      "Agglomerative Clustering\n"
     ]
    }
   ],
   "source": [
    "print(\"Agglomerative Clustering\")\n",
    "\n",
    "n_clusters = 10\n",
    "\n",
    "M_Agglo = AgglomerativeClustering(linkage='ward',\n",
    "        connectivity=None, n_clusters=n_clusters)\n",
    "\n",
    "# Assuming 'model' is my trained Doc2Vec model\n",
    "X = model.docvecs.vectors_docs\n",
    "\n",
    "result = M_Agglo.fit_predict(X)"
   ]
  },
  {
   "cell_type": "code",
   "execution_count": 33,
   "metadata": {},
   "outputs": [
    {
     "data": {
      "text/plain": [
       "{0: 736,\n",
       " 1: 143,\n",
       " 2: 702,\n",
       " 3: 703,\n",
       " 4: 632,\n",
       " 5: 493,\n",
       " 6: 111,\n",
       " 7: 981,\n",
       " 8: 243,\n",
       " 9: 467}"
      ]
     },
     "execution_count": 33,
     "metadata": {},
     "output_type": "execute_result"
    }
   ],
   "source": [
    "unique, counts = np.unique(result, return_counts=True)\n",
    "dict(zip(unique, counts))"
   ]
  },
  {
   "cell_type": "code",
   "execution_count": 34,
   "metadata": {},
   "outputs": [],
   "source": [
    "cluster_dict1 = []\n",
    "for i in range(n_clusters):\n",
    "    cluster_dict1.append([])\n",
    "    \n",
    "for n, i in enumerate(result):\n",
    "    text, tags = common_texts_and_tags[n]\n",
    "    cluster_dict1[i].append([tags, text])"
   ]
  },
  {
   "cell_type": "code",
   "execution_count": 35,
   "metadata": {},
   "outputs": [],
   "source": [
    "gasas = []\n",
    "cluster_n = [] \n",
    "for clster in range(len(cluster_dict1)):\n",
    "    #print('cluster ' + str(clster))\n",
    "    cluster_n_song = []\n",
    "    gasa = []\n",
    "    for song in cluster_dict1[clster]:   \n",
    "        temp1 = list(train_data_all['제목'][train_data_all['제목']==song[0][0]].index)\n",
    "        temp2 = list(train_data_all['가수'][train_data_all['가수']==song[0][1]].index)\n",
    "        \n",
    "        for title in temp1:\n",
    "            x = -1\n",
    "            if title in temp2:\n",
    "               x = title\n",
    "               break\n",
    "\n",
    "        #print(train_data_all['제목'][x])\n",
    "        #print(train_data_all['장르'][x])\n",
    "        #print(train_data_all['가수'][x])\n",
    "        gasa.append(train_data_all['가사'][x])\n",
    "        cluster_n_song.append([train_data_all['장르'][x],train_data_all['가수'][x],train_data_all['소속사'][x],int(train_data_all['년도'][x]/10000),train_data_all['작곡'][x]])\n",
    "    cluster_n.append(cluster_n_song)\n",
    "    gasas.append(gasa)"
   ]
  },
  {
   "cell_type": "markdown",
   "metadata": {},
   "source": [
    "## 클러스터링 형태소 분석"
   ]
  },
  {
   "cell_type": "code",
   "execution_count": 36,
   "id": "b892e045",
   "metadata": {},
   "outputs": [
    {
     "name": "stdout",
     "output_type": "stream",
     "text": [
      "10\n"
     ]
    }
   ],
   "source": [
    "sentences_tag_n = []\n",
    "for n, cluster in enumerate(gasas):\n",
    "    sentences_tag = []\n",
    "    for sentence in cluster:\n",
    "        morph = okt.pos(sentence)\n",
    "        sentences_tag.append(morph)\n",
    "    sentences_tag_n.append(sentences_tag)\n",
    "print(len(sentences_tag_n))"
   ]
  },
  {
   "cell_type": "code",
   "execution_count": 37,
   "id": "d3d659aa",
   "metadata": {},
   "outputs": [
    {
     "name": "stderr",
     "output_type": "stream",
     "text": [
      "클러스터링 형태소 분석 진행 중: 100%|██████████| 10/10 [01:46<00:00, 10.67s/it]"
     ]
    },
    {
     "name": "stdout",
     "output_type": "stream",
     "text": [
      "10\n"
     ]
    },
    {
     "name": "stderr",
     "output_type": "stream",
     "text": [
      "\n"
     ]
    }
   ],
   "source": [
    "from tqdm import tqdm\n",
    "\n",
    "sentences_tag_n = []\n",
    "for n, cluster in tqdm(enumerate(gasas), desc=\"클러스터링 형태소 분석 진행 중\", total=len(gasas)):\n",
    "    sentences_tag = []\n",
    "    for sentence in cluster:\n",
    "        morph = okt.pos(sentence)\n",
    "        sentences_tag.append(morph)\n",
    "    sentences_tag_n.append(sentences_tag)\n",
    "\n",
    "print(len(sentences_tag_n))\n"
   ]
  },
  {
   "cell_type": "code",
   "execution_count": 38,
   "metadata": {},
   "outputs": [],
   "source": [
    "noun_adj_list_n = []\n",
    "for i in range(len(sentences_tag_n)):\n",
    "    noun_adj_list = []\n",
    "    for sentence1 in sentences_tag_n[i]:\n",
    "        for word, tag in sentence1:\n",
    "            if tag in ['Noun','Adjective']:\n",
    "                noun_adj_list.append(word)\n",
    "    noun_adj_list_n.append(noun_adj_list)"
   ]
  },
  {
   "cell_type": "code",
   "execution_count": 39,
   "metadata": {},
   "outputs": [],
   "source": [
    "banlist = ['사랑','우리','그대','나','너','내']\n",
    "for n in (noun_adj_list_n):\n",
    "    for i,v in enumerate(n):\n",
    "        if len(v) <2:\n",
    "            n.pop(i)\n",
    "            continue\n",
    "        if v in banlist:\n",
    "            n.pop(i)\n",
    "            continue"
   ]
  },
  {
   "cell_type": "code",
   "execution_count": 40,
   "metadata": {},
   "outputs": [
    {
     "data": {
      "text/plain": [
       "['너',\n",
       " '변명',\n",
       " '아무',\n",
       " '필요없잖아',\n",
       " '있던',\n",
       " '이별',\n",
       " '언제',\n",
       " '나',\n",
       " '싫증',\n",
       " '알',\n",
       " '있었지',\n",
       " '맘',\n",
       " '변했다는',\n",
       " '난',\n",
       " '이제',\n",
       " '변명',\n",
       " '듣기',\n",
       " '싫어',\n",
       " '마음',\n",
       " '변했다는걸',\n",
       " '너',\n",
       " '있어',\n",
       " '짧은',\n",
       " '기억',\n",
       " '아무런',\n",
       " '변명',\n",
       " '짧았던',\n",
       " '만남',\n",
       " '그냥',\n",
       " '기억',\n",
       " '아무런',\n",
       " '변명',\n",
       " '짧았던',\n",
       " '만남',\n",
       " '그냥',\n",
       " '기억',\n",
       " '이제',\n",
       " '나',\n",
       " '마음',\n",
       " '날',\n",
       " '이제',\n",
       " '어떤',\n",
       " '말로',\n",
       " '위로',\n",
       " '변명',\n",
       " '너',\n",
       " '이유',\n",
       " '없어',\n",
       " '아무런',\n",
       " '사랑',\n",
       " '기억',\n",
       " '이제',\n",
       " '어떤',\n",
       " '그냥',\n",
       " '수',\n",
       " '너',\n",
       " '변명',\n",
       " '아무',\n",
       " '필요없잖아',\n",
       " '이별',\n",
       " '언제',\n",
       " '나',\n",
       " '싫증',\n",
       " '알',\n",
       " '있었지',\n",
       " '맘',\n",
       " '변했다는',\n",
       " '아무런',\n",
       " '변명',\n",
       " '짧았던',\n",
       " '만남',\n",
       " '그냥',\n",
       " '기억',\n",
       " '아무런',\n",
       " '변명',\n",
       " '짧았던',\n",
       " '만남',\n",
       " '그냥',\n",
       " '기억',\n",
       " '이제',\n",
       " '나',\n",
       " '마음',\n",
       " '날',\n",
       " '이제',\n",
       " '어떤',\n",
       " '말로',\n",
       " '위로',\n",
       " '변명',\n",
       " '너',\n",
       " '이유',\n",
       " '없어',\n",
       " '이제',\n",
       " '변명',\n",
       " '듣기',\n",
       " '싫어',\n",
       " '마음',\n",
       " '변했다는걸',\n",
       " '너',\n",
       " '있어',\n",
       " '짧은',\n",
       " '기억',\n",
       " '아무런',\n",
       " '사랑',\n",
       " '기억',\n",
       " '이제',\n",
       " '어떤',\n",
       " '그냥',\n",
       " '수',\n",
       " '지금',\n",
       " '좋아한다고',\n",
       " '해도',\n",
       " '지금',\n",
       " '뿐일지도',\n",
       " '너',\n",
       " '나',\n",
       " '마음',\n",
       " '너',\n",
       " '모든',\n",
       " '좋아하지만',\n",
       " '지금',\n",
       " '두려움',\n",
       " '앞서',\n",
       " '많은',\n",
       " '생각',\n",
       " '가로',\n",
       " '있지만',\n",
       " '보고',\n",
       " '그냥',\n",
       " '고마울',\n",
       " '너',\n",
       " '순수한',\n",
       " '마음',\n",
       " '예쁘게',\n",
       " '왜',\n",
       " '그런지',\n",
       " '모두',\n",
       " '어려운',\n",
       " '난',\n",
       " '누군가',\n",
       " '어딘가',\n",
       " '지금',\n",
       " '멀리',\n",
       " '누가',\n",
       " '있어',\n",
       " '누군가',\n",
       " '어딘가',\n",
       " '우린',\n",
       " '향',\n",
       " '주위',\n",
       " '항상',\n",
       " '어둠',\n",
       " '뿐이었지',\n",
       " '있는건',\n",
       " '힘든',\n",
       " '숨소리',\n",
       " '하나',\n",
       " '뿐',\n",
       " '희망',\n",
       " '후회',\n",
       " '난',\n",
       " '이제',\n",
       " '저',\n",
       " '없는',\n",
       " '향',\n",
       " '있어',\n",
       " '누군가',\n",
       " '어딘가',\n",
       " '지금',\n",
       " '멀리',\n",
       " '누가',\n",
       " '있어',\n",
       " '누군가',\n",
       " '어딘가',\n",
       " '우린',\n",
       " '향',\n",
       " '생각',\n",
       " '있는거야',\n",
       " '나',\n",
       " '모두',\n",
       " '마찬가지',\n",
       " '내게로',\n",
       " '있는',\n",
       " '나',\n",
       " '소중한',\n",
       " '나',\n",
       " '이제',\n",
       " '언제',\n",
       " '힘들지만은',\n",
       " '비록',\n",
       " '지금',\n",
       " '수',\n",
       " '없어도',\n",
       " '지금',\n",
       " '힘들어도',\n",
       " '새로운',\n",
       " '모습',\n",
       " '힘든',\n",
       " '수많은',\n",
       " '나',\n",
       " '더욱',\n",
       " '많은',\n",
       " '남아',\n",
       " '있을',\n",
       " '희망',\n",
       " '후회',\n",
       " '난',\n",
       " '이제',\n",
       " '내',\n",
       " '있는',\n",
       " '향',\n",
       " '있어',\n",
       " '누군가',\n",
       " '어딘가',\n",
       " '지금',\n",
       " '멀리',\n",
       " '누가',\n",
       " '있어',\n",
       " '누군가',\n",
       " '어딘가',\n",
       " '우리',\n",
       " '향',\n",
       " '누군가',\n",
       " '어딘가',\n",
       " '지금',\n",
       " '멀리',\n",
       " '누가',\n",
       " '있어',\n",
       " '누군가',\n",
       " '어딘가',\n",
       " '우린',\n",
       " '향',\n",
       " '곳',\n",
       " '따스한',\n",
       " '햇살아래',\n",
       " '세상',\n",
       " '아름다워',\n",
       " '지난',\n",
       " '시간',\n",
       " '가슴',\n",
       " '해지',\n",
       " '노을',\n",
       " '그림',\n",
       " '붉게',\n",
       " '그리움',\n",
       " '하나',\n",
       " '순',\n",
       " '없어',\n",
       " '변함',\n",
       " '없는',\n",
       " '마음',\n",
       " '간직',\n",
       " '위해',\n",
       " '다시',\n",
       " '파라다이스',\n",
       " '사랑',\n",
       " '향',\n",
       " '기다림',\n",
       " '알',\n",
       " '있잖아',\n",
       " '처음',\n",
       " '오직',\n",
       " '하나',\n",
       " '이란',\n",
       " '그리움',\n",
       " '하나',\n",
       " '순',\n",
       " '없어',\n",
       " '변함',\n",
       " '없는',\n",
       " '마음',\n",
       " '간직',\n",
       " '위해',\n",
       " '다시',\n",
       " '파라다이스',\n",
       " '사랑',\n",
       " '향',\n",
       " '기다림',\n",
       " '알',\n",
       " '있잖아',\n",
       " '처음',\n",
       " '오직',\n",
       " '하나',\n",
       " '이란',\n",
       " '없어',\n",
       " '우린',\n",
       " '초라한',\n",
       " '모습',\n",
       " '싫어',\n",
       " '무엇',\n",
       " '네',\n",
       " '친구',\n",
       " '뿐',\n",
       " '남아',\n",
       " '있는',\n",
       " '또',\n",
       " '다른',\n",
       " '아쉬움',\n",
       " '그래',\n",
       " '카페',\n",
       " '낯',\n",
       " '얼굴',\n",
       " '낯설지가',\n",
       " '따가웠던',\n",
       " '시선',\n",
       " '무엇',\n",
       " '것',\n",
       " '같아',\n",
       " '얘길',\n",
       " '취미',\n",
       " '혈액형',\n",
       " '스타일',\n",
       " '동네',\n",
       " '전화번호',\n",
       " '삐삐',\n",
       " '번호',\n",
       " '맘',\n",
       " '매일',\n",
       " '진실한',\n",
       " '없어',\n",
       " '알',\n",
       " '같아',\n",
       " '나',\n",
       " '아무',\n",
       " '의미',\n",
       " '없는',\n",
       " '시간',\n",
       " '지나',\n",
       " '없어',\n",
       " '우린',\n",
       " '초라한',\n",
       " '모습',\n",
       " '싫어',\n",
       " '무엇',\n",
       " '네',\n",
       " '친구',\n",
       " '뿐',\n",
       " '남아',\n",
       " '있는',\n",
       " '또',\n",
       " '다른',\n",
       " '아쉬움',\n",
       " '음악',\n",
       " '있는',\n",
       " '구석',\n",
       " '사진',\n",
       " '아마',\n",
       " '지난',\n",
       " '여름',\n",
       " '내',\n",
       " '다정했던',\n",
       " '지금',\n",
       " '혼자',\n",
       " '내',\n",
       " '없어',\n",
       " '전화하고',\n",
       " '매일',\n",
       " '진실한',\n",
       " '없어',\n",
       " '알',\n",
       " '같아',\n",
       " '나',\n",
       " '의미',\n",
       " '없는',\n",
       " '시간',\n",
       " '지나',\n",
       " '없어',\n",
       " '우린',\n",
       " '초라한',\n",
       " '모습',\n",
       " '싫어',\n",
       " '무엇',\n",
       " '네',\n",
       " '친구',\n",
       " '뿐이었어',\n",
       " '남아',\n",
       " '있는건',\n",
       " '다른',\n",
       " '아쉬움',\n",
       " '세상',\n",
       " '사람',\n",
       " '모두',\n",
       " '다른',\n",
       " '색깔',\n",
       " '있지',\n",
       " '이런',\n",
       " '사람',\n",
       " '저런',\n",
       " '사람',\n",
       " '세상',\n",
       " '혼잡한지',\n",
       " '멋있는',\n",
       " '여자',\n",
       " '보이',\n",
       " '자기',\n",
       " '뒷전',\n",
       " '왕자',\n",
       " '자기',\n",
       " '주병',\n",
       " '여자',\n",
       " '같은',\n",
       " '세상',\n",
       " '지금',\n",
       " '어떡해야',\n",
       " '동화',\n",
       " '왕자',\n",
       " '공주',\n",
       " '많을까',\n",
       " '아빠',\n",
       " '몰래',\n",
       " '가지',\n",
       " '이런',\n",
       " '저런',\n",
       " '여자',\n",
       " '유혹',\n",
       " '지면',\n",
       " '화장',\n",
       " '다시',\n",
       " '요즘',\n",
       " '목적',\n",
       " '있는',\n",
       " '그렇다면',\n",
       " '여기',\n",
       " '말로',\n",
       " '동화',\n",
       " '같은',\n",
       " '세상',\n",
       " '지금',\n",
       " '어떡해야',\n",
       " '동화',\n",
       " '왕자',\n",
       " '공주',\n",
       " '많을까',\n",
       " '요즘',\n",
       " '목적',\n",
       " '있는',\n",
       " '그렇다면',\n",
       " '여기',\n",
       " '말로',\n",
       " '동화',\n",
       " '같은',\n",
       " '세상',\n",
       " '지금',\n",
       " '어떡해야',\n",
       " '동화',\n",
       " '왕자',\n",
       " '공주',\n",
       " '많아',\n",
       " '같은',\n",
       " '세상',\n",
       " '지금',\n",
       " '어떡해야',\n",
       " '동화',\n",
       " '왕자',\n",
       " '공주',\n",
       " '많을까',\n",
       " '넌',\n",
       " '좋은',\n",
       " '친구',\n",
       " '줄',\n",
       " '부터',\n",
       " '내겐',\n",
       " '다른',\n",
       " '느낌',\n",
       " '좋은',\n",
       " '싫은',\n",
       " '화만',\n",
       " '자존심',\n",
       " '필욘',\n",
       " '없잖아',\n",
       " '그래',\n",
       " '사실',\n",
       " '말',\n",
       " '얘기',\n",
       " '있는데',\n",
       " '화난',\n",
       " '말',\n",
       " '투정',\n",
       " '네',\n",
       " '네',\n",
       " '마음속',\n",
       " '진실',\n",
       " '이상',\n",
       " '순',\n",
       " '없어',\n",
       " '누군가',\n",
       " '얘기',\n",
       " '물어',\n",
       " '널',\n",
       " '좋은',\n",
       " '싫은',\n",
       " '화만',\n",
       " '자존심',\n",
       " '필욘',\n",
       " '없잖아',\n",
       " '그래',\n",
       " '사실',\n",
       " '말',\n",
       " '얘기',\n",
       " '있는데',\n",
       " '화난',\n",
       " '말',\n",
       " '투정',\n",
       " '네',\n",
       " '네',\n",
       " '마음속',\n",
       " '진실',\n",
       " '이상',\n",
       " '순',\n",
       " '없어',\n",
       " '누군가',\n",
       " '얘기',\n",
       " '물어',\n",
       " '널',\n",
       " '젠',\n",
       " '마음속',\n",
       " '진실',\n",
       " '이상',\n",
       " '순',\n",
       " '없어',\n",
       " '누군가',\n",
       " '얘기',\n",
       " '물어',\n",
       " '널',\n",
       " '지난',\n",
       " '시간',\n",
       " '오지',\n",
       " '알',\n",
       " '기억',\n",
       " '그대로',\n",
       " '아픈',\n",
       " '상처',\n",
       " '안고',\n",
       " '있지만',\n",
       " '힘들어',\n",
       " '오늘밤',\n",
       " '생각',\n",
       " '이',\n",
       " '길거릴',\n",
       " '홀로',\n",
       " '방황',\n",
       " '있다',\n",
       " '재작년',\n",
       " '맘때',\n",
       " '즐거웠던',\n",
       " '째즈',\n",
       " '슬픈',\n",
       " '음악',\n",
       " '선율',\n",
       " '담배',\n",
       " '연기',\n",
       " '뿌연',\n",
       " '구석',\n",
       " '자리',\n",
       " '너',\n",
       " '생각',\n",
       " '어둔',\n",
       " '조명',\n",
       " '아래',\n",
       " '마치',\n",
       " '마치',\n",
       " '듯',\n",
       " '착각',\n",
       " '이제',\n",
       " '슬퍼하진',\n",
       " '맘',\n",
       " '없으니',\n",
       " '시간',\n",
       " '해결',\n",
       " '전',\n",
       " '항상',\n",
       " '혼자',\n",
       " '같은',\n",
       " '하늘',\n",
       " '아래',\n",
       " '서로',\n",
       " '외면',\n",
       " '고통스러워',\n",
       " '사랑',\n",
       " '실속',\n",
       " '홀로',\n",
       " '쓸쓸히',\n",
       " '너',\n",
       " '항상',\n",
       " '행복하길',\n",
       " '축복',\n",
       " '있다',\n",
       " '수많은',\n",
       " '어둔밤',\n",
       " '못',\n",
       " '오직',\n",
       " '대한',\n",
       " '생각',\n",
       " '너',\n",
       " '또한',\n",
       " '대한',\n",
       " '지난',\n",
       " '아픈',\n",
       " '깊은',\n",
       " '추억',\n",
       " '마음',\n",
       " '깊이',\n",
       " '그리워',\n",
       " '무척',\n",
       " '궁금하다',\n",
       " '젠',\n",
       " '우연',\n",
       " '필연',\n",
       " '가끔',\n",
       " '보더',\n",
       " '있는데',\n",
       " '이제',\n",
       " '슬퍼하진',\n",
       " '맘속',\n",
       " '없으니',\n",
       " '시간',\n",
       " '해결',\n",
       " '전',\n",
       " '항상',\n",
       " '혼자',\n",
       " '같은',\n",
       " '하늘',\n",
       " '아래',\n",
       " '서로',\n",
       " '외면',\n",
       " '고통스러워',\n",
       " '사랑',\n",
       " '실속',\n",
       " '홀로',\n",
       " '쓸쓸히',\n",
       " '지난',\n",
       " '시간',\n",
       " '오지',\n",
       " '알',\n",
       " '기억',\n",
       " '그대로',\n",
       " '아픈',\n",
       " '상처',\n",
       " '안고',\n",
       " '있지만',\n",
       " '힘들어',\n",
       " '같은',\n",
       " '하늘',\n",
       " '아래',\n",
       " '서로',\n",
       " '외면',\n",
       " '어지러웠지',\n",
       " '힘들었었지',\n",
       " '때',\n",
       " '두통',\n",
       " '작년',\n",
       " '재작년',\n",
       " '처음',\n",
       " '날',\n",
       " '지금',\n",
       " '한번',\n",
       " '편할',\n",
       " '없었어',\n",
       " '여기',\n",
       " '저기',\n",
       " '구해',\n",
       " '만큼',\n",
       " '자신',\n",
       " '비참해',\n",
       " '로부터',\n",
       " '중독',\n",
       " '엄마',\n",
       " '두통',\n",
       " '높은',\n",
       " '직장',\n",
       " '명함',\n",
       " '배고픈',\n",
       " '자의',\n",
       " '아픈',\n",
       " '머리',\n",
       " '제때',\n",
       " '최고',\n",
       " '공부',\n",
       " '아픈',\n",
       " '머리',\n",
       " '일류',\n",
       " '학교',\n",
       " '낫',\n",
       " '강아지',\n",
       " '아픈',\n",
       " '머리',\n",
       " '주인',\n",
       " '폭력',\n",
       " '모두',\n",
       " '그만한',\n",
       " '일로',\n",
       " '아프다',\n",
       " '수',\n",
       " '있는',\n",
       " '이유',\n",
       " '있어',\n",
       " '겨우',\n",
       " '아파',\n",
       " '별거',\n",
       " '아닌데',\n",
       " '아픔',\n",
       " '고치',\n",
       " '이상',\n",
       " '힘들어',\n",
       " '시시한',\n",
       " '고민',\n",
       " '빠삐용',\n",
       " '뭔가',\n",
       " '아주',\n",
       " '거짓',\n",
       " '살길',\n",
       " '바랬',\n",
       " '다른',\n",
       " '욕심',\n",
       " '그러',\n",
       " '작다고',\n",
       " '수가',\n",
       " '없다는',\n",
       " '알',\n",
       " '너',\n",
       " '중독',\n",
       " '정말',\n",
       " '대론',\n",
       " '수',\n",
       " '없어',\n",
       " '아픔',\n",
       " '엄마',\n",
       " '두통',\n",
       " '높은',\n",
       " '직장',\n",
       " '명함',\n",
       " '배고픈',\n",
       " '자의',\n",
       " '아픈',\n",
       " '머리',\n",
       " '제때',\n",
       " '최고',\n",
       " '공부',\n",
       " '아픈',\n",
       " '머리',\n",
       " '일류',\n",
       " '학교',\n",
       " '낫',\n",
       " '강아지',\n",
       " '아픈',\n",
       " '머리',\n",
       " '주인',\n",
       " '폭력',\n",
       " '모두',\n",
       " '그만한',\n",
       " '일로',\n",
       " '아프다',\n",
       " '수',\n",
       " '있는',\n",
       " '이유',\n",
       " '있어',\n",
       " '겨우',\n",
       " '아파',\n",
       " '별거',\n",
       " '아닌데',\n",
       " '세상',\n",
       " '사람',\n",
       " '원해',\n",
       " '고민',\n",
       " '너',\n",
       " '나',\n",
       " '처럼',\n",
       " '아픔',\n",
       " '고치',\n",
       " '이상',\n",
       " '힘들어',\n",
       " '시시한',\n",
       " '고민',\n",
       " '빠삐용',\n",
       " '나나',\n",
       " '나나',\n",
       " '나나',\n",
       " '나나',\n",
       " '나나',\n",
       " '나나',\n",
       " '나나',\n",
       " '나나',\n",
       " '나나',\n",
       " '나나',\n",
       " '나나',\n",
       " '나나',\n",
       " '나',\n",
       " '나나',\n",
       " '나나',\n",
       " '나나',\n",
       " '항상',\n",
       " '생각',\n",
       " '잠시',\n",
       " '자리',\n",
       " '허전한',\n",
       " '느낌',\n",
       " '뿐이었던',\n",
       " '아마',\n",
       " '많은',\n",
       " '섣불리',\n",
       " '잡기',\n",
       " '싫었나',\n",
       " '나',\n",
       " '모습',\n",
       " '아주',\n",
       " '멀리',\n",
       " '것',\n",
       " '같아',\n",
       " '그랬나',\n",
       " '사랑',\n",
       " '이제',\n",
       " '혼자',\n",
       " '사랑',\n",
       " '작고',\n",
       " '예뻤지',\n",
       " '항상',\n",
       " '자유롭게',\n",
       " '원했었지',\n",
       " '가끔',\n",
       " '다시',\n",
       " '아쉬움',\n",
       " '니',\n",
       " '졸업',\n",
       " '겨울',\n",
       " '너',\n",
       " '기다림',\n",
       " '안부',\n",
       " '얘기',\n",
       " '어떤',\n",
       " '남자',\n",
       " '결혼',\n",
       " '그랬나',\n",
       " '사랑',\n",
       " '처음',\n",
       " '이런',\n",
       " '비참한',\n",
       " '기분',\n",
       " '이제',\n",
       " '혼자',\n",
       " '사랑',\n",
       " '언제',\n",
       " '모습',\n",
       " '항상',\n",
       " '변치',\n",
       " '그대로',\n",
       " '바랬나봐',\n",
       " '가끔',\n",
       " '널',\n",
       " '그랬나',\n",
       " '사랑',\n",
       " '처음',\n",
       " '이런',\n",
       " '비참한',\n",
       " '기분',\n",
       " '이제',\n",
       " '혼자',\n",
       " '사랑',\n",
       " '나나',\n",
       " '나나',\n",
       " '나나',\n",
       " '나나',\n",
       " '나나',\n",
       " '나나',\n",
       " '나나',\n",
       " '나나',\n",
       " '나나',\n",
       " '나나',\n",
       " '나나',\n",
       " '나나',\n",
       " '나',\n",
       " '나나',\n",
       " '나나',\n",
       " '나나',\n",
       " '기억',\n",
       " '기억',\n",
       " '지나',\n",
       " '기억',\n",
       " '기억',\n",
       " '말',\n",
       " '말',\n",
       " '마음대로',\n",
       " '안되는',\n",
       " '이유',\n",
       " '너',\n",
       " '바로',\n",
       " '데',\n",
       " '데',\n",
       " '리도',\n",
       " '혼란',\n",
       " '널',\n",
       " '포기',\n",
       " '없는건데',\n",
       " '그런건데',\n",
       " '나쁜',\n",
       " '정말',\n",
       " '안되겠다',\n",
       " '이해',\n",
       " '너',\n",
       " '수',\n",
       " '없을것',\n",
       " '같다',\n",
       " '한번',\n",
       " '그렇게만',\n",
       " '너',\n",
       " '있지만',\n",
       " '그대로',\n",
       " '그런',\n",
       " '생각',\n",
       " '수',\n",
       " '난',\n",
       " '자신',\n",
       " '없어',\n",
       " '이제야',\n",
       " '너',\n",
       " '모습',\n",
       " '뺨',\n",
       " '눈물',\n",
       " '살수',\n",
       " '없다',\n",
       " '이제',\n",
       " '해',\n",
       " '가슴',\n",
       " '아파',\n",
       " '없어',\n",
       " '이름',\n",
       " '가슴속',\n",
       " '어도',\n",
       " '내겐',\n",
       " '하나',\n",
       " '없었는데',\n",
       " '곁',\n",
       " '훌쩍',\n",
       " '심',\n",
       " '부담',\n",
       " '너',\n",
       " '사랑',\n",
       " '크기',\n",
       " '만약',\n",
       " '너',\n",
       " '사랑',\n",
       " '모습',\n",
       " '뺨',\n",
       " '눈물',\n",
       " '살수',\n",
       " '없다',\n",
       " '이제',\n",
       " '해',\n",
       " '가슴',\n",
       " '아파',\n",
       " '없어',\n",
       " '이름',\n",
       " '가슴속',\n",
       " '어도',\n",
       " '힘들어',\n",
       " '너',\n",
       " '너',\n",
       " '편한지',\n",
       " '네',\n",
       " '모두',\n",
       " '있는지',\n",
       " '그렇',\n",
       " '못',\n",
       " '미련',\n",
       " '채',\n",
       " '못',\n",
       " '너',\n",
       " '생각',\n",
       " '있을',\n",
       " '그래',\n",
       " '어서',\n",
       " '필요하다고',\n",
       " '어서',\n",
       " '내겐',\n",
       " '필요한데',\n",
       " '네겐',\n",
       " '불필요한지',\n",
       " '그런지',\n",
       " '이유',\n",
       " '어서',\n",
       " '말',\n",
       " '필요',\n",
       " '없는지',\n",
       " '네',\n",
       " '대체',\n",
       " '마음',\n",
       " '나',\n",
       " '해',\n",
       " '혹시',\n",
       " '있니',\n",
       " '멋지단',\n",
       " '미스터',\n",
       " '코리아',\n",
       " '멋진',\n",
       " '배우',\n",
       " '지금',\n",
       " '모습',\n",
       " '나진',\n",
       " '니',\n",
       " '웃기',\n",
       " '좀마',\n",
       " '세상',\n",
       " ...]"
      ]
     },
     "execution_count": 40,
     "metadata": {},
     "output_type": "execute_result"
    }
   ],
   "source": [
    "noun_adj_list_n[0]"
   ]
  },
  {
   "cell_type": "code",
   "execution_count": 46,
   "metadata": {},
   "outputs": [],
   "source": [
    "import matplotlib.font_manager as fm\n",
    "import matplotlib.pyplot as plt\n",
    "\n",
    "font = fm.FontEntry(\n",
    "    fname=r'./NanumSquareNeo-Variable.ttf',   # ttf 파일이 저장되어 있는 경로\n",
    "    name='NanumGothic')                        # 이 폰트의 원하는 이름 설정\n",
    "fm.fontManager.ttflist.insert(0, font)              # Matplotlib에 폰트 추가\n",
    "plt.rcParams.update({'font.size': 10, 'font.family': 'NanumGothic'}) # 폰트 설정\n"
   ]
  },
  {
   "cell_type": "code",
   "execution_count": 58,
   "metadata": {},
   "outputs": [
    {
     "name": "stdout",
     "output_type": "stream",
     "text": [
      "Collecting wordcloud\n",
      "  Downloading wordcloud-1.9.2.tar.gz (222 kB)\n",
      "\u001b[2K     \u001b[90m━━━━━━━━━━━━━━━━━━━━━━━━━━━━━━━━━━━━━━━\u001b[0m \u001b[32m222.8/222.8 kB\u001b[0m \u001b[31m1.9 MB/s\u001b[0m eta \u001b[36m0:00:00\u001b[0ma \u001b[36m0:00:01\u001b[0m\n",
      "\u001b[?25h  Preparing metadata (setup.py) ... \u001b[?25ldone\n",
      "\u001b[?25hRequirement already satisfied: numpy>=1.6.1 in /Users/seokyoung/anaconda3/envs/test/lib/python3.8/site-packages (from wordcloud) (1.24.3)\n",
      "Requirement already satisfied: pillow in /Users/seokyoung/anaconda3/envs/test/lib/python3.8/site-packages (from wordcloud) (10.0.1)\n",
      "Requirement already satisfied: matplotlib in /Users/seokyoung/anaconda3/envs/test/lib/python3.8/site-packages (from wordcloud) (3.7.4)\n",
      "Requirement already satisfied: contourpy>=1.0.1 in /Users/seokyoung/anaconda3/envs/test/lib/python3.8/site-packages (from matplotlib->wordcloud) (1.1.1)\n",
      "Requirement already satisfied: cycler>=0.10 in /Users/seokyoung/anaconda3/envs/test/lib/python3.8/site-packages (from matplotlib->wordcloud) (0.12.1)\n",
      "Requirement already satisfied: fonttools>=4.22.0 in /Users/seokyoung/anaconda3/envs/test/lib/python3.8/site-packages (from matplotlib->wordcloud) (4.44.3)\n",
      "Requirement already satisfied: kiwisolver>=1.0.1 in /Users/seokyoung/anaconda3/envs/test/lib/python3.8/site-packages (from matplotlib->wordcloud) (1.4.5)\n",
      "Requirement already satisfied: packaging>=20.0 in /Users/seokyoung/anaconda3/envs/test/lib/python3.8/site-packages (from matplotlib->wordcloud) (23.2)\n",
      "Requirement already satisfied: pyparsing>=2.3.1 in /Users/seokyoung/anaconda3/envs/test/lib/python3.8/site-packages (from matplotlib->wordcloud) (3.1.1)\n",
      "Requirement already satisfied: python-dateutil>=2.7 in /Users/seokyoung/anaconda3/envs/test/lib/python3.8/site-packages (from matplotlib->wordcloud) (2.8.2)\n",
      "Requirement already satisfied: importlib-resources>=3.2.0 in /Users/seokyoung/anaconda3/envs/test/lib/python3.8/site-packages (from matplotlib->wordcloud) (6.1.1)\n",
      "Requirement already satisfied: zipp>=3.1.0 in /Users/seokyoung/anaconda3/envs/test/lib/python3.8/site-packages (from importlib-resources>=3.2.0->matplotlib->wordcloud) (3.17.0)\n",
      "Requirement already satisfied: six>=1.5 in /Users/seokyoung/anaconda3/envs/test/lib/python3.8/site-packages (from python-dateutil>=2.7->matplotlib->wordcloud) (1.16.0)\n",
      "Building wheels for collected packages: wordcloud\n",
      "  Building wheel for wordcloud (setup.py) ... \u001b[?25ldone\n",
      "\u001b[?25h  Created wheel for wordcloud: filename=wordcloud-1.9.2-cp38-cp38-macosx_11_0_arm64.whl size=154108 sha256=f2ee9c42bfb62cc73abc062d62b288b0d56c58c6181ae0eec563916a465726bd\n",
      "  Stored in directory: /Users/seokyoung/Library/Caches/pip/wheels/91/ec/76/830440a234d211054cf724db3a3c30b66709ad1685ac9618fa\n",
      "Successfully built wordcloud\n",
      "Installing collected packages: wordcloud\n",
      "Successfully installed wordcloud-1.9.2\n"
     ]
    }
   ],
   "source": [
    "!pip install wordcloud"
   ]
  },
  {
   "cell_type": "code",
   "execution_count": 41,
   "metadata": {},
   "outputs": [
    {
     "name": "stdout",
     "output_type": "stream",
     "text": [
      "[('너', 989), ('내', 810), ('나', 689), ('사랑', 689), ('없어', 492), ('시간', 469), ('마음', 460), ('이제', 450), ('다시', 450), ('맘', 424)]\n",
      "[('내', 178), ('너', 164), ('나', 121), ('사랑', 115), ('맘', 103), ('이제', 99), ('없어', 79), ('오늘', 79), ('난', 75), ('사람', 74)]\n",
      "[('너', 945), ('내', 719), ('사랑', 659), ('나', 606), ('이제', 461), ('다시', 457), ('없어', 427), ('난', 387), ('마음', 386), ('시간', 380)]\n",
      "[('너', 942), ('내', 813), ('나', 655), ('사랑', 640), ('맘', 443), ('없어', 441), ('사람', 415), ('난', 413), ('지금', 400), ('이제', 400)]\n",
      "[('너', 818), ('내', 758), ('사랑', 615), ('나', 586), ('맘', 409), ('이제', 391), ('마음', 377), ('사람', 376), ('없어', 366), ('지금', 360)]\n",
      "[('너', 695), ('내', 538), ('사랑', 483), ('나', 461), ('생각', 315), ('사람', 313), ('이제', 310), ('없어', 308), ('난', 298), ('다시', 288)]\n",
      "[('너', 155), ('내', 150), ('나', 89), ('지금', 87), ('마음', 84), ('맘', 83), ('날', 74), ('없는', 71), ('오늘', 70), ('없어', 59)]\n",
      "[('너', 1239), ('내', 1090), ('사랑', 1016), ('나', 925), ('이제', 740), ('마음', 655), ('맘', 646), ('없어', 631), ('다시', 601), ('사람', 589)]\n",
      "[('너', 395), ('내', 281), ('사랑', 264), ('나', 244), ('이제', 210), ('다시', 178), ('없어', 170), ('모두', 156), ('마음', 147), ('생각', 143)]\n",
      "[('너', 663), ('내', 578), ('나', 412), ('사랑', 374), ('없어', 345), ('맘', 324), ('난', 279), ('사람', 272), ('다시', 265), ('마음', 260)]\n"
     ]
    }
   ],
   "source": [
    "from collections import Counter\n",
    "from wordcloud import WordCloud\n",
    "for n in (noun_adj_list_n):\n",
    "    counts = Counter(n)\n",
    "    print(counts.most_common(10))"
   ]
  },
  {
   "cell_type": "markdown",
   "metadata": {},
   "source": [
    "## 클러스터링 데이터 분석"
   ]
  },
  {
   "cell_type": "code",
   "execution_count": 42,
   "metadata": {},
   "outputs": [
    {
     "name": "stdout",
     "output_type": "stream",
     "text": [
      "cluster 0\n",
      "736\n",
      "[('댄스', 344), ('발라드', 145), ('랩/힙합', 85), ('록/메탈', 51), ('R&B/Soul', 33), ('J-POP', 32), ('댄스, 랩/힙합', 9), ('발라드, 댄스', 7), ('발라드, 국내드라마', 5), ('댄스, R&B/Soul', 4), ('POP', 3), ('발라드, 국내영화', 2), ('EMPTY', 2), ('댄스, 국내영화', 2), ('국내드라마', 2), ('댄스, 국내드라마', 2), ('인디음악, 포크/블루스', 2), ('발라드, R&B/Soul', 1), ('발라드 ', 1), ('발라드, 댄스, 국내드라마', 1), ('댄스, 애니메이션/웹툰, 키즈, 만화', 1), ('포크/블루스', 1), ('재즈, 애시드/퓨전/팝', 1)]\n",
      "[('동방신기', 33), ('방탄소년단', 30), ('빅뱅', 25), ('TWICE (트와이스)', 22), ('마마무 (Mamamoo)', 21), ('버즈', 17), ('세븐틴', 17), ('여자친구 (GFRIEND)', 17), ('Red Velvet (레드벨벳)', 16), ('브라운 아이드 걸스', 14), ('슈퍼주니어', 14), ('GOT7 (갓세븐)', 13), ('케이팝', 12), ('더블에스오공일', 12), ('몬스타엑스', 12), ('업텐션 (UP10TION)', 12), ('쥬얼리', 11), ('에프티 아일랜드', 10), ('DAY6 (데이식스)', 10), ('제이워크', 9), ('파란', 9), ('WINNER', 9), ('샤크라', 8), ('엑스라지', 8), ('러블리즈', 8), ('스누퍼 (SNUPER)', 8), ('에이프릴 (APRIL)', 8), ('iKON', 8), ('디베이스', 7), ('JTL', 7), ('엔플라잉 (N.Flying)', 7), ('파파야', 6), ('오션', 6), ('카라', 6), ('샤이니', 6), ('CLC', 6), ('소나무 (SONAMOO)', 6), ('DIA (다이아)', 6), ('데자부', 5), ('천상지희 더 그레이스', 5), ('아이유', 5), ('소년공화국 (Boys Republic)', 5), ('히스토리', 5), ('밀크', 4), ('악동 클럽 ', 4), ('에스', 4), ('원더걸스', 4), ('써니힐', 4), ('투에이엠', 4), ('티아라', 4), ('탑독', 4), ('빅플로', 4), ('멜로디데이 (MelodyDay)', 4), ('오마이걸 (OH MY GIRL)', 4), ('베리굿 (BerryGood)', 4), ('터보', 3), ('블랙 비트', 3), ('신비', 3), ('씽', 3), ('티맥스', 3), ('에이스타일', 3), ('투피엠', 3), ('인피니트', 3), ('스피드', 3), ('레이디스 코드', 3), ('JJCC (제이제이씨씨)', 3), ('라붐 (LABOUM)', 3), ('로미오 (ROMEO)', 3), ('태연 (TAEYEON)', 3), ('Zion.T', 3), ('EXO', 3), ('잼', 2), ('에스지', 2), ('샤모니', 2), ('투야', 2), ('큐오큐', 2), ('스위티', 2), ('보이스립', 2), ('모닝', 2), ('스매쉬 ', 2), ('트랙스', 2), ('제이하트', 2), ('타키온', 2), ('초신성', 2), ('소녀시대', 2), ('유키스', 2), ('포미닛', 2), ('레인보우', 2), ('비스트', 2), ('이효리', 2), ('2AM', 2), ('울랄라세션', 2), ('버스커 버스커', 2), ('씨스타', 2), ('싸이', 2), ('Wa$$up ', 2), ('UNIQ (유니크)', 2), ('블락비 바스타즈', 2), ('맵식스 (MAP6)', 2), ('비아이지 (B.I.G)', 2), ('어반자카파', 2), ('비에이 (Be.A)', 2), ('볼빨간사춘기', 2), ('헤이즈 (Heize)', 2), ('VAV', 2), ('노이즈', 1), ('서태지와 아이들', 1), ('듀스', 1), ('더 블루', 1), ('Hamohamo', 1), ('R.ef', 1), ('솔리드', 1), ('H.O.T.', 1), ('T.N.B', 1), ('원타임', 1), ('에스이에스', 1), ('쿨 (COOL)', 1), ('god', 1), ('클레오', 1), ('티티마', 1), ('플래티넘', 1), ('보이스코', 1), ('보이 클럽', 1), ('스맥스', 1), ('엘프', 1), ('오렌지', 1), ('애프터 스쿨', 1), ('에프엑스', 1), ('시크릿', 1), ('엠블랙', 1), ('씨야, 다비치, 티아라', 1), ('은지원', 1), ('브라운 아이드 소울', 1), ('간미연', 1), ('가비엔제이', 1), ('백지영', 1), ('허각', 1), ('서인국', 1), ('GD&TOP', 1), ('틴탑', 1), ('달샤벳', 1), ('김보경', 1), ('김그림', 1), ('씨스타19', 1), ('서인영', 1), ('2PM', 1), ('처진 달팽이 (유재석 & 이적)', 1), ('김준수', 1), ('지나', 1), ('리쌍', 1), ('에이핑크', 1), ('장재인', 1), ('헬로비너스', 1), ('f(x)', 1), ('김재중', 1), ('프라이머리', 1), ('2YOON (포미닛 투윤)', 1), ('제아파이브', 1), ('LC9', 1), ('디아,키스 & 크라이', 1), ('크레용팝,비에이 (Be.A),단발머리,짠짠', 1), ('인피니트H', 1), ('매드타운 (MADTOWN)', 1), ('베스티', 1), ('엔오엠', 1), ('칠학년일반', 1), ('Pro C (프로씨)', 1), ('워너비 (WANNA.B)', 1), ('케이윌,씨스타,보이프렌드,매드클라운,정기고,주영,몬스타엑스', 1), ('지민 (AOA)', 1), ('하현우 (국카스텐)', 1), ('장범준', 1), ('이하이', 1), ('EXID', 1), ('업텐션 (선율, 진후, 비토)', 1), ('유재석', 1), ('케이윌', 1), ('김희철', 1), ('아이오아이 (I.O.I)', 1), ('블락비 (Block B)', 1), ('비투비', 1), ('하이라이트 (Highlight)', 1), ('러버소울 (Rubber Soul)', 1), ('국민의 아들', 1), ('지코 (ZICO)', 1), ('빅스LR', 1), ('풍뎅이 (PDE)', 1), ('Crush', 1), ('BLACKPINK', 1), ('양다일', 1), ('IZ*ONE (아이즈원)', 1), ('케이윌,소유 (SOYOU),보이프렌드,몬스타엑스,우주소녀,유승우,브라더수', 1), ('청하', 1), ('전소미', 1), ('디오 (D.O.)', 1), ('노을,엔플라잉 (N.Flying)', 1)]\n",
      "[('(주)SM엔터테인먼트', 76), ('JYP 엔터테인먼트', 45), ('빅히트 엔터테인먼트', 30), ('DSP 미디어', 25), ('(주)YG엔터테인먼트', 25), ('SM 엔터테인먼트', 23), ('RBW', 21), ('YG 엔터테인먼트', 19), ('스타쉽 엔터테인먼트', 18), ('인넥스트트렌드', 17), ('플레디스 엔터테인먼트', 17), ('쏘스 뮤직', 17), (nan, 14), ('에이팝엔터테인먼트', 14), ('스타제국', 13), ('티오피 미디어', 13), ('미래 엔터테인먼트', 12), ('FNC엔터테인먼트', 11), ('(주)JYP엔터테인먼트', 11), ('상마인드', 10), ('울림 엔터테인먼트', 10), ('주식회사 엘리야엔터테인먼트', 9), ('글로벌에이치미디어', 9), ('MBK 엔터테인먼트', 9), ('키스 엔터테인먼트', 8), ('DSP미디어', 8), ('로엔 엔터테인먼트', 8), ('위드메이', 8), ('FNC 엔터테인먼트', 8), ('H2 엔터테인먼트', 7), ('예전 미디어', 7), ('큐브 엔터테인먼트', 7), ('SM엔터테인먼트', 6), ('윈섬 미디어', 6), ('EMPTY', 6), ('JT Corea Entertainment', 6), ('큐브엔터테인먼트', 6), ('TS 엔터테인먼트', 6), ('MBK엔터테인먼트', 5), ('유니버설 뮤직. 해피트라이브 엔터테인먼트', 5), ('YG엔터테인먼트', 4), ('CJ E&M', 4), ('후너스 엔터테인먼트', 4), ('에이치오컴퍼니', 4), ('로엔 엔터테인먼트, 뷰가 엔터테인먼트', 4), ('WM 엔터테인먼트', 4), ('아시아브릿지 엔터테인먼트', 4), ('THE BLACK LABEL', 4), ('EDAM엔터테인먼트', 4), ('더 터보 컴퍼니', 3), ('씽엔터테인먼트', 3), ('플래닛구공오', 3), ('Stone Music Entertainment', 3), ('일광폴라리스 엔터테인먼트', 3), ('더 잭키 찬 그룹 코리아', 3), ('크롬 엔터테인먼트', 3), ('NH 미디어. 내가네트워크', 3), ('세븐시즌스', 3), ('CT 엔터테인먼트', 3), ('스펠 엔터테인먼트', 2), ('Astars 엔터테인먼트', 2), ('MPLAN 엔터테인먼트', 2), ('J&H 미디어', 2), ('마루기획(주)', 2), ('플레이엠 엔터테인먼트', 2), ('카카오 M', 2), ('JYP 엔터테인먼트 & 빅히트 엔터테인먼트', 2), ('씨제스엔터테인먼트', 2), ('울림엔터테인먼트', 2), ('마피아 레코드', 2), ('위에화 엔터테인먼트', 2), ('지앤아이 엔터테인먼트', 2), ('드림티 엔터테인먼트', 2), ('GH 엔터테인먼트', 2), ('(주)메이크어스엔터테인먼트', 2), ('쇼파르뮤직', 2), ('Stone Music Entertainment, Studio blu', 2), ('에이팀', 2), ('라인 기획', 1), ('요요 기획', 1), ('예당 음향 (예당 컴퍼니)', 1), ('뮤직 팩토리', 1), ('팀 엔터테인먼트', 1), ('비앤비', 1), ('쿨컴퍼니', 1), ('싸이더스HQ', 1), ('뮤직팩토리', 1), ('DR 뮤직', 1), ('자이브 레코드', 1), ('시즌 엔터테인먼트', 1), ('STN 엔터테인먼트', 1), ('오렌지엔터테인먼트', 1), ('플레디스', 1), ('(주)앤에이취이엠쥐', 1), ('티에스이엔티이알', 1), ('제이튠캠프', 1), ('지와이엠엔터테인먼트', 1), ('인넥스트 트렌드', 1), ('NH EMG', 1), ('쏘스뮤직', 1), ('Good Fellas Entertainment', 1), ('트라이어스', 1), ('젤리피쉬엔터테인먼트', 1), ('티오피미디어', 1), ('해피페이스 엔터테인먼트', 1), ('Sony Music', 1), ('넥스타엔터테인먼트', 1), ('JYP엔터테인먼트', 1), ('뮤직팜', 1), ('리쌍컴퍼니', 1), ('뉴에라프로젝트', 1), ('YG Entertainment', 1), ('트라이셀미디어', 1), ('SM Entertainment', 1), ('아메바컬쳐', 1), ('내가네트워크', 1), ('위닝인사이트엠', 1), ('YNB 엔터테인먼트', 1), ('제이엠스타 엔터테인먼트', 1), ('다른별 엔터테인먼트', 1), ('제니스 미디어 콘텐츠', 1), ('(주)인터파크', 1), ('(주)버스커버스커', 1), ('에이오엠지', 1), ('바나나컬쳐', 1), ('YMC엔터테인먼트', 1), ('어라운드어스이엔티', 1), ('해피트라이브 엔터테인먼트. 위드에이치씨', 1), ('KOZ 엔터테인먼트', 1), ('젤리피쉬 엔터테인먼트', 1), ('DoMA 엔터테인먼트', 1), ('피네이션', 1), ('브랜뉴뮤직', 1), ('오프더레코드', 1), ('MNH엔터테인먼트', 1)]\n",
      "[(2017, 78), (2016, 71), (2018, 67), (2008, 54), (2015, 53), (2006, 51), (2019, 46), (2007, 38), (2002, 37), (2009, 37), (2014, 30), (2001, 22), (2003, 20), (2004, 20), (2005, 19), (2011, 17), (2010, 16), (2000, 14), (2012, 14), (2013, 12), (1996, 4), (1997, 4), (1999, 4), (1998, 3), (1993, 2), (1995, 2), (1992, 1)]\n",
      "[('EMPTY', 77), ('유영진', 7), (nan, 6), ('박진영', 6), ('SWEETUNE', 6), ('박근태', 5), ('이민수', 5), ('G-DRAGON', 5), ('한상원', 5), ('용감한 형제', 5), ('박우상', 5), ('용배 (RBW),이기', 5), ('이현도', 4), ('주영훈', 4), ('이재원', 4), ('박해운', 4), ('Kenzie', 4), ('조영수', 4), ('김승수', 4), ('원준 (ONE JUNN),인광', 4), ('노주환,이원종', 4), ('김성태', 3), ('Do', 3), ('박창현', 3), ('김진훈', 3), ('고석영', 3), ('윤우현', 3), ('전승우', 3), ('KENZIE', 3), ('한성호', 3), ('KUSH (쿠시)', 3), ('e.one', 3), ('Chloe,NODAY', 3), ('UCKU', 3), ('WOOZI (SEVENTEEN),박기태,BUMZU', 3), ('WOOZI (SEVENTEEN),BUMZU,Anchor', 3), ('윤일상', 2), ('Papertonic', 2), ('이용민', 2), ('신상근', 2), ('Wave Dream', 2), ('안성일', 2), ('김형석', 2), ('윤치웅', 2), ('Chrischan', 2), ('JK Lee', 2), ('정진수', 2), ('이상준', 2), ('김도현', 2), ('김세진', 2), ('민명기', 2), ('ISRAEL DWAINE CRUZ', 2), ('GROOVIE K, 박준하', 2), ('K. Ingwersen', 2), ('한승훈', 2), ('TEDDY', 2), ('Daishi Dance', 2), ('김도훈 (RBW)', 2), ('김희원', 2), ('안영민', 2), ('BAHNUS', 2), ('한재호, 김승수', 2), ('이적', 2), ('김도훈', 2), ('장범준', 2), ('정균', 2), ('SUGA,RM,Pdogg,Slow Rabbit,j-hope', 2), ('텐조와 타스코,이단옆차기', 2), ('1Piece', 2), ('창조,허성진', 2), ('J. Yoon', 2), ('박우상,김도훈 (RBW)', 2), ('홍지상,원필 (DAY6),이우민 `collapsedone`,Young K', 2), ('블랙아이드 필승,라도', 2), ('Rodnae `Chikk` Bell', 2), ('MZMC', 2), ('서원진', 2), ('WOOZI (SEVENTEEN),BUMZU', 2), ('조현아 (어반자카파)', 2), ('김도훈 (RBW),SUGA,방시혁,RM,Pdogg,j-hope', 2), ('Ferdy (MosPick),Megatone (13)', 2), ('이종훈', 2), ('Pdogg,방시혁,Supreme Boi', 2), ('안지영', 2), ('케빈오빠,재도기,Young K', 2), ('정호현 (e.one)', 2), ('정호현 (e.one),최현준 (V.O.S)', 2), ('13', 2), ('강욱진,B.I', 2), ('Tablo,B.I', 2), ('강승윤,MINO (송민호),AiRPLAY', 2), ('송재경,MNEK,SUGA,Tyler Acord,RM,j-hope', 2), ('MosPick', 2), ('Andy Love,Daniel Mikael Wold,Ryan S. Jhun,Hanif Hitmanic Sabzevari', 2), ('김창환', 1), ('서태지', 1), ('김민종', 1), ('안정훈', 1), ('홍재선', 1), ('페리', 1), ('Risto', 1), ('이철원', 1), ('이윤상', 1), ('김준환', 1), ('p/t', 1), ('신인수', 1), ('윤승환', 1), ('조규만', 1), ('이제이', 1), ('Henning Sommerro', 1), ('우은증', 1), ('방승철', 1), ('변상현, 주민', 1), ('송백경', 1), ('이성제', 1), ('심상원', 1), ('류정수', 1), ('김명직', 1), ('정훈', 1), ('Unknown', 1), ('TABIAS KEGAELIND,  장우혁', 1), ('안성준', 1), ('장우혁', 1), ('하정호', 1), ('전준규', 1), ('Groovie. K', 1), ('Chang-Hyun Park', 1), ('Nagano', 1), ('꼬마', 1), ('윤상', 1), ('강타 (KANGTA)', 1), ('원상우', 1), ('구모후', 1), ('이현승', 1), ('이병준', 1), ('기세인', 1), ('성훈 (브라운 아이드 소울)', 1), ('윤재상', 1), ('김한규', 1), ('남이정', 1), ('오광석', 1), ('손성희', 1), ('김지후', 1), ('유한진', 1), ('이윤재', 1), ('바비 킴', 1), ('김태우', 1), ('민웅식', 1), ('김태현', 1), ('니아', 1), ('이규원', 1), ('신상우', 1), ('페리 ', 1), ('Jos Jorgensen', 1), ('이지은', 1), ('오승은', 1), ('안지홍', 1), ('류재현', 1), ('류광민', 1), ('이정현', 1), ('김승현', 1), ('서의범', 1), ('류형섭', 1), ('장준호', 1), ('YOUNG H.KIM', 1), ('송재준', 1), ('김조한', 1), ('박유천', 1), ('Michael McGregor', 1), ('유건형', 1), ('이채규', 1), ('성우석', 1), ('김진수', 1), ('외국곡', 1), ('Daniel Pandher', 1), ('강우현', 1), ('박현중', 1), ('심재건', 1), ('김영아, 정성헌', 1), ('홍지상', 1), ('김현서', 1), ('서정진', 1), ('H, 원태연', 1), ('Alex Cantrall', 1), ('김태성', 1), ('Lucas Secon', 1), ('김영후', 1), ('RAINSTONE', 1), ('조석연', 1), ('Alejandro Sanz', 1), ('SHAINE FREEMAN', 1), ('별들의 전쟁 (GALACTIKA *)', 1), ('김동률', 1), ('DE VILLER DANE ANTHONY', 1), ('정성헌', 1), ('Perry', 1), ('이영훈', 1), ('Yoshihiko Chino (知野芳彦)', 1), ('Daichi', 1), ('황성제', 1), ('김승수, 송수윤, 한재호', 1), ('Philippe-Marc Anquetil', 1), ('Sean Kumar', 1), ('마리오, 전지윤, 황성진', 1), ('신사동호랭이, 전혜원', 1), ('강지원', 1), ('태완 (Taewan)', 1), ('박준하', 1), ('Jimmy Richard', 1), ('슈퍼창따이', 1), ('오성훈', 1), ('허윤원', 1), ('이재명', 1), ('최현준 (V.O.S)', 1), ('신사동 호랭이, 이상호', 1), ('김세진, 서정진', 1), ('브라운 아이드 소울', 1), ('김기범,강지원', 1), ('방시혁', 1), ('전해성', 1), ('Pal Waaktaar', 1), ('최갑원, PEEJAY', 1), ('TEDDY, 선우정아', 1), ('휘성, Redd Stylez', 1), ('이트라이브', 1), ('Fukuyama Masaharu', 1), ('강은경', 1), ('박형중', 1), ('DJ Juice, 길', 1), ('한재호, 김승수, YUE', 1), ('라도, 신사동 호랭이', 1), ('G-DRAGON, DJ Murf, PEEJAY', 1), ('이단옆차기', 1), ('조영수, 김태현', 1), ('Kenny Loggins, Dean Pitchford, 싸이 (PSY), 유건형', 1), ('Joachim Vermeulen Windsant, Maarten Ten Hove, Willem Laseroms', 1), ('김태현, 조영수', 1), ('임동균', 1), ('싸이 (PSY), 유건형', 1), ('유희열, 김태훈', 1), ('프라이머리', 1), ('Ichiro Suezawa,이단옆차기', 1), ('전지윤 (JENYER),박수석,임상혁', 1), ('차쿤,별들의 전쟁 (GALACTIKA *),미쓰리', 1), ('엔느,에이팀', 1), ('SUGA,Supreme Boi,방시혁,RM,Pdogg', 1), ('박근태,Anne Judith Wik,Ronny Svendsen,Nermin Harambasic,Martin Mulholland', 1), ('김동휘,Detune3,Kidoh,박수현', 1), ('레드락', 1), ('이윤지,Deanfluenza,Jordan Kyle,Hyuk Shin (153/Joombas)', 1), ('KZ', 1), ('삼박자', 1), ('DEEZ', 1), ('Xepy,연수', 1), ('홍지상,박진영', 1), ('Mr. Cho', 1), ('디아 (DIAA),타이비언', 1), ('라디오갤럭시,우태운', 1), ('Pdogg', 1), ('모니터펀치,DEEZ', 1), ('박진영,NODAY', 1), ('배진렬 (JR Groove),앤드류 최', 1), ('엄진,배영준,김지수', 1), ('강승윤,The Fliptones,MINO (송민호)', 1), ('오준성', 1), ('SUGA,Supreme Boi,RM,Pdogg,j-hope', 1), ('DK,M Rey,Hyuk Shin (153/Joombas)', 1), ('홍지상,Dr.JO', 1), ('110403,Daniel Kim,Paul Najjar', 1), ('SUGA,방시혁,RM,Pdogg,j-hope,Thanh Bui', 1), ('진짜사나이,나다 (NADA),B.O.K', 1), ('HighTop,정균', 1), ('은종태', 1), ('라이머,ASSBRASS,HOYA (호야)', 1), ('YELLA D (옐라디)', 1), ('Pdogg,Slow Rabbit,정국,진', 1), ('서정환', 1), ('한재호,이창현,김승수,홍승현', 1), ('Daniel Obi Klein,Charlotte Taft', 1), ('DOM,KENZIE,Teddy Riley,Charlotte Taft,이현승', 1), ('이주형 (MonoTree),G-High (MonoTree)', 1), ('Ferdy (MosPick),예아나이스 (MosPick)', 1), ('그루비룸 (GroovyRoom),P.O (피오)', 1), ('Andreas Oberg,Sean Alexander,Avenue 52,Rinat Arinos', 1), ('키겐', 1), ('KZ,장이정 (JANGYIJEONG)', 1), ('Ferdy (MosPick),빅싼초 (Yummy Tone),Lee Brian D', 1), ('서재우 (TENTEN),손영진 (MosPick),빅싼초 (Yummy Tone)', 1), ('WOOZI (SEVENTEEN),리시,마스터키', 1), ('리시', 1), ('DK,Jordan Kyle,Ben Parris,Hyuk Shin (153/Joombas),Deanfluenza,Jeffery Yoo', 1), ('서재우 (TENTEN),화사 (Hwa Sa),김도훈 (RBW)', 1), ('서용배 (TENTEN),박우상', 1), ('Charles `Chizzy` Stephens III,STEVEN BATTEY,CARLOS BATTEY,Gavin Jones,C Minor,Jackie Boyz,Jay Dmuchowski', 1), ('이수현', 1), ('마르코', 1), ('라디오갤럭시,이단옆차기', 1), ('ButterFly', 1), ('일당백,안형석,기현석', 1), ('MR.CHO,청담동박건우,DAY6 (데이식스),전정훈', 1), ('MGMZ', 1), ('몬스터팩토리', 1), ('박성호', 1), ('DK,Ju seon Kim,Hyuk Shin (153/Joombas),Beat&Keys,Jayrah Gibson', 1), ('Ryan Marrone,Julia Michaels,Chloe Leighton,Garrick Smith', 1), ('이강,구름', 1), ('흑린,새벽3시', 1), ('위한샘,북극곰', 1), ('B.I,BOBBY,TEDDY,CHOICE37', 1), ('B.I,로빈', 1), ('JB (GOT7),Dr.JO', 1), ('MachWave,이준엽', 1), ('김원', 1), ('브라더수,SUGA,방시혁,RM,Pdogg,Slow Rabbit,j-hope', 1), ('더 네임,메가톤', 1), ('박아셀,이주형 (MonoTree),김유석 (MonoTree)', 1), ('VIP', 1), ('흑태,준타,박찬', 1), ('강승윤,강욱진', 1), ('최영경,G-High (MonoTree)', 1), ('김도훈 (RBW),이현승', 1), ('박우상,Daniel Palm,Ellen Berg Tollbom', 1), ('이후상,S2REN (사이렌)', 1), ('김도훈 (RBW),이단옆차기', 1), ('제인호,DOM,이현승', 1), ('Jordan Fisher', 1), ('캡틴시하', 1), ('Daniel Kim,JB (GOT7),박지연', 1), ('장기준', 1), ('Nuplay,Young K,Jae,Walter Pok,도운,Neiil Nallas,성진,원필 (DAY6)', 1), ('원필 (DAY6),Young K,성진,FRANTS', 1), ('주태영', 1), ('양시온,Kissmaker', 1), ('명랑한 운동부,윤수일', 1), ('황현 (MonoTree)', 1), ('SUGA,방시혁,정국,RM,Pdogg,Slow Rabbit,j-hope', 1), ('V,SUGA,방시혁,정국,RM,Pdogg,j-hope', 1), ('마르코,Kuan', 1), ('이주형 (MonoTree),G-High (MonoTree),권덕근', 1), ('예아나이스 (MosPick),손영진 (MosPick)', 1), ('LE (EXID)', 1), ('서용배 (TENTEN),이기', 1), ('안영민,예빈 (다이아)', 1), ('Andreas Oberg,Maria Marcus,Tahiti Lenoni,Johan Becker', 1), ('블랙아이드 필승', 1), ('새벽,진리 (Full8loom),영광의 얼굴들 (Full8loom)', 1), ('박수석,Wonderkid,김창락 (CR Kim),영(0)', 1), ('박수석,Paul Rein,Ava Kay,슬리피,Marie Rein', 1), ('김진환', 1), ('WOOZI (SEVENTEEN),동네형,BUMZU,원영헌', 1), ('earattack,리시,마크 (GOT7)', 1), ('야마아트,동네형,원영헌,ESBEE', 1), ('Andreas Oberg,Maja Keuc,김원,Simon Petren', 1), ('Otha `Vakseen` Davis III', 1), ('Bee', 1), ('Ye-Yo!', 1), ('earattack,변방의 킥소리,JB (GOT7),리시', 1), ('999,Davey Nate,Jayrah Gibson,Hyuk Shin (153/Joombas)', 1), ('Pdogg,j-hope,RM', 1), ('Pdogg,프라이머리,j-hope', 1), ('강지원,Kei Lim', 1), ('김도훈 (RBW),신민', 1), ('SUGA,RM,Pdogg,j-hope,ADORA', 1), ('차길완', 1), ('WOOZI (SEVENTEEN),민규 (SEVENTEEN),BUMZU,Anchor', 1), ('Aaron Benward', 1), ('야마아트', 1), ('Megatone (13)', 1), ('Ilanguaq `ilang` Lumholt,Premo,박상일', 1), ('1601', 1), ('일 (IL)', 1), ('Stereo14,리시,ESBEE', 1), ('Vo3e,zomay,5$,1MAD,Xepy', 1), ('주헌 (몬스타엑스),Ye-Yo!', 1), ('강승윤,강욱진,MINO (송민호)', 1), ('별나라 언니', 1), ('Andreas Ohrn,Chris Wahle,가면라이더', 1), ('서재하,김영성,감동is', 1), ('BUMZU', 1), ('이단옆차기,Bull$EyE (불스아이)', 1), ('JUNB,WILLIUS,오지훈', 1), ('XEFIX82', 1), ('Good Life', 1), ('최초아,김예슬,이상열,고영환', 1), ('Flow Blow', 1), ('홍지상,Swanthewhitepig,이우민 `collapsedone`,Young K,Jae,성진,원필 (DAY6)', 1), ('홍지상,원필 (DAY6),Young K', 1), ('덩크 (DUNK),명랑한 운동부,김범룡', 1), ('화사 (Hwa Sa),김도훈 (RBW),솔라 (마마무)', 1), ('파이어뱃(RBW),비오 (B.O.)', 1), ('SUN,윤영민', 1), ('Poptime', 1), ('LOHI,Xepy,이경민', 1), ('김창락 (CR Kim),조세희', 1), ('박은우,박수석,봉원석', 1), ('윤종신,진바이진,유희열', 1), ('라비 (RAVI),러니 (RUNY),PUFF', 1), ('Anna Timgren,Fuxxy,Any Masingga,VINCENZO', 1), ('SUGA,Kass,방시혁,Supreme Boi,RM,Pdogg', 1), ('Allison Kaplan,Matthew Tishler,RM', 1), ('노는어린이,ZigZag Note', 1), ('이병우', 1), ('박광현', 1), ('이미지스 (IMAGES),뱀뱀 (GOT7),Say', 1), ('진리 (Full8loom),양갱,영광의 얼굴들 (Full8loom)', 1), ('zomay,real-fantasy,오브로스', 1), ('Kriz,Poptime', 1), ('우혜림,FRANTS', 1), ('earattack,Fox Stevenson', 1), ('케빈오빠', 1), ('WOOZI (SEVENTEEN),동네형,BUMZU,원영헌,야마아트', 1), ('Desiigner,Steve Aoki,Tayla Parx,Supreme Boi,방시혁,플로우식 (Flowsik),RM,Pdogg,j-hope,Shae Jacobs', 1), ('Andreas Ohrn,Chris Wahle,Thomas Harsem', 1), ('서용배 (TENTEN),김창락 (CR Kim),조세희,Cesar Peralta', 1), ('한승훈,조세희,정진욱', 1), ('밍지션,이동훈,Ellen Berg Tollbom', 1), ('Yu-ki Kokubo,YHANAEL,NA.ZU.NA', 1), ('Malin Johansson,Susumu Kawaguchi,Albin Nordqvist', 1), ('추대관 (MonoTree),NOPARI (MonoTree),재리포터 (YummyTONE)', 1), ('다비 (DAVII)', 1), ('남기상,Any Masingga,권선익', 1), ('Daniel Kim,Caesar&Luoi', 1), ('강승윤,AiRPLAY', 1), ('MINO (송민호),MILLENNIUM', 1), ('강승윤,AiRPLAY,이승훈', 1), ('드라이브킹,도마현,케이던스', 1), ('탁 (TAK),원택 (1Take)', 1), ('MAYFLY,zomay,real-fantasy,Bello,BIG HAND,오브로스', 1), ('원호 (WONHO),JJB', 1), ('Crush', 1), ('Jonas Mengler,Justin Reinstein', 1), ('Lauren Kaori,Kohei Yokono', 1), ('Martin Luke Brown,정바비,SUGA,Orla Gartland,RM,Pdogg,j-hope,ADORA', 1), ('SUGA,방시혁,RM,Pdogg,j-hope,ADORA', 1), ('SUGA,신명수,RM,j-hope,DOCSKIM', 1), ('FUTURE BOUNCE', 1), ('Nuvocity', 1), ('Ryan S. Jhun,LDN Noise,Deanna Dellacioppa,Taylor Parks', 1), ('Daniel Caesar,Ludwig Lindell', 1), ('강욱진,B.I,godok', 1), ('Jonatan Gusmark,Ludvig Evers,Cazzi Opeia,Ellen Berg Tollbom', 1), ('박수석,Daniel Durn,Katrine `Neya` Klith,김태성,봉원석', 1), ('SUGA,Supreme Boi,방시혁,진보,RM,Pdogg', 1), ('Tomajo', 1), ('Lauren Kaori,ArmySlick', 1), ('Secret Weapon,Maria Marcus,Fast Lane,Lisa Desmond', 1), ('Andy Love,David Amber', 1), ('SUGA,Supreme Boi,RM,Pdogg,Roman Campolo,j-hope', 1), ('Dewain Whitmore,Joshua Golden,Michael Wyckoff,Britt Burton,Patrick `J. Que` Smith,유영진,Harvey Mason Jr.,R!ot', 1), ('김동휘,더 네임,KingMing', 1), ('박해일 (Yummy Tone),권필립,재리포터 (YummyTONE)', 1), ('뉴찬스 (New Chance),에이나 (AYNA)', 1), ('홍지상,Young K,Jae,성진,원필 (DAY6)', 1), ('탁 (TAK),원택 (1Take),페이퍼플래닛 (Paper Planet)', 1), ('소피야 (Sophiya),이우민 `collapsedone`,Jamie (제이미),J.Y. Park `The Asiansoul`,Justin Reinstein,영광의 얼굴들 (Full8loom),이해솔,진리 (Full8loom)', 1), ('Malin Johansson,Fredrik `Figge` Bostrom,Atsushi Shimada', 1), ('J.Y. Park `The Asiansoul`,Hae Sol Lee', 1), ('Louise Frick Sveen,Atsushi Shimada,Albin Nordqvist', 1), ('Yu-ki Kokubo,NA.ZU.NA', 1), ('전군', 1), ('B.I,FUTURE BOUNCE', 1), ('손고은 (MonoTree)', 1), ('Vernon (SEVENTEEN),BUMZU,Poptime', 1), ('Anchor,BUMZU', 1), ('Stereo14,Daniel Kim,Ti', 1), ('이우민 `collapsedone`,J.Y. Park `The Asiansoul`', 1), ('주은,Flame,예빈 (다이아)', 1), ('세인트반 (St.Van),PUFF', 1), ('Ryan S. Jhun,Pietro Lombardi,Georg Maier,Kenneth Gloeckler,Boris Fleck,Stard Ova', 1), ('김보선,타이비언,mOnSteR nO.9', 1), ('PlayBall,P.O (피오)', 1), ('Marcus McCoan,Camilla Anne Stewart,방시혁,Owen Roberts,Max Lynedoch Graham,RM,j-hope,Matty Thomson', 1), ('Benjy Gibson,SUGA,Jo Hill,RM,Fred Gibson,j-hope,Ed Sheeran', 1), ('전군,블랙아이드 필승,라도', 1), ('Willie Weeks,Steven Lee,Becky Jerams', 1), ('Ashley Alisha (153/Joombas),M Rey,Hyuk Shin (153/Joombas)', 1), ('Ryan S. Jhun,Henri Vuortenvrita,Anna Timgren', 1), ('강승윤,MINO (송민호),AiRPLAY,FUTURE BOUNCE', 1), ('정호현 (e.one),SEION', 1), ('엔플라잉 (N.Flying),이승협 (J.DON),Yuzuru Kusugo', 1), ('엔플라잉 (N.Flying),이승협 (J.DON),TIENOWA', 1), ('이승협 (J.DON),김수빈 (AIMING)', 1), ('배희경', 1), ('Sara Forsberg,Otha `Vakseen` Davis III,MZMC,The Colleagues,Leven Kali,Jamil `Digi` Chammas,Tay Jasper,Harrison Johnson,Karl Powell', 1), ('전소미', 1), ('Caesar & Loui,Ollipop,Hayley Aitken,Olof Lindskog,Daniel Caesar,Ludwig Lindell', 1), ('Moonshine,Cazzi Opeia,Ellen Berg Tollbom', 1), ('Ryan S. Jhun,Anna Isback,Pontus PJ Ljung,Hanif Hitmanic Sabzevari,Dennis DeKo Kordnejad', 1), ('Terence Lam', 1), ('C-no,웅킴,이기', 1), ('Supreme Boi,방시혁,Ali Tamposi,RM,Pdogg,Roman Campolo', 1), ('이승주', 1), ('Andreas Oberg,Allison Kaplan,Christoffer Lauridsen', 1), ('강균성 (노을),타스코', 1), ('WOOZI (SEVENTEEN),BUMZU,Simon Petren', 1), ('Andres Torres,Jake Torrey,Mauricio Rengifo,Michael Matosic', 1)]\n",
      "cluster 1\n",
      "143\n",
      "[('댄스', 55), ('발라드', 29), ('록/메탈', 14), ('J-POP', 12), ('랩/힙합', 10), ('발라드, 국내드라마', 6), ('R&B/Soul', 5), ('댄스, 국내드라마', 4), ('POP', 2), ('발라드, 댄스', 1), ('EMPTY', 1), ('포크/블루스', 1), ('성인가요', 1), ('인디음악, 포크/블루스', 1), ('록/메탈, 국내드라마', 1)]\n",
      "[('TWICE (트와이스)', 13), ('DAY6 (데이식스)', 6), ('WINNER', 5), ('방탄소년단', 5), ('라붐 (LABOUM)', 5), ('제이워크', 4), ('마마무 (Mamamoo)', 4), ('쥬얼리', 3), ('동방신기', 3), ('슈퍼주니어', 3), ('투하트 (우현, 키)', 3), ('오마이걸 (OH MY GIRL)', 3), ('장범준', 3), ('로미오 (ROMEO)', 3), ('VAV', 3), ('몬스타엑스', 3), ('JTL', 2), ('트랙스', 2), ('카라', 2), ('천상지희 더 그레이스', 2), ('에프티 아일랜드', 2), ('빅뱅', 2), ('HIGH4 (하이포)', 2), ('DIA (다이아)', 2), ('GOT7 (갓세븐)', 2), ('소년공화국 (Boys Republic)', 2), ('CLC', 2), ('선미', 2), ('iKON', 2), ('베리굿 (BerryGood)', 2), ('세븐틴', 2), ('Red Velvet (레드벨벳)', 2), ('보이스립', 1), ('스매쉬 ', 1), ('초신성', 1), ('써니힐', 1), ('소녀시대', 1), ('오렌지', 1), ('샤이니', 1), ('티맥스', 1), ('포미닛', 1), ('빅뱅, 트랜스 픽션', 1), ('정용화', 1), ('지나', 1), ('탑독', 1), ('비트윈 (BEATWIN)', 1), ('베스티', 1), ('에이코어 (A.KOR)', 1), ('스피카.S', 1), ('로꼬,마마무 (Mamamoo)', 1), ('JJCC (제이제이씨씨)', 1), ('블락비 바스타즈', 1), ('여자친구 (GFRIEND)', 1), ('폴킴', 1), ('양다일', 1), ('멜로디데이 (MelodyDay)', 1), ('정키', 1), ('소나무 (SONAMOO)', 1), ('김연자,다이아,홍진영', 1), ('빅스LR', 1), ('헤이즈 (Heize)', 1), ('에이프릴 (APRIL)', 1), ('다비치', 1), ('케이윌', 1), ('핫샷 (HOTSHOT)', 1), ('러블리즈', 1), ('볼빨간사춘기', 1), ('Ellie Goulding,Diplo,Red Velvet (레드벨벳)', 1), ('엔플라잉 (N.Flying)', 1), ('태연 (TAEYEON)', 1), ('업텐션 (UP10TION)', 1), ('X1 (엑스원)', 1), ('딘딘,뮤지,엔플라잉 (N.Flying)', 1), ('UV,노을,딘딘,엔플라잉 (N.Flying)', 1)]\n",
      "[('JYP 엔터테인먼트', 21), ('(주)SM엔터테인먼트', 13), ('YG 엔터테인먼트', 7), ('빅히트 엔터테인먼트', 5), ('NH 미디어. 내가네트워크', 5), ('RBW', 5), ('주식회사 엘리야엔터테인먼트', 4), ('스타쉽 엔터테인먼트', 4), ('스타제국', 3), ('FNC엔터테인먼트', 3), ('SM 엔터테인먼트. 울림 엔터테인먼트', 3), ('MBK 엔터테인먼트', 3), ('WM 엔터테인먼트', 3), ('(주)버스커버스커', 3), ('CT 엔터테인먼트', 3), ('에이팀', 3), ('SM 엔터테인먼트', 3), ('FNC 엔터테인먼트', 3), ('예전 미디어', 2), ('DSP미디어', 2), ('(주)YG엔터테인먼트', 2), ('큐브엔터테인먼트', 2), ('N.A.P. 엔터테인먼트', 2), ('유니버설 뮤직. 해피트라이브 엔터테인먼트', 2), ('큐브 엔터테인먼트', 2), ('(주)메이크어스엔터테인먼트', 2), ('아시아브릿지 엔터테인먼트', 2), ('플레디스 엔터테인먼트', 2), (nan, 1), ('EMPTY', 1), ('마루기획(주)', 1), ('로엔 엔터테인먼트', 1), ('오렌지엔터테인먼트', 1), ('플래닛구공오', 1), ('YG엔터테인먼트', 1), ('후너스 엔터테인먼트', 1), ('골드문 뮤직, 에렌 엔터테인먼트', 1), ('YNB 엔터테인먼트', 1), ('두리퍼블릭 엔터테인먼트', 1), ('CJ E&M, B2M 엔터테인먼트', 1), ('더 잭키 찬 그룹 코리아', 1), ('세븐시즌스', 1), ('쏘스 뮤직', 1), ('뉴런뮤직', 1), ('브랜뉴뮤직', 1), ('로엔 엔터테인먼트, 뷰가 엔터테인먼트', 1), ('도우즈 레코즈', 1), ('TS 엔터테인먼트', 1), ('젤리피쉬 엔터테인먼트', 1), ('Stone Music Entertainment, Studio blu', 1), ('DSP 미디어', 1), ('Stone Music Entertainment, B2M Entertainment', 1), ('케이오사운드/아더앤에이블/스타크루이엔티', 1), ('울림 엔터테인먼트', 1), ('쇼파르뮤직', 1), ('티오피 미디어', 1), ('스윙 엔터테인먼트', 1)]\n",
      "[(2019, 26), (2018, 23), (2017, 20), (2014, 19), (2007, 15), (2015, 10), (2016, 8), (2004, 5), (2009, 5), (2008, 3), (2000, 1), (2001, 1), (2002, 1), (2003, 1), (2005, 1), (2006, 1), (2010, 1), (2011, 1), (2012, 1)]\n",
      "[('EMPTY', 8), ('장범준', 3), ('홍지상,Young K,Jae,성진,원필 (DAY6)', 3), ('김도훈 (RBW)', 2), ('Pdogg,SUGA,j-hope,RM', 2), ('신사동 호랭이,몬스터팩토리', 2), ('Avenue 52,Kendall Gaveck,Sean Alexander,Darren Smith', 2), ('정키', 2), ('Ryan S. Jhun,Play-N-Skillz,Young An,YELLA D (옐라디)', 2), ('Andy Love,Daniel Mikael Wold,Ryan S. Jhun,Hanif Hitmanic Sabzevari', 2), ('신인수', 1), ('박해운', 1), ('M. Funemyr', 1), ('MAGNUS FUNEMYR', 1), ('Kenzie', 1), ('김광진', 1), ('남기상', 1), ('홍석', 1), ('앤드', 1), ('한상원', 1), ('황성제', 1), ('김조한', 1), ('정성헌', 1), ('김세진', 1), ('Hisaishi Joe', 1), ('Jan Lysdahl', 1), ('류재현', 1), ('마경식', 1), ('용감한 형제', 1), ('GABE LAPEZ', 1), ('오준성', 1), ('김기범', 1), ('전혜원', 1), ('TEDDY', 1), ('한승훈', 1), ('테디, JJ, 최희준', 1), ('정용화', 1), ('J. Yoon', 1), ('하정호,Storyteller', 1), ('이주형 (MonoTree),홍승현,한재호,김승수,G-High (MonoTree)', 1), ('PK,B.I', 1), ('강승윤,MINO (송민호),AiRPLAY', 1), ('Yunsu', 1), ('정규성,남기상,DAX,권선익', 1), ('PJ,레노,백명한,김진훈', 1), ('Erixson Jakke,Saidac Alexandra,J`Son,Holter Oscar Thomas', 1), ('JYMON', 1), ('Ricky,HARANHN', 1), ('A', 1), ('이단옆차기,Homeboy,영광의 얼굴들 (Full8loom)', 1), ('슬리피,빅싼초 (Yummy Tone),임상혁', 1), ('용감한 형제,별들의 전쟁 (GALACTIKA *),Miss Lee', 1), ('소년비행', 1), ('THE RAP MONSTER,SUGA,Supreme Boi,방시혁,Pdogg,j-hope', 1), ('이혜민,돈 스파이크,SooNo', 1), ('텐조와 타스코,이봉조', 1), ('Poptime,지코 (ZICO)', 1), ('용배 (RBW),이기', 1), ('블랙아이드 필승', 1), ('박진영,김승수,아르마딜로,Dr.JO', 1), ('Command Freaks,진영', 1), ('박성진,김재웅,남기상,권선익,정규성', 1), ('폴킴', 1), ('박우상,김마초', 1), ('원준 (ONE JUNN),인광', 1), ('박우상', 1), ('HOLIDAY,Devine Channel', 1), ('하울,정수민,박근철', 1), ('마부스 (Maboos),투챔프', 1), ('DEEZ,Yunsu', 1), ('고명재,진리 (Full8loom),영광의 얼굴들 (Full8loom)', 1), ('1601', 1), ('79,정채연,예빈 (다이아),유니스', 1), ('홍지상,원필 (DAY6),이우민 `collapsedone`,성진', 1), ('Joe Rhee', 1), ('라비 (RAVI),Yuth', 1), ('전군,블랙아이드 필승,라도', 1), ('Coach & Sendo', 1), ('홍지상,이우민 `collapsedone`,Young K,Jae,성진,원필 (DAY6)', 1), ('David Amber,Sean Alexander,Avenue 52', 1), ('Dawn Elektra,Joe Lawrence,Sam Hocking', 1), ('Risto Asikainen,Antti Hynninen', 1), ('Daniel Caesar,Cazzi Opeia,Ludwig Lindell,Caesar & Loui', 1), ('Bekuh BOOM,B.I,FUTURE BOUNCE', 1), ('태양,Lydia Paek,B.I,CHOICE37', 1), ('다비 (DAVII)', 1), ('강승윤,강욱진', 1), ('강승윤,AiRPLAY', 1), ('강승윤,강욱진,Diggy', 1), ('Roland Spreckley,Jake Torrey,Noah Conrad,Steve Aoki,Annika Wells,RM,Slow Rabbit', 1), ('Valeria Del Prete,이우민 `collapsedone`', 1), ('Vo3e,김태성,Maxx Song,소연 (LABOUM)', 1), ('BUM,No Identity (노 아이덴티티),DALO', 1), ('바크,타이비언', 1), ('atomik,HILO (Isaac Han),Young K', 1), ('J.Y. Park `The Asiansoul`,Hae Sol Lee', 1), ('Yu-ki Kokubo,YHANAEL,NA.ZU.NA', 1), ('Yu-ki Kokubo,NA.ZU.NA', 1), ('최현준 (V.O.S),김승수', 1), ('real-fantasy,Bull$EyE (불스아이),YOSKE', 1), ('김영성', 1), ('진민호', 1), ('최준혁,VENDORS', 1), ('김미영,정수민', 1), ('김보선,타이비언,mOnSteR nO.9', 1), ('Jonatan Gusmark,Andreas Baertels,Ludvig Evers,오승은,Cazzi Opeia', 1), ('안지영', 1), ('Moonshine,Cazzi Opeia,Ellen Berg Tollbom', 1), ('Halsey,Melanie Fontana,Michel “Lindgren” Schulz,Emily Weisband,SUGA,방시혁,RM,Pdogg,j-hope', 1), ('이승협 (J.DON),조세희,정진욱', 1), ('WOOZI (SEVENTEEN),BUMZU,Anchor', 1), ('밍지션', 1), ('강민훈,코스믹 걸 (Cosmic Girl),코스믹 사운드', 1), ('Ronnie Icon,Rajan Muse,Jan Baars', 1), ('Jeon Goon,라도,B.E.P', 1), ('Ylva Dimberg,KENZIE,Caesar & Loui', 1), ('Rosanna Ener,Jake Torrey,Changkyun Lim,주헌 (몬스타엑스),기현 (몬스타엑스),Noah Conrad,민혁 (몬스타엑스),Dan Henig,Karim Kharbouch,형원 (몬스타엑스),Hoseok Shin,Hyunwoo Sohn', 1), ('Daniel Kim,RE:ONE ', 1), ('FRANTS', 1), ('Onestar (MonoTree)', 1), ('Jay Lee,유송연', 1), ('쥰,박해문', 1), ('뮤지,쿠데타,딘딘', 1), ('뮤지,UV,유준성', 1), ('WOOZI (SEVENTEEN),박기태,BUMZU', 1)]\n",
      "cluster 2\n",
      "702\n",
      "[('댄스', 330), ('발라드', 150), ('랩/힙합', 71), ('록/메탈', 48), ('R&B/Soul', 30), ('J-POP', 21), ('발라드, 국내드라마', 10), ('댄스, 랩/힙합', 5), ('발라드, 댄스', 4), ('POP', 4), ('EMPTY', 4), ('인디음악, 포크/블루스', 4), ('댄스, 국내드라마', 3), ('게임', 3), ('국내드라마', 2), ('일렉트로니카', 2), ('랩/힙합, 국내드라마', 2), ('록/메탈, 국내드라마', 2), ('댄스, R&B/Soul', 1), ('발라드, 랩/힙합', 1), ('애니메이션/웹툰, 키즈, 만화', 1), ('발라드, 록/메탈', 1), ('댄스, 게임', 1), ('포크/블루스, 국내드라마', 1), ('인디음악, 일렉트로니카', 1)]\n",
      "[('방탄소년단', 34), ('동방신기', 29), ('빅뱅', 23), ('슈퍼주니어', 22), ('Red Velvet (레드벨벳)', 15), ('버즈', 14), ('마마무 (Mamamoo)', 14), ('쥬얼리', 13), ('에프티 아일랜드', 13), ('TWICE (트와이스)', 13), ('더블에스오공일', 12), ('브라운 아이드 걸스', 12), ('소녀시대', 12), ('세븐틴', 12), ('몬스타엑스', 12), ('여자친구 (GFRIEND)', 11), ('원더걸스', 9), ('카라', 9), ('DAY6 (데이식스)', 9), ('DIA (다이아)', 9), ('iKON', 9), ('멜로디데이 (MelodyDay)', 7), ('러블리즈', 7), ('업텐션 (UP10TION)', 7), ('CLC', 7), ('파파야', 6), ('샤크라', 6), ('제이워크', 6), ('소년공화국 (Boys Republic)', 6), ('오마이걸 (OH MY GIRL)', 6), ('로미오 (ROMEO)', 6), ('에이프릴 (APRIL)', 6), ('GOT7 (갓세븐)', 6), ('터보', 5), ('핑클 (Fin.K.L)', 5), ('에스지', 5), ('JTL', 5), ('오션', 5), ('트랙스', 5), ('샤이니', 5), ('베리굿 (BerryGood)', 5), ('Wanna One (워너원)', 5), ('서태지와 아이들', 4), ('R.ef', 4), ('디베이스', 4), ('블랙 비트', 4), ('악동 클럽 ', 4), ('스매쉬 ', 4), ('천상지희 더 그레이스', 4), ('히스토리', 4), ('JJCC (제이제이씨씨)', 4), ('VAV', 4), ('볼빨간사춘기', 4), ('블락비 바스타즈', 4), ('노이즈', 3), ('태사자', 3), ('이글 파이브', 3), ('투야', 3), ('케이팝', 3), ('큐오큐', 3), ('스위티', 3), ('데자부', 3), ('파란', 3), ('오렌지', 3), ('티맥스', 3), ('투피엠', 3), ('포미닛', 3), ('2AM', 3), ('시크릿', 3), ('레이디스 코드', 3), ('틴트', 3), ('비트윈 (BEATWIN)', 3), ('Wa$$up ', 3), ('빅플로', 3), ('스누퍼 (SNUPER)', 3), ('라붐 (LABOUM)', 3), ('EXO', 3), ('태연 (TAEYEON)', 3), ('맵식스 (MAP6)', 3), ('G-DRAGON', 3), ('듀스', 2), ('룰라', 2), ('솔리드', 2), ('젝스키스', 2), ('Circle', 2), ('코요태', 2), ('엑스라지', 2), ('신비', 2), ('레드삭스', 2), ('씽', 2), ('초신성', 2), ('써니힐', 2), ('에이스타일', 2), ('현아', 2), ('티아라', 2), ('씨엔블루', 2), ('울랄라세션', 2), ('백아연', 2), ('인피니트H', 2), ('Pro C (프로씨)', 2), ('매드타운 (MADTOWN)', 2), ('엔플라잉 (N.Flying)', 2), ('핫샷 (HOTSHOT)', 2), ('빅스LR', 2), ('WINNER', 2), ('이하이', 2), ('비아이지 (B.I.G)', 2), ('허각', 2), ('탑독', 2), ('10CM', 2), ('비투비', 2), ('잼', 1), ('더 블루', 1), ('아이돌', 1), ('쿨 (COOL)', 1), ('엔알지', 1), ('T.N.B', 1), ('원타임', 1), ('언타이틀', 1), ('티티마', 1), ('샤모니', 1), ('밀크', 1), ('모닝', 1), ('스맥스', 1), ('제이엔씨', 1), ('에스', 1), ('엘프', 1), ('키스 파이브', 1), ('유키스', 1), ('투에이엠', 1), ('투애니원', 1), ('애프터 스쿨', 1), ('2PM', 1), ('f(x)', 1), ('대성', 1), ('엠블랙', 1), ('디셈버', 1), ('브라운 아이드 소울', 1), ('현아, 낯선', 1), ('다비치', 1), ('지나', 1), ('이승철', 1), ('지아', 1), ('미스에스', 1), ('임정희', 1), ('SG 워너비', 1), ('장재인', 1), ('슈프림팀', 1), ('수지', 1), ('F-ve Dolls', 1), ('아이유', 1), ('송지은', 1), ('레인보우', 1), ('달샤벳', 1), ('에이핑크', 1), ('인피니트', 1), ('버스커 버스커', 1), ('다이나믹 듀오', 1), ('스피카', 1), ('B.A.P', 1), ('윤하', 1), ('서인국, 정은지', 1), ('가인', 1), ('케이윌', 1), ('다소니', 1), ('M.Pire', 1), ('비에이 (Be.A)', 1), ('HIGH4 (하이포)', 1), ('GD X TAEYANG', 1), ('베리굿 (Berry Good)', 1), ('그냥노창,정기고,BILL STAX (빌스택스),몬스타엑스', 1), ('베스티', 1), ('스피드', 1), ('워너비 (WANNA.B)', 1), ('윤종신,세븐틴', 1), ('박재범', 1), ('에디킴', 1), ('아이오아이 (I.O.I)', 1), ('현아,장현승,비투비,노지훈,CLC,펜타곤', 1), ('소나무 (SONAMOO)', 1), ('L.A.U', 1), ('하이라이트 (Highlight)', 1), ('싸이 (PSY)', 1), ('씨스타', 1), ('EXID', 1), ('DEAN', 1), ('EXO-CBX (첸백시)', 1), ('숀 (SHAUN)', 1), ('하진 (HAJIN)', 1), ('화사 (Hwa Sa)', 1), ('백예린', 1), ('헤이즈 (Heize)', 1), ('BLACKPINK', 1), ('소유 (SOYOU)', 1), ('방탄소년단,Charli XCX', 1), ('방탄소년단,Juice WRLD', 1), ('청하', 1), ('폴킴', 1)]\n",
      "[('(주)SM엔터테인먼트', 83), ('빅히트 엔터테인먼트', 36), ('JYP 엔터테인먼트', 28), ('(주)YG엔터테인먼트', 24), ('DSP 미디어', 22), ('SM 엔터테인먼트', 22), ('스타쉽 엔터테인먼트', 16), (nan, 15), ('YG 엔터테인먼트', 15), ('FNC엔터테인먼트', 15), ('RBW', 15), ('스타제국', 13), ('인넥스트트렌드', 13), ('에이팝엔터테인먼트', 13), ('(주)JYP엔터테인먼트', 13), ('플레디스 엔터테인먼트', 13), ('DSP미디어', 12), ('쏘스 뮤직', 11), ('MBK 엔터테인먼트', 10), ('울림 엔터테인먼트', 9), ('EMPTY', 8), ('큐브엔터테인먼트', 8), ('큐브 엔터테인먼트', 8), ('로엔 엔터테인먼트, 뷰가 엔터테인먼트', 7), ('티오피 미디어', 7), ('윈섬 미디어', 6), ('키스 엔터테인먼트', 6), ('주식회사 엘리야엔터테인먼트', 6), ('유니버설 뮤직. 해피트라이브 엔터테인먼트', 6), ('아시아브릿지 엔터테인먼트', 6), ('WM 엔터테인먼트', 6), ('CT 엔터테인먼트', 6), ('YMC엔터테인먼트', 6), ('더 터보 컴퍼니', 5), ('대성기획', 5), ('상마인드', 5), ('예전 미디어', 5), ('JT Corea Entertainment', 5), ('로엔 엔터테인먼트', 5), ('JYP Entertainment', 5), ('GH 엔터테인먼트', 5), ('요요 기획', 4), ('팀 엔터테인먼트', 4), ('H2 엔터테인먼트', 4), ('YG Entertainment', 4), ('MBK엔터테인먼트', 4), ('TS엔터테인먼트', 4), ('플레이엠 엔터테인먼트', 4), ('지앤아이 엔터테인먼트', 4), ('더 잭키 찬 그룹 코리아', 4), ('에이팀', 4), ('쇼파르뮤직', 4), ('세븐시즌스', 4), ('라인 기획', 3), ('매스컴', 3), ('Astars 엔터테인먼트', 3), ('미래 엔터테인먼트', 3), ('글로벌에이치미디어', 3), ('오렌지엔터테인먼트', 3), ('플래닛구공오', 3), ('CJ E&M', 3), ('일광폴라리스 엔터테인먼트', 3), ('골드문 뮤직, 에렌 엔터테인먼트', 3), ('마피아 레코드', 3), ('에이치오컴퍼니', 3), ('위드메이', 3), ('에이오엠지', 3), ('NH 미디어. 내가네트워크', 3), ('드림티 엔터테인먼트', 3), ('예당 음향 (예당 컴퍼니)', 2), ('서울인 프로덕션', 2), ('비앤비', 2), ('YG엔터테인먼트', 2), ('조선음향', 2), ('씽엔터테인먼트', 2), ('마루기획(주)', 2), ('SM Entertainment', 2), ('해피페이스 엔터테인먼트', 2), ('아메바컬쳐', 2), ('카카오 M', 2), ('FNC 엔터테인먼트', 2), ('케이오사운드/아더앤에이블/스타크루이엔티', 2), ('젤리피쉬 엔터테인먼트', 2), ('후너스 엔터테인먼트', 2), ('매직스트로베리사운드', 2), ('쿨컴퍼니', 1), ('뮤직 팩토리', 1), ('레오뮤직', 1), ('뮤직팩토리', 1), ('KYT엔터테인먼트', 1), ('스펠 엔터테인먼트', 1), ('SM엔터테인먼트', 1), ('시즌 엔터테인먼트', 1), ('키스엔터테인먼트', 1), ('STN 엔터테인먼트', 1), ('ADbell 엔터테인먼트', 1), ('(주)앤에이취이엠쥐', 1), ('플레디스', 1), ('J.Tune Camp', 1), ('씨에스해피엔터테인먼트', 1), ('빅히트엔터테인먼트 & JYP Entertainment', 1), ('인넥스트 트렌드', 1), ('피케이 미디어', 1), ('카카오페이지', 1), ('브랜뉴뮤직', 1), ('피앤비엔터테인먼트', 1), ('Stone Music Entertainment', 1), ('뉴에라프로젝트', 1), ('JYP엔터테인먼트', 1), ('울림엔터테인먼트', 1), ('B2M 엔터테인먼트', 1), ('에이원피플', 1), ('C9 ENTERTAINMENT', 1), ('젤리피쉬엔터테인먼트, 플레이엠 엔터테인먼트', 1), ('바나나컬쳐 엔터테인먼트', 1), ('CMG초록별', 1), ('크롬 엔터테인먼트', 1), ('N.A.P. 엔터테인먼트', 1), ('YNB 엔터테인먼트', 1), ('제니스 미디어 콘텐츠', 1), ('미스틱89', 1), ('TS 엔터테인먼트', 1), ('팬 엔터테인먼트', 1), ('어라운드어스이엔티', 1), ('피네이션', 1), ('이든엔터테인먼트', 1), ('바나나컬쳐', 1), ('Joombas Co Ltd, 유니버설뮤직(가요)', 1), ('DCTOM Entertainment', 1), ('제이티비씨콘텐트허브(주)', 1), ('(주)RBW', 1), ('블루바이닐', 1), ('Stone Music Entertainment, Studio blu', 1), ('MNH엔터테인먼트', 1), ('뉴런뮤직', 1)]\n",
      "[(2017, 77), (2016, 62), (2018, 58), (2007, 50), (2019, 47), (2008, 44), (2009, 43), (2015, 41), (2006, 30), (2002, 28), (2010, 26), (2014, 22), (2005, 19), (2003, 18), (2012, 17), (2004, 16), (2000, 15), (2011, 15), (2001, 14), (2013, 14), (1996, 12), (1998, 11), (1999, 9), (1995, 5), (1994, 4), (1993, 2), (1997, 2), (1992, 1)]\n",
      "[('EMPTY', 58), ('KENZIE', 8), ('김승수', 7), ('박진영', 7), ('유영진', 7), ('박근태', 5), ('주영훈', 5), (nan, 5), ('조영수', 5), ('황성제', 5), ('용감한 형제', 5), ('방시혁', 5), ('한성호', 5), ('최준영', 4), ('윤일상', 4), ('박덕정', 4), ('윤우현', 4), ('KUSH (쿠시)', 4), ('신사동 호랭이, 최규성', 4), ('이현도', 3), ('서태지', 3), ('안정훈', 3), ('김창환', 3), ('Do', 3), ('페리 ', 3), ('Chrischan', 3), ('Kenzie', 3), ('박창현', 3), ('한상원', 3), ('김도훈 (RBW)', 3), ('이민수', 3), ('김원', 3), ('강지원, 김기범', 3), ('이트라이브 (E-TRIBE)', 3), ('박근태,Anne Judith Wik,Ronny Svendsen,Nermin Harambasic,Martin Mulholland', 3), ('남기상,DAX,권선익', 3), ('Pdogg,Slow Rabbit,정국,진', 3), ('용배 (RBW),이기', 3), ('바닐라맨 (바닐라어쿠스틱)', 3), ('Mayu Wakisaka,이우민 `collapsedone`', 3), ('승,B.I,MILLENNIUM', 3), ('홍재선', 2), ('신인수', 2), ('전준규', 2), ('심상원', 2), ('이재원', 2), ('장우혁', 2), ('박세준', 2), ('신형', 2), ('이윤재', 2), ('김영후', 2), ('이병준', 2), ('김건우', 2), ('Minuki', 2), ('이상준', 2), ('이근호', 2), ('유재하', 2), ('김세진', 2), ('LeeOn', 2), ('Ingrid Skretting', 2), ('YOUNG H.KIM', 2), ('G-DRAGON', 2), ('류재현', 2), ('김지후', 2), ('오준성', 2), ('프라이머리', 2), ('김도훈, 박근태', 2), ('Pdogg,SUGA,j-hope,RM', 2), ('Supreme Boi,SUGA,j-hope,RM', 2), ('박정욱 (MOT)', 2), ('마르코', 2), ('라디오갤럭시,이단옆차기', 2), ('앤드류 최,220,DAY6 (데이식스)', 2), ('노는어린이,ZigZag Note', 2), ('김도훈 (RBW),이현승', 2), ('박우상', 2), ('WOOZI (SEVENTEEN),BUMZU', 2), ('Pdogg,방시혁,브라더수,RM', 2), ('Ferdy (MosPick),예아나이스 (MosPick)', 2), ('앤드류 최,Paul Najjar,Simon Janlov', 2), ('DEEZ,Yunsu', 2), ('일당백,안형석', 2), ('홍지상,이우민 `collapsedone`,Young K,Jae,성진,원필 (DAY6)', 2), ('WOOZI (SEVENTEEN),BUMZU,Anchor', 2), ('코스믹 걸 (Cosmic Girl),코스믹 사운드', 2), ('SUGA,Kass,방시혁,진보,RM,Pdogg,j-hope', 2), ('WOOZI (SEVENTEEN),박기태,BUMZU', 2), ('Kanata Okajima,RM,Soma Genda', 2), ('Adrian Mckinnon,GASHIMA,Albin Nordqvist', 2), ('SUGA,Kass,방시혁,Supreme Boi,RM,Pdogg', 2), ('홍지상,Young K,Jae,성진,원필 (DAY6)', 2), ('테일러,김민', 2), ('조진수', 1), ('천성일', 1), ('양현석', 1), ('손지창', 1), ('이정은', 1), ('유정연', 1), ('이용민', 1), ('박정원', 1), ('박재완', 1), ('신동관', 1), ('이윤상', 1), ('페리', 1), ('정희수', 1), ('석훈', 1), ('유건형', 1), ('마리오', 1), ('신명호', 1), ('김진권', 1), ('조성진', 1), ('JUSTIN ', 1), ('Papertonic', 1), ('조규만', 1), ('신상근', 1), ('이제이', 1), ('조은희', 1), ('Trish', 1), ('Jericco Castelli', 1), ('마경식', 1), ('안성일', 1), ('안성일,  정재환', 1), ('송백경', 1), ('Miunki', 1), ('오승은', 1), ('김성현', 1), ('이영주', 1), ('Takashi Matsumoto (松本隆)', 1), ('BYP', 1), ('이상인', 1), ('서운영', 1), ('오종혁', 1), ('Daniel Pandher', 1), ('황세준', 1), ('JK Lee', 1), ('남기상', 1), ('김진환', 1), ('성우석', 1), ('심상수,  김동영', 1), ('유한진', 1), ('MIKAEL ANDERSSON BERG', 1), ('필강', 1), ('김희원', 1), ('고석영', 1), ('Anders Grahn ', 1), ('Young-Hu Kim', 1), ('C. Hawkes', 1), ('김성수', 1), ('Yoshiki', 1), ('빅뱅 (방승철)', 1), ('Farhad Zand ', 1), ('이규원', 1), ('Derek Bramble', 1), ('Jos Jorgensen', 1), ('박동규', 1), ('윤석준', 1), ('윤건', 1), ('Shusui', 1), ('John Mitchell', 1), ('Brian Kim', 1), ('M (이민우)', 1), ('이재명', 1), ('김성태', 1), ('큐베이스 J', 1), ('박기완', 1), ('Paul Kim', 1), ('ISRAEL DWAINE CRUZ', 1), ('이상규', 1), ('민켄', 1), ('민영기', 1), ('이채규', 1), ('Heavyweights', 1), ('박현중', 1), ('한승훈', 1), ('문정규', 1), ('이우석', 1), ('Antonio Nunzio Catania', 1), ('히어로', 1), ('MICAH WILLIAMS', 1), ('Daisuke Suzuki (鈴木大輔)', 1), ('이주형 (MonoTree)', 1), ('류광민', 1), ('NODAY', 1), ('Young H. Kim', 1), ('환희', 1), ('SUTTON, MARTIN COLLIN', 1), ('홍지상', 1), ('조종수', 1), ('TEDDY', 1), ('이성우', 1), ('Michael Edward Snyder', 1), ('Joseph Belmaati', 1), ('CAROL BORJAS', 1), ('김승수, 송수윤, 한재호', 1), ('김병훈', 1), ('서재하', 1), ('최혜정', 1), ('이진성 (먼데이 키즈)', 1), ('Micky', 1), ('안영민', 1), ('신사동호랭이, 이상호', 1), ('리원', 1), ('Steven Lee', 1), ('신사동호랭이, 전혜원', 1), ('김동현', 1), ('Tommy Park', 1), ('Pdogg, MISS KAY', 1), ('정모 (JUNGMO)', 1), ('정지찬', 1), ('조덕배', 1), ('오성훈', 1), ('브라운 아이드 소울', 1), ('김기범, 강지원, 신사동 호랭이', 1), ('송수윤, 김이나', 1), ('이트라이브 (E-TRIBE), 장준호', 1), ('정용화 (CNBLUE)', 1), ('김도훈(RBW)', 1), ('홍진영', 1), ('KZ', 1), ('라이머', 1), ('이영훈', 1), ('박원빈', 1), ('세인트바이너리', 1), ('G-DRAGON, T.O.P', 1), ('Blacc Hole, Daishi Dance', 1), ('TEDDY, G-DRAGON, T.O.P', 1), ('슈퍼창따이', 1), ('김승수, 한재호', 1), ('신중현', 1), ('윤명선', 1), ('philtre', 1), ('G-DRAGON, 필강', 1), ('G-DRAGON, CHOICE37', 1), ('김도훈, 이상호', 1), ('David D.A Doman, William David Porter, Ryan S. Jhun', 1), ('김병석', 1), ('김한범', 1), ('박은혜, 박영민, 이래언', 1), ('홍지상,슈퍼창따이', 1), ('라도,신사동 호랭이', 1), ('신동혁,SUGA,방시혁,Pdogg,THE RAP MONSTER', 1), ('Pdogg,RM', 1), ('4Miles', 1), ('라디오갤럭시', 1), ('East4A,윤상', 1), ('Rocketeer,JIN', 1), ('슈퍼 창따이', 1), ('이키 (iki),유타,최준영', 1), ('미친기집애,피터팬,똘아이박', 1), ('진짜사나이,B.O.K', 1), ('정균,미친기집애', 1), ('나관훈', 1), ('Deanfluenza,Jordan Kyle', 1), ('반형문,AK47', 1), ('텐조와 타스코,이단옆차기', 1), ('이두영,원준 (ONE JUNN)', 1), ('1Piece', 1), ('한재호,황현 (MonoTree),김승수,홍승현', 1), ('에스나 (eSNa),김도훈 (RBW)', 1), ('The Fliptones,Freedo,G-DRAGON', 1), ('구자경,나다 (NADA)', 1), ('ZigZag Note,강명신', 1), ('키겐,이현도,Eniac', 1), ('주태영', 1), ('그냥노창', 1), ('Hayley Aitken,앤드류 최,220,Cha Cha Malone', 1), ('72,Sean Alexander,Avenue 52', 1), ('Andreas Oberg,Sean Alexander,Avenue 52,Alejandra Ocampo', 1), ('NieN', 1), ('노주환,SWEETCH,이기', 1), ('김재양,이진호', 1), ('Ryan S. Jhun,Denzil `DR` Remedios,Anne Judith Wik,Robin Jenssen,Ronny Svendsen,Kyosti Anton Salokorpi,Janne Huttunen,Nermin Harambasic', 1), ('Victoria Hansen,이진원,Sebastian Teiger AKA Cousheron,Wonyoung Lee,Albi Albertsson', 1), ('위한샘,북극곰', 1), ('흑태,호베', 1), ('AM,김성표 ,알고보니 혼수상태', 1), ('MELODESIGN,레오(LEO)', 1), ('텐조와 타스코,Long Candy,Homeboy', 1), ('방시혁,Slow Rabbit,브라더수', 1), ('Ryan S. Jhun,Jin Suk Choi,LDN Noise,Rodnae `Chikk` Bell,Charite Viken,Nermin Harambasic', 1), ('Daniel Obi Klein,진보,Charlie Taft,Johannes `Josh` Jorgensen', 1), ('어퍼컷,에스킴', 1), ('이지린', 1), ('북극곰,신사동 호랭이', 1), ('Alto,영광의 얼굴들 (Full8loom)', 1), ('SUGA,방시혁,RM,Pdogg,j-hope', 1), ('명랑한 운동부,Felicia Barton,Aaron Benward,Matthew Tishler,황찬희', 1), ('B.I,FUTURE BOUNCE', 1), ('B.I,로빈', 1), ('SWEETUNE', 1), ('e.one,조재석', 1), ('남태현,로빈', 1), ('강욱진,MINO (송민호)', 1), ('박우상,김도훈 (RBW)', 1), ('Postino,윤종신,이근호', 1), ('B.A.Wheeler', 1), ('그루비룸 (GroovyRoom)', 1), ('Andreas Oberg,Sean Alexander,Xin Xin Gao,Avenue 52,Darren Smith', 1), ('Sophie White,David Anthony,Phoebe Brown', 1), ('원상우', 1), ('장이정 (JANGYIJEONG),이어달리기', 1), ('DK,Jusen,Davey Nate,Hyuk Shin (153/Joombas),Beat&Keys', 1), ('J. Yoon', 1), ('WOOZI (SEVENTEEN),동네형,원영헌', 1), ('키겐', 1), ('WOOZI (SEVENTEEN),박기태,리시,마스터키', 1), ('진바이진,Courtney Woolsey,Emmanuel Jimenez,Stacy Hebert,Ronald `AV` Ndlovu', 1), ('이주형 (MonoTree),G-High (MonoTree)', 1), ('SEION', 1), ('V,SUGA,방시혁,정국,RM,Pdogg', 1), ('리시,ESBEE', 1), ('BEOMxNANG ,신사동 호랭이', 1), ('Ferdy (MosPick)', 1), ('KUSH (쿠시),CHOICE37', 1), ('김태성', 1), ('콰지모도', 1), ('장용진', 1), ('earattack,리시,마크 (GOT7)', 1), ('기희현,Shaun Kim,STAINBOYS', 1), ('마크 (GOT7),유겸 (GOT7),FRANTS', 1), ('David Quinones,Tony Esterly,RM', 1), ('Peter Ibsen,Lee Paul Williams,Richard Rawson,준 (JUNE),Supreme Boi,RM,Pdogg', 1), ('ASHLEY MOUNTS,East4A,김희덕', 1), ('Deanfluenza', 1), ('그루비룸 (GroovyRoom),P.O (피오)', 1), ('비범 (블락비),최선용,김진호,SUMIN (수민)', 1), ('킨다 (KINDA)', 1), ('SUGA,Supreme Boi,방시혁,RM,Pdogg,j-hope', 1), ('10CM', 1), ('예아나이스 (MosPick),빅싼초 (Yummy Tone),JayJay (MosPick)', 1), ('서재하,김영성,케이던스', 1), ('Young K,Jae,성진,차일훈,YUE,윤은석', 1), ('DJ PLO', 1), ('Geoff Earley,Devine Channel,예아나이스 (MosPick),Geoffro Cause,손영진 (MosPick)', 1), ('북극곰', 1), ('돈 스파이크,박근태', 1), ('Sara Forsberg,Otha `Vakseen` Davis III,MZMC,The Colleagues,Leven Kali,Jamil `Digi` Chammas,Tay Jasper,Harrison Johnson,Karl Powell', 1), ('Peter Ibsen,SUGA,방시혁,Arlissa Ruppert,RM,Pdogg,ADORA', 1), ('마부스,JS', 1), ('Denzil Remedios,Ryan S. Jhun,Melanie Fontana,Bennett Armstrong,Justin T. Armstrong,Myah Marie,Ayak Thiik', 1), ('한경수,김창락 (CR Kim),Devil Cat,최한솔,조세희', 1), ('초이 (CHOI),박슬기 (153/Joombas)', 1), ('심은지,변방의 킥소리', 1), ('MZMC', 1), ('고태영,강인원', 1), ('임현식 (비투비)', 1), ('earattack,잭슨 (GOT7),5$', 1), ('Chloe,NODAY,영재 (GOT7)', 1), ('Good Life', 1), ('쿤타,이제이 쇼,Kevon', 1), (' C-no, 웅킴),Simon Petren,오레오 (이기,Andreas Oberg', 1), ('Felicia Barton', 1), ('홍지상,원필 (DAY6),Young K', 1), ('Traci Hale,Sidnie Tipton,Damon Sharpe', 1), ('디아이 (D+I)', 1), ('새벽,Long Candy,영광의 얼굴들 (Full8loom),진리 (Full8loom),예빈 (다이아)', 1), ('원호 (WONHO),JJB', 1), ('Pop Time', 1), ('WOOZI (SEVENTEEN),Simon Petren', 1), ('김태주,맵식스 (MAP6)', 1), ('Dr.JO', 1), ('심은지', 1), ('블랙아이드 필승', 1), ('홍지상,이우민 `collapsedone`,Young K,성진,원필 (DAY6)', 1), ('CHOICE37', 1), ('서원진', 1), ('리시,Megatone (13),ESBEE', 1), ('Mrey,Jayrah Gibson,Hyuk Shin (153/Joombas)', 1), ('RE:ONE ,Davey Nate,Hyuk Shin (153/Joombas)', 1), ('Ryan S. Jhun,Fredrik `Figge` Bostrom,Pontus Soderqvist,조미쉘', 1), ('헨리 (HENRY)', 1), ('로얄 플러시', 1), ('구성철,dani,아르마딜로', 1), ('GRVVITY', 1), ('진리 (Full8loom),양갱,영광의 얼굴들 (Full8loom)', 1), ('라비 (RAVI),PUFF', 1), ('원준 (ONE JUNN),인광', 1), ('Ferdy (MosPick),Megatone (13)', 1), ('Andrew Taggart,SUGA,방시혁,Ray Michael Djan Jr,RM,Pdogg,j-hope,ADORA,Ashton Foster,Sam Klempner', 1), ('낯선아이', 1), ('JB (GOT7),FS,Royal Dive', 1), ('이든 (EDEN)', 1), ('WOOZI (SEVENTEEN),동네형,민식이,원영헌', 1), ('V!VE', 1), ('미친손가락', 1), ('Moonshine,Cazzi Opeia,Ellen Berg Tollbom', 1), ('KZ,미친감성,전다운', 1), ('박강일', 1), ('highhopes', 1), ('Jeff Lewis', 1), ('서용배 (TENTEN),김창락 (CR Kim),밍키 (RBW)', 1), ('B.I,CHOICE37', 1), ('Ylva Dimberg,DEEZ,Stereotypes', 1), ('Ryan S. Jhun,G`harah `PK` Degeddingseze,Jarah Lafayette Gibson', 1), ('Ryan S. Jhun,H.R.H. Aitatus-Richardson,조미쉘,A. Tejada,G.M.A. Casu', 1), ('나고,주헌 (몬스타엑스),Ye-Yo!', 1), ('김동열,Brand Newjiq (브랜뉴직),송양하', 1), ('999,주0,Jusen,Davey Nate,Hyuk Shin (153/Joombas),Jayrah Gibson', 1), ('Jeremy G (Future Sound),Daniel Kim,Sionz', 1), ('Ryan', 1), ('Shaun Kim', 1), ('서정임', 1), ('Pdogg,Sunny Boy,UTA', 1), ('THE ELEV3N,Joren Van Der Voort,Micky Blue', 1), ('박진영,이우민 `collapsedone`', 1), ('이후상,윤상', 1), ('정바비,SUGA,Candace Nicole Sosa,윤기타,Jordan “DJ Swivel” Young,RM,Pdogg,j-hope,ADORA', 1), ('Royal Dive', 1), ('숀 (SHAUN)', 1), ('붐바스틱', 1), ('이단옆차기,Black Edition', 1), ('Joe Rhee,B.I,R.Tee', 1), ('진바이진,Anne Judith Wik,Hugo Solis,Gionata Caracciolo,Nermin Harambasic', 1), ('Trinity,Courtney Woolsey,KENZIE', 1), ('낭이,신사동 호랭이,범이', 1), ('주은,Jerry.L', 1), ('WOOZI (SEVENTEEN),BUMZU,붐바스틱', 1), ('고운 (베리굿),김예람,이준승', 1), ('용감한 형제,js,차쿤', 1), ('SUGA,방시혁,Ali Tamposi,RM,Pdogg,Roman Campolo,j-hope,Liza Owen', 1), ('Supreme Boi,방시혁,Ali Tamposi,RM,Pdogg,Roman Campolo', 1), ('Alphonso James Mizell,Berry Gordy,Yuichi OHNO,Freddie Perren,Deke Richards', 1), ('이우민 `collapsedone`,Val Del Prete,FRANTS', 1), ('Maria Marcus,Brad.K,Albin Nordqvist', 1), ('Jeff Lewis,M Rey,Hyuk Shin (153/Joombas)', 1), ('박우상,김도훈 (RBW),MGR(RBW)', 1), ('정수민,박근철', 1), ('Casper,이진원,Cha Cha Malone', 1), ('Flow Blow', 1), ('UCKU', 1), ('NV,스페이스카우보이 (SPACECOWBOY),1988', 1), ('탁 (TAK),원택 (1Take),애런 (ARRAN)', 1), ('Sara Forsberg,Timothy `Bos` Bullock,MZMC,KENZIE', 1), ('최정인', 1), ('배희경', 1), ('태양,Lydia Paek,B.I,CHOICE37', 1), ('용배 (RBW),밍키 (RBW),이기', 1), ('최영경,추대관 (MonoTree),Simon Petren', 1), ('화사 (Hwa Sa)', 1), ('Daniel Kim,Gummesson Karl-Oskar Julius', 1), ('David Mørup,Sylvester Willy Silverstein,Clarence Coffee Jr.,Steve Aoki,Jimmy Conway', 1), ('David Amber,Sean Alexander,Avenue 52', 1), ('Andy Love,David Amber', 1), ('김건모,김도훈 (RBW)', 1), ('구름', 1), ('room102,V!VE,신민정,신사동 호랭이', 1), ('다비 (DAVII)', 1), ('Andy Love,Daniel Mikael Wold,Ryan S. Jhun,Hanif Hitmanic Sabzevari', 1), ('PlayBall,P.O (피오)', 1), ('Bekuh BOOM', 1), ('송지훈,정홍구,Eniac', 1), ('정바비,Julia Ross,Krysta Youngs,송재경,Tushar Apte,SUGA,RM,Pdogg,Lauren Dyson,ADORA,j-hope', 1), ('Ryan Lawrie,Melanie Fontana,Marcus McCoan,SUGA,Camilla Anne Stewart,Candace Nicole Sosa,Max Lynedoch Graham,Jordan “DJ Swivel” Young,RM,Michel “Lindgren” Schulz,j-hope,Matty Thomson', 1), ('SUGA,Supreme Boi,RM,Pdogg,Roman Campolo,j-hope', 1), ('Philip Bentley,Matthew Tishler,Andrew Underberg', 1), ('Maya Von Doll,Dimitri Tikovoi,Charli XCX,MNEK', 1), ('Moonshine,Jonatan Gusmark,Ludvig Evers,Josefin Glenmark,Cazzi Opeia', 1), ('Ashley Alisha (153/Joombas),JJ Evans (153/Joombas),MooF (153/Joombas)', 1), ('탁 (TAK),원택 (1Take)', 1), ('피아노맨', 1), ('Ryan S. Jhun,조미쉘 (Singing Beetle),LDN Noise,Ylva Dimberg,Paulo Johnson', 1), ('윤명운', 1), ('Ryn Weaver,정바비,Tor Erik Hermansen,Mikkel Storleer Eriksen,Charli XCX', 1), ('Moonshine,Cazzi Opeia,Boots', 1), ('Caesar & Loui,Ollipop,Hayley Aitken,Olof Lindskog,Daniel Caesar,Ludwig Lindell', 1), ('Marric Antonio Strobert,SUGA,Juice WRLD,RM,Powers Pleasant', 1), ('Coyle Girelli,이현,Supreme Boi,방시혁,Jordan “DJ Swivel” Young,RM,j-hope', 1), ('C-no,웅킴,이기', 1), ('Yo-Hei,UTA', 1), ('이우민 `collapsedone`,Val Del Prete,Eric Sanicola', 1), ('최인환', 1), ('A10tion(에이텐션)', 1), ('폴킴', 1), ('MAYFLY,CHKmate,zomay,Hide Vill,오브로스', 1), ('김도훈 (RBW),Felicia Barton,Aaron Benward,Matthew Tishler,이후상', 1)]\n",
      "cluster 3\n",
      "703\n",
      "[('댄스', 325), ('발라드', 137), ('랩/힙합', 72), ('록/메탈', 58), ('J-POP', 34), ('R&B/Soul', 33), ('발라드, 국내드라마', 12), ('댄스, 국내드라마', 8), ('발라드, 댄스', 4), ('댄스, 랩/힙합', 3), ('EMPTY', 3), ('인디음악, 포크/블루스', 3), ('POP', 2), ('국내드라마', 2), ('댄스, 게임', 1), ('발라드, 국내영화', 1), ('발라드, 랩/힙합', 1), ('R&B/Soul, 국내드라마', 1), ('발라드, R&B/Soul, 국내드라마', 1), ('EDM', 1), ('게임', 1)]\n",
      "[('방탄소년단', 32), ('동방신기', 22), ('GOT7 (갓세븐)', 22), ('에프티 아일랜드', 19), ('Red Velvet (레드벨벳)', 19), ('마마무 (Mamamoo)', 18), ('슈퍼주니어', 17), ('빅뱅', 17), ('세븐틴', 17), ('여자친구 (GFRIEND)', 15), ('TWICE (트와이스)', 15), ('버즈', 14), ('더블에스오공일', 14), ('몬스타엑스', 13), ('업텐션 (UP10TION)', 13), ('쥬얼리', 12), ('브라운 아이드 걸스', 12), ('베리굿 (BerryGood)', 10), ('샤크라', 9), ('멜로디데이 (MelodyDay)', 9), ('러블리즈', 9), ('iKON', 9), ('엔플라잉 (N.Flying)', 9), ('파란', 8), ('원더걸스', 8), ('DIA (다이아)', 8), ('오마이걸 (OH MY GIRL)', 8), ('제이워크', 7), ('소녀시대', 7), ('샤이니', 7), ('스누퍼 (SNUPER)', 7), ('라붐 (LABOUM)', 7), ('DAY6 (데이식스)', 7), ('오션', 6), ('트랙스', 6), ('초신성', 6), ('CLC', 6), ('티아라', 5), ('아이유', 5), ('소년공화국 (Boys Republic)', 5), ('탑독', 5), ('레이디스 코드', 5), ('WINNER', 5), ('이글 파이브', 4), ('디베이스', 4), ('케이팝', 4), ('JTL', 4), ('블랙 비트', 4), ('스맥스', 4), ('칠학년일반', 4), ('히스토리', 4), ('블락비 바스타즈', 4), ('로미오 (ROMEO)', 4), ('소나무 (SONAMOO)', 4), ('에이프릴 (APRIL)', 4), ('엑스라지', 3), ('천상지희 더 그레이스', 3), ('레드삭스', 3), ('카라', 3), ('배틀', 3), ('인피니트H', 3), ('제아파이브', 3), ('베스티', 3), ('비아이지 (B.I.G)', 3), ('어반자카파', 3), ('VAV', 3), ('지코 (ZICO)', 3), ('터보', 2), ('Y2K', 2), ('보이 클럽', 2), ('파파야', 2), ('보이스코', 2), ('악동 클럽 ', 2), ('큐오큐', 2), ('스매쉬 ', 2), ('써니힐', 2), ('씽', 2), ('투피엠', 2), ('유키스', 2), ('애프터 스쿨', 2), ('비스트', 2), ('인피니트', 2), ('다비치', 2), ('크레용팝-딸기우유', 2), ('Wa$$up ', 2), ('빅플로', 2), ('JJCC (제이제이씨씨)', 2), ('UNIQ (유니크)', 2), ('비트윈 (BEATWIN)', 2), ('10CM', 2), ('EXO', 2), ('Crush', 2), ('청하', 2), ('핫샷 (HOTSHOT)', 2), ('솔리드', 1), ('듀스', 1), ('H.O.T.', 1), ('신화', 1), ('T.N.B', 1), ('쿨 (COOL)', 1), ('룰라', 1), ('클레오', 1), ('티티마', 1), ('에스이에스', 1), ('에스지', 1), ('투야', 1), ('스위티', 1), ('신비', 1), ('보이스립', 1), ('데자부', 1), ('모닝', 1), ('에스', 1), ('제이엔씨', 1), ('키스 파이브', 1), ('제이하트', 1), ('티맥스', 1), ('에이스타일', 1), ('투애니원', 1), ('포미닛', 1), ('에프엑스', 1), ('가인, 조권', 1), ('민경훈', 1), ('정엽', 1), ('손담비', 1), ('빅마마', 1), ('박재범, 용감한 형제', 1), ('2NE1', 1), ('김범수', 1), ('씨스타', 1), ('오렌지 캬라멜', 1), ('김태우', 1), ('of 비스트', 1), ('파리돼지앵 (정형돈 & 정재형)', 1), ('리쌍', 1), ('SE7EN', 1), ('JJ Project', 1), ('허각, 지아', 1), ('미쓰에이', 1), ('현아', 1), ('주니엘', 1), ('양요섭', 1), ('2YOON (포미닛 투윤)', 1), ('다소니', 1), ('LC9', 1), ('티아라,더 씨야,F-ve Dolls,스피드', 1), ('투아이즈 (2EYES)', 1), ('M.Pire', 1), ('스피드', 1), ('틴트', 1), ('이종현,멜로디데이 (MelodyDay)', 1), ('HIGH4 (하이포)', 1), ('티아라,스피드,더 씨야,승희', 1), ('매드타운 (MADTOWN)', 1), ('빅스LR', 1), ('세븐틴,에일리', 1), ('이하이', 1), ('티파니 (TIFFANY)', 1), ('B1A4,서은광 (비투비),이창섭,허영지 (카라),A-JAX,에이프릴 (APRIL),오마이걸 (OH MY GIRL)', 1), ('BLACKPINK', 1), ('아이오아이 (I.O.I)', 1), ('Apink (에이핑크)', 1), ('티파니 (TIFFANY),김종국,다이나믹 듀오,여진구,김유정,에디킴,전현무', 1), ('에디킴', 1), ('정준일', 1), ('수지 (SUZY)', 1), ('하이라이트 (Highlight)', 1), ('걸스데이', 1), ('러버소울 (Rubber Soul)', 1), ('L.A.U', 1), ('Wanna One (워너원)', 1), ('양다일', 1), ('볼빨간사춘기', 1), ('폴킴', 1), ('AOA', 1), ('현아,조권,비투비,CLC,펜타곤,유선호,(여자)아이들', 1), ('(여자)아이들', 1), ('비투비', 1), ('허각', 1), ('B1A4,오마이걸 (OH MY GIRL),온앤오프 (ONF)', 1), ('백예린', 1), ('장범준', 1), ('Steve Aoki,몬스타엑스', 1), ('방탄소년단,Zara Larsson', 1), ('헤이즈 (Heize)', 1), ('펀치 (Punch)', 1)]\n",
      "[('(주)SM엔터테인먼트', 64), ('JYP 엔터테인먼트', 44), ('빅히트 엔터테인먼트', 33), ('SM 엔터테인먼트', 24), ('FNC엔터테인먼트', 21), ('DSP 미디어', 20), ('(주)YG엔터테인먼트', 18), ('RBW', 18), ('플레디스 엔터테인먼트', 18), (nan, 15), ('스타제국', 15), ('YG 엔터테인먼트', 15), ('스타쉽 엔터테인먼트', 15), ('쏘스 뮤직', 15), ('인넥스트트렌드', 14), ('울림 엔터테인먼트', 13), ('티오피 미디어', 13), ('에이팝엔터테인먼트', 12), ('MBK 엔터테인먼트', 11), ('로엔 엔터테인먼트, 뷰가 엔터테인먼트', 10), ('아시아브릿지 엔터테인먼트', 10), ('키스 엔터테인먼트', 9), ('(주)JYP엔터테인먼트', 9), ('WM 엔터테인먼트', 9), ('FNC 엔터테인먼트', 9), ('글로벌에이치미디어', 8), ('큐브엔터테인먼트', 8), ('큐브 엔터테인먼트', 8), ('주식회사 엘리야엔터테인먼트', 7), ('위드메이', 7), ('NH 미디어. 내가네트워크', 7), ('JT Corea Entertainment', 6), ('마루기획(주)', 6), ('로엔 엔터테인먼트', 6), ('MBK엔터테인먼트', 6), ('유니버설 뮤직. 해피트라이브 엔터테인먼트', 6), ('상마인드', 5), ('후너스 엔터테인먼트', 5), ('일광폴라리스 엔터테인먼트', 5), ('H2 엔터테인먼트', 4), ('미래 엔터테인먼트', 4), ('예전 미디어', 4), ('EMPTY', 4), ('시즌 엔터테인먼트', 4), ('플레디스', 4), ('GH 엔터테인먼트', 4), ('다른별 엔터테인먼트', 4), ('세븐시즌스', 4), ('CT 엔터테인먼트', 4), ('TS 엔터테인먼트', 4), ('DSP미디어', 3), ('굿 엔터테인먼트', 3), ('YG엔터테인먼트', 3), ('플레이엠 엔터테인먼트', 3), ('YNB 엔터테인먼트', 3), ('(주)메이크어스엔터테인먼트', 3), ('에이팀', 3), ('KOZ 엔터테인먼트', 3), ('EDAM엔터테인먼트', 3), ('SM엔터테인먼트', 2), ('더 터보 컴퍼니', 2), ('조선음향', 2), ('윈섬 미디어', 2), ('자이브 레코드', 2), ('씽엔터테인먼트', 2), ('SM Entertainment', 2), ('에이오엠지', 2), ('JYP Entertainment', 2), ('카카오 M', 2), ('JYP엔터테인먼트', 2), ('크롬엔터테인먼트', 2), ('마피아 레코드', 2), ('에이치오컴퍼니', 2), ('더 잭키 찬 그룹 코리아', 2), ('위에화 엔터테인먼트', 2), ('골드문 뮤직, 에렌 엔터테인먼트', 2), ('매직스트로베리사운드', 2), ('YMC엔터테인먼트', 2), ('피네이션', 2), ('MNH엔터테인먼트', 2), ('케이오사운드/아더앤에이블/스타크루이엔티', 2), ('비앤비', 1), ('예당 음향 (예당 컴퍼니)', 1), ('신화컴퍼니', 1), ('쿨컴퍼니', 1), ('서울인 프로덕션', 1), ('뮤직팩토리', 1), ('Astars 엔터테인먼트', 1), ('키스엔터테인먼트', 1), ('ADbell 엔터테인먼트', 1), ('MPLAN 엔터테인먼트', 1), ('플래닛구공오', 1), ('(주)앤에이취이엠쥐', 1), ('내가 네트워크', 1), ('아이에스엔터미디어그룹', 1), ('인넥스트트랜드', 1), ('태일런스미디어', 1), ('영엔터테인먼트', 1), ('소울샵엔터테인먼트', 1), ('NH EMG', 1), ('안테나뮤직', 1), ('리쌍컴퍼니', 1), ('울림엔터테인먼트', 1), ('바나나컬쳐 엔터테인먼트', 1), ('내가네트워크', 1), ('iHQ', 1), ('CMG초록별', 1), ('N.A.P. 엔터테인먼트', 1), ('지앤아이 엔터테인먼트', 1), ('젤리피쉬 엔터테인먼트', 1), ('Transparent Agency', 1), ('미스틱89', 1), ('엠와이뮤직', 1), ('어라운드어스이엔티', 1), ('드림티 엔터테인먼트', 1), ('해피트라이브 엔터테인먼트. 위드에이치씨', 1), ('팬 엔터테인먼트', 1), ('Stone Music Entertainment, B2M Entertainment', 1), ('브랜뉴뮤직', 1), ('쇼파르뮤직', 1), ('뉴런뮤직', 1), ('블루바이닐', 1), ('(주)버스커버스커', 1), ('Stone Music Entertainment, Studio blu', 1), ('냠냠엔터테인먼트', 1)]\n",
      "[(2017, 78), (2016, 76), (2018, 76), (2015, 58), (2019, 49), (2008, 44), (2009, 41), (2007, 40), (2006, 39), (2014, 34), (2002, 25), (2005, 25), (2003, 18), (2013, 16), (2001, 13), (2004, 12), (2010, 12), (2012, 12), (2011, 11), (1999, 8), (1998, 7), (2000, 6), (1996, 2), (1997, 1)]\n",
      "[('EMPTY', 52), ('박진영', 9), (nan, 8), ('유영진', 7), ('SWEETUNE', 7), ('황성제', 6), ('안성일', 5), ('용감한 형제', 5), ('한성호', 5), ('박우상', 5), ('윤일상', 4), ('김성태', 4), ('고석영', 4), ('KENZIE', 4), ('이트라이브 (E-TRIBE)', 4), ('용배 (RBW),이기', 4), ('마르코', 4), ('박해운', 3), ('박근태', 3), ('최규성', 3), ('남기상', 3), ('박창현', 3), ('이상준', 3), ('G-DRAGON', 3), ('원상우', 3), ('이병준', 3), ('조영수', 3), ('류재현', 3), ('김승수', 3), ('한승훈', 3), ('김재양', 3), ('TEDDY', 3), ('안영민', 3), ('이단옆차기', 3), ('Pdogg,Slow Rabbit,정국,진', 3), ('SUGA,RM,Pdogg,j-hope,ADORA', 3), ('원준 (ONE JUNN),인광', 3), ('BUMZU', 3), ('earattack,리시,마크 (GOT7)', 3), ('Poptime', 3), ('WOOZI (SEVENTEEN),BUMZU,Anchor', 3), ('Andy Love,Daniel Mikael Wold,Ryan S. Jhun,Hanif Hitmanic Sabzevari', 3), ('홍재선', 2), ('Do', 2), ('주영훈', 2), ('오석준', 2), ('Mad Soul Child', 2), ('Uru', 2), ('김성훈', 2), ('서동성', 2), ('안성준', 2), ('Kenzie', 2), ('이상인', 2), ('윤우현', 2), ('김태현', 2), ('DKR4G 양승욱', 2), ('페리 ', 2), ('김태성', 2), ('이민수', 2), ('이재명', 2), ('Perry', 2), ('미친기집애,피터팬,똘아이박', 2), ('Sum People', 2), ('Ferdy (MosPick),예아나이스 (MosPick)', 2), ('브라더수,SUGA,방시혁,RM,Pdogg,Slow Rabbit,j-hope', 2), ('10CM', 2), ('MZMC', 2), ('박은우,박수석,윤영민', 2), ('미오 (MIO)', 2), ('블랙아이드 필승', 2), ('SUGA,Supreme Boi,방시혁,RM,Pdogg,j-hope', 2), (' C-no, 웅킴),오레오 (이기', 2), ('황현 (MonoTree)', 2), ('정호현 (e.one),최현준 (V.O.S)', 2), ('WOOZI (SEVENTEEN),BUMZU,호시 (SEVENTEEN)', 2), ('박우상,김도훈 (RBW)', 2), ('ZigZag Note', 2), ('B.I,MILLENNIUM', 2), ('홍지상,Young K,Jae,성진,원필 (DAY6)', 2), ('노주환,이원종', 2), ('엔플라잉 (N.Flying),Yuzuru Kusugo', 2), ('이건우', 1), ('이현도', 1), ('장용진', 1), ('최성빈', 1), ('Papertonic', 1), ('장수원', 1), ('이정규', 1), ('윤현성', 1), ('이재원', 1), ('Justin Young', 1), ('김창환', 1), ('박성수', 1), ('정성윤', 1), ('서재하', 1), ('강훈', 1), ('싸이 (PSY)', 1), ('이윤성', 1), ('나준섭', 1), ('이도연', 1), ('RoseBeetz', 1), ('김대현', 1), ('이택승', 1), ('이희성', 1), ('꼬마', 1), ('DJ Tama', 1), ('D. Pandher,  T. La Verdi,  EAR', 1), ('김도현', 1), ('Chris W. Williams', 1), ('한상원', 1), ('MARK LISTER', 1), ('Jens Thoresen', 1), ('필강', 1), ('고동훈', 1), ('김세진', 1), ('박준하', 1), ('Groovie. K', 1), ('임보경', 1), ('오승은', 1), ('MATT ZARLEY', 1), ('G-DRAGON,  김도현', 1), ('박근철', 1), ('손성희', 1), ('Derek Bramble', 1), ('Phillip White', 1), ('손무현', 1), ('Adam Reily', 1), ('김영인', 1), ('Yoshihiko Chino (知野芳彦)', 1), ('Yoji Kubota (久保田洋司)', 1), ('Ingrid Skretting', 1), ('서정진', 1), ('김지웅', 1), ('최원석', 1), ('권태은', 1), ('오준성', 1), ('GREG LYNCH', 1), ('신상우', 1), ('이규원', 1), ('LeeOn', 1), ('장준호', 1), ('최수정', 1), ('김광진', 1), ('캡틴락', 1), ('Peter Callander', 1), ('John Mitchell', 1), ('박현중', 1), ('정성헌', 1), ('Alex Cantrall', 1), ('홍석', 1), ('Alejandro Sanz', 1), ('양재선', 1), ('조석연', 1), ('윤건', 1), ('TROELSEN, THOMAS', 1), ('Daishi Dance', 1), ('Lucas Secon', 1), ('허영생', 1), ('류광민', 1), ('김태원', 1), ('큐베이스 J', 1), ('슈퍼창따이', 1), ('이성수', 1), ('김진환', 1), ('김보민', 1), ('별들의 전쟁 (GALACTIKA *)', 1), ('황성진', 1), ('Henrik Jonback', 1), ('Jimmy Richard', 1), ('김기범', 1), ('이민수, 제아', 1), ('Hitchhiker', 1), ('방시혁, Pdogg', 1), ('이재혁', 1), ('이종명, 정엽', 1), ('배진렬', 1), ('Eknock, 선우정아', 1), ('강은경', 1), ('김도훈', 1), ('한재호, 김승수, 안성준', 1), ('Jorgen Ringqvist, Daniel Barkman', 1), ('유남용, 유한진', 1), ('이현승', 1), ('Mordny', 1), ('G-DRAGON, T.O.P', 1), ('신사동 호랭이', 1), ('정재형', 1), ('길', 1), ('한재호, 김승수', 1), ('아이유', 1), ('박근태, 김도훈 (RBW)', 1), ('MR.CHO, 박은우', 1), ('송봉조, Meng이', 1), ('용감한 형제, 코끼리 왕국', 1), ('Twoface, 이상호', 1), ('용준형, 김태주', 1), ('남기상,미호', 1), ('Zion.T,프라이머리,GRAY (그레이)', 1), ('서재우 (TENTEN),서용배 (TENTEN),이상호', 1), ('최규성,신사동 호랭이', 1), ('용감한 형제,별들의 전쟁 (GALACTIKA *)', 1), ('북극곰,라도', 1), ('노는어린이,황금두현,레온', 1), ('Ryan S. Jhun,JD Relic,ASHLEY MOUA,Antwann Frost', 1), ('이단옆차기,조영수', 1), ('우지훈,이부미', 1), ('박용인 (어반자카파),SUGA,재만 (JAEMAN),조현아 (어반자카파),RM,Pdogg,Slow Rabbit,j-hope,권순일 (어반자카파)', 1), ('SUGA,Supreme Boi,RM,Pdogg,j-hope', 1), ('박근태,Anne Judith Wik,Ronny Svendsen,최진석,Nermin Harambasic,Martin Mulholland', 1), ('Eirik Johansen,박근태,Jan Hallvard Larsen,Nermin Harambasic,Kei Lim,Martin Mulholland', 1), ('Vatsiky,시온', 1), ('권빈기,김재중', 1), ('박은우,한승훈', 1), ('SUGA,Supreme Boi,방시혁,RM,Pdogg', 1), ('SUGA,RM,Cream,j-hope,권대희', 1), ('라디오갤럭시', 1), ('Mage,박근태,최진', 1), ('모니터펀치', 1), ('주태영', 1), ('일당백,안형석,기현석', 1), ('이우민 `collapsedone`,Crizzy & Guy,Fredrik `Fredro` Odesjo', 1), ('최석,박진영', 1), ('이민수,East4A', 1), ('KZ,미친감성,전다운', 1), ('KZ,장이정 (JANGYIJEONG),아르마딜로', 1), ('홍지상,이우민 `collapsedone`', 1), ('강욱진,함승천,iHwak', 1), ('강승윤,DEE.P (FUTURE BOUNCE),MINO (송민호),The Fliptones', 1), ('이현도,Eniac', 1), ('SUGA,Slow Rabbit,j-hope,RM', 1), ('이종훈,PJ,유타', 1), ('최천곤,은종태', 1), ('웨이 (크레용팝)', 1), ('한재호,황현 (MonoTree),김승수,홍승현', 1), ('홍지상', 1), ('Myron Jordine,Greg Bonnick,Hayden Chapman,LDN Noise', 1), ('MR.CHO,청담동박건우', 1), ('박진영,NODAY', 1), ('진짜사나이,B.O.K', 1), ('Namu,일격필살', 1), ('이종수,나병수,주승훈', 1), ('이단옆차기,Homeboy', 1), ('라이머,ASSBRASS', 1), ('Xepy,리시', 1), ('안영민,오징징', 1), ('현일,D.major', 1), ('Claire Rodrigues Lee,스코어,Kevin Charge', 1), ('서재우 (TENTEN),서용배 (TENTEN)', 1), ('Mr Success,ERIK LEWANDER ,Martin Mulholland', 1), ('김건우,송기홍', 1), ('Fingazz,DJ NURE', 1), ('DK,Jordan Kyle,Hyuk Shin (153/Joombas)', 1), ('Slow Rabbit,SUGA', 1), ('V,SUGA,RM,Pdogg,Slow Rabbit,j-hope', 1), ('한재호,김승수,홍승현', 1), ('ASSBRASS,9999,ESBEE', 1), ('나고,주헌 (몬스타엑스)', 1), ('김태영,장이정 (JANGYIJEONG)', 1), ('기현석,일당백,김기표', 1), ('서재우 (TENTEN),김도훈 (RBW)', 1), ('황성진,김창락 (CR Kim),이승엽', 1), ('에스나 (eSNa),최용찬', 1), ('정균', 1), ('청담동박건우,Mr. Cho', 1), ('Dr.JO', 1), ('EastWest,우태운', 1), ('박은우,박수석,강명수 (MOT)', 1), ('라비 (RAVI),MELODESIGN,ASSBRASS,조용호', 1), ('서기,신승익', 1), ('박기현,남기상,정규성,권선익', 1), ('정규성,남기상,DAX,권선익', 1), ('서의범,서유석', 1), ('기리보이', 1), ('Rescue The Beat,김승준,고아라', 1), ('Herbie Crichlow,LDN Noise,Lauren Dyson,Jin Choi', 1), ('황현', 1), ('김동열,Brand Newjiq (브랜뉴직),송양하', 1), ('기희현,신사동 호랭이', 1), ('Chico Slimani,Danny Kirsch,DEEZ,Clinton Outten', 1), ('Kidoh,YANO,RWAM (뢈)', 1), ('YANO,DEEZ,Yunsu', 1), ('Daniel Kim,Mayu Wakisaka', 1), ('TEDDY,KUSH (쿠시)', 1), ('Bluesun,용배 (RBW),이기', 1), ('WOOZI (SEVENTEEN),리시', 1), ('흑태,준타', 1), ('P.K (FUTURE BOUNCE),구준회,B.I,FUTURE BOUNCE', 1), ('4번타자', 1), ('Yu-ki Kokubo,Kohei Yokono', 1), ('추대관 (MonoTree)', 1), ('김도훈 (RBW),이단옆차기', 1), ('박우상,김도훈 (RBW),솔라 (마마무),화사 (Hwa Sa)', 1), ('최영경,GDLO (MonoTree),G-High (MonoTree)', 1), ('텐조와 타스코,이단옆차기', 1), ('위프리키', 1), ('Maria Marcus,홍소진,Andreas Oberg,황찬희,이승주', 1), ('earattack,오브로스,변방의 킥소리,5$', 1), ('Distract,Secret Weapon,진영 (GOT7)', 1), ('DK,2xxx!,Matthew Heath,Jusen,Hyuk Shin (153/Joombas),GG Riggs', 1), ('최영경,정수완,G-High (MonoTree)', 1), ('GALAX,Maxx Song,MUSOH', 1), ('박기현,남기상,권선익', 1), ('더 그랜드,주태영', 1), ('Mental Audio,주태영', 1), ('태경,주태영', 1), ('WOOZI (SEVENTEEN),동네형,BUMZU,원영헌', 1), ('인영훈,BUMZU', 1), ('Samantha Harper,SUGA,Ray Michael Djan Jr,RM,Pdogg,j-hope,Ashton Foster', 1), ('펀치사운드', 1), ('Tammy Infusino,Evan Haymond,Darren Smith', 1), ('권순일 (어반자카파)', 1), ('이한길,이태열', 1), ('Rodnae `Chikk` Bell', 1), ('새벽,진리 (Full8loom),영광의 얼굴들 (Full8loom)', 1), ('이형순,이윤재,황윤성', 1), (' C-no, 웅킴),Onesta,오레오 (이기', 1), ('콰지모도', 1), ('ZigZag Note,레트로펑키', 1), ('e.one', 1), ('이상민,김지수,김준환,박영익', 1), ('Bekuh BOOM', 1), ('Melanie Fontana', 1), ('최선용,하드캐리', 1), ('주헌 (몬스타엑스),Ye-Yo!', 1), ('Pdogg,방시혁,Supreme Boi,RM', 1), (' C-no, 웅킴),황현,오레오 (이기', 1), ('홍소진', 1), ('그루비룸 (GroovyRoom),P.O (피오)', 1), ('박우상,휘인 (Whee In)', 1), ('1MAD,Zaydro,RHeaT', 1), ('이종원,지평권,신형', 1), ('백승범,서동성', 1), ('WOOZI (SEVENTEEN),Faschinating,킵루츠,서정진', 1), ('황찬희', 1), ('이창민', 1), ('박진호', 1), ('UCKU', 1), ('박주희', 1), ('아르마딜로', 1), ('북극곰', 1), ('Ryan S. Jhun,Peter Tambakis,Denzil Remedios,Nermin Harambasic', 1), ('earattack,박진영,zomay,5$,유근', 1), ('Mo`I,유겸 (GOT7),Heth', 1), ('잭슨 (GOT7),BOYTOY', 1), ('Good Life', 1), ('Vo3e,장재벌,브라더수,원호 (WONHO),Xepy', 1), ('원호 (WONHO),장재벌', 1), ('하정호,고영환', 1), ('Alicia Stamkos', 1), ('Valeria Del Prete,72,David Anthony', 1), ('Mayu Wakisaka,Sean Alexander,Avenue 52', 1), ('김우진', 1), ('유정 (LABOUM),SWIN LEE', 1), ('기희현,정채연,제니,유니스,STAINBOYS,예빈 (다이아)', 1), ('제휘', 1), ('J. Yoon', 1), ('홍지상,이우민 `collapsedone`,Young K,Jae,도운,성진,원필 (DAY6)', 1), ('홍지상,원필 (DAY6),Young K,성진', 1), ('장영수,안형석', 1), ('WOOZI (SEVENTEEN),BUMZU', 1), ('염동건,김진환,이승우', 1), ('최초아,김예슬,고영환,박글라라,이상열', 1), ('오레오 (이기, C-no, 웅킴)', 1), ('블랙아이드 필승,라도', 1), ('박진영,김승수,아르마딜로,KAIROS', 1), ('Chloe,NODAY', 1), ('초이 (CHOI),박슬기 (153/Joombas),임광균', 1), ('220,Young K', 1), ('Daniel Caesar,Ludwig Lindell,Caesar & Loui', 1), ('고태영,박시춘', 1), ('Devine Channel', 1), ('한승훈,용배 (RBW)', 1), ('조세희,Mussashi,Justin Reinstein', 1), ('Torry K,Jerry.L,SWEETCH', 1), ('후이 (펜타곤)', 1), ('전영록,KAVE', 1), ('Slow Rabbit,j-hope,RM,SUGA', 1), ('이상은 (=Lee-tzsche)', 1), ('이호준', 1), ('Mirror Boy,문한미루,JB (GOT7),디함', 1), ('Dono S.Rodriguez,Rich Jang,낯선,이제이 쇼', 1), ('전군,블랙아이드 필승,라도', 1), ('earattack,유키', 1), ('Tammy Infusino,Darren Smith', 1), ('Scott Charles Fritz,Josh Hanalei Jones,박우상,Jeremy Bircher', 1), ('Jake K (ARTiffect),진리 (Full8loom),영광의 얼굴들 (Full8loom)', 1), ('심규선 (Lucia),김진영', 1), ('Daniel Obi Klein,Charli Taft,DEEZ', 1), ('SUGA,Kass,방시혁,Supreme Boi,RM,Pdogg', 1), ('우혜림,FRANTS', 1), ('정키', 1), ('서용배 (TENTEN),한승훈', 1), ('Peter Wallevik,Chelcee Grimes,Mich Hansen,Daniel Davidsen,Kara Dioguardi', 1), ('김지수', 1), ('TEDDY,B.I,CHOICE37', 1), ('강욱진,B.I', 1), ('김부민,Aventurina King,Hitchhiker,John Fulford', 1), ('유영진,Whitney Phillips,Maxx Song,Stereotypes', 1), ('Mayu Wakisaka,이우민 `collapsedone`', 1), ('Yu-ki Kokubo,NA.ZU.NA', 1), ('심은지,Fredrik `Figge` Bostrom,Louise Frick Sveen,Albin Nordqvist', 1), ('Chris Meyer,Mans Ek,Hanif Hitmanic Sabzevari', 1), ('문 킴 (Moon Kim),정윤 (153/Joombas)', 1), ('어깨깡패', 1), ('JJ Evans (153/Joombas),박슬기 (153/Joombas),Hyuk Shin (153/Joombas)', 1), ('코스믹 걸 (Cosmic Girl),코스믹 사운드', 1), ('Peter Ibsen,SUGA,방시혁,Arlissa Ruppert,RM,Pdogg,ADORA', 1), ('MINO (송민호),FUTURE BOUNCE', 1), ('강욱진,이승훈', 1), ('Eirik Johansen,Anne Judith Wik,Hayley Aitken,Jan Hallvard Larsen,Ronny Vidar Svendsen,Nermin Harambasic', 1), ('Andy Love,David Amber,Ryan S. Jhun', 1), ('Anchor,BUMZU,Nmore,조용필', 1), ('Adrian Mckinnon,Steven Lee,Brad.K', 1), ('Martin Luke Brown,정바비,SUGA,Orla Gartland,RM,Pdogg,j-hope,ADORA', 1), ('SUGA,Supreme Boi,방시혁,진보,RM,Pdogg', 1), ('이후상,P.O (피오),윤태영', 1), ('이상호', 1), ('Alphonso James Mizell,Berry Gordy,Yuichi OHNO,Freddie Perren,Deke Richards', 1), ('서재우 (TENTEN),BreadBeat (TENTEN),서용배 (TENTEN)', 1), ('제이미,LOOGONE', 1), ('Razer (Strike),홍di,재리포터 (YummyTONE)', 1), ('Efraim Faramir Sixten Fransesco Vindalf Cederqvist Leo,Gavin Jones,Saima Iren Mian,Anne Judith Wik,Ronny Vidar Svendsen,JFMee,Nermin Harambasic', 1), ('진바이진,박근태,Anne Judith Wik,Justin Stein,Ronny Vidar Svendsen,Nermin Harambasic', 1), ('용배 (RBW),밍키 (RBW),이기', 1), ('WOOZI (SEVENTEEN),박기태,BUMZU,S.COUPS (SEVENTEEN)', 1), ('웅킴', 1), ('이단옆차기,Black Edition', 1), ('루바토브 (Rubatov),이준환,김회건,피터팬', 1), ('HotSauce,예빈 (다이아)', 1), ('빅싼초 (Yummy Tone)', 1), ('Andreas Oberg,T.A Shark,A Wright', 1), ('노지훈,Sync Project,WILLIUS', 1), ('라시드 (LASID),주태영', 1), ('라시드 (LASID),몽실AB', 1), ('베르사최 (VERSACHOI),SUN', 1), ('Melanie Fontana,Supreme Boi,Candace Nicole Sosa,방시혁,Jordan “DJ Swivel” Young,RM,ADORA', 1), ('Hiss noise,j-hope', 1), ('방시혁,Ray Michael Djan Jr,RM,Slow Rabbit,Ashton Foster', 1), ('정바비,Samantha Harper,SUGA,Candace Nicole Sosa,Ray Michael Djan Jr,윤기타,Jordan “DJ Swivel” Young,RM,Pdogg,j-hope,Lauren Dyson,Ashton Foster', 1), ('Supreme Boi,방시혁,RM,Pdogg,j-hope', 1), ('Adrian Mckinnon,GASHIMA,Albin Nordqvist', 1), ('정주희,DJ PLO,서지용', 1), ('서원진,B.I,R.Tee', 1), ('Tada Shinya,GRP', 1), ('Ryan S. Jhun,Pietro Lombardi,Georg Maier,Kenneth Gloeckler,Boris Fleck,Stard Ova', 1), ('CJ Abraham,Kim Petras,MXK', 1), ('이든 (EDEN)', 1), ('조미쉘,Steve Diamond,Naitumela Masuku,G`harah `PK` Degeddingseze,Victor Portillo,Jayrah Gibson', 1), ('LOOGONE', 1), ('김도훈 (RBW)', 1), ('Dem Jointz', 1), ('Jeremy G (Future Sound),Daniel Kim,Erik Wigelius', 1), ('원필 (DAY6),케빈오빠,Young K', 1), ('박영익', 1), ('최현준 (V.O.S),김승수', 1), ('이승협 (J.DON),김수빈 (AIMING)', 1), ('강욱진,AiRPLAY,B.I', 1), ('구준회,KUSH (쿠시),B.I,CHOICE37', 1), ('Andreas Oberg,Maria Marcus,Emyli', 1), ('Avenue 52,Sean Alexander,Darren Smith', 1), ('Stereo14,Megatone (13)', 1), ('타이비언,CHKmate', 1), ('WOOZI (SEVENTEEN),박기태,BUMZU,승관 (SEVENTEEN)', 1), ('오자현,이정원', 1), ('구름', 1), ('장범준', 1), ('박현규 (VROMANCE),비범 (블락비),최선용,김진호', 1), ('Ryan Lawrie,Melanie Fontana,Marcus McCoan,SUGA,Camilla Anne Stewart,Candace Nicole Sosa,Max Lynedoch Graham,Jordan “DJ Swivel” Young,RM,Michel “Lindgren” Schulz,j-hope,Matty Thomson', 1), ('Halsey,Melanie Fontana,Michel “Lindgren” Schulz,Emily Weisband,SUGA,방시혁,RM,Pdogg,j-hope', 1), ('정바비,Julia Ross,Krysta Youngs,송재경,Tushar Apte,SUGA,RM,Pdogg,Lauren Dyson,ADORA,j-hope', 1), ('earattack,Larmook (라묵),Louise Frick Sveen', 1), ('Mayu Wakisaka,David Amber,Sean Alexander', 1), ('Ashley Alisha (153/Joombas),박슬기 (153/Joombas),배민수,Le`mon (153/Joombas)', 1), ('강승윤,강욱진,Joe Rhee,Diggy', 1), ('엔플라잉 (N.Flying),이승협 (J.DON),TIENOWA', 1), ('Satoshi Shibayama,엔플라잉 (N.Flying)', 1), ('Moonshine,Cazzi Opeia,Ellen Berg Tollbom', 1), ('빈지노 (Beenzino)', 1), ('Zara Larsson,Scott Quinn,Alexander George Edward Crossan,윤기타,j-hope,Max Wolfgang', 1), ('Johan Gustafsson,Fredrik Haggstam,Sebastian Lundberg,Trinity Music,Ylva Dimberg', 1), ('EL CAPITXN', 1), ('Jae,220,Young K', 1), ('제이 (Jay Hong),SING,Sebastian Anton Atasd,Victor Carl', 1), ('이승주', 1), ('Sophia Ayana,Space Primates,Leon Paul Palmen', 1), ('Ryan S. Jhun,Courtney Woolsey,Denzil `DR` Remedios,Rodnae `Chikk` Bell,Charite Viken,Nermin Harambasic', 1), ('추대관 (MonoTree),Maja Keuc,Andreas Oberg', 1), ('SEAN OH,태동,zomay,네버엔드 (NeverEnd),오브로스,J.Rod', 1), ('KYUM LYK(153/Joombas),Ryan,문 킴 (Moon Kim),EJO,Ovrlap', 1), ('WOOZI (SEVENTEEN),BUMZU,Anchor,G-High (MonoTree)', 1), ('WOOZI (SEVENTEEN),BUMZU,Ohway! (PRISMFILTER)', 1), ('Secret Weapon,Maxx Song,빨간머리앤', 1), ('Unkwn code,유정 (LABOUM)', 1), ('이민수,BLSSD', 1)]\n",
      "cluster 4\n",
      "632\n",
      "[('댄스', 288), ('발라드', 111), ('랩/힙합', 77), ('록/메탈', 44), ('R&B/Soul', 34), ('J-POP', 27), ('발라드, 국내드라마', 9), ('댄스, 랩/힙합', 7), ('국내드라마', 5), ('포크/블루스', 4), ('댄스, 국내영화', 3), ('댄스, 국내드라마', 3), ('록/메탈, 국내드라마', 3), ('인디음악, 록/메탈', 3), ('인디음악, 포크/블루스', 3), ('발라드, 댄스', 2), ('댄스, R&B/Soul', 1), ('발라드, 랩/힙합', 1), ('발라드, 국내영화', 1), ('EMPTY', 1), ('애니메이션/웹툰', 1), ('발라드, R&B/Soul, 국내영화', 1), ('포크/블루스, 국내드라마', 1), ('일렉트로니카', 1), ('R&B/Soul, 인디음악', 1)]\n",
      "[('방탄소년단', 32), ('동방신기', 25), ('몬스타엑스', 23), ('슈퍼주니어', 18), ('에프티 아일랜드', 15), ('마마무 (Mamamoo)', 15), ('빅뱅', 14), ('GOT7 (갓세븐)', 14), ('세븐틴', 14), ('여자친구 (GFRIEND)', 12), ('쥬얼리', 10), ('멜로디데이 (MelodyDay)', 10), ('DIA (다이아)', 10), ('TWICE (트와이스)', 10), ('엔플라잉 (N.Flying)', 9), ('에이프릴 (APRIL)', 9), ('DAY6 (데이식스)', 9), ('Red Velvet (레드벨벳)', 9), ('버즈', 8), ('더블에스오공일', 8), ('브라운 아이드 걸스', 8), ('베리굿 (BerryGood)', 8), ('디베이스', 7), ('소녀시대', 7), ('베스티', 7), ('케이팝', 6), ('JTL', 6), ('샤이니', 6), ('원더걸스', 6), ('카라', 6), ('스피드', 6), ('WINNER', 6), ('파란', 5), ('비스트', 5), ('레이디스 코드', 5), ('러블리즈', 5), ('CLC', 5), ('iKON', 5), ('파파야', 4), ('샤크라', 4), ('트랙스', 4), ('티맥스', 4), ('탑독', 4), ('비트윈 (BEATWIN)', 4), ('소년공화국 (Boys Republic)', 4), ('소나무 (SONAMOO)', 4), ('HIGH4 (하이포)', 4), ('오마이걸 (OH MY GIRL)', 4), ('업텐션 (UP10TION)', 4), ('스누퍼 (SNUPER)', 4), ('볼빨간사춘기', 4), ('VAV', 4), ('듀스', 3), ('언타이틀', 3), ('쿨 (COOL)', 3), ('제이워크', 3), ('써니힐', 3), ('버스커 버스커', 3), ('히스토리', 3), ('Wa$$up ', 3), ('레인보우 블랙', 3), ('비아이지 (B.I.G)', 3), ('Zion.T', 3), ('아이유', 3), ('Wanna One (워너원)', 3), ('R.ef', 2), ('솔리드', 2), ('아이돌', 2), ('밀크', 2), ('보이 클럽', 2), ('스위티', 2), ('오션', 2), ('스맥스', 2), ('제이엔씨', 2), ('제이하트', 2), ('투에이엠', 2), ('유키스', 2), ('에이스타일', 2), ('티아라', 2), ('케이윌', 2), ('이효리', 2), ('FT아일랜드', 2), ('G-DRAGON', 2), ('투아이즈 (2EYES)', 2), ('칠학년일반', 2), ('매드타운 (MADTOWN)', 2), ('핫샷 (HOTSHOT)', 2), ('라붐 (LABOUM)', 2), ('인피니트F', 2), ('블락비 바스타즈', 2), ('로미오 (ROMEO)', 2), ('DEAN', 2), ('장범준', 2), ('여자친구 (GFRIEND),피카친구', 2), ('서태지와 아이들', 1), ('Hamohamo', 1), ('룰라', 1), ('구피', 1), ('에스이에스', 1), ('T.N.B', 1), ('코요태', 1), ('핑클 (Fin.K.L)', 1), ('에스지', 1), ('투야', 1), ('큐오큐', 1), ('신비', 1), ('모닝', 1), ('키스 파이브', 1), ('씽', 1), ('배틀', 1), ('타키온', 1), ('천상지희 더 그레이스', 1), ('초신성', 1), ('애프터 스쿨', 1), ('투피엠', 1), ('투애니원', 1), ('포미닛', 1), ('에프엑스', 1), ('정아', 1), ('민경훈', 1), ('김태우', 1), ('SS501', 1), ('씨스타', 1), ('아이유, 유승호', 1), ('이승기', 1), ('보아', 1), ('슈프림팀, 영준', 1), ('2PM', 1), ('2AM', 1), ('김지수', 1), ('태연', 1), ('크리스탈', 1), ('브레이브걸스', 1), ('인피니트', 1), ('F-ve Dolls', 1), ('장우혁', 1), ('장재인', 1), ('철싸 (노홍철 & 싸이 (PSY))', 1), ('미쓰에이', 1), ('허각', 1), ('신화', 1), ('씨엔블루', 1), ('걸스데이', 1), ('소녀시대-태티서', 1), ('예성', 1), ('주니엘', 1), ('울랄라세션', 1), ('이현', 1), ('이종현', 1), ('싸이', 1), ('다비치', 1), ('틴탑', 1), ('10CM', 1), ('2YOON (포미닛 투윤)', 1), ('핫젝갓알지', 1), ('엔오엠', 1), ('디아,키스 & 크라이', 1), ('크레용팝-딸기우유', 1), ('UNIQ (유니크)', 1), ('인피니트H', 1), ('기리보이,매드클라운,주영,몬스타엑스', 1), ('비에이 (Be.A)', 1), ('빅스LR', 1), ('옥탑방 작업실,매드타운 (MADTOWN),Wa$$up ', 1), ('7 go up', 1), ('AOA', 1), ('맵식스 (MAP6)', 1), ('백예린', 1), ('언니쓰', 1), ('박재범', 1), ('EXO-CBX (첸백시)', 1), ('태연 (TAEYEON)', 1), ('하하,오마이걸 (OH MY GIRL)', 1), ('풍뎅이 (PDE)', 1), ('AKMU (악동뮤지션)', 1), ('두번째달,레이디스 코드', 1), ('정은지', 1), ('혁오 (HYUKOH)', 1), ('EXO', 1), ('러버소울 (Rubber Soul)', 1), ('포켓걸스', 1), ('모모랜드 (MOMOLAND)', 1), ('헤이즈 (Heize)', 1), ('(여자)아이들', 1), ('BLACKPINK', 1), ('현아,조권,비투비,CLC,펜타곤,유선호,(여자)아이들', 1), ('펀치 (Punch)', 1), ('박봄', 1), ('마크툽 (MAKTUB)', 1), ('Crush', 1)]\n",
      "[('(주)SM엔터테인먼트', 61), ('JYP 엔터테인먼트', 33), ('빅히트 엔터테인먼트', 32), ('스타쉽 엔터테인먼트', 26), ('DSP 미디어', 24), ('FNC엔터테인먼트', 21), ('(주)YG엔터테인먼트', 16), ('MBK 엔터테인먼트', 16), ('RBW', 15), ('플레디스 엔터테인먼트', 14), ('쏘스 뮤직', 14), ('YG 엔터테인먼트', 13), ('스타제국', 10), ('SM 엔터테인먼트', 10), ('로엔 엔터테인먼트, 뷰가 엔터테인먼트', 10), ('울림 엔터테인먼트', 9), ('FNC 엔터테인먼트', 9), ('인넥스트트렌드', 8), ('에이팝엔터테인먼트', 8), ('아시아브릿지 엔터테인먼트', 8), (nan, 7), ('H2 엔터테인먼트', 7), ('DSP미디어', 7), ('큐브엔터테인먼트', 7), ('SM Entertainment', 7), ('큐브 엔터테인먼트', 7), ('YNB 엔터테인먼트', 7), ('미래 엔터테인먼트', 6), ('예전 미디어', 6), ('(주)JYP엔터테인먼트', 6), ('일광폴라리스 엔터테인먼트', 6), ('SM엔터테인먼트', 5), ('글로벌에이치미디어', 5), ('로엔 엔터테인먼트', 5), ('쇼파르뮤직', 5), ('WM 엔터테인먼트', 5), ('윈섬 미디어', 4), ('키스 엔터테인먼트', 4), ('플래닛구공오', 4), ('MBK엔터테인먼트', 4), ('YG엔터테인먼트', 4), ('CJ E&M', 4), ('후너스 엔터테인먼트', 4), ('골드문 뮤직, 에렌 엔터테인먼트', 4), ('유니버설 뮤직. 해피트라이브 엔터테인먼트', 4), ('TS 엔터테인먼트', 4), ('N.A.P. 엔터테인먼트', 4), ('티오피 미디어', 4), ('위드메이', 4), ('에이팀', 4), ('예당 음향 (예당 컴퍼니)', 3), ('레오뮤직', 3), ('쿨컴퍼니', 3), ('주식회사 엘리야엔터테인먼트', 3), ('Stone Music Entertainment', 3), ('JYP Entertainment', 3), ('JYP엔터테인먼트', 3), ('마피아 레코드', 3), ('지앤아이 엔터테인먼트', 3), ('GH 엔터테인먼트', 3), ('THE BLACK LABEL', 3), ('EDAM엔터테인먼트', 3), ('YMC엔터테인먼트', 3), ('팀 엔터테인먼트', 2), ('비앤비', 2), ('JT Corea Entertainment', 2), ('시즌 엔터테인먼트', 2), ('키스엔터테인먼트', 2), ('MPLAN 엔터테인먼트', 2), ('(주)앤에이취이엠쥐', 2), ('플레디스', 2), ('카카오 M', 2), ('플레이엠 엔터테인먼트', 2), ('드림티 엔터테인먼트', 2), ('iHQ', 2), ('다른별 엔터테인먼트', 2), ('케이오사운드/아더앤에이블/스타크루이엔티', 2), ('NH 미디어. 내가네트워크', 2), ('세븐시즌스', 2), ('CT 엔터테인먼트', 2), ('Joombas Co Ltd, 유니버설뮤직(가요)', 2), ('(주)버스커버스커', 2), ('요요 기획', 1), ('뮤직 팩토리', 1), ('서울인 프로덕션', 1), ('KYT엔터테인먼트', 1), ('대성기획', 1), ('Astars 엔터테인먼트', 1), ('상마인드', 1), ('ADbell 엔터테인먼트', 1), ('씽엔터테인먼트', 1), ('굿 엔터테인먼트', 1), ('J&H 미디어', 1), ('마루기획(주)', 1), ('아이에스엔터미디어그룹', 1), ('스타쉽엔터테인먼트', 1), ('소울샵엔터테인먼트', 1), ('후크엔터테인먼트', 1), ('아메바컬쳐, 인넥스트트렌드', 1), ('YG Entertainment', 1), ('브레이브 엔터테인먼트', 1), ('WH크레이티브, Universal Music', 1), ('키위뮤직', 1), ('신화컴퍼니 (SHINHWA COMPANY)', 1), ('빅히트엔터테인먼트', 1), ('티오피미디어', 1), ('매직스트로베리사운드', 1), ('제이엠스타 엔터테인먼트', 1), ('위닝인사이트엠', 1), ('크롬엔터테인먼트', 1), ('위에화 엔터테인먼트', 1), ('크롬 엔터테인먼트', 1), ('젤리피쉬 엔터테인먼트', 1), ('블루바이닐', 1), ('KBS한국방송', 1), ('에이오엠지', 1), ('DoMA 엔터테인먼트', 1), ('(주)두루두루아티스트컴퍼니', 1), ('해피트라이브 엔터테인먼트. 위드에이치씨', 1), ('미스디카', 1), ('(주)엠엘디엔터테인먼트', 1), ('Stone Music Entertainment, Studio blu', 1), ('냠냠엔터테인먼트', 1), ('디네이션', 1), ('(주)마크툽컴퍼니', 1), ('피네이션', 1)]\n",
      "[(2017, 81), (2016, 78), (2018, 54), (2015, 51), (2008, 44), (2009, 42), (2014, 38), (2012, 26), (2006, 25), (2007, 24), (2010, 22), (2013, 22), (2019, 21), (2002, 15), (2003, 15), (2005, 14), (2001, 13), (2011, 12), (2004, 10), (1996, 7), (1997, 5), (1995, 4), (1999, 3), (2000, 3), (1998, 2), (1994, 1)]\n",
      "[('EMPTY', 36), ('용감한 형제', 8), ('유영진', 6), ('이현도', 5), ('윤일상', 5), ('박진영', 5), ('장범준', 5), ('Pdogg,Slow Rabbit,정국,진', 5), ('유건형', 4), ('황성제', 4), ('김도훈 (RBW)', 4), ('김승수', 4), ('Chloe,NODAY', 4), ('e.one', 4), (nan, 3), ('박근태', 3), ('신인수', 3), ('주영훈', 3), ('이상준', 3), ('Kenzie', 3), ('오승은', 3), ('G-DRAGON', 3), ('페리 ', 3), ('류재현', 3), ('한성호', 3), ('김재양', 3), ('홍지상', 3), ('이민수', 3), ('Philippe-Marc Anquetil', 3), ('김도훈, 이상호', 3), ('바닐라맨 (바닐라어쿠스틱)', 3), ('홍재선', 2), ('최준영', 2), ('주태영', 2), ('Do', 2), ('이영훈', 2), ('박성일', 2), ('강훈', 2), ('고석영', 2), ('Mad Soul Child', 2), ('원상우', 2), ('KENZIE', 2), ('LeeOn', 2), ('한승훈', 2), ('장용진', 2), ('큐베이스 J', 2), ('이종훈', 2), ('이재명', 2), ('이윤재', 2), ('조영수', 2), ('한상원', 2), ('최성원', 2), ('KZ1', 2), ('강지원', 2), ('김도훈', 2), ('안영민', 2), ('싸이 (PSY), 유건형', 2), ('에이팀', 2), ('SUGA,Supreme Boi,RM,Pdogg,j-hope', 2), ('북극곰,신사동 호랭이', 2), ('WOOZI (SEVENTEEN),동네형,원영헌', 2), ('JB (GOT7),앤드류 최,220,밍지션', 2), ('노주환,이원종', 2), ('강욱진,남태현', 2), ('브라더수,SUGA,방시혁,RM,Pdogg,Slow Rabbit,j-hope', 2), ('박우상,김도훈 (RBW)', 2), ('SWEETUNE', 2), ('Joe Killington,Sophie White,David Anthony', 2), ('1Piece', 2), ('SUGA,RM,Pdogg,j-hope,ADORA', 2), ('SUGA,Supreme Boi,방시혁,RM,Pdogg,j-hope', 2), ('피터팬,똘아이박', 2), ('장정석,흑태', 2), ('WOOZI (SEVENTEEN),박기태,BUMZU', 2), ('홍지상,Young K,Jae,성진,원필 (DAY6)', 2), ('Mayu Wakisaka,이우민 `collapsedone`', 2), ('엔플라잉 (N.Flying),이승협 (J.DON),Yuzuru Kusugo', 2), ('Andy Love,Daniel Mikael Wold,Ryan S. Jhun,Hanif Hitmanic Sabzevari', 2), ('서태지', 1), ('김수현', 1), ('신피디', 1), ('문스톤', 1), ('박해운', 1), ('심상원', 1), ('신상근', 1), ('우지민', 1), ('전준규', 1), ('황세준', 1), ('이희승', 1), ('Richard Anderson', 1), ('이근형', 1), ('주민', 1), ('리로이 브라운', 1), ('안성일', 1), ('Unknown', 1), ('Justin Young', 1), ('이재원', 1), ('서운영', 1), ('이택승', 1), ('박세준', 1), ('윤영준', 1), ('Ken Hirai', 1), ('김진훈', 1), ('오종혁', 1), ('김세진', 1), ('William Pyon', 1), ('Masanori Takumi', 1), ('GRV', 1), ('방승철', 1), ('최수정', 1), ('김영훈', 1), ('구모후', 1), ('빅뱅 (방승철)', 1), ('김태성', 1), ('필강', 1), ('박창현', 1), ('Himuro Kyosuke', 1), ('데니안', 1), ('박준수', 1), ('이세형', 1), ('Jesse Carmichael', 1), ('Ryosuke Nakanishi (中西亮輔)', 1), ('M. Percali', 1), ('나준섭', 1), ('CARLSON SANNIE', 1), ('Derek Bramble', 1), ('김태윤, 박민조', 1), ('김성수', 1), ('민영기', 1), ('김대현, 이상백', 1), ('TROELSEN, THOMAS', 1), ('이범희', 1), ('RAINSTONE', 1), ('Alex Cantrall', 1), ('홍석', 1), ('이트라이브 (E-TRIBE)', 1), ('김보아', 1), ('이승환', 1), ('WAYNE MILTON', 1), ('Shusui', 1), ('PASCAL GUYON', 1), ('Ecobridge', 1), ('Ronny Svendsen', 1), ('TEDDY', 1), ('류광민', 1), ('김짜르트', 1), ('XIA (준수)', 1), ('Daisuke Suzuki (鈴木大輔)', 1), ('유한진', 1), ('신사동 호랭이', 1), ('김도훈, 최갑원', 1), ('Sean Alexander', 1), ('MR.B.I.G', 1), ('김기범', 1), ('이치우', 1), ('윤명선', 1), ('성환', 1), ('Machan Taylor', 1), ('이트라이브', 1), ('Kalle Engstrom, Michael Busbee, Alex James', 1), ('BAHNUS', 1), ('Antwann Frost, RONALD FROST, ANETRA TERREL, CC Productions, Ryan S. Jhun', 1), ('이현승', 1), ('Steven Lee', 1), ('G. 고릴라', 1), ('히치하이커', 1), ('김건우', 1), ('신사동 호랭이, 라도, 최규성', 1), ('방시혁', 1), ('이상호, 신사동 호랭이', 1), ('김두현', 1), ('오성훈', 1), ('G-DRAGON, T.O.P', 1), ('용감한 형제, 별들의 전쟁 (GALACTIKA *)', 1), ('한재호, 김승수', 1), ('김기범, 강지원', 1), ('김도훈 (RBW), 이상호', 1), ('신사동 호랭이, 용준형', 1), ('장재인', 1), ('라도, 최규성', 1), ('Cri$tyle', 1), ('라도', 1), ('Andrew Jackson, Gandalf Roudette, Joshua Thompson', 1), ('강지원, 김기범', 1), ('Brandon Fraley, Jamelle Fraley, Javier Solis', 1), ('김명곤', 1), ('김현구, 공두형', 1), ('G-DRAGON, 필강', 1), ('핫펠트 (HA:TFELT), 이우민 `collapsedone`', 1), ('핫펠트 (HA:TFELT), 이우민 `collapsedone`, Fredrik `Fredro` Odesjo', 1), ('홍진영', 1), ('김승수, YUE', 1), ('TEDDY, G-DRAGON, 필강', 1), ('10CM', 1), ('김태주,한서윤,신사동 호랭이', 1), ('김광진,오승은', 1), ('Lars Aass,Claudia Mills,김태호,Ole Henrik Antonsen', 1), ('이주호,이철원', 1), ('Ichiro Suezawa,이단옆차기', 1), ('이단옆차기', 1), ('Crada', 1), ('백민혁,회장님', 1), ('THE RAP MONSTER,SUGA,Supreme Boi,방시혁,Pdogg,j-hope', 1), ('오한승,한상경,이수영', 1), ('박남정,킵루츠,은지원', 1), ('슈퍼창따이,Will Simms,Tom Havelock', 1), ('Brent Paschke,Jimmy Richard,Kei Lim,Gabriel Steve Lopez', 1), ('배진렬 (JR Groove),정우영', 1), ('이수현', 1), ('슈퍼창따이', 1), ('용감한 형제,별들의 전쟁 (GALACTIKA *)', 1), ('레드락,Ye-Yo!', 1), ('박근철', 1), ('모니터펀치', 1), ('East4A,윤상', 1), ('Boy Ski Mask,MUSOH,Lisa Desmond', 1), ('장영수,안형석', 1), ('라디오갤럭시,우태운', 1), ('브라더수,SUGA,RM,Pdogg,Slow Rabbit,j-hope', 1), ('에스나 (eSNa),김도훈 (RBW)', 1), ('화사 (Hwa Sa),조재협,Zo,서지은', 1), ('박진영,이우민 `collapsedone`', 1), ('앤드류 최,220,DEEZ', 1), ('정규성,남기상,DAX,권선익', 1), ('라디오갤럭시,이단옆차기', 1), ('Bui Thanh Vu,SUGA,방시혁,RM,Pdogg,j-hope', 1), ('RM,SUGA,이호형,Pdogg,j-hope', 1), ('청담슈퍼', 1), ('최천곤,은종태', 1), ('이윤지,DK,Jordan Kyle,Hyuk Shin (153/Joombas)', 1), ('흑태', 1), ('DK,2xxx!,Jarah Lafayette Gibson,M Rey,Hyuk Shin (153/Joombas)', 1), ('UCKU', 1), ('일당백,안형석,신정은', 1), ('이단옆차기,영광의 얼굴들 (Full8loom)', 1), ('LE (2LSON),Brian Lee,신사동 호랭이', 1), ('진짜사나이,B.O.K', 1), ('추대관 (MonoTree),한재호,김승수,홍승현', 1), ('윤종성 (MonoTree),장정석,흑태', 1), ('박은우,박수석', 1), ('마르코,스타트랙', 1), ('이종훈,PJ', 1), ('9999,HOYA (호야)', 1), ('기리보이,죠지,Jetti,주영,Thrxdy', 1), ('돈 스파이크,이영훈,이상호', 1), ('타고난,김창락 (CR Kim),박원우,Y.T', 1), ('그루비룸 (GroovyRoom),인크레더블,P.O (피오)', 1), ('DK,Jarah Lafayette Gibson,Hyuk Shin (153/Joombas),Beat&Keys', 1), ('브라더수,SUGA,방시혁,RM,Pdogg,j-hope', 1), ('earattack,SUGA,방시혁,RM,Pdogg,j-hope', 1), ('이단옆차기,Homeboy', 1), ('홍지상,최린,이해용', 1), ('ASSBRASS,리시,이지훈', 1), ('라이머,리시,주헌 (몬스타엑스),기현 (몬스타엑스)', 1), ('크라이베이비', 1), ('한승훈,권광진,고진영', 1), ('WOOZI (SEVENTEEN),BUMZU,염동건', 1), ('이종훈,서용배 (TENTEN),박근태,PJ,이상호', 1), ('텐조와 타스코,이단옆차기,SEION', 1), ('Joe J. Lee (Kairos)', 1), ('김웅,홍범규,이기', 1), ('헬로굿보이,알고보니 혼수상태', 1), ('김지수,김정택', 1), ('라비 (RAVI),MELODESIGN,ASSBRASS,조용호', 1), ('방시혁,Slow Rabbit,브라더수', 1), ('남기상,미호,권선익', 1), ('남기상,DAX,권선익', 1), ('DAY6 (데이식스),naru (THE SOLUTIONS)', 1), ('홍지상,이우민 `collapsedone`,DAY6 (데이식스)', 1), ('유종호,몬스터팩토리', 1), ('Laura Brian,Sean Alexander,Avenue 52', 1), ('DEEZ', 1), ('Sam Lewis,블랙아이드 필승,라도', 1), ('펀치사운드', 1), ('김도훈 (RBW),이상호', 1), ('한승훈,고진영', 1), ('이토요,박진영', 1), ('박재민,창조,전상환', 1), ('Pdogg,Slow Rabbit,Supreme Boi,RM', 1), ('SAM,YUB', 1), ('Nikel(617),김진훈', 1), ('를 (LEL),BOYTOY', 1), ('이주형 (MonoTree),NOPARI (MonoTree)', 1), ('김도훈 (RBW),솔라 (마마무)', 1), ('강민훈,코스믹 걸 (Cosmic Girl),코스믹 사운드', 1), ('Rodnae `Chikk` Bell,KENZIE,DEEZ', 1), ('Ryan S. Jhun', 1), ('2XXX!', 1), ('홍지상,이우민 `collapsedone`,Young K,Jae,도운,성진,원필 (DAY6)', 1), ('Jae,220,앤드류 최,Young K', 1), ('Daniel Kim,Steve Wu,박지연,Joonathan Kettunen', 1), ('안지영', 1), ('WOOZI (SEVENTEEN),김진환,이현도', 1), ('이제이 쇼,The Karlsson`s,Krissie Karlsson,Nicki Karlsson,Karl Karlsson', 1), ('김재형', 1), ('Felicia Barton', 1), ('정민,주헌 (몬스타엑스)', 1), ('Stereo14,키겐,리시', 1), ('Rescue The Beat', 1), ('이단옆차기,양갱', 1), ('서의범,BPM,이상철', 1), ('dress', 1), ('구름', 1), ('비록 (B-Rock),J-Lin', 1), ('최수인,황금빛,정훈', 1), ('NEW SUN(뉴썬),마르코', 1), ('4번타자', 1), ('콰지모도', 1), ('전용준', 1), ('WOOZI (SEVENTEEN),earattack', 1), ('DK,Mrey,Hyuk Shin (153/Joombas)', 1), ('일당백,안형석', 1), ('남기상,박영호,권선익,DAX,피아노맨', 1), ('earattack,리시,마크 (GOT7)', 1), ('Shaun Kim,STAINBOYS', 1), ('잭슨 (GOT7),BOYTOY', 1), ('CARLOS BATTEY,Gregg Pagani,Damon Sharpe', 1), ('earattack,JB (GOT7)', 1), ('한요한,기리보이', 1), ('SUMIN (수민),방시혁,Pdogg,지민,DOCSKIM', 1), ('RM,방시혁,진,준 (JUNE),Pdogg,Slow Rabbit,j-hope', 1), ('최영경,G-High (MonoTree)', 1), ('Hoody (후디)', 1), ('Andreas Oberg,Sebastian Thott,Danielle Senior,Didrik Thott', 1), ('블랙아이드 필승,라도', 1), ('VINCENZO,P.O (피오),SWEETCH,이기', 1), ('DK', 1), ('Chelcee Grimes', 1), ('박우상,김도훈 (RBW),MGR(RBW)', 1), ('김도훈 (RBW),최용찬', 1), ('코스믹 걸 (Cosmic Girl),코스믹 사운드', 1), ('Coach & Sendo,DEEZ', 1), ('Chrischan,전준규', 1), ('BUMZU,호시 (SEVENTEEN)', 1), ('WOOZI (SEVENTEEN),동네형,야마아트,원영헌', 1), ('드라이브킹,제임스피오폰트', 1), ('이찬혁', 1), ('ZigZag Note', 1), ('MachWave,이준엽', 1), ('홍지상,이우민 `collapsedone`,Young K,Jae,원필 (DAY6)', 1), ('쏘울깍쟁이,이재학,원요한', 1), ('Davey Nate,Mrey,Hyuk Shin (153/Joombas)', 1), ('손영진 (MosPick),JayJay (MosPick)', 1), ('예아나이스 (MosPick),손영진 (MosPick)', 1), ('Sara Forsberg,Otha `Vakseen` Davis III,MZMC,The Colleagues,Leven Kali,Jamil `Digi` Chammas,Tay Jasper,Harrison Johnson,Karl Powell', 1), ('Johan Gustafsson,Courtney Woolsey,Fredrik Haggstam,DEEZ,Sebastian Lundberg', 1), ('Johan Gustafsson,Ylva Dimberg,Fredrik Haggstam,Sebastian Lundberg', 1), ('PEEJAY', 1), ('두번째달', 1), ('Young K,도운,Mr. Cho,원필 (DAY6),주효', 1), ('멜로디데이 (MelodyDay),JQ,임재신', 1), ('C-no', 1), ('highhopes', 1), ('어깨깡패,김영환', 1), ('전군,프리미엄 프로젝트', 1), ('Brian Choi,220,Erik Lidbom', 1), ('소피야 (Sophiya),220,Erik Lidbom', 1), ('용배 (RBW),이기', 1), ('아테나 (GALACTIKA *),별들의 전쟁 (GALACTIKA *)', 1), ('리시,Megatone (13),ESBEE', 1), ('강승윤,강욱진,MINO (송민호)', 1), ('오혁', 1), ('Long Candy', 1), ('이정현 (MISTA BURN)', 1), ('노는어린이,윤영민,기희현,김동하,제니,유니스', 1), ('노는어린이,예빈 (다이아),멜로디공작소', 1), ('기희현,제니,똘아이박,유니스,예빈 (다이아),피터팬', 1), ('로얄 플러시', 1), ('카더가든', 1), ('원호 (WONHO),JJB', 1), ('투챔프', 1), ('WOOZI (SEVENTEEN),BUMZU', 1), ('WOOZI (SEVENTEEN),BUMZU,호시 (SEVENTEEN)', 1), ('Ilanguaq `ilang` Lumholt,Premo,박상일', 1), ('JYMON,UCKU', 1), ('CHOICE37', 1), ('RE:ONE ,Delly Boi,Davey Nate', 1), ('1601', 1), ('임소혁,박상준,유종운', 1), ('Kanata Okajima,Pontus Persson,Becky Jerams', 1), ('Johannes `Josh` Joergensen,Lars Halvor Jensen,Marissa Jack', 1), ('RE:ONE ,Davey Nate,Hyuk Shin (153/Joombas)', 1), ('한승훈,김창락 (CR Kim),용배 (RBW),이기', 1), ('강승윤,Bekuh BOOM,FUTURE BOUNCE', 1), ('강승윤,MINO (송민호),FUTURE BOUNCE', 1), ('탁 (TAK)', 1), ('준 (JUNE),Supreme Boi,방시혁,RM,Pdogg,ADORA', 1), ('미친기집애,피터팬,똘아이박', 1), ('원준 (ONE JUNN),인광', 1), ('James Matthew Norton', 1), ('Allison Kaplan,Matthew Tishler,RM', 1), ('Andrew Taggart,SUGA,방시혁,Ray Michael Djan Jr,RM,Pdogg,j-hope,ADORA,Ashton Foster,Sam Klempner', 1), ('이주형 (MonoTree),권덕근', 1), ('윤비 (YunB),14o2,Mad Soul Child,러버소울 (Rubber Soul)', 1), ('Effn,Samuel Ku,유겸 (GOT7),Heth', 1), ('김희원,오준성,김형성', 1), ('단디', 1), ('Risto Asikainen,Antti Hynninen', 1), ('WOOZI (SEVENTEEN),BUMZU,DIRTY ORANGE,Mitsu.J', 1), ('Andreas Oberg,A-Dee,Stereo14,Drew Ryan Scott', 1), ('별들의 전쟁 (GALACTIKA *)', 1), ('주헌 (몬스타엑스),Ye-Yo!', 1), ('정호현 (e.one)', 1), ('Supreme Boi,방시혁,RM,Pdogg,j-hope', 1), ('Tammy Infusino,Darren Smith', 1), ('낭이', 1), ('강욱진,B.I,Diggy', 1), ('구준회,KUSH (쿠시),B.I,CHOICE37', 1), ('Ryan S. Jhun,G`harah `PK` Degeddingseze,Jarah Lafayette Gibson', 1), ('Ryan S. Jhun,Fredrik `Figge` Bostrom,Pontus Soderqvist,조미쉘', 1), ('정한 (SEVENTEEN),WOOZI (SEVENTEEN),BUMZU,적재,조슈아 (SEVENTEEN)', 1), ('Ferdy (MosPick),예아나이스 (MosPick),JayJay (MosPick)', 1), ('김창환,명랑한 운동부,HYMAX,홍di', 1), ('Peter Wallevik,Chelcee Grimes,Mich Hansen,Daniel Davidsen,Kara Dioguardi', 1), ('다비 (DAVII)', 1), ('노는어린이,이빛나,윤영민', 1), ('로빈', 1), ('오민', 1), ('Harry Somerdahl,Stereo14,Shane Simmons,Hayden Bell', 1), ('원호 (WONHO),Rich Jang', 1), ('나고,주헌 (몬스타엑스),Ye-Yo!', 1), ('JUN,UTA,Hiro', 1), ('zomay,오브로스,Bello,5$', 1), ('노주환,소피야 (Sophiya),김예일', 1), ('빅싼초 (Yummy Tone)', 1), ('로코베리', 1), ('김창락 (CR Kim),조세희,김수빈 (AIMING)', 1), ('정바비,SUGA,Candace Nicole Sosa,윤기타,Jordan “DJ Swivel” Young,RM,Pdogg,j-hope,ADORA', 1), ('Pdogg,방시혁,RM', 1), ('WOOZI (SEVENTEEN),BUMZU,Anchor', 1), ('Bekuh BOOM', 1), ('정일훈,Any Masingga,VINCENZO,Fuxxy', 1), ('Andreas Oberg,노주환,Sean Alexander,Avenue 52,Darren Smith', 1), ('달리,Wonderkid,신쿵', 1), ('빨간머리앤,mOnSteR nO.9,신형', 1), ('타이비언,mOnSteR nO.9', 1), ('배희경,몽실AB,더 그랜드', 1), ('Hiss noise,Slow Rabbit,RM', 1), ('Courtney Woolsey,Mrey,Hyuk Shin (153/Joombas)', 1), ('최인환', 1), ('Jake K (ARTiffect),진리 (Full8loom),영광의 얼굴들 (Full8loom)', 1), ('Bekuh BOOM,B.I,FUTURE BOUNCE', 1), ('9F,주헌 (몬스타엑스)', 1), ('이후상', 1), ('Sara Forsberg,Timothy `Bos` Bullock,MZMC,KENZIE', 1), ('비토,1Hz', 1), ('Ryan S. Jhun,Sonny J. Mason,Rico Love,Lonnie Burrell,Marcus Cooper', 1), ('이승협 (J.DON),김수빈 (AIMING)', 1), ('Albi Albertsson,Kanata Okajima,Mussashi', 1), ('강욱진,B.I', 1), ('서원진,B.I,R.Tee', 1), ('Caroline Gustavsson,Val Del Prete,Daniel Sherman', 1), ('Anna Timgren,Fuxxy,Any Masingga,VINCENZO', 1), ('Kevin Charge,Stereo14,Drew Ryan Scott,Andreas Oberg,Daniel Kim', 1), ('레드쿠키', 1), ('Marcus McCoan,Camilla Anne Stewart,방시혁,Owen Roberts,Max Lynedoch Graham,RM,j-hope,Matty Thomson', 1), ('Moonshine,Cazzi Opeia,Ellen Berg Tollbom', 1), ('강욱진,MINO (송민호),Diggy', 1), ('스페이스카우보이 (SPACECOWBOY)', 1), ('NV,최영준,스페이스카우보이 (SPACECOWBOY),JADE (제이드)', 1), ('남기상,미호,방유선', 1), ('마크툽 (MAKTUB)', 1), ('Neil Athale,Ylva Dimberg,Will Simms', 1), ('Young K,성진,원필 (DAY6),이민경,케빈오빠', 1), ('Adrian Mckinnon,GASHIMA,Albin Nordqvist', 1), ('haventseenyou', 1)]\n",
      "cluster 5\n",
      "493\n",
      "[('댄스', 219), ('발라드', 109), ('랩/힙합', 65), ('록/메탈', 36), ('R&B/Soul', 17), ('J-POP', 14), ('발라드, 국내드라마', 11), ('댄스, 랩/힙합', 5), ('인디음악, 록/메탈', 3), ('EMPTY', 2), ('댄스, 국내드라마', 2), ('발라드, 댄스', 2), ('국내드라마', 2), ('댄스, R&B/Soul', 1), ('POP', 1), ('댄스, 애니메이션/웹툰, 키즈, 만화', 1), ('애니메이션/웹툰, 키즈, 만화', 1), ('발라드, R&B/Soul, 국내영화', 1), ('일렉트로니카', 1)]\n",
      "[('동방신기', 25), ('방탄소년단', 21), ('몬스타엑스', 13), ('버즈', 11), ('Red Velvet (레드벨벳)', 10), ('쥬얼리', 9), ('마마무 (Mamamoo)', 9), ('여자친구 (GFRIEND)', 9), ('샤크라', 8), ('멜로디데이 (MelodyDay)', 8), ('DIA (다이아)', 8), ('TWICE (트와이스)', 8), ('더블에스오공일', 7), ('빅뱅', 7), ('악동 클럽 ', 6), ('제이워크', 6), ('트랙스', 6), ('파란', 6), ('에프티 아일랜드', 6), ('샤이니', 6), ('소년공화국 (Boys Republic)', 6), ('탑독', 6), ('소나무 (SONAMOO)', 6), ('CLC', 6), ('업텐션 (UP10TION)', 6), ('스누퍼 (SNUPER)', 6), ('VAV', 6), ('iKON', 6), ('큐오큐', 5), ('브라운 아이드 걸스', 5), ('원더걸스', 5), ('티맥스', 5), ('소녀시대', 5), ('스피드', 5), ('GOT7 (갓세븐)', 5), ('엔플라잉 (N.Flying)', 5), ('잼', 4), ('R.ef', 4), ('슈퍼주니어', 4), ('투애니원', 4), ('비스트', 4), ('아이유', 4), ('레이디스 코드', 4), ('빅플로', 4), ('WINNER', 4), ('풍뎅이 (PDE)', 4), ('러블리즈', 4), ('빅스LR', 4), ('DAY6 (데이식스)', 4), ('파파야', 3), ('신비', 3), ('제이엔씨', 3), ('오션', 3), ('천상지희 더 그레이스', 3), ('세븐틴', 3), ('헤이즈 (Heize)', 3), ('오마이걸 (OH MY GIRL)', 3), ('더 블루', 2), ('룰라', 2), ('솔리드', 2), ('신화', 2), ('T.N.B', 2), ('티티마', 2), ('JTL', 2), ('블랙 비트', 2), ('케이팝', 2), ('디베이스', 2), ('카라', 2), ('배틀', 2), ('초신성', 2), ('투에이엠', 2), ('써니힐', 2), ('티아라', 2), ('보아', 2), ('2NE1', 2), ('씨엔블루', 2), ('태연', 2), ('히스토리', 2), ('Wa$$up ', 2), ('비에이 (Be.A)', 2), ('투하트 (우현, 키)', 2), ('핫샷 (HOTSHOT)', 2), ('UNIQ (유니크)', 2), ('비트윈 (BEATWIN)', 2), ('지코 (ZICO)', 2), ('EXO', 2), ('에이프릴 (APRIL)', 2), ('Apink (에이핑크)', 2), ('서태지와 아이들', 1), ('노이즈', 1), ('듀스', 1), ('H.O.T.', 1), ('Hamohamo', 1), ('아이돌', 1), ('엔알지', 1), ('Circle', 1), ('이글 파이브', 1), ('클레오', 1), ('god', 1), ('에스지', 1), ('투야', 1), ('밀크', 1), ('스위티', 1), ('모닝', 1), ('스매쉬 ', 1), ('레드삭스', 1), ('제이하트', 1), ('씽', 1), ('애프터 스쿨', 1), ('투피엠', 1), ('지연', 1), ('2AM', 1), ('f(x)', 1), ('이효리', 1), ('미쓰에이', 1), ('먼데이 키즈', 1), ('서인국', 1), ('씨스타', 1), ('포맨', 1), ('이승기', 1), ('슈프림팀', 1), ('민경훈', 1), ('김보경', 1), ('GG (박명수 & G-Dragon)', 1), ('바닷길 (길 & 바다)', 1), ('스윗 콧소로우 (정준하 & 스윗소로우)', 1), ('리쌍', 1), ('효린', 1), ('FT아일랜드', 1), ('버스커 버스커', 1), ('허각', 1), ('울랄라세션', 1), ('신용재', 1), ('레게 강 같은 평화', 1), ('아이유, 피에스타', 1), ('G-DRAGON', 1), ('에일리', 1), ('블락비', 1), ('박명수', 1), ('2YOON (포미닛 투윤)', 1), ('제아파이브', 1), ('M&N (미료&나르샤)', 1), ('Pro C (프로씨)', 1), ('케이윌,마마무 (Mamamoo)', 1), ('이창민,멜로디데이 (MelodyDay)', 1), ('마마무 (Mamamoo),긱스 (Geeks)', 1), ('크레용팝-딸기우유', 1), ('워너비 (WANNA.B)', 1), ('베리굿 (Berry Good)', 1), ('매드타운 (MADTOWN)', 1), ('에디킴', 1), ('이하이', 1), ('라붐 (LABOUM)', 1), ('정키', 1), ('보아 (BoA)', 1), ('잔나비', 1), ('다비치', 1), ('문문 (MoonMoon)', 1), ('Lasse Lindh', 1), ('Knock', 1), ('BLACKPINK', 1), ('현아', 1), ('뉴이스트 W', 1), ('ITZY (있지)', 1), ('볼빨간사춘기', 1), ('펀치 (Punch)', 1)]\n",
      "[('(주)SM엔터테인먼트', 50), ('빅히트 엔터테인먼트', 21), ('SM 엔터테인먼트', 17), ('JYP 엔터테인먼트', 17), ('DSP 미디어', 14), ('스타쉽 엔터테인먼트', 14), ('MBK 엔터테인먼트', 13), ('YG 엔터테인먼트', 11), ('인넥스트트렌드', 11), ('(주)YG엔터테인먼트', 11), ('RBW', 11), ('스타제국', 10), ('FNC엔터테인먼트', 9), ('로엔 엔터테인먼트, 뷰가 엔터테인먼트', 9), ('쏘스 뮤직', 9), ('키스 엔터테인먼트', 8), ('(주)JYP엔터테인먼트', 8), (nan, 7), ('EMPTY', 7), ('큐브 엔터테인먼트', 7), ('SM엔터테인먼트', 6), ('주식회사 엘리야엔터테인먼트', 6), ('글로벌에이치미디어', 6), ('유니버설 뮤직. 해피트라이브 엔터테인먼트', 6), ('후너스 엔터테인먼트', 6), ('TS 엔터테인먼트', 6), ('티오피 미디어', 6), ('위드메이', 6), ('에이팀', 6), ('상마인드', 5), ('에이팝엔터테인먼트', 5), ('플래닛구공오', 5), ('FNC 엔터테인먼트', 5), ('팀 엔터테인먼트', 4), ('큐브엔터테인먼트', 4), ('YG엔터테인먼트', 4), ('카카오 M', 4), ('일광폴라리스 엔터테인먼트', 4), ('에이치오컴퍼니', 4), ('DoMA 엔터테인먼트', 4), ('울림 엔터테인먼트', 4), ('젤리피쉬 엔터테인먼트', 4), ('플레디스 엔터테인먼트', 4), ('윈섬 미디어', 3), ('키스엔터테인먼트', 3), ('JT Corea Entertainment', 3), ('로엔 엔터테인먼트', 3), ('MBK엔터테인먼트', 3), ('플레이엠 엔터테인먼트', 3), ('Stone Music Entertainment, Studio blu', 3), ('WM 엔터테인먼트', 3), ('서울인 프로덕션', 2), ('비앤비', 2), ('뮤직 팩토리', 2), ('신화컴퍼니', 2), ('뮤직팩토리', 2), ('예전 미디어', 2), ('미래 엔터테인먼트', 2), ('H2 엔터테인먼트', 2), ('DSP미디어', 2), ('굿 엔터테인먼트', 2), ('마루기획(주)', 2), ('SM Entertainment', 2), ('Stone Music Entertainment', 2), ('JYP엔터테인먼트', 2), ('CJ E&M', 2), ('마피아 레코드', 2), ('지앤아이 엔터테인먼트', 2), ('크롬 엔터테인먼트', 2), ('SM 엔터테인먼트. 울림 엔터테인먼트', 2), ('케이오사운드/아더앤에이블/스타크루이엔티', 2), ('위에화 엔터테인먼트', 2), ('골드문 뮤직, 에렌 엔터테인먼트', 2), ('KOZ 엔터테인먼트', 2), ('EDAM엔터테인먼트', 2), ('요요 기획', 1), ('라인 기획', 1), ('예당 음향 (예당 컴퍼니)', 1), ('조선음향', 1), ('싸이더스HQ', 1), ('Astars 엔터테인먼트', 1), ('MPLAN 엔터테인먼트', 1), ('씽엔터테인먼트', 1), ('플레디스', 1), ('JYP Entertainment', 1), ('J-SOUL company', 1), ('젤리피쉬엔터테인먼트', 1), ('YWHO Enterprise', 1), ('후크엔터테인먼트', 1), ('아메바컬쳐', 1), ('아이에스엔터미디어그룹', 1), ('Sony Music', 1), ('거성엔터테인먼트, YG엔터테인먼트', 1), ('리쌍컴퍼니, 웨이브나인', 1), ('미인컴퍼니, 스윗소로우컴퍼니', 1), ('리쌍컴퍼니', 1), ('스타쉽엔터테인먼트', 1), ('도레미엔터테인먼트, 김종학프로덕션', 1), ('밀리언마켓', 1), ('QUAN Entertainment', 1), ('YMC엔터테인먼트', 1), ('브랜뉴스타덤', 1), ('거성엔터테인먼트', 1), ('미스틱 엔터테인먼트', 1), ('크롬엔터테인먼트', 1), ('제니스 미디어 콘텐츠', 1), ('아시아브릿지 엔터테인먼트', 1), ('미스틱89', 1), ('에이오엠지', 1), ('NH 미디어. 내가네트워크', 1), ('도우즈 레코즈', 1), ('페포니 뮤직', 1), ('Stone Music Entertainment, B2M Entertainment', 1), (' ', 1), ('칠리뮤직코리아', 1), ('피네이션', 1), ('쇼파르뮤직', 1), ('냠냠엔터테인먼트', 1)]\n",
      "[(2017, 54), (2016, 40), (2015, 36), (2018, 36), (2014, 32), (2007, 31), (2006, 27), (2009, 24), (2008, 23), (2002, 22), (2012, 22), (2004, 20), (2019, 20), (2013, 17), (2010, 16), (2005, 11), (2011, 11), (1995, 7), (1999, 7), (2000, 7), (2001, 7), (1996, 6), (2003, 6), (1998, 4), (1992, 3), (1997, 3), (1994, 1)]\n",
      "[('EMPTY', 45), ('박진영', 8), (nan, 7), ('유영진', 4), ('김성태', 4), ('고석영', 4), ('TEDDY', 4), ('홍지상,이우민 `collapsedone`,Young K,Jae,성진,원필 (DAY6)', 4), ('조진호', 3), ('이현도', 3), ('박근태', 3), ('Kenzie', 3), ('서정진', 3), ('황성제', 3), ('용감한 형제', 3), ('김태성', 3), ('김재양', 3), ('최규성', 3), ('SWEETUNE', 3), ('김민종', 2), ('홍재선', 2), ('이용민', 2), ('조규만', 2), ('페리 ', 2), ('이윤재', 2), ('이택승', 2), ('Groovie. K', 2), ('김태현', 2), ('원상우', 2), ('Chrischan', 2), ('G-DRAGON', 2), ('류광민', 2), ('오승은', 2), ('이민수', 2), ('이트라이브', 2), ('길', 2), ('이단옆차기', 2), ('NORU (노루),김강훈', 2), ('슈퍼창따이', 2), ('실버벨,도마현', 2), ('1Piece', 2), ('홍지상,박진영', 2), ('마르코,스타트랙', 2), ('9999,리시,ESBEE', 2), ('Andreas Oberg,Maria Marcus,Emyli', 2), ('Poptime', 2), ('방시혁,Slow Rabbit,브라더수', 2), ('김도훈 (RBW),SUGA,방시혁,RM,Pdogg,j-hope', 2), ('브라더수,SUGA,방시혁,RM,Pdogg,Slow Rabbit,j-hope', 2), ('e.one', 2), ('박우상,김도훈 (RBW)', 2), ('원준 (ONE JUNN),인광', 2), ('다비 (DAVII)', 2), ('BEOMxNANG', 2), ('미오 (MIO)', 2), ('SUGA,Supreme Boi,RM,Pdogg,Roman Campolo,j-hope', 2), ('Mayu Wakisaka,이우민 `collapsedone`', 2), ('서태지', 1), ('최준영', 1), ('김혜선, 이준', 1), ('김창환', 1), ('김준희', 1), ('김혜선', 1), ('이상민', 1), ('석훈, 김중범', 1), ('이성욱', 1), ('한창훈', 1), ('이윤상', 1), ('황세준', 1), ('전준규', 1), ('조우진', 1), ('양준영', 1), ('오석준', 1), ('Mad Soul Child', 1), ('한진우', 1), ('Papertonic', 1), ('안정훈', 1), ('디스코 파이터', 1), ('김성현', 1), ('안성일', 1), ('방승철', 1), ('윤치웅', 1), ('안성준', 1), ('Justin Young', 1), ('Daniel Pandher', 1), ('Young-Hu Kim', 1), ('김선민', 1), ('김세진', 1), ('박창현', 1), ('Chang-Hyun Park', 1), ('RoseBeetz', 1), ('Yoshiki', 1), ('이상준', 1), ('윤우현', 1), ('남기상', 1), ('김운진', 1), ('Sarah Nagourney,  Jack Kugell,  Jason Pennock,  Jamie Jones', 1), ('박덕정', 1), ('기세인', 1), ('오광석', 1), ('윤일상', 1), ('박준하', 1), ('손성희', 1), ('정동중', 1), ('이규원', 1), ('윤석준', 1), ('이병준', 1), ('윤건', 1), ('윤희성', 1), ('제아', 1), ('김도훈 (RBW)', 1), ('Ryosuke Nakanishi (中西亮輔)', 1), ('이상규', 1), ('J.M. Feliciano', 1), ('John Paul Lam', 1), ('장원호', 1), ('송봉조', 1), ('전혜원', 1), ('최수정', 1), ('JAY PEA', 1), ('Martin Kember', 1), ('HOLLANDS JAMES REGINALD', 1), ('Sean Kumar', 1), ('핫펠트 (HA:TFELT)', 1), ('Minuki', 1), ('조영수', 1), ('Yoji Kubota (久保田洋司)', 1), ('이승환', 1), ('James Read', 1), ('오준성', 1), ('김승수', 1), ('한성호', 1), ('Joachim Svares', 1), ('HB', 1), ('한상원', 1), ('김병훈', 1), ('신민철', 1), ('이재명', 1), ('김종천', 1), ('방시혁, Pdogg', 1), ('백무현, 정창욱', 1), ('SHARIF & SLATER, Ryan S. Jhun', 1), ('강지원, 이진성', 1), ('Jos Jorgensen, Anne Judith Wik, Martin Hansen, Erik Lidborn, ANDREW NICHOLAS', 1), ('황세준, 김도훈, PJ', 1), ('Eknock', 1), ('김도훈', 1), ('김건우', 1), ('안영민', 1), ('윤종신', 1), ('히치하이커', 1), ('정용화 (CNBLUE)', 1), ('아이유', 1), ('박근철, 이상열', 1), ('TEDDY, Eknock, G-DRAGON', 1), ('성진환', 1), ('김창기', 1), ('김도훈, 이상호', 1), ('Thomas Troelsen, Rufio Sandilands, Rocky Morris, Thomas Eriksen', 1), ('김재양, 정용화 (CNBLUE)', 1), ('박해운', 1), ('장범준', 1), ('윤명선, 이규현', 1), ('G-DRAGON, Boys Noize, T.O.P', 1), ('Jerry Barnes, Katreese Barnes, Rodger Green, 김상미', 1), ('보아', 1), ('Goodnite, Sleepwell', 1), ('신용재 (2F)', 1), ('김태영, 싸이져', 1), ('KENZIE', 1), ('TEDDY, G-DRAGON, 필강', 1), ('박근태, Tommy Park', 1), ('지코, Pop Time', 1), ('정엽, Ecobridge', 1), ('Ichiro Suezawa,이단옆차기', 1), ('이단옆차기,SEION', 1), ('서재우 (TENTEN),서용배 (TENTEN),이상호', 1), ('김창락 (CR Kim),Kei Lim,Polar Monkeys', 1), ('남기상,DAX,미호,권선익', 1), ('Pdogg', 1), ('Pdogg,SUGA,j-hope,RM', 1), ('박근태,Anne Judith Wik,Ronny Svendsen,최진석,Nermin Harambasic,Martin Mulholland', 1), ('Daniel Caesar,Olof Lindskog,Ludwig Lindell,박근태', 1), ('모니터펀치', 1), ('Detune3,Kidoh', 1), ('Candysound,이규현', 1), ('레드락,금붕어', 1), ('DEEZ,연수', 1), ('라디오갤럭시', 1), ('에스나 (eSNa),김도훈 (RBW),이상호', 1), ('이지훈,JIN,송지훈', 1), ('모니터펀치,연수', 1), ('이병우,안준성', 1), ('라디오갤럭시,우태운', 1), ('이주형 (MonoTree),홍승현,한재호,김승수,G-High (MonoTree)', 1), ('SUGA,RM,Cream,j-hope,권대희', 1), ('이현도,Eniac', 1), ('에스나 (eSNa),김도훈 (RBW)', 1), ('HighTop,정균', 1), ('텐조와 타스코,이단옆차기', 1), ('MINO (송민호),TEDDY,CHOICE37', 1), ('iHwak,남태현,AiRPLAY', 1), ('SUGA,Slow Rabbit,j-hope,RM', 1), ('SUGA,숀 (SHAUN),방시혁,RM,Pdogg,Slow Rabbit,j-hope', 1), ('박민주,Xepy', 1), ('똘아이박,신또,피터팬,미친기집애', 1), ('Daniel Caesar,박근태,Ludwig Lindell,신사동 호랭이', 1), ('Junjaman,Oliver Goodman,A Tree Plus,Sarah De Courcy', 1), ('110403,Daniel Kim,Erik Lidbom', 1), ('진짜사나이,B.O.K', 1), ('텐조와 타스코,이단옆차기,SEION', 1), ('박수석,윤영민', 1), ('KZ,미친감성,전다운', 1), ('박수석,김기범,-', 1), ('주태영', 1), ('JIN', 1), ('Hayley Aitken,Johan Gustafsson,Fredrik Haggstam,Sebastian Lundberg', 1), ('노는어린이,ZigZag Note', 1), ('앤드류 최,220,Cha Cha Malone', 1), ('DK,2xxx!,M Rey,Hyuk Shin (153/Joombas),Deanfluenza', 1), ('DK,M Rey,Hyuk Shin (153/Joombas)', 1), ('V,SUGA,방시혁,진,RM,Pdogg,j-hope,지민', 1), ('드라이브킹', 1), ('박현우,한승훈,고진영', 1), ('e.one,조재석', 1), ('스티 (STi),김건우,송기홍', 1), ('김도훈 (RBW),전승우', 1), ('Sum People', 1), ('전다운,스타트랙', 1), ('라비 (RAVI),키겐', 1), ('MELODESIGN,레오(LEO)', 1), ('라비 (RAVI),조용호', 1), ('정하,정택준', 1), ('김원혁', 1), ('주헌 (몬스타엑스),태완 (Taewan),Ye-Yo!', 1), ('Ryan S. Jhun,LDN Noise,Deanna Dellacioppa,Taylor Parks', 1), ('Daniel Obi Klein,Ylva Dimberg,KENZIE,Oliver McEwan', 1), ('Jarah Lafayette Gibson,DK,Mrey,Hyuk Shin (153/Joombas)', 1), ('신사동 호랭이,몬스터팩토리', 1), ('Abi F Jones,Kanata Okajima,DWB', 1), ('Z-uK (지욱),정균', 1), ('북극곰,신사동 호랭이', 1), ('한승훈,권광진,고진영', 1), ('SooNo,김광빈,돈 스파이크', 1), ('리시,ESBEE', 1), ('Pdogg,방시혁,Slow Rabbit', 1), ('천성일', 1), ('Postino', 1), ('RE:ONE', 1), ('노는어린이,ZigZag Note,강명신', 1), ('김태영,나도균', 1), ('김동열,Brand Newjiq (브랜뉴직),송양하', 1), ('영광의 얼굴들 (Full8loom)', 1), ('SUGA,방시혁,RM,Slow Rabbit,j-hope', 1), ('SUGA,정국,진,RM,Pdogg,Slow Rabbit,j-hope', 1), ('Stereo14,리시,브라더수,ESBEE', 1), ('Ferdy (MosPick),손영진 (MosPick),빅싼초 (Yummy Tone)', 1), ('Adrian Mckinnon', 1), ('정키', 1), ('안영민,예빈 (다이아)', 1), ('기희현,안영민,예빈 (다이아)', 1), ('Johan Gustafson', 1), ('박은우,박수석', 1), ('디젤 (DZELL),G-High (MonoTree),신아녜스', 1), ('콰지모도,한재준 a.k.a 타키', 1), ('WOOZI (SEVENTEEN),동네형,민식이,원영헌', 1), ('잔나비', 1), ('청담동박건우,김원', 1), ('Malin Johansson,Josef Melin', 1), ('999,Davey Nate,Jayrah Gibson,Hyuk Shin (153/Joombas)', 1), ('Kevin Moore', 1), ('추대관 (MonoTree),NOPARI (MonoTree),신아녜스', 1), ('전해성', 1), ('김연석,YANO', 1), ('문문 (MoonMoon)', 1), ('Daniel Kim,원필 (DAY6),성진,Young K', 1), ('김희진', 1), ('Ryan S. Jhun,Keith Harris,Lance Tolbert,Zaydro,RHeaT,Lauren Evans,David Quinones', 1), ('정수민,하울,박근철', 1), ('이주형 (MonoTree),G-High (MonoTree)', 1), ('박상희', 1), ('용감한 형제,차쿤,투챔프', 1), ('용감한 형제,투챔프', 1), ('한경수,최한솔,김창락 (CR Kim),핑크하운드', 1), ('Distract,Secret Weapon,진영 (GOT7)', 1), ('GDLO (MonoTree),JB (GOT7)', 1), ('RE:ONE ,Delly Boi,Davey Nate', 1), ('김희원', 1), ('강승윤,AiRPLAY', 1), ('새벽,Long Candy,영광의 얼굴들 (Full8loom),진리 (Full8loom),예빈 (다이아)', 1), ('선우정아', 1), ('B.I,MILLENNIUM', 1), ('강욱진,AiRPLAY,B.I', 1), ('Devine Channel', 1), ('RE:ONE ,Davey Nate', 1), ('Vo3e,장재벌,브라더수,원호 (WONHO),Xepy', 1), ('Lydia Paek', 1), ('Sam Lewis,블랙아이드 필승,라도', 1), ('서태지,Supreme Boi,Pdogg', 1), ('Daniel Caesar,Ludwig Lindell,Caesar & Loui', 1), ('노주환,이원종', 1), ('박해일 (Yummy Tone),빅싼초 (Yummy Tone)', 1), ('e.one,최현준 (V.O.S)', 1), ('STAINBOYS', 1), ('레오(LEO),UCKU', 1), ('SUGA,Kass,방시혁,Supreme Boi,RM,Pdogg', 1), ('Royal Dive', 1), ('머쉬멜로우', 1), ('탁 (TAK),원택 (1Take)', 1), ('Bee', 1), ('earattack,Fox Stevenson', 1), ('명랑한 운동부,HYMAX,홍di,신중현', 1), ('나고,주헌 (몬스타엑스),Ye-Yo!', 1), ('한승훈,고진영', 1), ('김창락 (CR Kim),이승협 (J.DON),Andy Platts,김수빈 (AIMING)', 1), ('유건형,B.I,싸이 (PSY)', 1), ('강욱진,B.I', 1), ('Ryan S. Jhun,ESBEE,Caracciolo', 1), ('Coach & Sendo', 1), ('Ryan S. Jhun,Peter Tambakis,Denzil Remedios,Nermin Harambasic', 1), ('서재우 (TENTEN),예아나이스 (MosPick)', 1), ('예아나이스 (MosPick),JayJay (MosPick)', 1), ('고태영,전준규', 1), ('아테나 (GALACTIKA *),별들의 전쟁 (GALACTIKA *)', 1), ('주헌 (몬스타엑스),이현도,Ye-Yo!', 1), ('강승윤,강욱진,MINO (송민호),Diggy', 1), ('zomay,오브로스,real-fantasy,MAYFLY', 1), ('zomay,오브로스,Bello,NANCY BOY', 1), ('Louise Frick Sveen,Atsushi Shimada,Albin Nordqvist', 1), ('Roland Spreckley,Jake Torrey,Noah Conrad,Steve Aoki,Annika Wells,RM,Slow Rabbit', 1), ('구희상,실버벨,도마현', 1), ('전군', 1), ('황현 (MonoTree)', 1), ('김도훈 (RBW),솔라 (마마무),이후상', 1), ('Anchor,BUMZU', 1), ('Joe Rhee,B.I,R.Tee', 1), ('Jonatan Gusmark,Ludvig Evers,Cazzi Opeia,Ellen Berg Tollbom', 1), ('zomay,오브로스,real-fantasy', 1), ('Stereo14,Daniel Kim,Ti', 1), ('조미쉘,Marcus Elkjer,Frans Walfridsson,Alexander Laitila,Sebastian Owens', 1), ('문별 (마마무),김도훈 (RBW),솔라 (마마무)', 1), ('칼리 (CALII),SUN', 1), ('최현준 (V.O.S),김승수', 1), ('MZMC', 1), ('Bekuh BOOM,B.I,FUTURE BOUNCE', 1), ('용배 (RBW),이기', 1), ('B.EYES', 1), ('스페이스카우보이 (SPACECOWBOY)', 1), ('Ryo `Lefty` Miyata,Carlos K,JOE', 1), ('박우상', 1), ('아테나 (GALACTIKA *)', 1), ('에이노,Gabby', 1), ('탁 (TAK),김종환', 1), ('정호현 (e.one)', 1), ('이우민 `collapsedone`,Val Del Prete,Eric Sanicola', 1), ('WOOZI (SEVENTEEN),BUMZU,Anchor', 1), ('Rosanna Ener,Jake Torrey,Changkyun Lim,주헌 (몬스타엑스),기현 (몬스타엑스),Noah Conrad,민혁 (몬스타엑스),Dan Henig,Karim Kharbouch,형원 (몬스타엑스),Hoseok Shin,Hyunwoo Sohn', 1), ('진후,정진우,롱드라이브 (Long Drive),Tip$y,MOON,RANDYACHTZ', 1), ('Peter Wallevik,Mich Hansen,Daniel Davidsen,Phil Plested,Lauren Aquilina', 1), ('바닐라맨 (바닐라어쿠스틱)', 1), ('박강일', 1)]\n",
      "cluster 6\n",
      "111\n",
      "[('댄스', 50), ('발라드', 19), ('R&B/Soul', 12), ('랩/힙합', 9), ('J-POP', 9), ('록/메탈', 4), ('포크/블루스', 3), ('인디음악, 포크/블루스', 2), ('발라드, 국내드라마', 2), ('록/메탈, 국내드라마', 1)]\n",
      "[('TWICE (트와이스)', 13), ('오마이걸 (OH MY GIRL)', 8), ('AKMU (악동뮤지션)', 6), ('몬스타엑스', 6), ('GOT7 (갓세븐)', 6), ('Red Velvet (레드벨벳)', 6), ('방탄소년단', 5), ('엔플라잉 (N.Flying)', 4), ('DIA (다이아)', 3), ('싸이 (PSY)', 3), ('소년공화국 (Boys Republic)', 3), ('DAY6 (데이식스)', 3), ('세븐틴', 3), ('소녀시대', 2), ('CLC', 2), ('Crush', 2), ('아이오아이 (I.O.I)', 2), ('로미오 (ROMEO)', 2), ('아이유', 2), ('러블리즈', 2), ('선미', 2), ('폴킴', 2), ('보이스코', 1), ('케이팝', 1), ('파란', 1), ('초신성', 1), ('더블에스오공일', 1), ('샤이니', 1), ('VAV', 1), ('스탠딩 에그', 1), ('언니쓰', 1), ('여자친구 (GFRIEND)', 1), ('펀치 (Punch)', 1), ('케이윌,소유 (SOYOU),보이프렌드,몬스타엑스,우주소녀,매드클라운', 1), ('멜로디데이 (MelodyDay)', 1), ('백현 (BAEKHYUN)', 1), ('소녀시대-Oh!GG', 1), ('하이라이트 (Highlight)', 1), ('워너비 (WANNA.B)', 1), ('(여자)아이들', 1), ('10CM', 1), ('백예린', 1), ('블락비 바스타즈', 1), ('UV,엔플라잉 (N.Flying)', 1), ('거미', 1), ('풍뎅이 (PDE)', 1)]\n",
      "[('JYP 엔터테인먼트', 22), ('WM 엔터테인먼트', 8), ('스타쉽 엔터테인먼트', 7), ('(주)YG엔터테인먼트', 6), ('SM 엔터테인먼트', 6), ('피네이션', 5), ('빅히트 엔터테인먼트', 5), ('FNC 엔터테인먼트', 5), ('(주)SM엔터테인먼트', 4), ('MBK 엔터테인먼트', 3), ('유니버설 뮤직. 해피트라이브 엔터테인먼트', 3), ('플레디스 엔터테인먼트', 3), ('큐브 엔터테인먼트', 2), ('YMC엔터테인먼트', 2), ('CT 엔터테인먼트', 2), ('EDAM엔터테인먼트', 2), ('울림 엔터테인먼트', 2), ('(주)메이크어스엔터테인먼트', 2), ('뉴런뮤직', 2), ('자이브 레코드', 1), ('미래 엔터테인먼트', 1), ('글로벌에이치미디어', 1), ('마루기획(주)', 1), ('DSP 미디어', 1), ('SM Entertainment', 1), ('에이팀', 1), ('본엔터테인먼트', 1), ('KBS한국방송', 1), ('쏘스 뮤직', 1), ('냠냠엔터테인먼트', 1), ('로엔 엔터테인먼트, 뷰가 엔터테인먼트', 1), ('어라운드어스이엔티', 1), ('제니스 미디어 콘텐츠', 1), ('큐브엔터테인먼트', 1), ('매직스트로베리사운드', 1), ('블루바이닐', 1), ('세븐시즌스', 1), ('씨제스엔터테인먼트', 1), ('DoMA 엔터테인먼트', 1)]\n",
      "[(2018, 32), (2017, 30), (2019, 22), (2016, 17), (2008, 2), (2015, 2), (2001, 1), (2002, 1), (2006, 1), (2007, 1), (2009, 1), (2010, 1)]\n",
      "[('이찬혁', 6), ('원준 (ONE JUNN),인광', 3), ('홍지상,이우민 `collapsedone`,Young K,Jae,성진,원필 (DAY6)', 3), ('EMPTY', 2), ('유건형', 2), ('JJ Evans (153/Joombas),Flow Blow,Hyuk Shin (153/Joombas)', 2), ('로코베리', 2), ('김창락 (CR Kim),김수빈 (AIMING)', 2), ('MATT ZARLEY', 1), ('한성호', 1), ('김태현', 1), ('유영진', 1), ('KENZIE', 1), ('이트라이브', 1), ('손영진 (MosPick)', 1), ('Andreas Oberg,Par Almqvist,August Vinberg', 1), ('Zion.T', 1), ('Ryan S. Jhun', 1), ('바울', 1), ('홍소진', 1), ('콰지모도', 1), ('DEEZ,Yunsu', 1), ('72,David Anthony,황세준', 1), ('이정현,이범석', 1), ('루빈,유정연', 1), ('유정연,문정규 (a.k.a 좋은놈)', 1), ('Egg3', 1), ('기희현,제니,똘아이박,유니스,STAINBOYS,예빈 (다이아),피터팬', 1), ('아이유', 1), ('샘김 (Sam Kim)', 1), ('김도현', 1), ('이현승', 1), ('박진영,김승수,아르마딜로,KAIROS', 1), ('디아,김원', 1), ('72,David Anthony Eames,Debbie-Jane Blackwell', 1), ('Roahn Hylton,Dr.JO,Johnny Marnell,Brian Judah,Scott Granger', 1), ('Erlend Elvesveen,Lise Kristin Kvenseth,Jo Svarre Sande,Rune Helmersen,Tone Ravna Bjørnstad,Elizaveta Vassilieva', 1), ('Moa Anna Maria Carlebecker,Ronny Vidar Svendsen,Nermin Harambasic,Anne Judith Wik', 1), ('용배 (RBW),이기', 1), ('wan9u,스페이스카우보이 (SPACECOWBOY),윤상,신유미', 1), ('주찬양 (티맥스),Command Freaks,영재 (GOT7)', 1), ('UCKU', 1), ('Kooky,크루셜스타 (Crucial Star)', 1), ('Daniel Obi Klein,Charli Taft,진보,SUMIN (수민)', 1), ('김부민,Aventurina King,Hitchhiker,John Fulford', 1), ('Ylva Dimberg,DEEZ,Stereotypes', 1), ('Sophie Stern,Gladius,James Wong,Sidnie Tipton', 1), ('김동휘,더 네임,KingMing', 1), ('이상철,문한미루,JB (GOT7),Mirror Boy,디함', 1), ('이미지스 (IMAGES),뱀뱀 (GOT7)', 1), ('홍곰,Ryan,5$,AMIllO (아밀로),영재 (GOT7)', 1), ('Effn,유겸 (GOT7),Heth', 1), ('Stephen Langstaff,진영 (GOT7),Matthew Weedon,Charlie Tenku,Distract', 1), ('UTA,Andrew Taggart,SUGA,방시혁,Ray Michael Djan Jr,RM,Pdogg,j-hope,ADORA,Ashton Foster,Sam Klempner', 1), ('Andrew Taggart,SUGA,방시혁,Ray Michael Djan Jr,RM,Pdogg,j-hope,ADORA,Ashton Foster,Sam Klempner', 1), ('SUGA,Supreme Boi,방시혁,진보,RM,Pdogg', 1), ('Mayu Wakisaka,David Anthony Eames,Sophie White,Amy Richardson', 1), ('MLC,Erik Lidbom,Julie Yu', 1), ('THE ELEV3N,Joren Van Der Voort,Micky Blue', 1), ('Eirik Johansen,Anne Judith Wik,Hayley Aitken,Jan Hallvard Larsen,Ronny Vidar Svendsen,Nermin Harambasic', 1), ('Anne Judith Wik,Jonatan Gusmark,Andreas Baertels,Ludvig Evers,오승은,Cazzi Opeia', 1), ('정바비,Samantha Harper,SUGA,Candace Nicole Sosa,Ray Michael Djan Jr,윤기타,Jordan “DJ Swivel” Young,RM,Pdogg,j-hope,Lauren Dyson,Ashton Foster', 1), ('Melanie Fontana,Supreme Boi,Candace Nicole Sosa,방시혁,Jordan “DJ Swivel” Young,RM,ADORA', 1), ('김지수,박시춘,박영익', 1), ('Jonatan Gusmark', 1), ('FRANTS', 1), ('VMP', 1), ('Adam Argyle,조미쉘,Rob Persaud,Damon Sharpe', 1), ('Mayu Wakisaka,David Amber', 1), ('추대관 (MonoTree)', 1), ('Adrian Mckinnon,GASHIMA,Albin Nordqvist', 1), ('조셉 케이', 1), ('Good Life', 1), ('C-no,웅킴,이기', 1), ('J.Y. Park `The Asiansoul`,이해솔', 1), ('정호현 (e.one)', 1), ('서재우 (TENTEN),BreadBeat (TENTEN),쥰', 1), ('브라더수,Caesar & Loui', 1), ('최기석,iLLA', 1), ('빅싼초 (Yummy Tone)', 1), ('EL CAPITXN', 1), ('빨간양말', 1), ('10CM', 1), ('Ashley Alisha (153/Joombas),KYUM LYK(153/Joombas),JJ Evans (153/Joombas),Hyuk Shin (153/Joombas)', 1), ('카더가든', 1), ('낭이,신사동 호랭이,범이', 1), ('김회건,기희현,이준환,루바토브 (Rubatov),피터팬', 1), ('Benny Kim,JOONY,P.O (피오)', 1), ('이승협 (J.DON),조세희,정진욱', 1), ('Caroline Gustavsson,Joe Lawrence,Steven Lee', 1), ('도니제이', 1), ('엔플라잉 (N.Flying),UV,고진영', 1), ('정동환,SUMIN (수민)', 1), ('드라이브킹', 1), ('WOOZI (SEVENTEEN),BUMZU,Ohway! (PRISMFILTER)', 1), ('WOOZI (SEVENTEEN),박기태,BUMZU', 1), ('WOOZI (SEVENTEEN),BUMZU,Vernon (SEVENTEEN)', 1)]\n",
      "cluster 7\n",
      "981\n",
      "[('댄스', 464), ('발라드', 218), ('랩/힙합', 94), ('록/메탈', 66), ('R&B/Soul', 40), ('J-POP', 34), ('발라드, 국내드라마', 14), ('댄스, 랩/힙합', 9), ('POP', 6), ('댄스, 국내드라마', 6), ('발라드, 댄스', 4), ('국내드라마', 4), ('EMPTY', 3), ('인디음악, 포크/블루스', 3), ('록/메탈, 애니메이션/웹툰, 키즈, 만화', 2), ('발라드, 록/메탈', 2), ('랩/힙합, 국내드라마', 2), ('인디음악, 록/메탈', 2), ('랩/힙합 ', 1), ('댄스 ', 1), ('발라드, R&B/Soul', 1), ('댄스, 애니메이션/웹툰', 1), ('댄스, 게임', 1), ('댄스, 애니메이션/웹툰, 키즈, 만화', 1), ('일렉트로니카', 1), ('국외드라마', 1)]\n",
      "[('동방신기', 44), ('슈퍼주니어', 39), ('빅뱅', 35), ('방탄소년단', 32), ('샤크라', 23), ('몬스타엑스', 22), ('TWICE (트와이스)', 22), ('버즈', 20), ('브라운 아이드 걸스', 20), ('에프티 아일랜드', 20), ('GOT7 (갓세븐)', 20), ('마마무 (Mamamoo)', 17), ('러블리즈', 17), ('쥬얼리', 16), ('JTL', 15), ('세븐틴', 15), ('Red Velvet (레드벨벳)', 14), ('DAY6 (데이식스)', 13), ('소녀시대', 12), ('CLC', 12), ('악동 클럽 ', 11), ('WINNER', 11), ('제이워크', 10), ('천상지희 더 그레이스', 10), ('파란', 10), ('여자친구 (GFRIEND)', 10), ('오션', 9), ('더블에스오공일', 9), ('샤이니', 9), ('탑독', 9), ('오마이걸 (OH MY GIRL)', 9), ('업텐션 (UP10TION)', 9), ('노이즈', 8), ('에이프릴 (APRIL)', 8), ('케이팝', 7), ('모닝', 7), ('카라', 7), ('라붐 (LABOUM)', 7), ('DIA (다이아)', 7), ('제이엔씨', 6), ('매드타운 (MADTOWN)', 6), ('소년공화국 (Boys Republic)', 6), ('베리굿 (BerryGood)', 6), ('서태지와 아이들', 5), ('솔리드', 5), ('밀크', 5), ('블랙 비트', 5), ('큐오큐', 5), ('보이스립', 5), ('원더걸스', 5), ('오렌지', 5), ('티아라', 5), ('아이유', 5), ('버스커 버스커', 5), ('스누퍼 (SNUPER)', 5), ('iKON', 5), ('잼', 4), ('룰라', 4), ('듀스', 4), ('티티마', 4), ('엑스라지', 4), ('에스지', 4), ('디베이스', 4), ('에스', 4), ('트랙스', 4), ('제이하트', 4), ('씽', 4), ('초신성', 4), ('시크릿', 4), ('빅플로', 4), ('소나무 (SONAMOO)', 4), ('로미오 (ROMEO)', 4), ('볼빨간사춘기', 4), ('더 블루', 3), ('R.ef', 3), ('터보', 3), ('쿨 (COOL)', 3), ('T.N.B', 3), ('이글 파이브', 3), ('Circle', 3), ('데자부', 3), ('스맥스', 3), ('배틀', 3), ('써니힐', 3), ('에이스타일', 3), ('유키스', 3), ('엠블랙', 3), ('포미닛', 3), ('씨스타', 3), ('스피드', 3), ('히스토리', 3), ('베스티', 3), ('비아이지 (B.I.G)', 3), ('Wa$$up ', 3), ('맵식스 (MAP6)', 3), ('HIGH4 (하이포)', 3), ('VAV', 3), ('H.O.T.', 2), ('젝스키스', 2), ('에스이에스', 2), ('오피피에이', 2), ('핑클 (Fin.K.L)', 2), ('파파야', 2), ('보이스코', 2), ('스매쉬 ', 2), ('엘프', 2), ('투피엠', 2), ('티맥스', 2), ('G-DRAGON', 2), ('이효리', 2), ('인피니트', 2), ('2AM', 2), ('걸스데이', 2), ('김보경', 2), ('B1A4', 2), ('어반자카파', 2), ('LC9', 2), ('멜로디데이 (MelodyDay)', 2), ('비에이 (Be.A)', 2), ('UNIQ (유니크)', 2), ('핫샷 (HOTSHOT)', 2), ('풍뎅이 (PDE)', 2), ('헤이즈 (Heize)', 2), ('비트윈 (BEATWIN)', 2), ('러버소울 (Rubber Soul)', 2), ('청하', 2), ('엔플라잉 (N.Flying)', 2), ('블락비 바스타즈', 2), ('베이비복스', 1), ('원타임', 1), ('코요태', 1), ('신화', 1), ('태사자', 1), ('클릭비 (Click-B)', 1), ('god', 1), ('투야', 1), ('보이 클럽', 1), ('스위티', 1), ('신비', 1), ('키스 파이브', 1), ('애프터 스쿨', 1), ('슈아이', 1), ('에프엑스', 1), ('레인보우', 1), ('은지원', 1), ('럼블피쉬', 1), ('포맨', 1), ('2NE1', 1), ('애프터스쿨', 1), ('제국의아이들', 1), ('김태우', 1), ('이보람, 효민, 지연', 1), ('태양', 1), ('박유천, 시아준수, 김재중', 1), ('미쓰에이', 1), ('허각', 1), ('신용재', 1), ('서인영', 1), ('GD&TOP', 1), ('선예', 1), ('이창민, 진운', 1), ('다비치', 1), ('장재인', 1), ('나르샤', 1), ('NS 윤지', 1), ('제시카', 1), ('보이프렌드', 1), ('처진 달팽이 (유재석 & 이적)', 1), ('센치한 하하 (하하 & 10cm)', 1), ('10CM', 1), ('울랄라세션', 1), ('나인뮤지스', 1), ('달샤벳', 1), ('EXID', 1), ('EXO-K', 1), ('티파니', 1), ('블락비', 1), ('시아준수', 1), ('나얼', 1), ('가인', 1), ('2YOON (포미닛 투윤)', 1), ('다소니', 1), ('투아이즈 (2EYES)', 1), ('마마무 (Mamamoo),범키', 1), ('HIGH4 (하이포),아이유', 1), ('M.Pire', 1), ('조pd (ZoPD),탑독', 1), ('인피니트F', 1), ('인피니트H', 1), ('마마무 (Mamamoo),에스나 (eSNa)', 1), ('JJCC (제이제이씨씨)', 1), ('베리굿 (Berry Good)', 1), ('혜정,비아이지 (B.I.G)', 1), ('지코 (ZICO)', 1), ('백지영', 1), ('블락비 (Block B)', 1), ('첸 (CHEN)', 1), ('백아연', 1), ('워너비 (WANNA.B)', 1), ('BLACKPINK', 1), ('Zion.T', 1), ('효린', 1), ('종현 (JONGHYUN)', 1), ('SURAN (수란)', 1), ('칠학년일반', 1), ('Crush', 1), ('AKMU (악동뮤지션)', 1), ('Wanna One (워너원)', 1), ('빅스LR', 1), ('하이라이트 (Highlight)', 1), ('선미', 1), ('수지 (SUZY)', 1), ('BIGBANG', 1), ('Wanna One (워너원) - 트리플포지션', 1), ('트랜스 픽션,오마이걸 (OH MY GIRL)', 1), ('비투비', 1), ('Apink (에이핑크)', 1), ('폴킴', 1), ('잔나비', 1), ('Steve Aoki,몬스타엑스', 1), ('IZ*ONE (아이즈원)', 1), ('몬스타엑스,French Montana', 1), ('ITZY (있지)', 1)]\n",
      "[('(주)SM엔터테인먼트', 122), ('JYP 엔터테인먼트', 55), ('(주)YG엔터테인먼트', 33), ('빅히트 엔터테인먼트', 32), ('스타쉽 엔터테인먼트', 28), (nan, 26), ('DSP 미디어', 25), ('SM 엔터테인먼트', 23), ('키스 엔터테인먼트', 23), ('에이팝엔터테인먼트', 22), ('인넥스트트렌드', 21), ('울림 엔터테인먼트', 21), ('FNC엔터테인먼트', 20), ('스타제국', 19), ('RBW', 19), ('YG 엔터테인먼트', 17), ('예전 미디어', 15), ('플레디스 엔터테인먼트', 15), ('큐브 엔터테인먼트', 14), ('EMPTY', 13), ('SM엔터테인먼트', 11), ('DSP미디어', 10), ('주식회사 엘리야엔터테인먼트', 10), ('글로벌에이치미디어', 10), ('MBK 엔터테인먼트', 10), ('후너스 엔터테인먼트', 10), ('쏘스 뮤직', 10), ('WM 엔터테인먼트', 10), ('상마인드', 9), ('JT Corea Entertainment', 9), ('(주)JYP엔터테인먼트', 9), ('티오피 미디어', 9), ('라인 기획', 8), ('미래 엔터테인먼트', 7), ('MBK엔터테인먼트', 7), ('NH 미디어. 내가네트워크', 7), ('아시아브릿지 엔터테인먼트', 7), ('키스엔터테인먼트', 6), ('카카오 M', 6), ('CJ E&M', 6), ('지앤아이 엔터테인먼트', 6), ('유니버설 뮤직. 해피트라이브 엔터테인먼트', 6), ('요요 기획', 5), ('비앤비', 5), ('로엔 엔터테인먼트', 5), ('오렌지엔터테인먼트', 5), ('YG Entertainment', 5), ('YG엔터테인먼트', 5), ('드림티 엔터테인먼트', 5), ('위드메이', 5), ('서울인 프로덕션', 4), ('예당 음향 (예당 컴퍼니)', 4), ('뮤직팩토리', 4), ('H2 엔터테인먼트', 4), ('MPLAN 엔터테인먼트', 4), ('씽엔터테인먼트', 4), ('마루기획(주)', 4), ('SM Entertainment', 4), ('N.A.P. 엔터테인먼트', 4), ('에이치오컴퍼니', 4), ('GH 엔터테인먼트', 4), ('TS 엔터테인먼트', 4), ('CT 엔터테인먼트', 4), ('쇼파르뮤직', 4), ('팀 엔터테인먼트', 3), ('더 터보 컴퍼니', 3), ('쿨컴퍼니', 3), ('조선음향', 3), ('시즌 엔터테인먼트', 3), ('굿 엔터테인먼트', 3), ('TS엔터테인먼트', 3), ('J.Tune Camp', 3), ('큐브엔터테인먼트', 3), ('JYP Entertainment', 3), ('YNB 엔터테인먼트', 3), ('마피아 레코드', 3), ('세븐시즌스', 3), ('에이팀', 3), ('베토벤 뮤직', 2), ('대성기획', 2), ('윈섬 미디어', 2), ('자이브 레코드', 2), ('STN 엔터테인먼트', 2), ('(주)앤에이취이엠쥐', 2), ('플래닛구공오', 2), ('플레디스', 2), ('YWHO Enterprise', 2), ('Stone Music Entertainment', 2), ('씨제스엔터테인먼트', 2), ('플레이엠 엔터테인먼트', 2), ('Sony Music', 2), ('내가네트워크', 2), ('로엔 엔터테인먼트, 뷰가 엔터테인먼트', 2), ('크롬 엔터테인먼트', 2), ('위에화 엔터테인먼트', 2), ('케이오사운드/아더앤에이블/스타크루이엔티', 2), ('DoMA 엔터테인먼트', 2), ('Stone Music Entertainment, Studio blu', 2), ('골드문 뮤직, 에렌 엔터테인먼트', 2), ('해피트라이브 엔터테인먼트. 위드에이치씨', 2), ('YMC엔터테인먼트', 2), ('(주)메이크어스엔터테인먼트', 2), ('MNH엔터테인먼트', 2), ('FNC 엔터테인먼트', 2), ('DR뮤직', 1), (' YG엔터테인먼트', 1), ('KYT엔터테인먼트', 1), ('신화컴퍼니', 1), ('매스컴', 1), ('싸이더스HQ', 1), ('Astars 엔터테인먼트', 1), ('ADbell 엔터테인먼트', 1), ('예전미디어', 1), ('티에스이엔티이알', 1), ('지와이엠엔터테인먼트', 1), ('폴라리스엔터테인먼트', 1), ('NH EMG', 1), ('소울샵엔터테인먼트', 1), ('JYP엔터테인먼트', 1), ('키위뮤직', 1), ('JTM엔터테인먼트', 1), ('뮤직팜', 1), ('QUAN Entertainment, 매직스트로베리사운드', 1), ('매직스트로베리사운드', 1), ('해피페이스 엔터테인먼트', 1), ('에이비엔터테인먼트', 1), ('JYP 엔터테인먼트 & 빅히트 엔터테인먼트', 1), ('WM엔터테인먼트', 1), ('브랜뉴스타덤', 1), ('WM Entertainment', 1), ('메이크어스엔터테인먼트', 1), ('바나나컬쳐 엔터테인먼트', 1), ('iHQ', 1), ('CMG초록별', 1), ('더 잭키 찬 그룹 코리아', 1), ('KOZ 엔터테인먼트', 1), ('트라이어스', 1), ('이든엔터테인먼트', 1), ('제니스 미디어 콘텐츠', 1), ('THE BLACK LABEL', 1), ('브리지', 1), ('밀리언마켓', 1), ('다른별 엔터테인먼트', 1), ('피네이션', 1), ('젤리피쉬 엔터테인먼트', 1), ('어라운드어스이엔티', 1), ('뉴런뮤직', 1), ('페포니 뮤직', 1), ('오프더레코드', 1)]\n",
      "[(2016, 86), (2017, 85), (2008, 78), (2018, 77), (2007, 59), (2015, 59), (2002, 58), (2006, 56), (2009, 53), (2003, 44), (2019, 41), (2011, 31), (2010, 29), (2014, 28), (2005, 27), (2012, 25), (2001, 23), (2004, 21), (1995, 17), (1999, 16), (2000, 15), (2013, 14), (1998, 13), (1996, 11), (1997, 6), (1992, 5), (1993, 3), (1994, 1)]\n",
      "[('EMPTY', 118), ('용감한 형제', 10), (nan, 9), ('페리 ', 9), ('유영진', 8), ('이민수', 8), ('한성호', 8), ('이현도', 7), ('윤일상', 7), ('김승수', 7), ('안성일', 6), ('Kenzie', 6), ('박우상', 6), ('김창환', 5), ('Chrischan', 5), ('안성준', 5), ('KENZIE', 5), ('조영수', 5), ('1Piece', 5), ('SWEETUNE', 5), ('원준 (ONE JUNN),인광', 5), ('서태지', 4), ('오승은', 4), ('전준규', 4), ('고석영', 4), ('G-DRAGON', 4), ('한상원', 4), ('박진영', 4), ('KUSH (쿠시)', 4), ('한재호, 김승수', 4), ('용배 (RBW),이기', 4), ('WOOZI (SEVENTEEN),동네형,원영헌', 4), ('바닐라맨 (바닐라어쿠스틱)', 4), ('홍지상,이우민 `collapsedone`,Young K,Jae,성진,원필 (DAY6)', 4), ('김혜선', 3), ('최준영', 3), ('주영훈', 3), ('최규성', 3), ('신상근', 3), ('Richard Anderson', 3), ('안정훈', 3), ('박해운', 3), ('김성태', 3), ('박덕정', 3), ('외국곡', 3), ('원상우', 3), ('유영석', 3), ('전군', 3), ('안영민', 3), ('김도훈 (RBW)', 3), ('신사동 호랭이, 최규성', 3), ('장범준', 3), ('에스나 (eSNa),김도훈 (RBW)', 3), ('미친기집애,피터팬,똘아이박', 3), ('UCKU', 3), ('ZigZag Note', 3), ('earattack,리시,마크 (GOT7)', 3), ('홍지상,이우민 `collapsedone`,Young K,Jae,원필 (DAY6)', 3), ('WOOZI (SEVENTEEN),박기태,BUMZU', 3), ('박우상,김도훈 (RBW)', 3), ('Andy Love,Daniel Mikael Wold,Ryan S. Jhun,Hanif Hitmanic Sabzevari', 3), ('조진호', 2), ('홍종구', 2), ('손지창', 2), ('The Season', 2), ('이용민', 2), ('박근태', 2), ('김형석', 2), ('최수정', 2), ('이도연', 2), ('방시혁', 2), ('신인수', 2), ('이상민', 2), ('JUSTIN ', 2), ('윤영준', 2), ('디스코 파이터', 2), ('김세진', 2), ('이재원', 2), ('TAMA', 2), ('김성훈', 2), ('이택승', 2), ('JK Lee', 2), ('윤우현', 2), ('박창현', 2), ('Daniel Pandher', 2), ('손성희', 2), ('구모후', 2), ('이윤재', 2), ('Svein Finneids', 2), ('전승우', 2), ('강타 (KANGTA)', 2), ('황성제', 2), ('LeeOn', 2), ('홍지상', 2), ('DAVINK (다빈크)', 2), ('Daishi Dance', 2), ('Lucas Secon', 2), ('류재현', 2), ('테디', 2), ('김기범, 강지원', 2), ('G-DRAGON, T.O.P', 2), ('이적', 2), ('G-DRAGON, TEDDY', 2), ('진영', 2), ('이단옆차기', 2), ('홍지상,박진영', 2), ('DEEZ,Yunsu', 2), ('윤종성 (MonoTree),장정석,흑태', 2), ('Pdogg,Slow Rabbit,정국,진', 2), ('박은우,박수석', 2), ('펀치사운드', 2), (' C-no, 웅킴),SWEETCH,오레오 (이기', 2), ('EastWest,라디오갤럭시,이단옆차기', 2), ('Slow Rabbit,SUGA', 2), ('브라더수,SUGA,방시혁,RM,Pdogg,Slow Rabbit,j-hope', 2), ('Poptime', 2), ('코스믹 걸 (Cosmic Girl),코스믹 사운드', 2), ('SUGA,RM,Pdogg,j-hope,ADORA', 2), ('일당백,안형석', 2), ('새벽,진리 (Full8loom),영광의 얼굴들 (Full8loom)', 2), ('Albi Albertsson,Markus Lindell,Belle Humble', 2), ('준 (JUNE),Supreme Boi,방시혁,RM,Pdogg,ADORA', 2), ('Peter Ibsen,SUGA,방시혁,Arlissa Ruppert,RM,Pdogg,ADORA', 2), ('용감한 형제,투챔프', 2), ('그루비룸 (GroovyRoom)', 2), ('강승윤,AiRPLAY', 2), ('Adrian Mckinnon,GASHIMA,Albin Nordqvist', 2), ('WOOZI (SEVENTEEN),BUMZU,Anchor', 2), ('강승윤,강욱진,Diggy', 2), ('Yu-ki Kokubo,YHANAEL,NA.ZU.NA', 2), ('Rosanna Ener,Jake Torrey,Changkyun Lim,주헌 (몬스타엑스),기현 (몬스타엑스),Noah Conrad,민혁 (몬스타엑스),Dan Henig,Karim Kharbouch,형원 (몬스타엑스),Hoseok Shin,Hyunwoo Sohn', 2), ('양현석', 1), ('오솔미', 1), ('천성일', 1), ('김민종', 1), ('홍재선', 1), ('외국 곡', 1), ('김준희', 1), ('최승호', 1), ('장용진', 1), ('원태연', 1), ('강타', 1), ('마경식', 1), ('페리', 1), ('석훈', 1), ('김경화', 1), ('임기훈', 1), ('이윤상', 1), ('신명호', 1), ('주태영', 1), ('양준영', 1), ('이종윤', 1), ('안익수', 1), ('황세준', 1), ('토니 안', 1), ('주민', 1), ('다이안 ', 1), ('Do', 1), ('기호', 1), ('심상원', 1), ('정민우', 1), ('박충민', 1), ('김정택', 1), ('MAGNUS FUNEMYR', 1), ('Mad Soul Child', 1), ('Papertonic', 1), ('신명구', 1), ('김조한', 1), ('이상인', 1), ('정성헌', 1), ('장우혁', 1), ('Johan Gunnarsson', 1), ('성준,  토니 안', 1), ('Michico', 1), ('이윤성', 1), ('이순정', 1), ('송광식', 1), ('Henning Sommerro', 1), ('TABIAS KEGAELIND,  장우혁', 1), ('Bengt Girell', 1), ('정정민', 1), ('정진수', 1), ('하현곤', 1), ('서정진', 1), ('GRV', 1), ('정성윤', 1), ('타카시로 치하루', 1), ('이세형', 1), ('최정훈', 1), ('성현', 1), ('서엘', 1), ('김운진', 1), ('Young-hu Kim,  William Pyon', 1), ('Jack Kugell', 1), ('JoJo Bee for Xperimental Music', 1), ('KATHY CANTALUPPI', 1), ('김한범', 1), ('고동훈', 1), ('나의현', 1), ('김희원', 1), ('유영지', 1), ('M.FRIDH', 1), ('김건우', 1), ('이병준', 1), ('니아', 1), ('Tommy La Verdi', 1), ('Niklas Johansson', 1), ('장준호', 1), ('오광석', 1), ('김정배', 1), ('빅뱅 (방승철)', 1), ('김태현', 1), ('이상규', 1), ('Daichi', 1), ('Hiroo Yamaguchi (山口寬雄)', 1), ('A. Wollbeck', 1), ('Jeanette Olsson', 1), ('Goldie', 1), ('GREG LYNCH', 1), ('김영아', 1), ('박기완', 1), ('Steve Lee', 1), ('유재하', 1), ('S-Kush', 1), ('필강', 1), ('오준성', 1), ('남기상', 1), ('OK TOP', 1), ('박소정', 1), ('E.Knock', 1), ('한지선', 1), ('SWIN', 1), ('CARLSON SANNIE', 1), ('JAY PEA', 1), ('MIKAEL ANDERSSON BERG', 1), ('MARK LISTER', 1), ('윤명선', 1), ('신상호', 1), ('추가열', 1), ('Heavyweights', 1), ('이성우', 1), ('한승훈', 1), ('김재양', 1), ('권태은', 1), ('Philippe-Marc Anquetil', 1), ('MICAH WILLIAMS', 1), ('Daisuke Suzuki (鈴木大輔)', 1), ('오석준', 1), ('RAINSTONE', 1), ('Shusui', 1), ('TROELSEN, THOMAS', 1), ('Alex Cantrall', 1), ('Martin Kember', 1), ('양재선', 1), ('Micky', 1), ('박준하', 1), ('HOLLANDS JAMES REGINALD', 1), ('류광민', 1), ('이낙', 1), ('문정규', 1), ('Yoshimata Ryo', 1), ('려욱 (RYEOWOOK)', 1), ('CAROL BORJAS', 1), ('Tsunku', 1), ('김태완', 1), ('이찬우', 1), ('김윤아', 1), ('강지원', 1), ('이성수', 1), ('최혜정', 1), ('전훈', 1), ('Presley Daniel', 1), ('프로페지웅', 1), ('아티스타 한상원', 1), ('김성수', 1), ('이트라이브 (E-TRIBE)', 1), ('Wrethov', 1), ('LEONARD LIPTON', 1), ('킵루츠', 1), ('민명기', 1), ('윤민수', 1), ('Mordny', 1), ('G-Dragon, Jimmy Thornfelt', 1), ('김기범, 강지원, 신사동 호랭이', 1), ('바누스', 1), ('BAHNUS', 1), ('이현승', 1), ('비, 배진렬 (JR Groove)', 1), ('신사동 호랭이', 1), ('전국', 1), ('최용찬', 1), ('Annet Artani, Ryan Jhun, C-2', 1), ('임세준', 1), ('싸이, 김도현', 1), ('TEDDY', 1), ('김태성, 장연정', 1), ('크리스', 1), ('윤상', 1), ('장재인', 1), ('블루 매직', 1), ('개미, 문규혁', 1), ('최민식', 1), ('Joey Carbone', 1), ('김지수', 1), ('송양하', 1), ('서재하', 1), ('권정열, 윤철종', 1), ('라도, 지인, 원택', 1), ('윤철종, 권정열', 1), ('김광진', 1), ('김현철', 1), ('Teddy Riley', 1), ('정석원', 1), ('G.고릴라', 1), ('이단 옆차기', 1), ('이트라이브', 1), ('이상호, 최용찬', 1), ('류원광', 1), ('용감한 형제, 뜰아이박', 1), ('지코 (ZICO), 박경', 1), ('전해성', 1), ('Thomas Sardorf, Lasse Lindorff', 1), ('조현아', 1), ('G-DRAGON, TEDDY, 서원진', 1), ('나얼', 1), ('김도현', 1), ('이단옆차기,영광의 얼굴들 (Full8loom)', 1), ('Mich Hansen,김진환,Thomas Troelsen,Robert S Nevil ,Mikkel Remee Sigvardt,Keeley Hawkes', 1), ('이삭이,라도,신사동 호랭이', 1), ('김태주,한서윤,신사동 호랭이', 1), ('KZ', 1), ('엔느,에이팀', 1), ('이상인,이창현,홍지유', 1), ('신재홍,수경', 1), ('e.one,Jin Choi,Kei Lim', 1), ('올빼미,Roydo', 1), ('Rocketeer,JIN', 1), ('Supreme Boi,SUGA,j-hope,RM', 1), ('SUGA,Supreme Boi,RM,Pdogg,송창식,Slow Rabbit,j-hope,윤석원', 1), ('신재홍', 1), ('이종훈,이채규', 1), ('루민,인영훈', 1), ('Andy Love,Alex G,Erika Nuri', 1), ('Toyo Lee,박진영', 1), ('진짜사나이,정균', 1), ('박민주,Xepy', 1), ('홍지상,이우민 `collapsedone`', 1), ('용감한 형제,별들의 전쟁 (GALACTIKA *)', 1), ('슈퍼창따이,Will Simms,Tom Havelock', 1), ('강욱진,남태현,함승천', 1), ('남태현,AiRPLAY', 1), ('청담슈퍼', 1), ('A', 1), ('진짜사나이,나다 (NADA),B.O.K', 1), ('George Michael,김기범', 1), ('SooNo,돈 스파이크,김영광', 1), ('ASSBRASS,HENNEY (헤니)', 1), ('박해일 (Yummy Tone),유선균', 1), ('Deanfluenza,2xxx!', 1), ('Stally,D.major', 1), ('이단옆차기,양갱', 1), ('제아,송기홍', 1), ('에스나 (eSNa),최용찬', 1), ('DK,Jarah Lafayette Gibson,Jordan Kyle,Hyuk Shin (153/Joombas)', 1), ('이윤지,DK,Jordan Kyle,Hyuk Shin (153/Joombas)', 1), ('Casper,Ryan Kim,Cha Cha Malone', 1), ('V,SUGA,RM,Pdogg,Slow Rabbit,j-hope', 1), ('나고,주헌 (몬스타엑스)', 1), ('이단옆차기,SEION,영광의 얼굴들 (Full8loom)', 1), ('WOOZI (SEVENTEEN),크림도너츠', 1), ('라디오갤럭시,이단옆차기,Homeboy', 1), ('Tommy Park', 1), ('KZ,미친감성,전다운', 1), ('라디오갤럭시,이단옆차기', 1), ('Ricky,하라는', 1), ('방누리,쿤요,노르웨이 숲', 1), ('MR.CHO,청담동박건우,DAY6 (데이식스)', 1), ('DAY6 (데이식스),FRANTS', 1), ('크라이베이비', 1), ('Will Gray,Anne Preven,Jaden Michaels,Alex G', 1), ('Ryan S. Jhun,LDN Noise,Taylor Parks,Denzil `DR` Remedios', 1), ('Ryan S. Jhun,Dem Jointz,Dwayne Abernathy Jr.,Taylor Parks', 1), ('신사동 호랭이,몬스터팩토리', 1), ('북극곰,신사동 호랭이', 1), ('태경,주태영', 1), ('주찬양 (티맥스),Command Freaks', 1), ('이윤재,이정표', 1), ('드라이브킹', 1), ('펀치사운드,DEEZ', 1), ('DEEZ', 1), ('Fingazz,Glen Choi', 1), ('윤서,LeNny,혜정', 1), ('Matt Wong,Andreas Stone Johansson,Steven Lee,Joakim Dalqvist', 1), ('SuperRookie', 1), ('V,SUGA,방시혁,정국,RM,Pdogg,j-hope', 1), ('SUGA,방시혁,정국,RM,Pdogg,Slow Rabbit,j-hope', 1), ('Ragoon IM,NODAY', 1), ('JB (GOT7),앤드류 최,220,밍지션', 1), ('PEEJAY', 1), ('강욱진,남태현', 1), ('명랑한 운동부,이범희', 1), ('빅싼초 (Yummy Tone)', 1), ('Ferdy (MosPick),Adam Kulling,Alice Gernandt', 1), ('Long Candy', 1), ('마크 (GOT7),유겸 (GOT7),FRANTS', 1), ('주찬양 (티맥스),Command Freaks,영재 (GOT7)', 1), ('Andreas Oberg,Par Almqvist,August Vinberg', 1), ('원필 (DAY6),Young K,FRANTS', 1), ('브라더수', 1), ('Ryan,1Hz', 1), ('Rphabet,Strike,Razer (Strike)', 1), ('WOOZI (SEVENTEEN),BUMZU,염동건,이기용', 1), ('WOOZI (SEVENTEEN),BUMZU,Vernon (SEVENTEEN),S.COUPS (SEVENTEEN)', 1), ('Niclas Kings,Ylva Dimberg,Didrik Thott', 1), ('Devine Channel,SUGA,방시혁,RM,Pdogg', 1), ('방시혁,Slow Rabbit,브라더수', 1), ('김원', 1), ('윌리', 1), ('New Day,앤소울', 1), ('GOLDPIG (골드피그),디젤 (DZELL)', 1), ('Coach & Sendo,흑태', 1), ('ZELKOVA(젤코바)', 1), ('스타트랙', 1), ('마스터키,Score (13),팻뮤직', 1), (' C-no, 웅킴),오레오 (이기', 1), ('정하,박기현,정택준', 1), ('안지영', 1), ('earattack,리시,유근', 1), ('JB (GOT7),220,Royal Dive', 1), ('김원,영재 (GOT7)', 1), ('Distract,Secret Weapon,진영 (GOT7)', 1), ('Cash Note,Primeboi', 1), ('Martin Hoberg Hedegaard,진바이진,박근태', 1), ('탁 (TAK),원택 (1Take),Trinity', 1), ('방시혁,Slow Rabbit,philtre,V', 1), ('SUGA,C.`Tricky` Stewart,J. Pierre Medor,RM,j-hope', 1), ('SUGA,방시혁,RM,Pdogg,Slow Rabbit,j-hope', 1), ('최선용,하드캐리', 1), ('블랙아이드 필승,라도', 1), ('노은종,ZigZag Note', 1), ('Joe J. Lee (Kairos),Hobyn `K.O` Yi', 1), ('이종원,지평권,신형', 1), ('빅톤,낯선,이제이 쇼', 1), ('남기상,YUE,권선익', 1), ('더 그랜드,주태영', 1), ('심재용', 1), ('R.Tee', 1), ('SUGA,Supreme Boi,방시혁,RM,Pdogg,j-hope', 1), ('덩크 (DUNK),송병준,명랑한 운동부', 1), ('김동열,Brand Newjiq (브랜뉴직),송양하', 1), ('서재우 (TENTEN),손영진 (MosPick),빅싼초 (Yummy Tone)', 1), ('Ferdy (MosPick),빅싼초 (Yummy Tone),Devine Channel', 1), ('Gifty Dankwah,Bruce Fielder', 1), ('서원진', 1), ('홍지상,원필 (DAY6),이우민 `collapsedone`,Young K', 1), ('Kojima Mayumi,양시온', 1), ('이종훈', 1), ('프리미엄 프로젝트,백명한', 1), ('S. Bros', 1), ('earattack,JB (GOT7),5$', 1), ('Mrey,Jayrah Gibson,Hyuk Shin (153/Joombas)', 1), ('Michele Angel Wylen,Andreas Oberg,Sean Alexander,Avenue 52,Darren Smith', 1), ('곰팡이,Bovver Beat', 1), ('이정현 (MISTA BURN),Bovver Beat', 1), ('미친기집애,기희현,제니,똘아이박,유니스,예빈 (다이아),피터팬', 1), ('IMLAY', 1), ('준 (JUNE)', 1), ('Ryan S. Jhun,H.R.H. Aitatus-Richardson,조미쉘,A. Tejada,G.M.A. Casu', 1), ('박진영,김승수,아르마딜로,KAIROS', 1), ('유진,김태주', 1), ('e.one', 1), ('최초아,김예슬,이상열,고영환', 1), ('홍지상,원필 (DAY6),이우민 `collapsedone`,성진', 1), ('Stereo14,리시,bintage (빈티지)', 1), ('주헌 (몬스타엑스),Ye-Yo!', 1), ('Mayu Wakisaka,이우민 `collapsedone`', 1), ('이진실,박상준', 1), ('millic (밀릭)', 1), ('Alice Penrose,LDN Noise,Courtney Woolsey', 1), ('이찬혁', 1), ('서재우 (TENTEN),Nikki Paige,빅싼초 (Yummy Tone),Nick Holiday', 1), ('추대관 (MonoTree),NOPARI (MonoTree)', 1), ('손영진 (MosPick),JayJay (MosPick)', 1), ('강승윤,MINO (송민호),FUTURE BOUNCE', 1), ('페이퍼플래닛 (Paper Planet)', 1), ('Mad Soul Child,러버소울 (Rubber Soul)', 1), ('EastWest,이단옆차기,Long Candy', 1), ('노는어린이,멜로디공작소', 1), ('신또,피터팬,똘아이박', 1), ('STAINBOYS', 1), ('레오(LEO),UCKU', 1), ('방시혁,Ray Michael Djan Jr,RM,Slow Rabbit,Ashton Foster', 1), ('Pdogg', 1), ('정호현 (e.one),최현준 (V.O.S),UCKU', 1), ('SEION', 1), ('드라이브킹,도마현,케이던스', 1), ('Good Life', 1), ('ReignWrite,NAOtheLAIZA', 1), ('Daniel Caesar,Cazzi Opeia,Ludwig Lindell,Caesar & Loui', 1), ('Andreas Ohrn,Chris Wahle,Thomas Harsem', 1), ('BUMZU,Vernon (SEVENTEEN)', 1), ('원호 (WONHO),Rich Jang,브라더수', 1), ('JJ Evans (153/Joombas),Flow Blow,Hyuk Shin (153/Joombas)', 1), ('박주희', 1), ('Razer (Strike),톰이랑 제리', 1), ('Andreas Oberg,Tiaan Williams,Skylar Mones', 1), ('24', 1), ('유영진,Whitney Phillips,Maxx Song,Stereotypes', 1), ('Phoebus Tassopoulos,Jessica Jean Pfeiffer,Kevin Charge', 1), ('최수정,ButterFly', 1), ('강현진,Gabby,유송연', 1), ('아르마딜로', 1), ('나고,주헌 (몬스타엑스),Ye-Yo!', 1), ('MINO (송민호),B.I,MILLENNIUM', 1), ('Mayu,Command Freaks', 1), ('정호현 (e.one)', 1), ('The Fliptones', 1), ('real-fantasy,YOSKE,Bull$EyE (불스아이)', 1), ('베르사최 (VERSACHOI),SUN', 1), ('zomay,real-fantasy,Bello,오브로스', 1), ('RE:ONE ,Davey Nate,Delly Boi,Hyuk Shin (153/Joombas)', 1), ('Stereo14,Caesar&Luoi', 1), ('SUGA,Kass,방시혁,Supreme Boi,RM,Pdogg', 1), ('Supreme Boi,방시혁,RM,Pdogg,j-hope', 1), ('강승윤,강욱진,MINO (송민호)', 1), ('박진영,이우민 `collapsedone`', 1), ('MLC,Erik Lidbom,Julie Yu', 1), ('이주형 (MonoTree)', 1), ('Valeria Del Prete,Sean Alexander,Avenue 52,FRANTS', 1), ('Razer (Strike),홍di', 1), ('SUGA,Candace Nicole Sosa,Hiss noise,정국,Jordan “DJ Swivel” Young,RM,j-hope,ADORA', 1), ('SUGA,방시혁,Ali Tamposi,RM,Pdogg,Roman Campolo,j-hope,Liza Owen', 1), ('KIRKHAM BRANDON,JAN MICHAEL LANGHOFF,PETER HARTMANN,Takey', 1), ('전호진,해랑', 1), ('이든 (EDEN)', 1), ('홍지상,이우민 `collapsedone`,Young K,Jae,도운,성진,원필 (DAY6)', 1), ('Anne Judith Wik,Jonatan Gusmark,Andreas Baertels,Ludvig Evers,오승은,Cazzi Opeia', 1), ('강욱진,B.I', 1), ('B.I,MILLENNIUM', 1), ('박성일', 1), ('Cazzi Opeia,이주형 (MonoTree),NOPARI (MonoTree)', 1), ('Whitney Phillips,유영진,Maxx Song,The Stereotypes', 1), ('WOOZI (SEVENTEEN),BUMZU,붐바스틱', 1), ('용감한 형제,마부스 (Maboos),투챔프', 1), ('JJ Evans (153/Joombas),배민수,Hyuk Shin (153/Joombas),$un', 1), ('방시혁,Slow Rabbit,ADORA', 1), ('Supreme Boi,방시혁,Ali Tamposi,RM,Pdogg,Roman Campolo,Nicki Minaj', 1), ('Caroline Gustavsson,Steven Lee', 1), ('Krysta Youngs,Command Freaks,Onestar (MonoTree)', 1), ('B.I,FUTURE BOUNCE', 1), ('MAYFLY,zomay,real-fantasy,Bello,BIG HAND,오브로스', 1), ('브라더수,Caesar & Loui', 1), ('Stereo14,Daniel Kim,Ti', 1), ('Rykeyz,Jonny Price,Brett McLaughlin,Lucky Daye', 1), ('Vo3e,김태성,Maxx Song,소연 (LABOUM)', 1), ('Andy Love,Sven Parys,Gio Mici', 1), ('Albi Albertsson,Mussashi,Akina Ingold', 1), ('박영익', 1), ('김수빈 (AIMING)', 1), ('TEDDY,B.I,CHOICE37', 1), ('웅킴', 1), ('폴킴', 1), ('WOOZI (SEVENTEEN),박기태', 1), ('소연 ((여자)아이들),쥰', 1), ('The Proof,김연서', 1), ('Jeff Lewis,JJ Evans (153/Joombas),Sebastian Berglund', 1), ('Jeon Goon,블랙아이드 필승,라도', 1), ('유영현', 1), ('비오 (B.O.),전다운,정홍림,장대일', 1), ('Andy Love,Mans Ek,Ryan S. Jhun,Hanif Hitmanic Sabzevari', 1), ('박현규 (VROMANCE),비범 (블락비),김진호', 1), ('박현규 (VROMANCE),비범 (블락비),Deepshower (딥샤워)', 1), ('Benjy Gibson,SUGA,Jo Hill,RM,Fred Gibson,j-hope,Ed Sheeran', 1), ('전군,블랙아이드 필승,라도', 1), ('Ryan S. Jhun,Jake Tench,Maestro the Baker,Kloe', 1), ('제이 (Jay Hong),SING,Sebastian Anton Atasd,Victor Carl', 1), ('강승윤,강욱진,Joe Rhee,Diggy', 1), ('강승윤,AiRPLAY,전해성', 1), ('Jake K (ARTiffect),진리 (Full8loom),영광의 얼굴들 (Full8loom)', 1), ('Ollounder,LEEZ', 1), ('이승협 (J.DON),TIENOWA,차훈,KEIT,엔플라잉 (N.Flying)', 1), ('T.A Shark,Melanie Fontana,A Wright', 1), ('Sean Alexander,Didrik Thott,Darren Smith', 1), ('이원종', 1), ('13', 1), ('소피야 (Sophiya),이우민 `collapsedone`,Hae Sol Lee,Jamie (제이미),J.Y. Park `The Asiansoul`,Justin Reinstein,영광의 얼굴들 (Full8loom),진리 (Full8loom)', 1), ('Lauren Dyson', 1), ('Mayu Wakisaka,David Amber,Sean Alexander', 1), ('Jay Lee,유송연', 1), ('서로,피오 (SWIN LEE),정구현', 1)]\n",
      "cluster 8\n",
      "243\n",
      "[('댄스', 127), ('발라드', 58), ('록/메탈', 17), ('랩/힙합', 16), ('R&B/Soul', 7), ('발라드, 국내드라마', 6), ('J-POP', 4), ('댄스, 국내드라마', 2), ('POP', 1), ('EMPTY', 1), ('국내드라마', 1), ('댄스, 랩/힙합', 1), ('록/메탈, 국내드라마', 1), ('월드뮤직, 중국음악', 1)]\n",
      "[('동방신기', 12), ('에프티 아일랜드', 8), ('슈퍼주니어', 7), ('브라운 아이드 걸스', 6), ('멜로디데이 (MelodyDay)', 6), ('방탄소년단', 6), ('빅뱅', 5), ('탑독', 5), ('DIA (다이아)', 5), ('잼', 4), ('쥬얼리', 4), ('트랙스', 4), ('스피드', 4), ('러블리즈', 4), ('서태지와 아이들', 3), ('에스지', 3), ('블랙 비트', 3), ('제이워크', 3), ('천상지희 더 그레이스', 3), ('더블에스오공일', 3), ('티아라', 3), ('원더걸스', 3), ('비스트', 3), ('아이유', 3), ('업텐션 (UP10TION)', 3), ('Red Velvet (레드벨벳)', 3), ('더 블루', 2), ('Hamohamo', 2), ('이글 파이브', 2), ('베이비복스', 2), ('샤크라', 2), ('케이팝', 2), ('JTL', 2), ('악동 클럽 ', 2), ('에스', 2), ('써니힐', 2), ('소녀시대', 2), ('엠블랙', 2), ('제국의아이들', 2), ('2AM', 2), ('버스커 버스커', 2), ('투아이즈 (2EYES)', 2), ('Wa$$up ', 2), ('WINNER', 2), ('GOT7 (갓세븐)', 2), ('CLC', 2), ('히스토리', 2), ('여자친구 (GFRIEND)', 2), ('오마이걸 (OH MY GIRL)', 2), ('TWICE (트와이스)', 2), ('솔리드', 1), ('듀스', 1), ('구피', 1), ('터보', 1), ('태사자', 1), ('R.ef', 1), ('원타임', 1), ('Circle', 1), ('god', 1), ('핑클 (Fin.K.L)', 1), ('Y2K', 1), ('H.O.T.', 1), ('에스이에스', 1), ('엑스라지', 1), ('파파야', 1), ('디베이스', 1), ('투야', 1), ('밀크', 1), ('큐오큐', 1), ('스위티', 1), ('신비', 1), ('보이스립', 1), ('스맥스', 1), ('버즈', 1), ('스매쉬 ', 1), ('파란', 1), ('씽', 1), ('오렌지', 1), ('카라', 1), ('초신성', 1), ('샤이니', 1), ('투피엠', 1), ('유키스', 1), ('레인보우', 1), ('애프터 스쿨', 1), ('이승기', 1), ('민경훈', 1), ('2PM', 1), ('SE7EN', 1), ('먼데이 키즈', 1), ('휘성', 1), ('2NE1', 1), ('강승윤', 1), ('이현', 1), ('애프터스쿨', 1), ('f(x)', 1), ('미쓰에이', 1), ('양요섭, 정은지', 1), ('가인', 1), ('포미닛', 1), ('아이비', 1), ('에이핑크', 1), ('이해리', 1), ('백아연', 1), ('에일리', 1), ('이하이', 1), ('인피니트H', 1), ('핫젝갓알지', 1), ('비에이 (Be.A)', 1), ('WINGS', 1), ('엔오엠', 1), ('디아,키스 & 크라이', 1), ('M.Pire', 1), ('LC9', 1), ('JJCC (제이제이씨씨)', 1), ('비트윈 (BEATWIN)', 1), ('빅플로', 1), ('UNIQ (유니크)', 1), ('에이코어 (A.KOR)', 1), ('블락비 바스타즈', 1), ('핫샷 (HOTSHOT)', 1), ('몬스타엑스', 1), ('스누퍼 (SNUPER)', 1), ('Pinkrush', 1), ('비아이지 (B.I.G)', 1), ('HIGH4 (하이포)', 1), ('슬레이트', 1), ('세븐틴', 1), ('DAY6 (데이식스)', 1)]\n",
      "[('(주)SM엔터테인먼트', 29), ('SM 엔터테인먼트', 9), ('MBK 엔터테인먼트', 9), (nan, 8), ('FNC엔터테인먼트', 8), ('DSP 미디어', 7), ('에이팝엔터테인먼트', 7), ('빅히트 엔터테인먼트', 7), ('스타제국', 6), ('로엔 엔터테인먼트, 뷰가 엔터테인먼트', 6), ('JYP Entertainment', 5), ('울림 엔터테인먼트', 5), ('후너스 엔터테인먼트', 5), ('JYP 엔터테인먼트', 5), ('YG엔터테인먼트', 4), ('(주)YG엔터테인먼트', 4), ('로엔 엔터테인먼트', 4), ('MBK엔터테인먼트', 4), ('JYP엔터테인먼트', 4), ('큐브엔터테인먼트', 4), ('요요 기획', 3), ('SM엔터테인먼트', 3), ('주식회사 엘리야엔터테인먼트', 3), ('EMPTY', 3), ('YG 엔터테인먼트', 3), ('카카오 M', 3), ('티오피 미디어', 3), ('뮤직 팩토리', 2), ('DR뮤직', 2), ('조선음향', 2), ('상마인드', 2), ('키스 엔터테인먼트', 2), ('미래 엔터테인먼트', 2), ('예전 미디어', 2), ('DSP미디어', 2), ('플레디스', 2), ('SM Entertainment', 2), ('CJ E&M', 2), ('iHQ', 2), ('마피아 레코드', 2), ('큐브 엔터테인먼트', 2), ('쏘스 뮤직', 2), ('WM 엔터테인먼트', 2), ('Stone Music Entertainment', 2), ('비앤비', 1), ('예당 음향 (예당 컴퍼니)', 1), ('더 터보 컴퍼니', 1), ('매스컴', 1), ('팀 엔터테인먼트', 1), ('싸이더스HQ', 1), ('대성기획', 1), ('윈섬 미디어', 1), ('H2 엔터테인먼트', 1), ('Astars 엔터테인먼트', 1), ('시즌 엔터테인먼트', 1), ('인넥스트트렌드', 1), ('글로벌에이치미디어', 1), ('씽엔터테인먼트', 1), ('오렌지엔터테인먼트', 1), ('마루기획(주)', 1), ('제이튠캠프', 1), ('(주)JYP엔터테인먼트', 1), ('(주)앤에이취이엠쥐', 1), ('후크엔터테인먼트', 1), ('아이에스엔터미디어그룹', 1), ('J-SOUL company', 1), ('리얼슬로우컴퍼니', 1), ('YG Entertainment', 1), ('SM Entertatinment', 1), ('J.Tune Camp', 1), ('큐브엔터테인먼트, 플레이엠 엔터테인먼트', 1), ('폴라리스엔터테인먼트', 1), ('플레이엠 엔터테인먼트', 1), ('YMC엔터테인먼트', 1), ('크롬 엔터테인먼트', 1), ('소니뮤직', 1), ('제이엠스타 엔터테인먼트', 1), ('위닝인사이트엠', 1), ('CMG초록별', 1), ('내가네트워크', 1), ('더 잭키 찬 그룹 코리아', 1), ('골드문 뮤직, 에렌 엔터테인먼트', 1), ('에이치오컴퍼니', 1), ('위에화 엔터테인먼트', 1), ('두리퍼블릭 엔터테인먼트', 1), ('세븐시즌스', 1), ('케이오사운드/아더앤에이블/스타크루이엔티', 1), ('스타쉽 엔터테인먼트', 1), ('위드메이', 1), ('GH 엔터테인먼트', 1), ('N.A.P. 엔터테인먼트', 1), ('플레디스 엔터테인먼트', 1)]\n",
      "[(2009, 34), (2014, 21), (2012, 19), (2015, 18), (2010, 14), (2016, 14), (2011, 11), (2013, 11), (2002, 10), (2007, 9), (2004, 7), (2008, 7), (2017, 7), (1996, 6), (1998, 6), (1999, 6), (2000, 6), (2001, 6), (2005, 6), (2006, 6), (2003, 5), (1995, 4), (2018, 4), (1992, 2), (1993, 2), (1997, 2)]\n",
      "[('EMPTY', 29), ('박진영', 7), (nan, 5), ('윤일상', 4), ('유영진', 4), ('서태지', 3), ('조영수', 3), ('한성호', 3), ('방시혁', 3), ('김민종', 2), ('장용진', 2), ('Papertonic', 2), ('김형석', 2), ('김세진', 2), ('페리 ', 2), ('황성제', 2), ('Steven Lee', 2), ('안영민', 2), ('김재양', 2), ('이민수', 2), ('슈퍼창따이', 2), ('윤종신', 2), ('장범준', 2), ('이상준,차길완', 2), ('레드락', 2), ('라디오갤럭시,우태운,신사동 호랭이,I AM', 2), ('이주형 (MonoTree),G-High (MonoTree)', 2), ('1Piece', 2), ('용배 (RBW),이기', 2), ('방시혁,Slow Rabbit,브라더수', 2), ('조진수', 1), ('박병훈', 1), ('김혜선', 1), ('이현도', 1), ('신동관', 1), ('주영훈', 1), ('Q, 원타임', 1), ('김경화', 1), ('박해문', 1), ('최성빈', 1), ('JUSTIN ', 1), ('윤주미', 1), ('조규만', 1), ('Do', 1), ('이제이', 1), ('이재원', 1), ('김준환', 1), ('유정연', 1), ('김창환', 1), ('마경식', 1), ('박덕정', 1), ('Groovie. K', 1), ('Yoshiki', 1), ('이병준', 1), ('원상우', 1), ('Kenzie', 1), ('김성수', 1), ('이소민', 1), ('Phillip White', 1), ('ISRAEL DWAINE CRUZ', 1), ('김영아', 1), ('용감한 형제', 1), ('박기완', 1), ('H, 원태연', 1), ('윤희성', 1), ('Jimmy Andrew Richard', 1), ('Yoshihiko Chino (知野芳彦)', 1), ('ANGELA PEEL', 1), ('강우현', 1), ('Hiroo Yamaguchi (山口寬雄)', 1), ('haihm', 1), ('김승수', 1), ('LARRY TAYLOR', 1), ('라도', 1), ('최현준 (V.O.S)', 1), ('Alex Cantrall', 1), ('장재민', 1), ('최혜정', 1), ('별들의 전쟁 (GALACTIKA *)', 1), ('송수윤', 1), ('이영현', 1), ('박해운', 1), ('이트라이브 (E-TRIBE)', 1), ('유영석', 1), ('최규성', 1), ('한상원', 1), ('조영수, 김태현', 1), ('필강', 1), ('최현죽, 이진성', 1), ('김도훈', 1), ('테디', 1), ('Lars Halvor Jensen', 1), ('이주형, 임상혁', 1), ('Blue Magic, 태완', 1), ('김광성', 1), ('Daishi Dance', 1), ('Thomas Troelsen, Mikkel Remee Sigvardt', 1), ('Billion Dollar Baby, 심은지, HEYERDAHI THOMAS, JAN HAVARD LINDVAAG', 1), ('아이유', 1), ('김건우', 1), ('신사동 호랭이, 라도', 1), ('슈퍼 창따이', 1), ('라도, 한서윤', 1), ('심은지', 1), ('G-DRAGON, TEDDY, 서원진', 1), ('한재호, 김승수', 1), ('신사동 호랭이, 최규성', 1), ('김도훈, 이현승', 1), ('민명기', 1), ('VidaLoca', 1), ('용감한 형제,이정민,코끼리 왕국', 1), ('이용민', 1), ('유성,김나영', 1), ('오준성,오승은', 1), ('Pdogg,Slow Rabbit', 1), ('엽이,Xepy,연수', 1), ('박준하,이승엽,김유민', 1), ('이주호,최희찬', 1), ('Wonderkid,LUVAN (러반)', 1), ('찰스와 제니퍼', 1), ('라디오갤럭시', 1), ('JQ,북극곰,신사동 호랭이', 1), ('DEEZ,Yunsu', 1), ('Kidoh', 1), ('JYMON', 1), ('강욱진,iHwak,강승윤,DEE.P (FUTURE BOUNCE),함승천', 1), ('Pdogg,RM', 1), ('텐조와 타스코,이단옆차기', 1), ('모니터펀치', 1), ('태무,제이 (Jay Hong)', 1), ('낭이,범이', 1), ('피터팬,똘아이박', 1), ('DK,M Rey,Hyuk Shin (153/Joombas)', 1), ('명랑한 운동부,김기표', 1), ('서재우 (TENTEN),Ferdy (MosPick)', 1), ('에스나 (eSNa),용배 (RBW),앙리,이기', 1), ('앤드류 최,220,Cha Cha Malone', 1), ('YELLA D (옐라디)', 1), ('DK,Jarah Lafayette Gibson,KZ,Jordan Kyle,Hyuk Shin (153/Joombas)', 1), ('라디오갤럭시,Long Candy', 1), ('빅톤,두리,양승욱', 1), ('e.one', 1), ('Super Market', 1), ('Almqvist,Andreas Oberg,Par Almqvist,August Vinberg', 1), ('Tatiauna Matthews,진바이진,Anne Judith Wik,Xin Xin Gao,Nermin Harambasic', 1), ('김대운,박창현', 1), ('Daniel Kim,Pontus PJ Ljung,Dennis DeKo Kordnejad,Hanif Hitmanic Sabzevari', 1), ('강욱진,남태현', 1), ('SWEETUNE', 1), ('Michael Nordmark,Daniel Obi Klein,Thomas Sardof,Charlotte Taft', 1), ('Ryan S. Jhun', 1), ('BlueRhythm,장이정 (JANGYIJEONG)', 1), ('Ferdy (MosPick)', 1), ('강민훈,프리미엄 프로젝트,코스믹 사운드', 1), ('마르코', 1), ('Andreas Oberg,Maria Marcus', 1), ('서용배 (TENTEN),이기', 1), ('DEEZ,권덕근,Yunsu', 1), ('SUGA,Supreme Boi,방시혁,RM,Pdogg,j-hope', 1), ('Annalise Morelli,Mats Ymell,Alina Smith,Kervens Mazile', 1), ('Mayu Wakisaka,이우민 `collapsedone`', 1), ('이형민,알렉스 (하이포),백명한', 1), ('기희현,제니,똘아이박,유니스,투챔프,예빈 (다이아),피터팬', 1), ('기희현,제니,똘아이박,유니스,예빈 (다이아),피터팬', 1), ('키겐', 1), ('WOOZI (SEVENTEEN),BUMZU,Vernon (SEVENTEEN),네이슨 (NATHAN)', 1), ('Pdogg,방시혁,Supreme Boi', 1), ('홍지상,Jae,원필 (DAY6),Young K', 1), ('기희현,이준환,우키 (Wooki),피터팬', 1), ('Sara Forsberg,Timothy `Bos` Bullock,MZMC,KENZIE', 1)]\n",
      "cluster 9\n",
      "467\n",
      "[('댄스', 231), ('발라드', 85), ('랩/힙합', 59), ('록/메탈', 36), ('R&B/Soul', 17), ('J-POP', 14), ('발라드, 국내드라마', 12), ('댄스, 국내드라마', 4), ('국내드라마', 2), ('EMPTY', 1), ('발라드, 국내영화', 1), ('포크/블루스', 1), ('일렉트로니카', 1), ('발라드, 랩/힙합, 국내드라마', 1), ('록/메탈, 국내드라마', 1), ('인디음악, 포크/블루스', 1)]\n",
      "[('방탄소년단', 24), ('슈퍼주니어', 19), ('Red Velvet (레드벨벳)', 17), ('브라운 아이드 걸스', 13), ('에프티 아일랜드', 13), ('마마무 (Mamamoo)', 12), ('DAY6 (데이식스)', 12), ('티아라', 11), ('GOT7 (갓세븐)', 11), ('TWICE (트와이스)', 11), ('소녀시대', 10), ('세븐틴', 10), ('투피엠', 9), ('러블리즈', 9), ('오마이걸 (OH MY GIRL)', 9), ('카라', 8), ('몬스타엑스', 8), ('쥬얼리', 7), ('iKON', 7), ('엔플라잉 (N.Flying)', 7), ('이글 파이브', 6), ('다비치', 6), ('라붐 (LABOUM)', 6), ('샤크라', 5), ('빅뱅', 5), ('소년공화국 (Boys Republic)', 5), ('원더걸스', 4), ('샤이니', 4), ('엠블랙', 4), ('이효리', 4), ('아이유', 4), ('DJ DOC', 4), ('2NE1', 4), ('레이디스 코드', 4), ('에이프릴 (APRIL)', 4), ('케이팝', 3), ('동방신기', 3), ('에프엑스', 3), ('레인보우', 3), ('씨엔블루', 3), ('지나', 3), ('Wa$$up ', 3), ('탑독', 3), ('히스토리', 3), ('업텐션 (UP10TION)', 3), ('DIA (다이아)', 3), ('룰라', 2), ('트랙스', 2), ('비스트', 2), ('포미닛', 2), ('케이윌', 2), ('슈프림팀', 2), ('f(x)', 2), ('서인영', 2), ('오렌지 캬라멜', 2), ('나르샤', 2), ('시크릿', 2), ('성시경', 2), ('김태우', 2), ('미쓰에이', 2), ('김현중', 2), ('달샤벳', 2), ('틴탑', 2), ('블락비', 2), ('인피니트H', 2), ('스피드', 2), ('베스티', 2), ('비아이지 (B.I.G)', 2), ('빅플로', 2), ('로미오 (ROMEO)', 2), ('스누퍼 (SNUPER)', 2), ('VAV', 2), ('여자친구 (GFRIEND)', 2), ('소나무 (SONAMOO)', 2), ('Zion.T', 2), ('언타이틀', 1), ('Y2K', 1), ('클릭비 (Click-B)', 1), ('god', 1), ('엑스라지', 1), ('투야', 1), ('스위티', 1), ('신비', 1), ('JTL', 1), ('씽', 1), ('더블에스오공일', 1), ('티맥스', 1), ('투애니원', 1), ('슈아이', 1), ('유키스', 1), ('애프터 스쿨', 1), ('애프터스쿨', 1), ('민경훈', 1), ('예성', 1), ('2PM', 1), ('제아, 미료', 1), ('2AM', 1), ('크리스탈', 1), ('코요태', 1), ('소연', 1), ('T.O.P', 1), ('조권', 1), ('손담비', 1), ('환희', 1), ('SE7EN', 1), ('Homme', 1), ('길미', 1), ('간미연', 1), ('걸스데이', 1), ('박봄', 1), ('장재인', 1), ('허영생', 1), ('종현', 1), ('정용화', 1), ('버벌진트', 1), ('지아', 1), ('효린', 1), ('이승기', 1), ('버스커 버스커', 1), ('허각', 1), ('수지', 1), ('트러블메이커', 1), ('박재범', 1), ('에일리', 1), ('써니힐', 1), ('정은지, 서인국', 1), ('M.Pire', 1), ('M&N (미료&나르샤)', 1), ('LC9', 1), ('레인보우 블랙', 1), ('투하트 (우현, 키)', 1), ('WINGS', 1), ('HIGH4 (하이포),Lim Kim', 1), ('HIGH4 (하이포)', 1), ('수지 (SUZY)', 1), ('소녀온탑', 1), ('블락비 (Block B)', 1), ('멜로디데이 (MelodyDay)', 1), ('헤이즈 (Heize)', 1), ('칠학년일반', 1), ('L.A.U', 1), ('비에이 (Be.A)', 1), ('소녀시대 (GIRLS` GENERATION)', 1), ('나얼', 1), ('모모랜드 (MOMOLAND)', 1), ('승리', 1), ('풍뎅이 (PDE),NewTownBoyz (뉴타운보이즈)', 1), ('풍뎅이 (PDE)', 1), ('WINNER', 1), ('장범준', 1), ('블락비 바스타즈', 1), ('첸 (CHEN)', 1), ('볼빨간사춘기', 1), ('맵식스 (MAP6)', 1), ('CLC', 1)]\n",
      "[('(주)SM엔터테인먼트', 35), ('JYP 엔터테인먼트', 34), ('빅히트 엔터테인먼트', 24), ('SM 엔터테인먼트', 18), ('FNC엔터테인먼트', 17), ('MBK엔터테인먼트', 17), ('에이팝엔터테인먼트', 15), ('(주)JYP엔터테인먼트', 14), ('RBW', 12), ('DSP미디어', 11), ('SM Entertainment', 11), ('스타쉽 엔터테인먼트', 11), ('울림 엔터테인먼트', 11), ('플레디스 엔터테인먼트', 10), ('YG 엔터테인먼트', 9), ('스타제국', 9), ('YG엔터테인먼트', 9), ('WM 엔터테인먼트', 9), ('DSP 미디어', 7), ('FNC 엔터테인먼트', 7), (nan, 6), ('큐브엔터테인먼트', 6), ('Stone Music Entertainment', 6), ('NH 미디어. 내가네트워크', 6), ('키스 엔터테인먼트', 5), ('카카오 M', 5), ('MBK 엔터테인먼트', 5), ('유니버설 뮤직. 해피트라이브 엔터테인먼트', 5), ('플레디스', 4), ('쇼글로브', 4), ('일광폴라리스 엔터테인먼트', 4), ('미래 엔터테인먼트', 3), ('(주)YG엔터테인먼트', 3), ('JYP엔터테인먼트', 3), ('J.Tune Camp', 3), ('마피아 레코드', 3), ('후너스 엔터테인먼트', 3), ('로엔 엔터테인먼트', 3), ('티오피 미디어', 3), ('서울인 프로덕션', 2), ('아메바컬쳐', 2), ('TS엔터테인먼트', 2), ('에스케이재원', 2), ('큐브 엔터테인먼트', 2), ('YG Entertainment', 2), ('드림티 엔터테인먼트', 2), ('소울샵엔터테인먼트', 2), ('키이스트, Stone Music Entertainment', 2), ('해피페이스엔터테인먼트', 2), ('플레이엠 엔터테인먼트', 2), ('JYP Entertainment', 2), ('티오피미디어', 2), ('브랜뉴스타덤', 2), ('YNB 엔터테인먼트', 2), ('GH 엔터테인먼트', 2), ('N.A.P. 엔터테인먼트', 2), ('에이치오컴퍼니', 2), ('CT 엔터테인먼트', 2), ('위드메이', 2), ('세븐시즌스', 2), ('에이팀', 2), ('쏘스 뮤직', 2), ('TS 엔터테인먼트', 2), ('THE BLACK LABEL', 2), ('DoMA 엔터테인먼트', 2), ('레오뮤직', 1), ('조선음향', 1), ('싸이더스HQ', 1), ('상마인드', 1), ('Astars 엔터테인먼트', 1), ('예전 미디어', 1), ('씽엔터테인먼트', 1), ('플래닛구공오', 1), ('예전미디어', 1), ('제이튠캠프', 1), ('(주)앤에이취이엠쥐', 1), ('플레디스 & 카카오 M', 1), ('아이에스엔터미디어그룹', 1), ('JYP 엔터테인먼트 & 빅히트 엔터테인먼트', 1), ('피케이 미디어', 1), ('에이치투미디어', 1), ('SM엔터테인먼트', 1), ('빅히트엔터테인먼트', 1), ('GYM', 1), ('쏘스뮤직', 1), ('키위뮤직', 1), ('더그루브엔터테인먼트', 1), ('B2M 엔터테인먼트', 1), ('글로리엠케이엔터테인먼트', 1), ('OTHERSIDE', 1), ('후크엔터테인먼트', 1), ('CJ E&M', 1), ('아이에이치큐', 1), ('YMC엔터테인먼트', 1), ('젤리피쉬엔터테인먼트, 플레이엠 엔터테인먼트', 1), ('CMG초록별', 1), ('미스틱 엔터테인먼트', 1), ('내가네트워크', 1), ('SM 엔터테인먼트. 울림 엔터테인먼트', 1), ('소니뮤직', 1), ('로엔 엔터테인먼트, 뷰가 엔터테인먼트', 1), ('Stone Music Entertainment, Studio blu', 1), ('다른별 엔터테인먼트', 1), ('팬 엔터테인먼트', 1), ('크롬 엔터테인먼트', 1), ('인넥스트트렌드', 1), ('(주)엠엘디엔터테인먼트', 1), ('(주)버스커버스커', 1), ('쇼파르뮤직', 1), ('Stone Music Entertainment, B2M Entertainment', 1)]\n",
      "[(2009, 91), (2010, 53), (2018, 51), (2016, 48), (2011, 43), (2017, 43), (2019, 28), (2014, 20), (2015, 19), (2012, 18), (2013, 16), (1999, 8), (2000, 6), (2008, 5), (2006, 4), (2001, 3), (2007, 3), (1997, 2), (1998, 2), (2002, 2), (2004, 2)]\n",
      "[('EMPTY', 14), (nan, 8), ('박진영', 6), ('한승훈', 6), ('이민수', 5), ('용감한 형제', 5), ('한재호, 김승수', 5), ('방시혁', 5), ('박근태', 4), ('홍지상', 4), ('김승수', 4), ('조종수 ', 4), ('슈퍼창따이', 4), ('earattack,리시,마크 (GOT7)', 4), ('1Piece', 4), ('신상근', 3), ('김재양', 3), ('윤일상', 3), ('오준성', 3), ('이트라이브 (E-TRIBE)', 3), ('전해성', 3), ('SWEETUNE', 3), ('코스믹 걸 (Cosmic Girl),코스믹 사운드', 3), ('홍지상,이우민 `collapsedone`,Young K,Jae,성진,원필 (DAY6)', 3), ('유영진', 2), ('LeeOn', 2), ('최혜정', 2), ('제아', 2), ('김진환', 2), ('KENZIE', 2), ('한성호', 2), ('한상원', 2), ('최규성', 2), ('Hitman Bang', 2), ('남기상', 2), ('조영수', 2), ('안영민', 2), ('유영석', 2), ('Kenzie', 2), ('김도훈, 이상호', 2), ('BAHNUS', 2), ('신인수', 2), ('주영훈', 2), ('김기범, 강지원', 2), ('성시경', 2), ('TEDDY, Lydia Paek', 2), ('Pdogg,SUGA,j-hope,RM', 2), ('레드락', 2), ('이종훈,PJ', 2), ('마르코', 2), ('원준 (ONE JUNN),인광', 2), ('박우상', 2), ('Bo Riley,Andreas Oberg,Sean Alexander,Avenue 52,Darren Smith', 2), ('Ylva Dimberg,KENZIE,Stereotypes', 2), ('Mayu Wakisaka,이우민 `collapsedone`', 2), ('홍지상,Young K,Jae,성진,원필 (DAY6)', 2), ('이현도', 1), ('박선만', 1), ('유건형', 1), ('조우진', 1), ('신동관', 1), ('유건영', 1), ('김성태', 1), ('이상민', 1), ('페리 ', 1), ('이두헌', 1), ('바비 킴', 1), ('G-DRAGON,  김도현', 1), ('WAYNE MILTON', 1), ('박근철', 1), ('Peter Biker', 1), ('김세진', 1), ('KZ', 1), ('오즈 (오승은)', 1), ('김짜르트', 1), ('김성호', 1), ('김진훈', 1), ('KUSH (쿠시)', 1), ('Bloodshy & Avant', 1), ('Ryan Jhun', 1), ('태완 (Taewan)', 1), ('Mori Daisuke', 1), ('김보민', 1), ('G. 고릴라', 1), ('Tommy Park', 1), ('PRIYA JAYARAM', 1), ('심은지', 1), ('이주형 (MonoTree)', 1), ('김도훈 (RBW)', 1), ('라이머', 1), ('정모 (JUNGMO)', 1), ('DE VILLER DANE ANTHONY', 1), ('유재하', 1), ('외국곡', 1), ('Michael Edward Snyder', 1), ('Daniel Pandher', 1), ('이근호', 1), ('동해 (DONGHAE)', 1), ('MIKAEL ANDERSSON BERG', 1), ('DK', 1), ('라도', 1), ('신사동 호랭이', 1), ('전창엽', 1), ('황찬희', 1), ('황성제', 1), ('오성훈', 1), ('개코, 프라이머리, 장재원', 1), ('개코, 프라이머리', 1), ('NICK SCAPA, MADISON JAMIE NORRIS', 1), ('박해인, JEAN NA', 1), ('박준수', 1), ('Mich Hansen, Thomas Troelsen, Cutfather, Engelina Larsen, LOPEZ JOSE AGUIRRE', 1), ('박선주 (Pak Sun Zoo)', 1), ('TOP, TEDDY', 1), ('심은지, 조권', 1), ('김태현', 1), ('East4A', 1), ('SLINES, 라디', 1), ('김희원, 신형', 1), ('김도훈, 강은경', 1), ('유영진, Adam Kapit, Bebe Rexha, Ryan S.Jhun', 1), ('TEDDY', 1), ('유건형, 싸이 (PSY)', 1), ('PEEJAY, DJ Murf', 1), ('김세진, 서정진', 1), ('이하늘, PEEJAY', 1), ('테디', 1), ('라도, 김지인, 원택', 1), ('이트라이브', 1), ('김도훈 (RBW), 이상호', 1), ('방시혁, Pdogg', 1), ('G-DRAGON, T.O.P', 1), ('강전명, 남기상, 박건호', 1), ('Dwight Watson, Jeff Hoeppner, Alex Cantrall, 히치하이커', 1), ('Lydia Paek, TEDDY', 1), ('장재인', 1), ('Fuego', 1), ('임상혁', 1), ('TEDDY, 이낙', 1), ('김건우', 1), ('신사동 호랭이, 최규성', 1), ('Steven Lee, Sean Alexander', 1), ('Steven Lee', 1), ('이트라이브, 장준호', 1), ('김기원, 강지원', 1), ('버벌진트, 마스터키', 1), ('Minuki', 1), ('박강일', 1), ('JEAN NA, JENZYE', 1), ('Martin Hansen, McCarthy, Sam, Sarah Lundback', 1), ('윤종신', 1), ('G.고릴라, 미료', 1), ('낭이, 범이', 1), ('김태현, 조영수', 1), ('표창훈', 1), ('김형석', 1), ('라도, 신사동 호랭이', 1), ('이단 옆차기', 1), ('지코, Delly Boi', 1), ('지코, 원영헌, 이관', 1), ('Da Beatfreakz, 박재범', 1), ('이기, 서용배, 휘성', 1), ('TEDDY, G-DRAGON', 1), ('Night & Day', 1), ('용감한 형제, 코끼리 왕국', 1), ('G-DRAGON, TEDDY', 1), ('G-DRAGON, 함승천, 강욱진', 1), ('이기, 서용배', 1), ('프라이머리,개코', 1), ('프라이머리', 1), ('이단옆차기,영광의 얼굴들 (Full8loom)', 1), ('Ichiro Suezawa,이단옆차기', 1), ('Slow Rabbit,j-hope,THE RAP MONSTER,SUGA', 1), ('4Miles', 1), ('레드락,Ye-Yo!', 1), ('Candysound,이규현', 1), ('DEEZ,곤', 1), ('미친기집애,피터팬,똘아이박', 1), ('S. Bros', 1), ('이우민 `collapsedone`,Fredrik `Fredro` Odesjo', 1), ('Pdogg,Slow Rabbit', 1), ('라디오갤럭시,이단옆차기', 1), ('JYMON,박건우', 1), ('김진권', 1), ('Drew Ryan Scott,한재호,Sean Alexander,김승수', 1), ('SUGA,방시혁,RM,Pdogg,Slow Rabbit,j-hope', 1), ('Chloe,NODAY,필립', 1), ('Wonderkid,LUVAN (러반),강양구', 1), ('노는어린이,심만주', 1), ('Chris Holsten,Chad Hugo,Will Simms,Anne Judith Wik', 1), ('SUGA,Supreme Boi,RM,Pdogg,j-hope', 1), ('Supreme Boi,Simo', 1), ('모니터펀치,DEEZ', 1), ('Kidoh', 1), ('MonoTree,이주형 (MonoTree),김유석 (MonoTree)', 1), ('송양하,김재현', 1), ('Andy Love,Daniel Obi Klein,Marcus Winther-John', 1), ('BUMZU', 1), ('WOOZI (SEVENTEEN),BUMZU', 1), ('WOOZI (SEVENTEEN),동네형,원영헌', 1), ('Z-uK (지욱),HighTop,정균', 1), ('윤상조', 1), ('소피야 (Sophiya),Sam Gray,220,Jake K (ARTiffect)', 1), ('SWEETUNE,Albi Albertsson,Joseph Park,Command Freaks', 1), ('P.K (FUTURE BOUNCE),구준회,B.I', 1), ('B.I,KUSH (쿠시),CHOICE37', 1), ('강욱진,함승천,B.I,FUTURE BOUNCE', 1), ('B.I,FUTURE BOUNCE', 1), ('CARLOS BATTEY,The Fliptones,STEVEN BATTEY,B.I', 1), ('DEE.P (FUTURE BOUNCE),G-DRAGON', 1), ('원영헌', 1), ('진바이진', 1), ('정수민,홍종화,박근철', 1), ('진영', 1), ('추대관 (MonoTree),적재', 1), ('Ryan S. Jhun,Jarah Lafayette Gibson,Greg Bonnick,Kyle Coleman,August Rigo,Hayden Chapman', 1), ('DK,Deanfluenza,Hyuk Shin (153/Joombas),Beat&Keys', 1), ('BlueRhythm,장이정 (JANGYIJEONG)', 1), ('송경일,장이정 (JANGYIJEONG),이어달리기', 1), ('김재호,장이정 (JANGYIJEONG),BlueRhythm', 1), ('Poptime', 1), ('Daniel Kim,JB (GOT7),박지연', 1), ('WOOZI (SEVENTEEN),동네형,민식이,원영헌', 1), ('블랙아이드 필승,라도', 1), ('브라더수,SUGA,방시혁,RM,Pdogg,Slow Rabbit,j-hope', 1), ('Devine Channel,SUGA,방시혁,RM,Pdogg', 1), ('콰지모도,한재준 a.k.a 타키', 1), ('뮤지,유준성,김명준', 1), ('우혜림', 1), (' C-no, 웅킴),오레오 (이기', 1), ('Ragoon IM,NODAY', 1), ('RE:ONE ,Davey Nate,Mrey,Hyuk Shin (153/Joombas)', 1), ('주찬양 (티맥스),김태성,Command Freaks', 1), ('e.one', 1), ('Super Bomb', 1), ('Ollipop,Hayley Aitken', 1), ('Tomas Smagesjo,Courtney Woolsey,Nermin Harambasic,Jin Suk Choi', 1), ('황현 (MonoTree)', 1), ('Albi Albertsson,Markus Lindell,Belle Humble', 1), ('피터팬,똘아이박', 1), ('노는어린이,김남영,윤영민', 1), ('Oscar Doniz,STEVEN BATTEY,CARLOS BATTEY,Josiah Rosen,Ruwanga Samath', 1), ('MISS KAY,SUGA', 1), ('Slow Rabbit,RM', 1), ('박우상,김도훈 (RBW),MGR(RBW)', 1), ('WOOZI (SEVENTEEN),동네형,야마아트,원영헌', 1), ('WOOZI (SEVENTEEN),리시', 1), ('다비 (DAVII)', 1), ('서의범,BPM,서유석', 1), ('박수석,에이브 (AEV)', 1), ('일당백,안형석', 1), ('심재환,민경진', 1), ('Slom', 1), ('SUGA,C.`Tricky` Stewart,J. Pierre Medor,RM,j-hope', 1), ('Razer (Strike),최문석', 1), ('Bee', 1), ('Razer (Strike),톰이랑 제리', 1), ('마부스 (Maboos),투챔프', 1), ('Michael Lerios,Demitri Lerios,Svante Halldin,Hugo Bjork,Andreas Oberg,SYMON,Jakob Hazell,SeventyEight', 1), ('김희갑,김정우,한재준 a.k.a 타키', 1), ('Diggy,AiRPLAY,godok', 1), ('Young K,도운,Mr. Cho,원필 (DAY6),주효', 1), ('홍지상,이우민 `collapsedone`,Young K,Jae,도운,임준혁,성진,원필 (DAY6)', 1), ('Stereo14,리시,ESBEE', 1), ('아테나 (GALACTIKA *),별들의 전쟁 (GALACTIKA *)', 1), ('영광의 얼굴,이단옆차기,Long Candy', 1), ('한승훈,김창락 (CR Kim),정진욱', 1), ('김도훈 (RBW),이상호', 1), ('Louise Frick Sveen', 1), ('Supreme Boi,방시혁,RM,Pdogg,j-hope', 1), ('Pdogg,방시혁,Supreme Boi', 1), ('Distract,Secret Weapon,진영 (GOT7)', 1), ('도겸 (SEVENTEEN),BUMZU,Anchor', 1), ('RE:ONE ,Davey Nate', 1), ('이주형 (MonoTree),권덕근', 1), ('Moonshine,Cazzi Opeia,Ellen Berg Tollbom', 1), ('나얼', 1), ('윤석철', 1), ('원필 (DAY6),케빈오빠,이민경', 1), ('청담동박건우,DAY6 (데이식스),케빈오빠,전정훈', 1), ('DAY6 (데이식스),FRANTS', 1), ('DAY6 (데이식스),naru (THE SOLUTIONS)', 1), ('David Amber,Sean Alexander,Avenue 52', 1), ('Mayu Wakisaka,Sean Alexander,Steven Lee', 1), ('Andreas Oberg,Maria Marcus', 1), ('Samuel Cramer,Sophie White,David Anthony,Phoebe Jo Brown', 1), ('솔라 (마마무),이현승,TM', 1), ('박우상,화사 (Hwa Sa)', 1), ('심은지,변방의 킥소리', 1), ('Adrian Mckinnon,GASHIMA,Albin Nordqvist', 1), ('김창락 (CR Kim),조세희,김수빈 (AIMING)', 1), ('BreadBeat (TENTEN),DJ Kayvon,Wonderkid,Josef Melin', 1), ('Ollounder,LEEZ', 1), ('Perry,Charlie J,RM', 1), ('Pdogg,방시혁,RM', 1), ('낭이', 1), ('승리', 1), ('주호,Maven', 1), ('DOM,Daniel Obi Klein,Teddy Riley,Ylva Dimberg,이현승', 1), ('Blair MacKichan,Nermin Harambasic,Ronny Svendsen,Anne Judith Wik', 1), ('SUGA,신명수,RM,j-hope,DOCSKIM', 1), ('Supreme Boi,방시혁,Ali Tamposi,RM,Pdogg,Roman Campolo', 1), ('정바비,Conor Maynard,SUGA,Candace Nicole Sosa,Ray Michael Djan Jr,Jordan “DJ Swivel” Young,RM,Pdogg,j-hope,Ashton Foster', 1), ('Yu-ki Kokubo,YHANAEL,NA.ZU.NA', 1), ('Albi Albertsson,Kanata Okajima,Mussashi', 1), ('Louise Frick Sveen,Atsushi Shimada,Albin Nordqvist', 1), ('원준 (ONE JUNN),니화 (NiiHWA)', 1), ('Bekuh BOOM,B.I,FUTURE BOUNCE', 1), ('Safira.K (사피라 K),Maven,도마현', 1), ('moonc,ZigZag Note,강명신', 1), ('MHL,이예준,타이비언,Nuplay', 1), ('Drew Ryan Scott,A-Dee', 1), ('우키 (Wooki),윤석,I.M (몬스타엑스)', 1), ('Andy Love,David Amber', 1), ('소피야 (Sophiya),Secret Weapon', 1), ('Albi Albertsson,Mussashi,Akina Ingold', 1), ('SUGA,Supreme Boi,RM,Pdogg,Roman Campolo,j-hope', 1), ('문상선,Jae,MAJORCODE,원필 (DAY6)', 1), ('김도훈 (RBW),솔라 (마마무),밍키 (RBW)', 1), ('박우상,김도훈 (RBW)', 1), ('LDN Noise,DEEZ,Ellen Berg Tollbom', 1), ('Moonshine,KENZIE,Anne Judith Wik', 1), ('김정삼,Command Freaks,DAY&NIGHT', 1), ('Vo3e,솔빈 (LABOUM)', 1), ('강승윤,강욱진,Diggy', 1), ('Andy Love,Daniel Kim,Christian Dropfill Berglund,Hanif Hitmanic Sabzevari', 1), ('Ryan S. Jhun,Stereo14,브라더수,Hanif Hitmanic Sabzevari,Daniel Kim,Dennis DeKo Kordnejad', 1), ('김건모,김도훈 (RBW)', 1), ('노주환,Jeina Choi,STAINBOYS', 1), ('장범준', 1), ('Savage House Gang,유권 (블락비)', 1), ('MooF (153/Joombas)', 1), ('바닐라맨 (바닐라어쿠스틱)', 1), ('KZ,미친감성,유상균,김주형', 1), ('Pdogg,Hiss noise,RM', 1), ('이승협 (J.DON),김수빈 (AIMING)', 1), ('이승협 (J.DON),고진영', 1), ('최한솔', 1), ('WOOZI (SEVENTEEN),BUMZU,붐바스틱', 1), ('MosPick', 1), ('Melanie Fontana,Michel “Lindgren” Schulz,Emily Weisband,SUGA,방시혁,RM,Pdogg,j-hope', 1), ('Ryan S. Jhun,Play-N-Skillz,Young An,YELLA D (옐라디)', 1), ('JJ Evans (153/Joombas),MooF (153/Joombas),정윤 (153/Joombas),Ashley Alisha (153/Joombas),Hyuk Shin (153/Joombas)', 1), ('Andreas Oberg,Allison Kaplan,Christoffer Lauridsen', 1), ('Rosanna Ener,Jake Torrey,Changkyun Lim,주헌 (몬스타엑스),기현 (몬스타엑스),Noah Conrad,민혁 (몬스타엑스),Dan Henig,Karim Kharbouch,형원 (몬스타엑스),Hoseok Shin,Hyunwoo Sohn', 1), ('이진실,박상준', 1), ('WOOZI (SEVENTEEN),박기태,BUMZU,Nmore', 1), ('Anchor,BUMZU', 1), ('이정철,DJ Kaesama,1Piece', 1), ('Ollipop,Hayley Aitken,이우민 `collapsedone`,J.Y. Park `The Asiansoul`', 1)]\n"
     ]
    }
   ],
   "source": [
    "import operator\n",
    "\n",
    "for n, cluster in enumerate(cluster_n):\n",
    "    tags_genre = {}\n",
    "    tags_singer = {}\n",
    "    tags_house = {}\n",
    "    tags_time = {}\n",
    "    tags_composer = {}\n",
    "\n",
    "    for tag_n in cluster:\n",
    "        if tag_n[0] not in tags_genre.keys():\n",
    "            tags_genre[tag_n[0]] = 1\n",
    "        else:\n",
    "            tags_genre[tag_n[0]] += 1\n",
    "        \n",
    "        if tag_n[1] not in tags_singer.keys():\n",
    "            tags_singer[tag_n[1]] = 1\n",
    "        else:\n",
    "            tags_singer[tag_n[1]] += 1\n",
    "\n",
    "        if tag_n[2] not in tags_house.keys():\n",
    "            tags_house[tag_n[2]] = 1\n",
    "        else:\n",
    "            tags_house[tag_n[2]] += 1\n",
    "\n",
    "        if tag_n[3] not in tags_time.keys():\n",
    "            tags_time[tag_n[3]] = 1\n",
    "        else:\n",
    "            tags_time[tag_n[3]] += 1\n",
    "\n",
    "        if tag_n[4] not in tags_composer.keys():\n",
    "            tags_composer[tag_n[4]] = 1\n",
    "        else:\n",
    "            tags_composer[tag_n[4]] += 1\n",
    "        \n",
    "    print(\"cluster \" + str(n))\n",
    "    print(len(cluster))\n",
    "    print(sorted(tags_genre.items(), key=operator.itemgetter(1),reverse=True))\n",
    "    print(sorted(tags_singer.items(), key=operator.itemgetter(1),reverse=True))\n",
    "    print(sorted(tags_house.items(), key=operator.itemgetter(1),reverse=True))\n",
    "    print(sorted(tags_time.items(), key=operator.itemgetter(1),reverse=True))  \n",
    "    print(sorted(tags_composer.items(), key=operator.itemgetter(1),reverse=True))  "
   ]
  },
  {
   "cell_type": "code",
   "execution_count": 43,
   "metadata": {},
   "outputs": [],
   "source": [
    "cluster_tags = []\n",
    "cluster_tags.append(['다시 한번','숨은'])\n",
    "cluster_tags.append(['지나간','옛날','추억의'])\n",
    "cluster_tags.append(['그리움','아이돌'])\n",
    "cluster_tags.append(['신나는','메탈'])\n",
    "cluster_tags.append(['드라마틱','발라드','밤'])\n",
    "cluster_tags.append(['대중적','아이돌','다양한'])\n",
    "cluster_tags.append(['2세대','노인돌'])\n",
    "cluster_tags.append(['1세대','들어본'])\n",
    "cluster_tags.append(['힙한','감각적인'])\n",
    "cluster_tags.append(['랩','유영진','이국적인'])"
   ]
  },
  {
   "cell_type": "code",
   "execution_count": 44,
   "metadata": {},
   "outputs": [],
   "source": [
    "cluster_tags_save = np.array(cluster_tags, dtype = 'object')"
   ]
  },
  {
   "cell_type": "code",
   "execution_count": 45,
   "metadata": {},
   "outputs": [],
   "source": [
    "cluster_dict1 = np.array(cluster_dict1, dtype = 'object')"
   ]
  },
  {
   "cell_type": "code",
   "execution_count": 46,
   "metadata": {},
   "outputs": [],
   "source": [
    "np.save('./cluster_tags_save',cluster_tags_save)"
   ]
  },
  {
   "cell_type": "code",
   "execution_count": 47,
   "metadata": {},
   "outputs": [],
   "source": [
    "np.save('./cluster_dict',cluster_dict1)"
   ]
  },
  {
   "cell_type": "code",
   "execution_count": 48,
   "metadata": {},
   "outputs": [
    {
     "data": {
      "text/plain": [
       "[['다시 한번', '숨은'],\n",
       " ['지나간', '옛날', '추억의'],\n",
       " ['그리움', '아이돌'],\n",
       " ['신나는', '메탈'],\n",
       " ['드라마틱', '발라드', '밤'],\n",
       " ['대중적', '아이돌', '다양한'],\n",
       " ['2세대', '노인돌'],\n",
       " ['1세대', '들어본'],\n",
       " ['힙한', '감각적인'],\n",
       " ['랩', '유영진', '이국적인']]"
      ]
     },
     "execution_count": 48,
     "metadata": {},
     "output_type": "execute_result"
    }
   ],
   "source": [
    "cluster_tags\n"
   ]
  },
  {
   "cell_type": "code",
   "execution_count": 49,
   "metadata": {},
   "outputs": [
    {
     "data": {
      "text/plain": [
       "['사실',\n",
       " '기다리다',\n",
       " '있다',\n",
       " '날',\n",
       " '좋아하다',\n",
       " '너',\n",
       " '고백',\n",
       " '일부러',\n",
       " '튕겼었',\n",
       " '지만',\n",
       " '그건',\n",
       " '나',\n",
       " '진심',\n",
       " '아니다',\n",
       " '혹시',\n",
       " '포기',\n",
       " '어떡하다',\n",
       " '얼마나',\n",
       " '가슴',\n",
       " '졸이다',\n",
       " '넌',\n",
       " '아니다',\n",
       " '원래',\n",
       " '여자',\n",
       " '란',\n",
       " '다그',\n",
       " '래',\n",
       " '좋아하다',\n",
       " '아니다',\n",
       " '척',\n",
       " '행동',\n",
       " '사실',\n",
       " '항상',\n",
       " '니',\n",
       " '곁',\n",
       " '함께',\n",
       " '있다',\n",
       " '생각',\n",
       " '을',\n",
       " '그',\n",
       " '대다',\n",
       " '보다',\n",
       " '이미',\n",
       " '우린',\n",
       " '연인',\n",
       " '되다',\n",
       " '내',\n",
       " '마음',\n",
       " '너',\n",
       " '란',\n",
       " '아이',\n",
       " '이제',\n",
       " '니',\n",
       " '원하다',\n",
       " '모두',\n",
       " '나',\n",
       " '주인',\n",
       " '되다',\n",
       " '버리다',\n",
       " '너',\n",
       " '에게',\n",
       " '감추다',\n",
       " '않다',\n",
       " '나',\n",
       " '뭐',\n",
       " '든지',\n",
       " '다',\n",
       " '있다',\n",
       " '영원하다',\n",
       " '나',\n",
       " '만',\n",
       " '사랑',\n",
       " '주다',\n",
       " '있다',\n",
       " '그것',\n",
       " '하나',\n",
       " '만',\n",
       " '너',\n",
       " '에게',\n",
       " '바라다',\n",
       " '언제나',\n",
       " '밝다',\n",
       " '모습',\n",
       " '항상',\n",
       " '날',\n",
       " '바라보다',\n",
       " '주기',\n",
       " '바',\n",
       " '래',\n",
       " '많다',\n",
       " '밤',\n",
       " '을',\n",
       " '니',\n",
       " '생각',\n",
       " '지',\n",
       " '새',\n",
       " '며',\n",
       " '아침',\n",
       " '을',\n",
       " '맞이',\n",
       " '적도',\n",
       " '많다',\n",
       " '어쩜',\n",
       " '말',\n",
       " '안',\n",
       " '내',\n",
       " '더',\n",
       " '좋아하다',\n",
       " '있다',\n",
       " '보다',\n",
       " '이제',\n",
       " '니',\n",
       " '원하다',\n",
       " '모두',\n",
       " '나',\n",
       " '주인',\n",
       " '되다',\n",
       " '버리다',\n",
       " '너',\n",
       " '에게',\n",
       " '감추다',\n",
       " '않다',\n",
       " '나',\n",
       " '뭐',\n",
       " '든지',\n",
       " '다',\n",
       " '있다',\n",
       " '영원하다',\n",
       " '나',\n",
       " '만',\n",
       " '사랑',\n",
       " '주다',\n",
       " '있다',\n",
       " '그것',\n",
       " '하나',\n",
       " '만',\n",
       " '너',\n",
       " '에게',\n",
       " '바라다',\n",
       " '언제나',\n",
       " '밝다',\n",
       " '모습',\n",
       " '항상',\n",
       " '날',\n",
       " '바라보다',\n",
       " '주기',\n",
       " '바',\n",
       " '래']"
      ]
     },
     "execution_count": 49,
     "metadata": {},
     "output_type": "execute_result"
    }
   ],
   "source": [
    "cluster_dict[0][0][1]"
   ]
  },
  {
   "cell_type": "code",
   "execution_count": 50,
   "metadata": {},
   "outputs": [
    {
     "name": "stdout",
     "output_type": "stream",
     "text": [
      "hierarchical Clustering\n"
     ]
    }
   ],
   "source": [
    "sys.setrecursionlimit(10000)\n",
    "\n",
    "print(\"hierarchical Clustering\")\n",
    "\n",
    "X = model.docvecs.vectors_docs\n",
    "\n",
    "linked = linkage(X, 'ward')"
   ]
  },
  {
   "cell_type": "code",
   "execution_count": 51,
   "metadata": {},
   "outputs": [
    {
     "data": {
      "text/plain": [
       "array([[2.09800000e+03, 2.09900000e+03, 3.47911651e-02, 2.00000000e+00],\n",
       "       [3.70200000e+03, 3.70300000e+03, 3.48673235e-02, 2.00000000e+00],\n",
       "       [5.16500000e+03, 5.16600000e+03, 3.56708358e-02, 2.00000000e+00],\n",
       "       ...,\n",
       "       [1.04140000e+04, 1.04160000e+04, 1.28201069e+02, 4.24700000e+03],\n",
       "       [1.04150000e+04, 1.04180000e+04, 1.42389237e+02, 4.50100000e+03],\n",
       "       [1.04170000e+04, 1.04190000e+04, 2.36735014e+02, 5.21100000e+03]])"
      ]
     },
     "execution_count": 51,
     "metadata": {},
     "output_type": "execute_result"
    }
   ],
   "source": [
    "linked"
   ]
  },
  {
   "cell_type": "code",
   "execution_count": 52,
   "metadata": {},
   "outputs": [
    {
     "data": {
      "image/png": "[encoded data removed]",
      "text/plain": [
       "<Figure size 1000x700 with 1 Axes>"
      ]
     },
     "metadata": {},
     "output_type": "display_data"
    }
   ],
   "source": [
    "labelList = range(1, 11)\n",
    "\n",
    "plt.figure(figsize=(10, 7))\n",
    "dendrogram(linked,no_labels=True)\n",
    "plt.show()"
   ]
  },
  {
   "cell_type": "markdown",
   "metadata": {},
   "source": [
    "################################################################################################################################\n",
    "################################################################################################################################\n",
    "\n",
    "## 기능 1. 노래 입력 받아서 재생목록 추천"
   ]
  },
  {
   "cell_type": "markdown",
   "metadata": {},
   "source": [
    "#### 노래 제목을 입력"
   ]
  },
  {
   "cell_type": "markdown",
   "metadata": {},
   "source": [
    "#### 입력 : 아이유의 \"Blumening\"      "
   ]
  },
  {
   "cell_type": "code",
   "execution_count": 60,
   "metadata": {},
   "outputs": [],
   "source": [
    "input = [\"Blueming\"]"
   ]
  },
  {
   "cell_type": "markdown",
   "metadata": {},
   "source": [
    "#### 입력받은 노래가 보유하고 있는 데이터베이스 안에 있는지 확인합니다. 없는 경우 검색 조건을 완화 (feat 제거 등)하여 검색합니다."
   ]
  },
  {
   "cell_type": "code",
   "execution_count": 61,
   "metadata": {},
   "outputs": [],
   "source": [
    "input_lyrics = []\n",
    "for i in input:\n",
    "    try : \n",
    "        input_lyrics.append(train_data_all['가사'][train_data_all['제목']==i].values[0])\n",
    "    except : \n",
    "        try : \n",
    "            # 검색 조건을 완화하여 검색\n",
    "            print(\"입력한 제목과 정확히 일치하는 곡이 데이터베이스에 없습니다.\")\n",
    "            print(\"검색 조건을 완화하여 가사를 검색합니다.\")\n",
    "        except :\n",
    "            print(\"입력한 제목과 일치하는 곡이 데이터베이스에 없습니다.\")\n",
    "            print(\"외부 데이터베이스에서 가사를 검색합니다.\")"
   ]
  },
  {
   "cell_type": "code",
   "execution_count": 62,
   "metadata": {},
   "outputs": [
    {
     "data": {
      "text/plain": [
       "'우리 헤어지면 안되잖아 우리 이별하긴 이르잖아 이렇게 날 떠나가면 안돼요 내가 하지 못한 말들이 아직 너무 많은데 이대로 날 떠나가지 마세요 그대이기 때문에 난 정말 그대였기 때문에 난 이대로는 이대로는 난 안돼요 내가 살아가는 이유는 오직 그대뿐이죠 제발 나를 떠나가지 말아요 그대는 내 사랑 그리운 내 사랑 날 사랑했던 사람 이제는 만질 수 없지만 내가 그리운 만큼 그대도 그리운가요 내가 미칠 듯이 사랑했던 그 사람 hello 사랑했기 때문에 난 정말 사랑했기 때문에 난 죽을 만큼 죽을 만큼 힘드네요 죽지 못해 살아가고 있는 내가 보이나요 제발 내게 다시 돌아와줘요 그대는 내사랑 그리운 내사랑 날 사랑했던 사람 이제는 만질 수 없지만 내가 그리운 만큼 그대도 그리운가요 내가 미칠 듯이 사랑했던 그 사람 겨우 이대로 끝날 거라면 정말 마지막이라면 지금 돌아가 그때로 서로 몰랐던 그때로 너무 늦어버리면 너무 늦어버리면 내가 살아가는 게 너무 힘이 들어 날 버릴까 봐 정말 이대로 끝날 거라면 이게 마지막이라면 지금 돌아가 그때로 서로 몰랐던 그때로 너무 늦어버리면 너무 늦어버리면 내가 살아가는 게 너무 힘이 들어 날 버릴까 봐'"
      ]
     },
     "execution_count": 62,
     "metadata": {},
     "output_type": "execute_result"
    }
   ],
   "source": [
    "input_lyrics[0]"
   ]
  },
  {
   "cell_type": "code",
   "execution_count": 63,
   "metadata": {},
   "outputs": [],
   "source": [
    "input_lyrics_tokenized = []\n",
    "for i in input_lyrics:\n",
    "    temp_X = []\n",
    "    temp_X = okt.morphs(i, stem=True) # 토큰화\n",
    "    temp_X = [word for word in temp_X if not word in stopwords] # 불용어 제거\n",
    "input_lyrics_tokenized.append(temp_X)"
   ]
  },
  {
   "cell_type": "code",
   "execution_count": 64,
   "metadata": {},
   "outputs": [
    {
     "data": {
      "text/plain": [
       "[['우리',\n",
       "  '헤어지다',\n",
       "  '안되다',\n",
       "  '우리',\n",
       "  '이별',\n",
       "  '이르다',\n",
       "  '이렇게',\n",
       "  '날',\n",
       "  '떠나가다',\n",
       "  '안',\n",
       "  '돼다',\n",
       "  '내',\n",
       "  '못',\n",
       "  '말',\n",
       "  '아직',\n",
       "  '너무',\n",
       "  '많다',\n",
       "  '이대로',\n",
       "  '날',\n",
       "  '떠나가다',\n",
       "  '말다',\n",
       "  '그대',\n",
       "  '이기',\n",
       "  '때문',\n",
       "  '난',\n",
       "  '정말',\n",
       "  '그대',\n",
       "  '이다',\n",
       "  '때문',\n",
       "  '난',\n",
       "  '이대',\n",
       "  '로는',\n",
       "  '이대',\n",
       "  '로는',\n",
       "  '난',\n",
       "  '안',\n",
       "  '돼다',\n",
       "  '내',\n",
       "  '살아가다',\n",
       "  '이유',\n",
       "  '오직',\n",
       "  '그대',\n",
       "  '뿐이다',\n",
       "  '제발',\n",
       "  '나르다',\n",
       "  '떠나가다',\n",
       "  '말다',\n",
       "  '그대',\n",
       "  '내',\n",
       "  '사랑',\n",
       "  '그립다',\n",
       "  '내',\n",
       "  '사랑',\n",
       "  '날',\n",
       "  '사랑',\n",
       "  '사람',\n",
       "  '이제',\n",
       "  '만지다',\n",
       "  '수',\n",
       "  '없다',\n",
       "  '내',\n",
       "  '그립다',\n",
       "  '만큼',\n",
       "  '그대',\n",
       "  '그립다',\n",
       "  '내',\n",
       "  '미치다',\n",
       "  '듯이',\n",
       "  '사랑',\n",
       "  '그',\n",
       "  '사람',\n",
       "  'hello',\n",
       "  '사랑',\n",
       "  '때문',\n",
       "  '난',\n",
       "  '정말',\n",
       "  '사랑',\n",
       "  '때문',\n",
       "  '난',\n",
       "  '죽',\n",
       "  '을',\n",
       "  '만큼',\n",
       "  '죽',\n",
       "  '을',\n",
       "  '만큼',\n",
       "  '힘드다',\n",
       "  '죽지',\n",
       "  '못',\n",
       "  '살아가다',\n",
       "  '있다',\n",
       "  '내',\n",
       "  '보이다',\n",
       "  '제발',\n",
       "  '내다',\n",
       "  '다시',\n",
       "  '돌아오다',\n",
       "  '그대',\n",
       "  '내사',\n",
       "  '랑',\n",
       "  '그립다',\n",
       "  '내사',\n",
       "  '랑',\n",
       "  '날',\n",
       "  '사랑',\n",
       "  '사람',\n",
       "  '이제',\n",
       "  '만지다',\n",
       "  '수',\n",
       "  '없다',\n",
       "  '내',\n",
       "  '그립다',\n",
       "  '만큼',\n",
       "  '그대',\n",
       "  '그립다',\n",
       "  '내',\n",
       "  '미치다',\n",
       "  '듯이',\n",
       "  '사랑',\n",
       "  '그',\n",
       "  '사람',\n",
       "  '겨우',\n",
       "  '이대로',\n",
       "  '끝나다',\n",
       "  '거',\n",
       "  '라면',\n",
       "  '정말',\n",
       "  '마지막',\n",
       "  '라면',\n",
       "  '지금',\n",
       "  '돌아가다',\n",
       "  '그때',\n",
       "  '로',\n",
       "  '서로',\n",
       "  '모르다',\n",
       "  '그때',\n",
       "  '로',\n",
       "  '너무',\n",
       "  '늦다',\n",
       "  '버리다',\n",
       "  '너무',\n",
       "  '늦다',\n",
       "  '버리다',\n",
       "  '내',\n",
       "  '살아가다',\n",
       "  '게',\n",
       "  '너무',\n",
       "  '힘',\n",
       "  '들다',\n",
       "  '날',\n",
       "  '버리다',\n",
       "  '보다',\n",
       "  '정말',\n",
       "  '이대로',\n",
       "  '끝나다',\n",
       "  '거',\n",
       "  '라면',\n",
       "  '게',\n",
       "  '마지막',\n",
       "  '라면',\n",
       "  '지금',\n",
       "  '돌아가다',\n",
       "  '그때',\n",
       "  '로',\n",
       "  '서로',\n",
       "  '모르다',\n",
       "  '그때',\n",
       "  '로',\n",
       "  '너무',\n",
       "  '늦다',\n",
       "  '버리다',\n",
       "  '너무',\n",
       "  '늦다',\n",
       "  '버리다',\n",
       "  '내',\n",
       "  '살아가다',\n",
       "  '게',\n",
       "  '너무',\n",
       "  '힘',\n",
       "  '들다',\n",
       "  '날',\n",
       "  '버리다',\n",
       "  '보다']]"
      ]
     },
     "execution_count": 64,
     "metadata": {},
     "output_type": "execute_result"
    }
   ],
   "source": [
    "input_lyrics_tokenized"
   ]
  },
  {
   "cell_type": "markdown",
   "metadata": {},
   "source": [
    "#### doc2vec 모델을 불러와 데이터베이스 내의 곡들과 유사도 비교를 실행합니다."
   ]
  },
  {
   "cell_type": "code",
   "execution_count": 64,
   "metadata": {},
   "outputs": [
    {
     "name": "stdout",
     "output_type": "stream",
     "text": [
      "vector of ['‘', '뭐', '?', '‘', '라는', '두', '글자', '‘', '네', '보고', '싶다', '’', '나', '속마음', '을', '담다', '우', '이모티콘', '하나', '하나', '속', '달라지다', '내', '미묘하다', '심리', '알다', '우', '아니다', '바쁘다', '않다', 'nothing', 'no', 'no', '잠들다', '있다', '않다', 'insomnia', 'nia', 'nia', '지금', '다른', '사람과', '함께', '이지', '않다', '응', ',', '나다', '너', '생각', '중', '우리', '네모', '칸', 'bloom', '엄지손가락', '장미꽃', '을', '피우다', '향기', '취할', '것', '같다', '우', '오직', '둘', '만의', '비밀', '정원', 'I', 'feel', 'bloom', 'I', 'feel', 'bloom', 'I', 'feel', 'bloom', '너', '에게', '송이', '더', '보내다', '밤샘', '작업', '업데이트', '흥미롭다', '작품', '지은이', 'that', '’', 's', 'me', '우', '어쩜', '관계', '클라이맥스', '2', '막', '넘어가다', '지금', 'good', 'timing', '우', '같다', '맘', '인', '걸', '알', '아', 'realize', 'la', 'lize', '말', '을', '고르다', '말', '아', 'just', 'reply', 'la', 'la', 'ly', '조금', '장난스럽다', '나', '은유', '네', '해석', '궁금하다', '우리', '색', 'gray', 'and', 'blue', '엄지손가락', '말풍선', '을', '띄우다', '금세', '터지다', '것', '같다', '우', '호흡', '가빠지다', '어지럽다', 'I', 'feel', 'blue', '.', 'I', 'feel', 'blue', '.', 'I', 'feel', 'blue', '.', '너', '에게', '가득하다', '채우다', '띄어쓰기', '없이', '보내다', '사랑', '인', '것', '같다', '애', '백', '만송', '장미꽃', '을', ',', '나', '랑', '피우다', '볼', '래', '?', '꽃잎', '색', '우리', '마음', '가다', '대로', '칠하다', '시들다', '때', '예쁘다', '우리', '네모', '칸', 'bloom', '엄지손가락', '장미꽃', '을', '피우다', '향기', '취할', '것', '같다', '우', '오직', '둘', '만의', '비밀', '정원', 'I', 'feel', 'bloom', 'I', 'feel', 'bloom', 'I', 'feel', 'bloom', '너', '에게', '송이', '더', '보내다']: [-0.6880487  -2.6559203   0.6340129  -0.67242914  0.5298663  -0.45258334\n",
      "  1.4979833   1.9338332  -0.25152752  1.2620032   1.7133079   0.44499102\n",
      " -1.064924    2.3887875  -0.58820707 -0.12550738  0.7174861   2.362761\n",
      " -0.9987873  -0.3732331   0.34157136  0.01724265  0.58218604  0.19471398\n",
      "  0.2341383   0.8560933  -0.49370506 -1.4628752   1.1825198  -2.513366\n",
      "  0.7087145   1.4673643  -1.859789   -0.22349183 -0.2606714  -1.6893489\n",
      "  0.1578101   2.2927654   0.37470075 -0.07320526  1.9675267  -0.61317754\n",
      "  1.4204355   0.35722953 -0.94328135 -0.248005   -3.4966025   1.9810839\n",
      "  0.34761968  0.023562   -1.3840423   1.0143827   0.04988678 -1.0701609\n",
      " -0.88959557  1.2620956   0.26235867  1.4571866  -1.5618422   1.1391228\n",
      "  0.44868726  2.6730247   1.0847391  -0.37254956  1.3306857   1.7682014\n",
      " -0.23096578  1.9485458   0.51504385 -0.36371142  3.6962385  -0.752862\n",
      "  1.3798453   1.7347807  -0.01010763  1.6018318   0.67031515 -0.5810016\n",
      " -1.2293589   2.7159975  -2.7391098   0.05461437  1.377637   -0.98700404\n",
      "  2.9265172  -0.9071177  -0.8290818   0.85789275  1.0959475   0.17469376\n",
      " -1.7225348   1.7533716  -3.8873167   0.7443901   0.11944669 -1.1913247\n",
      "  2.0162961   0.8719766   0.9995463   0.79280263]\n"
     ]
    }
   ],
   "source": [
    "similarity_list = []\n",
    "for text in input_lyrics_tokenized:\n",
    "    inferred_v = model.infer_vector(text)\n",
    "    print(f\"vector of {text}: {inferred_v}\")\n",
    "    \n",
    "    most_similar_docs = model.docvecs.most_similar([inferred_v], topn=5)\n",
    "    for index, similarity in most_similar_docs:\n",
    "        similarity_list.append(index)"
   ]
  },
  {
   "cell_type": "markdown",
   "metadata": {},
   "source": [
    "#### 각 곡이 속한 클러스터를 찾습니다."
   ]
  },
  {
   "cell_type": "code",
   "execution_count": 65,
   "metadata": {},
   "outputs": [],
   "source": [
    "similarity_cluster = []\n",
    "\n",
    "cluster_find = -1\n",
    "for each_song in similarity_list:\n",
    "    for n, cluster in cluster_dict.items():\n",
    "            try:\n",
    "                if each_song in cluster[0]:\n",
    "                    cluster_find = n\n",
    "            except:\n",
    "                break\n",
    "    similarity_cluster.append(cluster_find)"
   ]
  },
  {
   "cell_type": "code",
   "execution_count": 66,
   "metadata": {},
   "outputs": [
    {
     "name": "stdout",
     "output_type": "stream",
     "text": [
      "9\n"
     ]
    }
   ],
   "source": [
    "cluster_cnt = [0,0,0,0,0,0,0,0,0,0]\n",
    "for i in similarity_cluster:\n",
    "    cluster_cnt[i] += 1\n",
    "\n",
    "max = -1\n",
    "max_n = -1\n",
    "for n, i in enumerate(cluster_cnt):\n",
    "    if i > max:\n",
    "        max = i\n",
    "        max_n = n\n",
    "\n",
    "print(max_n)\n",
    "     "
   ]
  },
  {
   "cell_type": "markdown",
   "metadata": {},
   "source": [
    "#### 9번 클러스터에 속한 노래들 중 랜덤으로 추출된 곡을 선택하여 추천합니다.\n"
   ]
  },
  {
   "cell_type": "code",
   "execution_count": 67,
   "metadata": {},
   "outputs": [
    {
     "name": "stdout",
     "output_type": "stream",
     "text": [
      "아이유의 'Blueming'를 좋아한다면 이 노래도 들어보세요! : ['魂 (혼) (희철)', '사랑한다 외쳐요 (Feat. 미료 From 브라운 아이드 걸스)', 'Flying', 'My Girl', 'Fraktal Translates Oasis (Fraktal Desert Is Land Mix)', '어쩌다가', '어쩌다가', '멍청한 사랑', 'B 612', 'Good Life']\n"
     ]
    }
   ],
   "source": [
    "songint = []\n",
    "for i in range(10):\n",
    "    num = random.randrange(len(cluster_dict[0]))\n",
    "    while(num in songint):\n",
    "        num = random.randrange(len(cluster_dict[0]))\n",
    "    songint.append(train_data_all['제목'][num])\n",
    "\n",
    "print(f\"아이유의 'Blueming'를 좋아한다면 이 노래도 들어보세요! : {songint}\")"
   ]
  },
  {
   "cell_type": "markdown",
   "metadata": {},
   "source": [
    "## 기능 1-2 : 가수 입력받아서 재생목록 추천"
   ]
  },
  {
   "cell_type": "markdown",
   "metadata": {},
   "source": [
    "#### 가수(들)을 입력받습니다. "
   ]
  },
  {
   "cell_type": "markdown",
   "metadata": {},
   "source": [
    "##### EX 1) 입력값 : 방탄소년단"
   ]
  },
  {
   "cell_type": "code",
   "execution_count": 68,
   "metadata": {},
   "outputs": [],
   "source": [
    "input2 = [\"방탄소년단\"]"
   ]
  },
  {
   "cell_type": "code",
   "execution_count": 69,
   "metadata": {},
   "outputs": [
    {
     "name": "stdout",
     "output_type": "stream",
     "text": [
      "[268, 0, 0, 0, 0, 0, 0, 0, 0, 0]\n"
     ]
    }
   ],
   "source": [
    "for artist in input2:\n",
    "    cnt = [0,0,0,0,0,0,0,0,0,0]\n",
    "    for n, cluster in cluster_dict.items():\n",
    "        for songs in cluster:\n",
    "            if songs[0][1] == artist:\n",
    "                cnt[n] += 1\n",
    "\n",
    "print(cnt)"
   ]
  },
  {
   "cell_type": "markdown",
   "metadata": {},
   "source": [
    "#### 1번 클러스터에 속한 노래들 중 랜덤으로 추출된 곡을 선택합니다."
   ]
  },
  {
   "cell_type": "code",
   "execution_count": 70,
   "metadata": {},
   "outputs": [
    {
     "name": "stdout",
     "output_type": "stream",
     "text": [
      "가수 '방탄소년단'를 기반으로 추천해드릴 플레이리스트입니다 : ['소원이 있나요', '이젠', 'Phantom - 환영 (幻影)', '진실게임', '생일 축하곡 (Acid House Remix)', 'JoJo', 'Focus', 'Come 2 Me My Love', '슬픈 약속', '말해줄래']\n"
     ]
    }
   ],
   "source": [
    "songint = []\n",
    "for i in range(10):\n",
    "    num = random.randrange(len(cluster_dict[0]))\n",
    "    while(num in songint):\n",
    "        num = random.randrange(len(cluster_dict[0]))\n",
    "    songint.append(train_data_all['제목'][num])\n",
    "print(f\"가수 '방탄소년단'를 기반으로 추천해드릴 플레이리스트입니다 : {songint}\")"
   ]
  },
  {
   "cell_type": "markdown",
   "metadata": {},
   "source": [
    "##### EX 2) 입력값 : 아이유"
   ]
  },
  {
   "cell_type": "code",
   "execution_count": 71,
   "metadata": {},
   "outputs": [],
   "source": [
    "input3 = [\"아이유\"]"
   ]
  },
  {
   "cell_type": "markdown",
   "metadata": {},
   "source": [
    "#### 그 가수의 노래를 가장 많이 포함하고 있는 클러스터를 확인합니다."
   ]
  },
  {
   "cell_type": "code",
   "execution_count": 72,
   "metadata": {},
   "outputs": [
    {
     "name": "stdout",
     "output_type": "stream",
     "text": [
      "[0, 0, 0, 0, 41, 0, 0, 0, 0, 0]\n"
     ]
    }
   ],
   "source": [
    "for artist in input3:\n",
    "    cnt = [0,0,0,0,0,0,0,0,0,0]\n",
    "    for n, cluster in cluster_dict.items():\n",
    "        for songs in cluster:\n",
    "            if songs[0][1] == artist:\n",
    "                cnt[n] += 1\n",
    "\n",
    "print(cnt)"
   ]
  },
  {
   "cell_type": "markdown",
   "metadata": {},
   "source": [
    "#### 5번 클러스터에 속한 노래들 중 랜덤으로 추출된 곡을 선택합니다."
   ]
  },
  {
   "cell_type": "code",
   "execution_count": 73,
   "metadata": {},
   "outputs": [
    {
     "name": "stdout",
     "output_type": "stream",
     "text": [
      "가수 '아이유'를 기반으로 추천해드릴 플레이리스트입니다 : ['Come Back To Me', 'Real', '어제와 다른 오늘', '상상속의 너', 'B612', '여성시대', '슬픈 기적', 'Watch Out', '경고 (Remix Ver.)', 'Bang Bang Boom！']\n"
     ]
    }
   ],
   "source": [
    "songint = []\n",
    "for i in range(10):\n",
    "    num = random.randrange(len(cluster_dict[0]))\n",
    "    while(num in songint):\n",
    "        num = random.randrange(len(cluster_dict[0]))\n",
    "    songint.append(train_data_all['제목'][num])\n",
    "print(f\"가수 '아이유'를 기반으로 추천해드릴 플레이리스트입니다 : {songint}\")"
   ]
  }
 ],
 "metadata": {
  "kernelspec": {
   "display_name": "Python 3 (ipykernel)",
   "language": "python",
   "name": "python3"
  },
  "language_info": {
   "codemirror_mode": {
    "name": "ipython",
    "version": 3
   },
   "file_extension": ".py",
   "mimetype": "text/x-python",
   "name": "python",
   "nbconvert_exporter": "python",
   "pygments_lexer": "ipython3",
   "version": "3.8.18"
  }
 },
 "nbformat": 4,
 "nbformat_minor": 5
}
